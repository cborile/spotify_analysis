{
 "cells": [
  {
   "cell_type": "code",
   "execution_count": 1,
   "metadata": {},
   "outputs": [],
   "source": [
    "import os\n",
    "import json\n",
    "from pprint import pprint\n",
    "import datetime\n",
    "import pytz\n",
    "\n",
    "import numpy as np\n",
    "import pandas as pd\n",
    "\n",
    "from scipy.spatial.distance import cosine, euclidean\n",
    "from sklearn.preprocessing import StandardScaler\n",
    "\n",
    "from umap import UMAP\n",
    "\n",
    "import matplotlib\n",
    "from matplotlib import pyplot as plt\n",
    "import plotly.express as px\n",
    "from plotly.offline import plot\n",
    "import plotly.graph_objects as go\n",
    "\n",
    "import seaborn as sb\n",
    "\n"
   ]
  },
  {
   "cell_type": "code",
   "execution_count": 2,
   "metadata": {},
   "outputs": [],
   "source": [
    "tracks = pd.read_csv('../data/processed/tracks.csv', index_col=0)\n",
    "features = pd.read_csv('../data/processed/track_features.csv', index_col=0)\n",
    "\n",
    "data = pd.merge(tracks, features, on='id')\n",
    "data.played_at = pd.to_datetime(data.played_at)\n",
    "data.sort_values('played_at', inplace=True)\n",
    "data.reset_index(inplace=True)\n",
    "del data['index']"
   ]
  },
  {
   "cell_type": "code",
   "execution_count": 3,
   "metadata": {},
   "outputs": [],
   "source": [
    "audio_features = ['acousticness', \n",
    "                 'danceability', \n",
    "                 'energy', \n",
    "                 'instrumentalness', \n",
    "                 'liveness', \n",
    "                 'loudness', \n",
    "                 'speechiness', \n",
    "                 'tempo', \n",
    "                 'valence']"
   ]
  },
  {
   "cell_type": "code",
   "execution_count": 4,
   "metadata": {},
   "outputs": [],
   "source": [
    "artist_audio_features = data.groupby('artist')[audio_features].median()"
   ]
  },
  {
   "cell_type": "code",
   "execution_count": 5,
   "metadata": {},
   "outputs": [],
   "source": [
    "delta=10e-3\n",
    "#df.speechiness = (df.speechiness+delta).apply(np.log)\n",
    "artist_audio_features.instrumentalness = (artist_audio_features.instrumentalness+delta).apply(np.log)"
   ]
  },
  {
   "cell_type": "code",
   "execution_count": 6,
   "metadata": {},
   "outputs": [],
   "source": [
    "_idx = artist_audio_features.index\n",
    "_cols = artist_audio_features.columns"
   ]
  },
  {
   "cell_type": "code",
   "execution_count": 7,
   "metadata": {},
   "outputs": [],
   "source": [
    "scaler = StandardScaler()\n",
    "artist_audio_features = scaler.fit_transform(artist_audio_features)"
   ]
  },
  {
   "cell_type": "code",
   "execution_count": 8,
   "metadata": {},
   "outputs": [],
   "source": [
    "artist_audio_features = pd.DataFrame(artist_audio_features, index=_idx, columns=_cols)"
   ]
  },
  {
   "cell_type": "code",
   "execution_count": 9,
   "metadata": {},
   "outputs": [],
   "source": [
    "artist_play_count = data.groupby('artist').played_at.count()"
   ]
  },
  {
   "cell_type": "code",
   "execution_count": 10,
   "metadata": {},
   "outputs": [],
   "source": [
    "mapper = UMAP(n_neighbors=15)"
   ]
  },
  {
   "cell_type": "code",
   "execution_count": 11,
   "metadata": {},
   "outputs": [],
   "source": [
    "X = mapper.fit_transform(artist_audio_features)\n",
    "X = pd.DataFrame(X, columns=['x0', 'x1'])\n",
    "X['artists'] = artist_audio_features.index"
   ]
  },
  {
   "cell_type": "code",
   "execution_count": 12,
   "metadata": {},
   "outputs": [],
   "source": [
    "X = X.set_index('artists')\n",
    "X['play_count'] = artist_play_count\n",
    "X.reset_index(inplace=True)"
   ]
  },
  {
   "cell_type": "code",
   "execution_count": 13,
   "metadata": {},
   "outputs": [
    {
     "data": {
      "text/plain": [
       "'temp-plot.html'"
      ]
     },
     "execution_count": 13,
     "metadata": {},
     "output_type": "execute_result"
    }
   ],
   "source": [
    "fig = px.scatter(X[X.play_count>10], \n",
    "                 x='x0', \n",
    "                 y=\"x1\", \n",
    "                 color=\"artists\", \n",
    "                 hover_data=['artists'])\n",
    "plot(fig)\n",
    "#fig.write_html('./figures/umap_thplayed10_nn15_artists.html')"
   ]
  },
  {
   "cell_type": "code",
   "execution_count": 14,
   "metadata": {},
   "outputs": [],
   "source": [
    "neural_artists = data[data.played_at>=datetime.datetime(2020, 5, 27).astimezone(pytz.utc)].artist.unique()"
   ]
  },
  {
   "cell_type": "code",
   "execution_count": 15,
   "metadata": {},
   "outputs": [
    {
     "data": {
      "text/plain": [
       "'temp-plot.html'"
      ]
     },
     "execution_count": 15,
     "metadata": {},
     "output_type": "execute_result"
    }
   ],
   "source": [
    "fig = px.scatter(X[(X.play_count>10) | (X.artists.isin(neural_artists))], \n",
    "                 x='x0', \n",
    "                 y=\"x1\", \n",
    "                 color=\"artists\", \n",
    "                 hover_data=['artists'])\n",
    "plot(fig)\n",
    "#fig.write_html('./figures/umap_thplayed10_nn15_artists.html')"
   ]
  },
  {
   "cell_type": "code",
   "execution_count": 16,
   "metadata": {},
   "outputs": [],
   "source": [
    "import matplotlib"
   ]
  },
  {
   "cell_type": "code",
   "execution_count": 17,
   "metadata": {},
   "outputs": [],
   "source": [
    "mask1 = data.played_at>=datetime.datetime(2020, 5, 30, 13, 53, 12).astimezone(pytz.utc)\n",
    "mask2 = data.played_at<=datetime.datetime(2020, 5, 30, 16, 52, 25).astimezone(pytz.utc)"
   ]
  },
  {
   "cell_type": "code",
   "execution_count": 18,
   "metadata": {},
   "outputs": [],
   "source": [
    "bezerra_radio = data[mask1 & mask2][['played_at', 'artist']].artist.unique()"
   ]
  },
  {
   "cell_type": "code",
   "execution_count": 19,
   "metadata": {},
   "outputs": [],
   "source": [
    "Xradio = X[(X.artists.isin(bezerra_radio))]"
   ]
  },
  {
   "cell_type": "code",
   "execution_count": 20,
   "metadata": {},
   "outputs": [],
   "source": [
    "Xradio.reset_index(drop=True, inplace=True)"
   ]
  },
  {
   "cell_type": "code",
   "execution_count": 22,
   "metadata": {},
   "outputs": [],
   "source": [
    "hot_cmap = matplotlib.cm.get_cmap('hot')\n",
    "norm = matplotlib.colors.Normalize(vmin=Xradio.index.min(), vmax=Xradio.index.max())\n",
    "hot_rgb = []\n",
    "for i in Xradio.index:\n",
    "    k = matplotlib.colors.colorConverter.to_rgb(hot_cmap(norm(i)))\n",
    "    hot_rgb.append(k)"
   ]
  },
  {
   "cell_type": "code",
   "execution_count": 23,
   "metadata": {},
   "outputs": [
    {
     "data": {
      "text/plain": [
       "'temp-plot.html'"
      ]
     },
     "execution_count": 23,
     "metadata": {},
     "output_type": "execute_result"
    }
   ],
   "source": [
    "to_plot = X[(X.play_count>10) | (X.artists.isin(bezerra_radio))]\n",
    "fig = go.Figure(go.Scatter(\n",
    "                 x=to_plot.x0, \n",
    "                 y=to_plot.x1,\n",
    "                 mode='markers',\n",
    "                 marker_color=\"grey\",\n",
    "                 text=to_plot.artists))\n",
    "\n",
    "fig.add_trace(go.Scatter(x=Xradio.x0, \n",
    "                         y=Xradio.x1, \n",
    "                         mode=\"markers+lines\", \n",
    "                         marker=dict(\n",
    "                            color=['rgb'+str(c) for c in hot_rgb],\n",
    "                            size=Xradio.index),\n",
    "                         \n",
    "                         text=Xradio.artists))\n",
    "\n",
    "plot(fig)\n",
    "#fig.write_html('./figures/umap_thplayed10_nn15_artists.html')"
   ]
  },
  {
   "cell_type": "code",
   "execution_count": 25,
   "metadata": {},
   "outputs": [],
   "source": [
    "from sklearn.cluster import AffinityPropagation, AgglomerativeClustering, KMeans, DBSCAN"
   ]
  },
  {
   "cell_type": "code",
   "execution_count": 26,
   "metadata": {},
   "outputs": [],
   "source": [
    "clust = AgglomerativeClustering(n_clusters=10)"
   ]
  },
  {
   "cell_type": "code",
   "execution_count": 27,
   "metadata": {},
   "outputs": [],
   "source": [
    "classes = clust.fit_predict(X[['x0', 'x1']])"
   ]
  },
  {
   "cell_type": "code",
   "execution_count": 28,
   "metadata": {},
   "outputs": [
    {
     "data": {
      "text/plain": [
       "9"
      ]
     },
     "execution_count": 28,
     "metadata": {},
     "output_type": "execute_result"
    }
   ],
   "source": [
    "classes.max()"
   ]
  },
  {
   "cell_type": "code",
   "execution_count": 29,
   "metadata": {},
   "outputs": [],
   "source": [
    "X['class'] = classes"
   ]
  },
  {
   "cell_type": "code",
   "execution_count": 30,
   "metadata": {},
   "outputs": [
    {
     "data": {
      "text/html": [
       "<div>\n",
       "<style scoped>\n",
       "    .dataframe tbody tr th:only-of-type {\n",
       "        vertical-align: middle;\n",
       "    }\n",
       "\n",
       "    .dataframe tbody tr th {\n",
       "        vertical-align: top;\n",
       "    }\n",
       "\n",
       "    .dataframe thead th {\n",
       "        text-align: right;\n",
       "    }\n",
       "</style>\n",
       "<table border=\"1\" class=\"dataframe\">\n",
       "  <thead>\n",
       "    <tr style=\"text-align: right;\">\n",
       "      <th></th>\n",
       "      <th>artists</th>\n",
       "      <th>x0</th>\n",
       "      <th>x1</th>\n",
       "      <th>play_count</th>\n",
       "      <th>class</th>\n",
       "    </tr>\n",
       "  </thead>\n",
       "  <tbody>\n",
       "    <tr>\n",
       "      <th>0</th>\n",
       "      <td>...And You Will Know Us by the Trail of Dead</td>\n",
       "      <td>1.544106</td>\n",
       "      <td>3.090335</td>\n",
       "      <td>1</td>\n",
       "      <td>0</td>\n",
       "    </tr>\n",
       "    <tr>\n",
       "      <th>312</th>\n",
       "      <td>Haken</td>\n",
       "      <td>1.392223</td>\n",
       "      <td>3.009206</td>\n",
       "      <td>10</td>\n",
       "      <td>0</td>\n",
       "    </tr>\n",
       "    <tr>\n",
       "      <th>315</th>\n",
       "      <td>Harold Melvin &amp; The Blue Notes</td>\n",
       "      <td>1.851017</td>\n",
       "      <td>4.189450</td>\n",
       "      <td>1</td>\n",
       "      <td>0</td>\n",
       "    </tr>\n",
       "    <tr>\n",
       "      <th>318</th>\n",
       "      <td>Hawkwind</td>\n",
       "      <td>1.911222</td>\n",
       "      <td>3.844090</td>\n",
       "      <td>2</td>\n",
       "      <td>0</td>\n",
       "    </tr>\n",
       "    <tr>\n",
       "      <th>322</th>\n",
       "      <td>Helloween</td>\n",
       "      <td>0.876817</td>\n",
       "      <td>2.183632</td>\n",
       "      <td>34</td>\n",
       "      <td>0</td>\n",
       "    </tr>\n",
       "    <tr>\n",
       "      <th>...</th>\n",
       "      <td>...</td>\n",
       "      <td>...</td>\n",
       "      <td>...</td>\n",
       "      <td>...</td>\n",
       "      <td>...</td>\n",
       "    </tr>\n",
       "    <tr>\n",
       "      <th>513</th>\n",
       "      <td>Porcupine Tree</td>\n",
       "      <td>3.516915</td>\n",
       "      <td>2.138123</td>\n",
       "      <td>1</td>\n",
       "      <td>9</td>\n",
       "    </tr>\n",
       "    <tr>\n",
       "      <th>68</th>\n",
       "      <td>Astrix Juno Reactor</td>\n",
       "      <td>3.908526</td>\n",
       "      <td>2.281927</td>\n",
       "      <td>8</td>\n",
       "      <td>9</td>\n",
       "    </tr>\n",
       "    <tr>\n",
       "      <th>617</th>\n",
       "      <td>The Who</td>\n",
       "      <td>3.572701</td>\n",
       "      <td>2.421220</td>\n",
       "      <td>1</td>\n",
       "      <td>9</td>\n",
       "    </tr>\n",
       "    <tr>\n",
       "      <th>196</th>\n",
       "      <td>DJ Shadow Nils Frahm</td>\n",
       "      <td>3.423581</td>\n",
       "      <td>2.079472</td>\n",
       "      <td>1</td>\n",
       "      <td>9</td>\n",
       "    </tr>\n",
       "    <tr>\n",
       "      <th>317</th>\n",
       "      <td>Hatfield &amp; The North</td>\n",
       "      <td>3.361918</td>\n",
       "      <td>2.222145</td>\n",
       "      <td>2</td>\n",
       "      <td>9</td>\n",
       "    </tr>\n",
       "  </tbody>\n",
       "</table>\n",
       "<p>654 rows × 5 columns</p>\n",
       "</div>"
      ],
      "text/plain": [
       "                                          artists        x0        x1  \\\n",
       "0    ...And You Will Know Us by the Trail of Dead  1.544106  3.090335   \n",
       "312                                         Haken  1.392223  3.009206   \n",
       "315                Harold Melvin & The Blue Notes  1.851017  4.189450   \n",
       "318                                      Hawkwind  1.911222  3.844090   \n",
       "322                                     Helloween  0.876817  2.183632   \n",
       "..                                            ...       ...       ...   \n",
       "513                                Porcupine Tree  3.516915  2.138123   \n",
       "68                            Astrix Juno Reactor  3.908526  2.281927   \n",
       "617                                       The Who  3.572701  2.421220   \n",
       "196                          DJ Shadow Nils Frahm  3.423581  2.079472   \n",
       "317                          Hatfield & The North  3.361918  2.222145   \n",
       "\n",
       "     play_count  class  \n",
       "0             1      0  \n",
       "312          10      0  \n",
       "315           1      0  \n",
       "318           2      0  \n",
       "322          34      0  \n",
       "..          ...    ...  \n",
       "513           1      9  \n",
       "68            8      9  \n",
       "617           1      9  \n",
       "196           1      9  \n",
       "317           2      9  \n",
       "\n",
       "[654 rows x 5 columns]"
      ]
     },
     "execution_count": 30,
     "metadata": {},
     "output_type": "execute_result"
    }
   ],
   "source": [
    "X.sort_values('class')"
   ]
  },
  {
   "cell_type": "code",
   "execution_count": 31,
   "metadata": {},
   "outputs": [
    {
     "data": {
      "text/plain": [
       "'temp-plot.html'"
      ]
     },
     "execution_count": 31,
     "metadata": {},
     "output_type": "execute_result"
    }
   ],
   "source": [
    "fig = px.scatter(X[X.play_count>10], \n",
    "                 x='x0', \n",
    "                 y=\"x1\", \n",
    "                 color=\"class\", \n",
    "                 hover_data=['artists'])\n",
    "plot(fig)\n",
    "#fig.write_html('./figures/umap_thplayed10_nn15_artists.html')"
   ]
  },
  {
   "cell_type": "code",
   "execution_count": null,
   "metadata": {},
   "outputs": [],
   "source": []
  }
 ],
 "metadata": {
  "kernelspec": {
   "display_name": "Python 3",
   "language": "python",
   "name": "python3"
  },
  "language_info": {
   "codemirror_mode": {
    "name": "ipython",
    "version": 3
   },
   "file_extension": ".py",
   "mimetype": "text/x-python",
   "name": "python",
   "nbconvert_exporter": "python",
   "pygments_lexer": "ipython3",
   "version": "3.7.3"
  }
 },
 "nbformat": 4,
 "nbformat_minor": 4
}
