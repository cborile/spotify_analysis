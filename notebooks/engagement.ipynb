{
 "cells": [
  {
   "cell_type": "markdown",
   "metadata": {},
   "source": [
    "# SPOTIFY DATA ANALYSIS\n",
    "\n",
    "## 2. ENGAGEMENT"
   ]
  },
  {
   "cell_type": "markdown",
   "metadata": {},
   "source": [
    "### Import libraries "
   ]
  },
  {
   "cell_type": "code",
   "execution_count": 1,
   "metadata": {},
   "outputs": [],
   "source": [
    "import os\n",
    "import json\n",
    "from pprint import pprint\n",
    "\n",
    "import numpy as np\n",
    "import pandas as pd\n",
    "\n",
    "import datetime\n",
    "import pytz\n",
    "\n",
    "from scipy.stats import entropy\n",
    "\n",
    "from matplotlib import pyplot as plt\n",
    "import plotly.express as px\n",
    "from plotly.offline import plot\n",
    "import plotly.graph_objects as go"
   ]
  },
  {
   "cell_type": "markdown",
   "metadata": {},
   "source": [
    "### Load (previously cleaned) data \n",
    "\n",
    "The dataset the was previously extracted and formatted ([here](./prepare_data.ipynb)) consists of two different CSV files:\n",
    "- **tracks.csv** containing all played tracks together with the useful metadata extracted from the raw Spotify JSON files. \n",
    "- **track_features.csv** contains the main audio features provided by Spotify for every track in tracks.csv without duplicates.\n",
    "\n",
    "we merge those two files into one single dataframe containing all useful information. \n",
    "\n",
    "(N.B. This format is memory-expensive and not optimized, but the small size of the dataset allows it without any problem) "
   ]
  },
  {
   "cell_type": "code",
   "execution_count": 2,
   "metadata": {},
   "outputs": [],
   "source": [
    "tracks = pd.read_csv('../data/processed/tracks.csv', index_col=0)\n",
    "features = pd.read_csv('../data/processed/track_features.csv', index_col=0)\n",
    "\n",
    "data = pd.merge(tracks, features, on='id')\n",
    "data.played_at = pd.to_datetime(data.played_at)\n",
    "data.sort_values('played_at', inplace=True)\n",
    "data.reset_index(inplace=True)\n",
    "del data['index']"
   ]
  },
  {
   "cell_type": "markdown",
   "metadata": {},
   "source": [
    "we add a column counting the time passed from the play of each track"
   ]
  },
  {
   "cell_type": "code",
   "execution_count": 3,
   "metadata": {},
   "outputs": [],
   "source": [
    "data['time_from_last_play'] = datetime.datetime.now(datetime.timezone.utc) - data.played_at.dt.tz_convert(datetime.timezone.utc)"
   ]
  },
  {
   "cell_type": "markdown",
   "metadata": {},
   "source": [
    "our dataset"
   ]
  },
  {
   "cell_type": "code",
   "execution_count": 4,
   "metadata": {},
   "outputs": [
    {
     "data": {
      "text/html": [
       "<div>\n",
       "<style scoped>\n",
       "    .dataframe tbody tr th:only-of-type {\n",
       "        vertical-align: middle;\n",
       "    }\n",
       "\n",
       "    .dataframe tbody tr th {\n",
       "        vertical-align: top;\n",
       "    }\n",
       "\n",
       "    .dataframe thead th {\n",
       "        text-align: right;\n",
       "    }\n",
       "</style>\n",
       "<table border=\"1\" class=\"dataframe\">\n",
       "  <thead>\n",
       "    <tr style=\"text-align: right;\">\n",
       "      <th></th>\n",
       "      <th>played_at</th>\n",
       "      <th>name</th>\n",
       "      <th>duration_ms</th>\n",
       "      <th>id</th>\n",
       "      <th>popularity</th>\n",
       "      <th>artist</th>\n",
       "      <th>album</th>\n",
       "      <th>album_id</th>\n",
       "      <th>acousticness</th>\n",
       "      <th>danceability</th>\n",
       "      <th>...</th>\n",
       "      <th>instrumentalness</th>\n",
       "      <th>liveness</th>\n",
       "      <th>loudness</th>\n",
       "      <th>speechiness</th>\n",
       "      <th>tempo</th>\n",
       "      <th>valence</th>\n",
       "      <th>key</th>\n",
       "      <th>mode</th>\n",
       "      <th>time_signature</th>\n",
       "      <th>time_from_last_play</th>\n",
       "    </tr>\n",
       "  </thead>\n",
       "  <tbody>\n",
       "    <tr>\n",
       "      <th>0</th>\n",
       "      <td>2019-08-05 12:20:25.523000+00:00</td>\n",
       "      <td>The Pheonix Flown</td>\n",
       "      <td>127986</td>\n",
       "      <td>5L8qzR3rsT9747tUeNGUBc</td>\n",
       "      <td>4</td>\n",
       "      <td>Steve Hackett</td>\n",
       "      <td>Beyond the Shrouded Horizon</td>\n",
       "      <td>3Ia0eMk5Eosw8JxZ5qS3kK</td>\n",
       "      <td>0.226</td>\n",
       "      <td>0.2950</td>\n",
       "      <td>...</td>\n",
       "      <td>0.866000</td>\n",
       "      <td>0.0962</td>\n",
       "      <td>-6.222</td>\n",
       "      <td>0.0510</td>\n",
       "      <td>77.898</td>\n",
       "      <td>0.159</td>\n",
       "      <td>9</td>\n",
       "      <td>1</td>\n",
       "      <td>4</td>\n",
       "      <td>509 days 03:16:59.372117</td>\n",
       "    </tr>\n",
       "    <tr>\n",
       "      <th>1</th>\n",
       "      <td>2019-08-05 12:21:09.612000+00:00</td>\n",
       "      <td>Wanderlust</td>\n",
       "      <td>44106</td>\n",
       "      <td>3TeTf7QjiNljQfH4IEiSrg</td>\n",
       "      <td>3</td>\n",
       "      <td>Steve Hackett</td>\n",
       "      <td>Beyond the Shrouded Horizon</td>\n",
       "      <td>3Ia0eMk5Eosw8JxZ5qS3kK</td>\n",
       "      <td>0.990</td>\n",
       "      <td>0.5470</td>\n",
       "      <td>...</td>\n",
       "      <td>0.972000</td>\n",
       "      <td>0.1120</td>\n",
       "      <td>-23.239</td>\n",
       "      <td>0.0791</td>\n",
       "      <td>95.002</td>\n",
       "      <td>0.264</td>\n",
       "      <td>0</td>\n",
       "      <td>1</td>\n",
       "      <td>3</td>\n",
       "      <td>509 days 03:16:15.283117</td>\n",
       "    </tr>\n",
       "    <tr>\n",
       "      <th>2</th>\n",
       "      <td>2019-08-05 12:23:50.676000+00:00</td>\n",
       "      <td>Til These Eyes</td>\n",
       "      <td>160933</td>\n",
       "      <td>4hT44AufFjOtPosMvHvRAR</td>\n",
       "      <td>5</td>\n",
       "      <td>Steve Hackett</td>\n",
       "      <td>Beyond the Shrouded Horizon</td>\n",
       "      <td>3Ia0eMk5Eosw8JxZ5qS3kK</td>\n",
       "      <td>0.762</td>\n",
       "      <td>0.2930</td>\n",
       "      <td>...</td>\n",
       "      <td>0.000179</td>\n",
       "      <td>0.1330</td>\n",
       "      <td>-11.543</td>\n",
       "      <td>0.0335</td>\n",
       "      <td>88.206</td>\n",
       "      <td>0.159</td>\n",
       "      <td>0</td>\n",
       "      <td>1</td>\n",
       "      <td>4</td>\n",
       "      <td>509 days 03:13:34.219117</td>\n",
       "    </tr>\n",
       "    <tr>\n",
       "      <th>3</th>\n",
       "      <td>2019-08-05 12:27:21.625000+00:00</td>\n",
       "      <td>Prairie Angel</td>\n",
       "      <td>178693</td>\n",
       "      <td>5ZiRwY5m25D15oEzPq5Y2U</td>\n",
       "      <td>4</td>\n",
       "      <td>Steve Hackett</td>\n",
       "      <td>Beyond the Shrouded Horizon</td>\n",
       "      <td>3Ia0eMk5Eosw8JxZ5qS3kK</td>\n",
       "      <td>0.120</td>\n",
       "      <td>0.0892</td>\n",
       "      <td>...</td>\n",
       "      <td>0.906000</td>\n",
       "      <td>0.3280</td>\n",
       "      <td>-8.198</td>\n",
       "      <td>0.0365</td>\n",
       "      <td>169.409</td>\n",
       "      <td>0.327</td>\n",
       "      <td>0</td>\n",
       "      <td>1</td>\n",
       "      <td>3</td>\n",
       "      <td>509 days 03:10:03.270117</td>\n",
       "    </tr>\n",
       "    <tr>\n",
       "      <th>4</th>\n",
       "      <td>2019-08-05 12:33:18.226000+00:00</td>\n",
       "      <td>A Place Called Freedom</td>\n",
       "      <td>356600</td>\n",
       "      <td>1wrRTfHIrmDy3mBVdYGTEF</td>\n",
       "      <td>4</td>\n",
       "      <td>Steve Hackett</td>\n",
       "      <td>Beyond the Shrouded Horizon</td>\n",
       "      <td>3Ia0eMk5Eosw8JxZ5qS3kK</td>\n",
       "      <td>0.660</td>\n",
       "      <td>0.2770</td>\n",
       "      <td>...</td>\n",
       "      <td>0.098300</td>\n",
       "      <td>0.2920</td>\n",
       "      <td>-7.654</td>\n",
       "      <td>0.0326</td>\n",
       "      <td>83.947</td>\n",
       "      <td>0.131</td>\n",
       "      <td>2</td>\n",
       "      <td>1</td>\n",
       "      <td>4</td>\n",
       "      <td>509 days 03:04:06.669117</td>\n",
       "    </tr>\n",
       "  </tbody>\n",
       "</table>\n",
       "<p>5 rows × 21 columns</p>\n",
       "</div>"
      ],
      "text/plain": [
       "                         played_at                    name  duration_ms  \\\n",
       "0 2019-08-05 12:20:25.523000+00:00       The Pheonix Flown       127986   \n",
       "1 2019-08-05 12:21:09.612000+00:00              Wanderlust        44106   \n",
       "2 2019-08-05 12:23:50.676000+00:00          Til These Eyes       160933   \n",
       "3 2019-08-05 12:27:21.625000+00:00           Prairie Angel       178693   \n",
       "4 2019-08-05 12:33:18.226000+00:00  A Place Called Freedom       356600   \n",
       "\n",
       "                       id  popularity         artist  \\\n",
       "0  5L8qzR3rsT9747tUeNGUBc           4  Steve Hackett   \n",
       "1  3TeTf7QjiNljQfH4IEiSrg           3  Steve Hackett   \n",
       "2  4hT44AufFjOtPosMvHvRAR           5  Steve Hackett   \n",
       "3  5ZiRwY5m25D15oEzPq5Y2U           4  Steve Hackett   \n",
       "4  1wrRTfHIrmDy3mBVdYGTEF           4  Steve Hackett   \n",
       "\n",
       "                         album                album_id  acousticness  \\\n",
       "0  Beyond the Shrouded Horizon  3Ia0eMk5Eosw8JxZ5qS3kK         0.226   \n",
       "1  Beyond the Shrouded Horizon  3Ia0eMk5Eosw8JxZ5qS3kK         0.990   \n",
       "2  Beyond the Shrouded Horizon  3Ia0eMk5Eosw8JxZ5qS3kK         0.762   \n",
       "3  Beyond the Shrouded Horizon  3Ia0eMk5Eosw8JxZ5qS3kK         0.120   \n",
       "4  Beyond the Shrouded Horizon  3Ia0eMk5Eosw8JxZ5qS3kK         0.660   \n",
       "\n",
       "   danceability  ...  instrumentalness  liveness  loudness  speechiness  \\\n",
       "0        0.2950  ...          0.866000    0.0962    -6.222       0.0510   \n",
       "1        0.5470  ...          0.972000    0.1120   -23.239       0.0791   \n",
       "2        0.2930  ...          0.000179    0.1330   -11.543       0.0335   \n",
       "3        0.0892  ...          0.906000    0.3280    -8.198       0.0365   \n",
       "4        0.2770  ...          0.098300    0.2920    -7.654       0.0326   \n",
       "\n",
       "     tempo  valence  key  mode  time_signature      time_from_last_play  \n",
       "0   77.898    0.159    9     1               4 509 days 03:16:59.372117  \n",
       "1   95.002    0.264    0     1               3 509 days 03:16:15.283117  \n",
       "2   88.206    0.159    0     1               4 509 days 03:13:34.219117  \n",
       "3  169.409    0.327    0     1               3 509 days 03:10:03.270117  \n",
       "4   83.947    0.131    2     1               4 509 days 03:04:06.669117  \n",
       "\n",
       "[5 rows x 21 columns]"
      ]
     },
     "execution_count": 4,
     "metadata": {},
     "output_type": "execute_result"
    }
   ],
   "source": [
    "data.head()"
   ]
  },
  {
   "cell_type": "markdown",
   "metadata": {},
   "source": [
    "### Feature engineering"
   ]
  },
  {
   "cell_type": "markdown",
   "metadata": {},
   "source": [
    "The **engagement** dataframe will contain one row for each artist present in my data, and 3 columns that summarize nicely wether it's a one-time play, an artist that is recurrent and stable in my playlist, or if it was a temporary \"crush\" with an artist.\n",
    "\n",
    "I use the following futures:\n",
    "- time from the last play (in days)\n",
    "- total number of times that artist was played\n",
    "- the entropy of the daily count of times a song from a given artist was played"
   ]
  },
  {
   "cell_type": "code",
   "execution_count": 5,
   "metadata": {},
   "outputs": [],
   "source": [
    "engagement = data.groupby(['artist']).time_from_last_play.min().to_frame()\n",
    "engagement.time_from_last_play = engagement.time_from_last_play.apply(lambda x: x.days)\n",
    "engagement['total_plays'] = data.groupby(['artist']).played_at.count()\n",
    "engagement = engagement.reset_index()"
   ]
  },
  {
   "cell_type": "code",
   "execution_count": 6,
   "metadata": {},
   "outputs": [],
   "source": [
    "daily_count = data.groupby(['artist', data.played_at.dt.date]).id.count()\n",
    "\n",
    "daily_count_index = pd.date_range(data.played_at.dt.date.min(), \n",
    "                                  data.played_at.dt.date.max(), \n",
    "                                  freq='D')\n",
    "\n",
    "daily_count = daily_count.unstack(level=0)\n",
    "daily_count.reindex(daily_count_index)\n",
    "daily_count.fillna(0., inplace=True)"
   ]
  },
  {
   "cell_type": "code",
   "execution_count": 7,
   "metadata": {},
   "outputs": [],
   "source": [
    "ent = daily_count.apply(entropy)\n",
    "\n",
    "engagement = engagement.set_index('artist')\n",
    "engagement['entropy'] = ent\n",
    "engagement.reset_index(inplace=True)\n",
    "\n",
    "engagement.time_from_last_play = engagement.time_from_last_play + 1"
   ]
  },
  {
   "cell_type": "code",
   "execution_count": 8,
   "metadata": {},
   "outputs": [
    {
     "data": {
      "text/html": [
       "<div>\n",
       "<style scoped>\n",
       "    .dataframe tbody tr th:only-of-type {\n",
       "        vertical-align: middle;\n",
       "    }\n",
       "\n",
       "    .dataframe tbody tr th {\n",
       "        vertical-align: top;\n",
       "    }\n",
       "\n",
       "    .dataframe thead th {\n",
       "        text-align: right;\n",
       "    }\n",
       "</style>\n",
       "<table border=\"1\" class=\"dataframe\">\n",
       "  <thead>\n",
       "    <tr style=\"text-align: right;\">\n",
       "      <th></th>\n",
       "      <th>artist</th>\n",
       "      <th>time_from_last_play</th>\n",
       "      <th>total_plays</th>\n",
       "      <th>entropy</th>\n",
       "    </tr>\n",
       "  </thead>\n",
       "  <tbody>\n",
       "    <tr>\n",
       "      <th>0</th>\n",
       "      <td>...And You Will Know Us by the Trail of Dead</td>\n",
       "      <td>431</td>\n",
       "      <td>1</td>\n",
       "      <td>0.000000</td>\n",
       "    </tr>\n",
       "    <tr>\n",
       "      <th>1</th>\n",
       "      <td>369</td>\n",
       "      <td>187</td>\n",
       "      <td>3</td>\n",
       "      <td>1.098612</td>\n",
       "    </tr>\n",
       "    <tr>\n",
       "      <th>2</th>\n",
       "      <td>AC/DC</td>\n",
       "      <td>197</td>\n",
       "      <td>3</td>\n",
       "      <td>1.098612</td>\n",
       "    </tr>\n",
       "    <tr>\n",
       "      <th>3</th>\n",
       "      <td>ASMR Binaural Beats Library</td>\n",
       "      <td>213</td>\n",
       "      <td>1</td>\n",
       "      <td>0.000000</td>\n",
       "    </tr>\n",
       "    <tr>\n",
       "      <th>4</th>\n",
       "      <td>Abadá-Capoeira</td>\n",
       "      <td>292</td>\n",
       "      <td>1</td>\n",
       "      <td>0.000000</td>\n",
       "    </tr>\n",
       "  </tbody>\n",
       "</table>\n",
       "</div>"
      ],
      "text/plain": [
       "                                         artist  time_from_last_play  \\\n",
       "0  ...And You Will Know Us by the Trail of Dead                  431   \n",
       "1                                           369                  187   \n",
       "2                                         AC/DC                  197   \n",
       "3                   ASMR Binaural Beats Library                  213   \n",
       "4                                Abadá-Capoeira                  292   \n",
       "\n",
       "   total_plays   entropy  \n",
       "0            1  0.000000  \n",
       "1            3  1.098612  \n",
       "2            3  1.098612  \n",
       "3            1  0.000000  \n",
       "4            1  0.000000  "
      ]
     },
     "execution_count": 8,
     "metadata": {},
     "output_type": "execute_result"
    }
   ],
   "source": [
    "engagement.head()"
   ]
  },
  {
   "cell_type": "markdown",
   "metadata": {},
   "source": [
    "add a column useful for plotting"
   ]
  },
  {
   "cell_type": "code",
   "execution_count": 9,
   "metadata": {},
   "outputs": [],
   "source": [
    "# point size in [1, 10]\n",
    "size = 9*((engagement.entropy-engagement.entropy.min())/(engagement.entropy.max() - engagement.entropy.min()))+1\n",
    "engagement.loc[:, 'size'] = size"
   ]
  },
  {
   "cell_type": "markdown",
   "metadata": {},
   "source": [
    "### Plot results"
   ]
  },
  {
   "cell_type": "markdown",
   "metadata": {},
   "source": [
    "first, a general overview of my daily use of Spotify. Since the Spotify APIs only keep the last 50 songs played, there are some holes in the data because I didn't save my data before running out of buffer. This is particularly evident in the second half of August, not because I wasn't using Spotify but because I wasn't running the script."
   ]
  },
  {
   "cell_type": "code",
   "execution_count": 55,
   "metadata": {},
   "outputs": [],
   "source": [
    "daily_count = daily_count.sum(axis=1)\n",
    "daily_count.name = 'daily count'\n",
    "daily_count = daily_count.reindex(daily_count_index).fillna(0.)"
   ]
  },
  {
   "cell_type": "code",
   "execution_count": 73,
   "metadata": {},
   "outputs": [
    {
     "data": {
      "application/vnd.plotly.v1+json": {
       "config": {
        "plotlyServerURL": "https://plot.ly"
       },
       "data": [
        {
         "customdata": [
          [
           "daily count"
          ],
          [
           "daily count"
          ],
          [
           "daily count"
          ],
          [
           "daily count"
          ],
          [
           "daily count"
          ],
          [
           "daily count"
          ],
          [
           "daily count"
          ],
          [
           "daily count"
          ],
          [
           "daily count"
          ],
          [
           "daily count"
          ],
          [
           "daily count"
          ],
          [
           "daily count"
          ],
          [
           "daily count"
          ],
          [
           "daily count"
          ],
          [
           "daily count"
          ],
          [
           "daily count"
          ],
          [
           "daily count"
          ],
          [
           "daily count"
          ],
          [
           "daily count"
          ],
          [
           "daily count"
          ],
          [
           "daily count"
          ],
          [
           "daily count"
          ],
          [
           "daily count"
          ],
          [
           "daily count"
          ],
          [
           "daily count"
          ],
          [
           "daily count"
          ],
          [
           "daily count"
          ],
          [
           "daily count"
          ],
          [
           "daily count"
          ],
          [
           "daily count"
          ],
          [
           "daily count"
          ],
          [
           "daily count"
          ],
          [
           "daily count"
          ],
          [
           "daily count"
          ],
          [
           "daily count"
          ],
          [
           "daily count"
          ],
          [
           "daily count"
          ],
          [
           "daily count"
          ],
          [
           "daily count"
          ],
          [
           "daily count"
          ],
          [
           "daily count"
          ],
          [
           "daily count"
          ],
          [
           "daily count"
          ],
          [
           "daily count"
          ],
          [
           "daily count"
          ],
          [
           "daily count"
          ],
          [
           "daily count"
          ],
          [
           "daily count"
          ],
          [
           "daily count"
          ],
          [
           "daily count"
          ],
          [
           "daily count"
          ],
          [
           "daily count"
          ],
          [
           "daily count"
          ],
          [
           "daily count"
          ],
          [
           "daily count"
          ],
          [
           "daily count"
          ],
          [
           "daily count"
          ],
          [
           "daily count"
          ],
          [
           "daily count"
          ],
          [
           "daily count"
          ],
          [
           "daily count"
          ],
          [
           "daily count"
          ],
          [
           "daily count"
          ],
          [
           "daily count"
          ],
          [
           "daily count"
          ],
          [
           "daily count"
          ],
          [
           "daily count"
          ],
          [
           "daily count"
          ],
          [
           "daily count"
          ],
          [
           "daily count"
          ],
          [
           "daily count"
          ],
          [
           "daily count"
          ],
          [
           "daily count"
          ],
          [
           "daily count"
          ],
          [
           "daily count"
          ],
          [
           "daily count"
          ],
          [
           "daily count"
          ],
          [
           "daily count"
          ],
          [
           "daily count"
          ],
          [
           "daily count"
          ],
          [
           "daily count"
          ],
          [
           "daily count"
          ],
          [
           "daily count"
          ],
          [
           "daily count"
          ],
          [
           "daily count"
          ],
          [
           "daily count"
          ],
          [
           "daily count"
          ],
          [
           "daily count"
          ],
          [
           "daily count"
          ],
          [
           "daily count"
          ],
          [
           "daily count"
          ],
          [
           "daily count"
          ],
          [
           "daily count"
          ],
          [
           "daily count"
          ],
          [
           "daily count"
          ],
          [
           "daily count"
          ],
          [
           "daily count"
          ],
          [
           "daily count"
          ],
          [
           "daily count"
          ],
          [
           "daily count"
          ],
          [
           "daily count"
          ],
          [
           "daily count"
          ],
          [
           "daily count"
          ],
          [
           "daily count"
          ],
          [
           "daily count"
          ],
          [
           "daily count"
          ],
          [
           "daily count"
          ],
          [
           "daily count"
          ],
          [
           "daily count"
          ],
          [
           "daily count"
          ],
          [
           "daily count"
          ],
          [
           "daily count"
          ],
          [
           "daily count"
          ],
          [
           "daily count"
          ],
          [
           "daily count"
          ],
          [
           "daily count"
          ],
          [
           "daily count"
          ],
          [
           "daily count"
          ],
          [
           "daily count"
          ],
          [
           "daily count"
          ],
          [
           "daily count"
          ],
          [
           "daily count"
          ],
          [
           "daily count"
          ],
          [
           "daily count"
          ],
          [
           "daily count"
          ],
          [
           "daily count"
          ],
          [
           "daily count"
          ],
          [
           "daily count"
          ],
          [
           "daily count"
          ],
          [
           "daily count"
          ],
          [
           "daily count"
          ],
          [
           "daily count"
          ],
          [
           "daily count"
          ],
          [
           "daily count"
          ],
          [
           "daily count"
          ],
          [
           "daily count"
          ],
          [
           "daily count"
          ],
          [
           "daily count"
          ],
          [
           "daily count"
          ],
          [
           "daily count"
          ],
          [
           "daily count"
          ],
          [
           "daily count"
          ],
          [
           "daily count"
          ],
          [
           "daily count"
          ],
          [
           "daily count"
          ],
          [
           "daily count"
          ],
          [
           "daily count"
          ],
          [
           "daily count"
          ],
          [
           "daily count"
          ],
          [
           "daily count"
          ],
          [
           "daily count"
          ],
          [
           "daily count"
          ],
          [
           "daily count"
          ],
          [
           "daily count"
          ],
          [
           "daily count"
          ],
          [
           "daily count"
          ],
          [
           "daily count"
          ],
          [
           "daily count"
          ],
          [
           "daily count"
          ],
          [
           "daily count"
          ],
          [
           "daily count"
          ],
          [
           "daily count"
          ],
          [
           "daily count"
          ],
          [
           "daily count"
          ],
          [
           "daily count"
          ],
          [
           "daily count"
          ],
          [
           "daily count"
          ],
          [
           "daily count"
          ],
          [
           "daily count"
          ],
          [
           "daily count"
          ],
          [
           "daily count"
          ],
          [
           "daily count"
          ],
          [
           "daily count"
          ],
          [
           "daily count"
          ],
          [
           "daily count"
          ],
          [
           "daily count"
          ],
          [
           "daily count"
          ],
          [
           "daily count"
          ],
          [
           "daily count"
          ],
          [
           "daily count"
          ],
          [
           "daily count"
          ],
          [
           "daily count"
          ],
          [
           "daily count"
          ],
          [
           "daily count"
          ],
          [
           "daily count"
          ],
          [
           "daily count"
          ],
          [
           "daily count"
          ],
          [
           "daily count"
          ],
          [
           "daily count"
          ],
          [
           "daily count"
          ],
          [
           "daily count"
          ],
          [
           "daily count"
          ],
          [
           "daily count"
          ],
          [
           "daily count"
          ],
          [
           "daily count"
          ],
          [
           "daily count"
          ],
          [
           "daily count"
          ],
          [
           "daily count"
          ],
          [
           "daily count"
          ],
          [
           "daily count"
          ],
          [
           "daily count"
          ],
          [
           "daily count"
          ],
          [
           "daily count"
          ],
          [
           "daily count"
          ],
          [
           "daily count"
          ],
          [
           "daily count"
          ],
          [
           "daily count"
          ],
          [
           "daily count"
          ],
          [
           "daily count"
          ],
          [
           "daily count"
          ],
          [
           "daily count"
          ],
          [
           "daily count"
          ],
          [
           "daily count"
          ],
          [
           "daily count"
          ],
          [
           "daily count"
          ],
          [
           "daily count"
          ],
          [
           "daily count"
          ],
          [
           "daily count"
          ],
          [
           "daily count"
          ],
          [
           "daily count"
          ],
          [
           "daily count"
          ],
          [
           "daily count"
          ],
          [
           "daily count"
          ],
          [
           "daily count"
          ],
          [
           "daily count"
          ],
          [
           "daily count"
          ],
          [
           "daily count"
          ],
          [
           "daily count"
          ],
          [
           "daily count"
          ],
          [
           "daily count"
          ],
          [
           "daily count"
          ],
          [
           "daily count"
          ],
          [
           "daily count"
          ],
          [
           "daily count"
          ],
          [
           "daily count"
          ],
          [
           "daily count"
          ],
          [
           "daily count"
          ],
          [
           "daily count"
          ],
          [
           "daily count"
          ],
          [
           "daily count"
          ],
          [
           "daily count"
          ],
          [
           "daily count"
          ],
          [
           "daily count"
          ],
          [
           "daily count"
          ],
          [
           "daily count"
          ],
          [
           "daily count"
          ],
          [
           "daily count"
          ],
          [
           "daily count"
          ],
          [
           "daily count"
          ],
          [
           "daily count"
          ],
          [
           "daily count"
          ],
          [
           "daily count"
          ],
          [
           "daily count"
          ],
          [
           "daily count"
          ],
          [
           "daily count"
          ],
          [
           "daily count"
          ],
          [
           "daily count"
          ],
          [
           "daily count"
          ],
          [
           "daily count"
          ],
          [
           "daily count"
          ],
          [
           "daily count"
          ],
          [
           "daily count"
          ],
          [
           "daily count"
          ],
          [
           "daily count"
          ],
          [
           "daily count"
          ],
          [
           "daily count"
          ],
          [
           "daily count"
          ],
          [
           "daily count"
          ],
          [
           "daily count"
          ],
          [
           "daily count"
          ],
          [
           "daily count"
          ],
          [
           "daily count"
          ],
          [
           "daily count"
          ],
          [
           "daily count"
          ],
          [
           "daily count"
          ],
          [
           "daily count"
          ],
          [
           "daily count"
          ],
          [
           "daily count"
          ],
          [
           "daily count"
          ],
          [
           "daily count"
          ],
          [
           "daily count"
          ],
          [
           "daily count"
          ],
          [
           "daily count"
          ],
          [
           "daily count"
          ],
          [
           "daily count"
          ],
          [
           "daily count"
          ],
          [
           "daily count"
          ],
          [
           "daily count"
          ],
          [
           "daily count"
          ],
          [
           "daily count"
          ],
          [
           "daily count"
          ],
          [
           "daily count"
          ],
          [
           "daily count"
          ],
          [
           "daily count"
          ],
          [
           "daily count"
          ],
          [
           "daily count"
          ],
          [
           "daily count"
          ],
          [
           "daily count"
          ],
          [
           "daily count"
          ],
          [
           "daily count"
          ],
          [
           "daily count"
          ],
          [
           "daily count"
          ],
          [
           "daily count"
          ],
          [
           "daily count"
          ],
          [
           "daily count"
          ],
          [
           "daily count"
          ],
          [
           "daily count"
          ],
          [
           "daily count"
          ],
          [
           "daily count"
          ],
          [
           "daily count"
          ],
          [
           "daily count"
          ],
          [
           "daily count"
          ],
          [
           "daily count"
          ],
          [
           "daily count"
          ],
          [
           "daily count"
          ],
          [
           "daily count"
          ],
          [
           "daily count"
          ],
          [
           "daily count"
          ],
          [
           "daily count"
          ],
          [
           "daily count"
          ],
          [
           "daily count"
          ],
          [
           "daily count"
          ],
          [
           "daily count"
          ],
          [
           "daily count"
          ],
          [
           "daily count"
          ],
          [
           "daily count"
          ],
          [
           "daily count"
          ],
          [
           "daily count"
          ],
          [
           "daily count"
          ],
          [
           "daily count"
          ],
          [
           "daily count"
          ],
          [
           "daily count"
          ],
          [
           "daily count"
          ],
          [
           "daily count"
          ],
          [
           "daily count"
          ],
          [
           "daily count"
          ],
          [
           "daily count"
          ],
          [
           "daily count"
          ],
          [
           "daily count"
          ],
          [
           "daily count"
          ],
          [
           "daily count"
          ],
          [
           "daily count"
          ],
          [
           "daily count"
          ],
          [
           "daily count"
          ],
          [
           "daily count"
          ],
          [
           "daily count"
          ],
          [
           "daily count"
          ],
          [
           "daily count"
          ],
          [
           "daily count"
          ],
          [
           "daily count"
          ]
         ],
         "hovertemplate": "<b>%{hovertext}</b><br><br>index=%{x}<br>count=%{y}<extra></extra>",
         "hovertext": [
          "daily count",
          "daily count",
          "daily count",
          "daily count",
          "daily count",
          "daily count",
          "daily count",
          "daily count",
          "daily count",
          "daily count",
          "daily count",
          "daily count",
          "daily count",
          "daily count",
          "daily count",
          "daily count",
          "daily count",
          "daily count",
          "daily count",
          "daily count",
          "daily count",
          "daily count",
          "daily count",
          "daily count",
          "daily count",
          "daily count",
          "daily count",
          "daily count",
          "daily count",
          "daily count",
          "daily count",
          "daily count",
          "daily count",
          "daily count",
          "daily count",
          "daily count",
          "daily count",
          "daily count",
          "daily count",
          "daily count",
          "daily count",
          "daily count",
          "daily count",
          "daily count",
          "daily count",
          "daily count",
          "daily count",
          "daily count",
          "daily count",
          "daily count",
          "daily count",
          "daily count",
          "daily count",
          "daily count",
          "daily count",
          "daily count",
          "daily count",
          "daily count",
          "daily count",
          "daily count",
          "daily count",
          "daily count",
          "daily count",
          "daily count",
          "daily count",
          "daily count",
          "daily count",
          "daily count",
          "daily count",
          "daily count",
          "daily count",
          "daily count",
          "daily count",
          "daily count",
          "daily count",
          "daily count",
          "daily count",
          "daily count",
          "daily count",
          "daily count",
          "daily count",
          "daily count",
          "daily count",
          "daily count",
          "daily count",
          "daily count",
          "daily count",
          "daily count",
          "daily count",
          "daily count",
          "daily count",
          "daily count",
          "daily count",
          "daily count",
          "daily count",
          "daily count",
          "daily count",
          "daily count",
          "daily count",
          "daily count",
          "daily count",
          "daily count",
          "daily count",
          "daily count",
          "daily count",
          "daily count",
          "daily count",
          "daily count",
          "daily count",
          "daily count",
          "daily count",
          "daily count",
          "daily count",
          "daily count",
          "daily count",
          "daily count",
          "daily count",
          "daily count",
          "daily count",
          "daily count",
          "daily count",
          "daily count",
          "daily count",
          "daily count",
          "daily count",
          "daily count",
          "daily count",
          "daily count",
          "daily count",
          "daily count",
          "daily count",
          "daily count",
          "daily count",
          "daily count",
          "daily count",
          "daily count",
          "daily count",
          "daily count",
          "daily count",
          "daily count",
          "daily count",
          "daily count",
          "daily count",
          "daily count",
          "daily count",
          "daily count",
          "daily count",
          "daily count",
          "daily count",
          "daily count",
          "daily count",
          "daily count",
          "daily count",
          "daily count",
          "daily count",
          "daily count",
          "daily count",
          "daily count",
          "daily count",
          "daily count",
          "daily count",
          "daily count",
          "daily count",
          "daily count",
          "daily count",
          "daily count",
          "daily count",
          "daily count",
          "daily count",
          "daily count",
          "daily count",
          "daily count",
          "daily count",
          "daily count",
          "daily count",
          "daily count",
          "daily count",
          "daily count",
          "daily count",
          "daily count",
          "daily count",
          "daily count",
          "daily count",
          "daily count",
          "daily count",
          "daily count",
          "daily count",
          "daily count",
          "daily count",
          "daily count",
          "daily count",
          "daily count",
          "daily count",
          "daily count",
          "daily count",
          "daily count",
          "daily count",
          "daily count",
          "daily count",
          "daily count",
          "daily count",
          "daily count",
          "daily count",
          "daily count",
          "daily count",
          "daily count",
          "daily count",
          "daily count",
          "daily count",
          "daily count",
          "daily count",
          "daily count",
          "daily count",
          "daily count",
          "daily count",
          "daily count",
          "daily count",
          "daily count",
          "daily count",
          "daily count",
          "daily count",
          "daily count",
          "daily count",
          "daily count",
          "daily count",
          "daily count",
          "daily count",
          "daily count",
          "daily count",
          "daily count",
          "daily count",
          "daily count",
          "daily count",
          "daily count",
          "daily count",
          "daily count",
          "daily count",
          "daily count",
          "daily count",
          "daily count",
          "daily count",
          "daily count",
          "daily count",
          "daily count",
          "daily count",
          "daily count",
          "daily count",
          "daily count",
          "daily count",
          "daily count",
          "daily count",
          "daily count",
          "daily count",
          "daily count",
          "daily count",
          "daily count",
          "daily count",
          "daily count",
          "daily count",
          "daily count",
          "daily count",
          "daily count",
          "daily count",
          "daily count",
          "daily count",
          "daily count",
          "daily count",
          "daily count",
          "daily count",
          "daily count",
          "daily count",
          "daily count",
          "daily count",
          "daily count",
          "daily count",
          "daily count",
          "daily count",
          "daily count",
          "daily count",
          "daily count",
          "daily count",
          "daily count",
          "daily count",
          "daily count",
          "daily count",
          "daily count",
          "daily count",
          "daily count",
          "daily count",
          "daily count",
          "daily count",
          "daily count",
          "daily count",
          "daily count",
          "daily count",
          "daily count",
          "daily count",
          "daily count",
          "daily count",
          "daily count",
          "daily count",
          "daily count",
          "daily count",
          "daily count",
          "daily count",
          "daily count",
          "daily count",
          "daily count",
          "daily count",
          "daily count",
          "daily count",
          "daily count",
          "daily count",
          "daily count",
          "daily count",
          "daily count",
          "daily count",
          "daily count",
          "daily count",
          "daily count",
          "daily count",
          "daily count",
          "daily count",
          "daily count",
          "daily count",
          "daily count",
          "daily count",
          "daily count",
          "daily count",
          "daily count",
          "daily count",
          "daily count",
          "daily count",
          "daily count",
          "daily count",
          "daily count",
          "daily count",
          "daily count",
          "daily count",
          "daily count",
          "daily count",
          "daily count",
          "daily count",
          "daily count",
          "daily count",
          "daily count",
          "daily count",
          "daily count",
          "daily count",
          "daily count"
         ],
         "legendgroup": "daily count",
         "line": {
          "color": "#636efa",
          "dash": "solid"
         },
         "mode": "lines",
         "name": "daily count",
         "orientation": "v",
         "showlegend": true,
         "type": "scatter",
         "x": [
          "2019-08-05T00:00:00",
          "2019-08-06T00:00:00",
          "2019-08-07T00:00:00",
          "2019-08-08T00:00:00",
          "2019-08-09T00:00:00",
          "2019-08-10T00:00:00",
          "2019-08-11T00:00:00",
          "2019-08-12T00:00:00",
          "2019-08-13T00:00:00",
          "2019-08-14T00:00:00",
          "2019-08-15T00:00:00",
          "2019-08-16T00:00:00",
          "2019-08-17T00:00:00",
          "2019-08-18T00:00:00",
          "2019-08-19T00:00:00",
          "2019-08-20T00:00:00",
          "2019-08-21T00:00:00",
          "2019-08-22T00:00:00",
          "2019-08-23T00:00:00",
          "2019-08-24T00:00:00",
          "2019-08-25T00:00:00",
          "2019-08-26T00:00:00",
          "2019-08-27T00:00:00",
          "2019-08-28T00:00:00",
          "2019-08-29T00:00:00",
          "2019-08-30T00:00:00",
          "2019-08-31T00:00:00",
          "2019-09-01T00:00:00",
          "2019-09-02T00:00:00",
          "2019-09-03T00:00:00",
          "2019-09-04T00:00:00",
          "2019-09-05T00:00:00",
          "2019-09-06T00:00:00",
          "2019-09-07T00:00:00",
          "2019-09-08T00:00:00",
          "2019-09-09T00:00:00",
          "2019-09-10T00:00:00",
          "2019-09-11T00:00:00",
          "2019-09-12T00:00:00",
          "2019-09-13T00:00:00",
          "2019-09-14T00:00:00",
          "2019-09-15T00:00:00",
          "2019-09-16T00:00:00",
          "2019-09-17T00:00:00",
          "2019-09-18T00:00:00",
          "2019-09-19T00:00:00",
          "2019-09-20T00:00:00",
          "2019-09-21T00:00:00",
          "2019-09-22T00:00:00",
          "2019-09-23T00:00:00",
          "2019-09-24T00:00:00",
          "2019-09-25T00:00:00",
          "2019-09-26T00:00:00",
          "2019-09-27T00:00:00",
          "2019-09-28T00:00:00",
          "2019-09-29T00:00:00",
          "2019-09-30T00:00:00",
          "2019-10-01T00:00:00",
          "2019-10-02T00:00:00",
          "2019-10-03T00:00:00",
          "2019-10-04T00:00:00",
          "2019-10-05T00:00:00",
          "2019-10-06T00:00:00",
          "2019-10-07T00:00:00",
          "2019-10-08T00:00:00",
          "2019-10-09T00:00:00",
          "2019-10-10T00:00:00",
          "2019-10-11T00:00:00",
          "2019-10-12T00:00:00",
          "2019-10-13T00:00:00",
          "2019-10-14T00:00:00",
          "2019-10-15T00:00:00",
          "2019-10-16T00:00:00",
          "2019-10-17T00:00:00",
          "2019-10-18T00:00:00",
          "2019-10-19T00:00:00",
          "2019-10-20T00:00:00",
          "2019-10-21T00:00:00",
          "2019-10-22T00:00:00",
          "2019-10-23T00:00:00",
          "2019-10-24T00:00:00",
          "2019-10-25T00:00:00",
          "2019-10-26T00:00:00",
          "2019-10-27T00:00:00",
          "2019-10-28T00:00:00",
          "2019-10-29T00:00:00",
          "2019-10-30T00:00:00",
          "2019-10-31T00:00:00",
          "2019-11-01T00:00:00",
          "2019-11-02T00:00:00",
          "2019-11-03T00:00:00",
          "2019-11-04T00:00:00",
          "2019-11-05T00:00:00",
          "2019-11-06T00:00:00",
          "2019-11-07T00:00:00",
          "2019-11-08T00:00:00",
          "2019-11-09T00:00:00",
          "2019-11-10T00:00:00",
          "2019-11-11T00:00:00",
          "2019-11-12T00:00:00",
          "2019-11-13T00:00:00",
          "2019-11-14T00:00:00",
          "2019-11-15T00:00:00",
          "2019-11-16T00:00:00",
          "2019-11-17T00:00:00",
          "2019-11-18T00:00:00",
          "2019-11-19T00:00:00",
          "2019-11-20T00:00:00",
          "2019-11-21T00:00:00",
          "2019-11-22T00:00:00",
          "2019-11-23T00:00:00",
          "2019-11-24T00:00:00",
          "2019-11-25T00:00:00",
          "2019-11-26T00:00:00",
          "2019-11-27T00:00:00",
          "2019-11-28T00:00:00",
          "2019-11-29T00:00:00",
          "2019-11-30T00:00:00",
          "2019-12-01T00:00:00",
          "2019-12-02T00:00:00",
          "2019-12-03T00:00:00",
          "2019-12-04T00:00:00",
          "2019-12-05T00:00:00",
          "2019-12-06T00:00:00",
          "2019-12-07T00:00:00",
          "2019-12-08T00:00:00",
          "2019-12-09T00:00:00",
          "2019-12-10T00:00:00",
          "2019-12-11T00:00:00",
          "2019-12-12T00:00:00",
          "2019-12-13T00:00:00",
          "2019-12-14T00:00:00",
          "2019-12-15T00:00:00",
          "2019-12-16T00:00:00",
          "2019-12-17T00:00:00",
          "2019-12-18T00:00:00",
          "2019-12-19T00:00:00",
          "2019-12-20T00:00:00",
          "2019-12-21T00:00:00",
          "2019-12-22T00:00:00",
          "2019-12-23T00:00:00",
          "2019-12-24T00:00:00",
          "2019-12-25T00:00:00",
          "2019-12-26T00:00:00",
          "2019-12-27T00:00:00",
          "2019-12-28T00:00:00",
          "2019-12-29T00:00:00",
          "2019-12-30T00:00:00",
          "2019-12-31T00:00:00",
          "2020-01-01T00:00:00",
          "2020-01-02T00:00:00",
          "2020-01-03T00:00:00",
          "2020-01-04T00:00:00",
          "2020-01-05T00:00:00",
          "2020-01-06T00:00:00",
          "2020-01-07T00:00:00",
          "2020-01-08T00:00:00",
          "2020-01-09T00:00:00",
          "2020-01-10T00:00:00",
          "2020-01-11T00:00:00",
          "2020-01-12T00:00:00",
          "2020-01-13T00:00:00",
          "2020-01-14T00:00:00",
          "2020-01-15T00:00:00",
          "2020-01-16T00:00:00",
          "2020-01-17T00:00:00",
          "2020-01-18T00:00:00",
          "2020-01-19T00:00:00",
          "2020-01-20T00:00:00",
          "2020-01-21T00:00:00",
          "2020-01-22T00:00:00",
          "2020-01-23T00:00:00",
          "2020-01-24T00:00:00",
          "2020-01-25T00:00:00",
          "2020-01-26T00:00:00",
          "2020-01-27T00:00:00",
          "2020-01-28T00:00:00",
          "2020-01-29T00:00:00",
          "2020-01-30T00:00:00",
          "2020-01-31T00:00:00",
          "2020-02-01T00:00:00",
          "2020-02-02T00:00:00",
          "2020-02-03T00:00:00",
          "2020-02-04T00:00:00",
          "2020-02-05T00:00:00",
          "2020-02-06T00:00:00",
          "2020-02-07T00:00:00",
          "2020-02-08T00:00:00",
          "2020-02-09T00:00:00",
          "2020-02-10T00:00:00",
          "2020-02-11T00:00:00",
          "2020-02-12T00:00:00",
          "2020-02-13T00:00:00",
          "2020-02-14T00:00:00",
          "2020-02-15T00:00:00",
          "2020-02-16T00:00:00",
          "2020-02-17T00:00:00",
          "2020-02-18T00:00:00",
          "2020-02-19T00:00:00",
          "2020-02-20T00:00:00",
          "2020-02-21T00:00:00",
          "2020-02-22T00:00:00",
          "2020-02-23T00:00:00",
          "2020-02-24T00:00:00",
          "2020-02-25T00:00:00",
          "2020-02-26T00:00:00",
          "2020-02-27T00:00:00",
          "2020-02-28T00:00:00",
          "2020-02-29T00:00:00",
          "2020-03-01T00:00:00",
          "2020-03-02T00:00:00",
          "2020-03-03T00:00:00",
          "2020-03-04T00:00:00",
          "2020-03-05T00:00:00",
          "2020-03-06T00:00:00",
          "2020-03-07T00:00:00",
          "2020-03-08T00:00:00",
          "2020-03-09T00:00:00",
          "2020-03-10T00:00:00",
          "2020-03-11T00:00:00",
          "2020-03-12T00:00:00",
          "2020-03-13T00:00:00",
          "2020-03-14T00:00:00",
          "2020-03-15T00:00:00",
          "2020-03-16T00:00:00",
          "2020-03-17T00:00:00",
          "2020-03-18T00:00:00",
          "2020-03-19T00:00:00",
          "2020-03-20T00:00:00",
          "2020-03-21T00:00:00",
          "2020-03-22T00:00:00",
          "2020-03-23T00:00:00",
          "2020-03-24T00:00:00",
          "2020-03-25T00:00:00",
          "2020-03-26T00:00:00",
          "2020-03-27T00:00:00",
          "2020-03-28T00:00:00",
          "2020-03-29T00:00:00",
          "2020-03-30T00:00:00",
          "2020-03-31T00:00:00",
          "2020-04-01T00:00:00",
          "2020-04-02T00:00:00",
          "2020-04-03T00:00:00",
          "2020-04-04T00:00:00",
          "2020-04-05T00:00:00",
          "2020-04-06T00:00:00",
          "2020-04-07T00:00:00",
          "2020-04-08T00:00:00",
          "2020-04-09T00:00:00",
          "2020-04-10T00:00:00",
          "2020-04-11T00:00:00",
          "2020-04-12T00:00:00",
          "2020-04-13T00:00:00",
          "2020-04-14T00:00:00",
          "2020-04-15T00:00:00",
          "2020-04-16T00:00:00",
          "2020-04-17T00:00:00",
          "2020-04-18T00:00:00",
          "2020-04-19T00:00:00",
          "2020-04-20T00:00:00",
          "2020-04-21T00:00:00",
          "2020-04-22T00:00:00",
          "2020-04-23T00:00:00",
          "2020-04-24T00:00:00",
          "2020-04-25T00:00:00",
          "2020-04-26T00:00:00",
          "2020-04-27T00:00:00",
          "2020-04-28T00:00:00",
          "2020-04-29T00:00:00",
          "2020-04-30T00:00:00",
          "2020-05-01T00:00:00",
          "2020-05-02T00:00:00",
          "2020-05-03T00:00:00",
          "2020-05-04T00:00:00",
          "2020-05-05T00:00:00",
          "2020-05-06T00:00:00",
          "2020-05-07T00:00:00",
          "2020-05-08T00:00:00",
          "2020-05-09T00:00:00",
          "2020-05-10T00:00:00",
          "2020-05-11T00:00:00",
          "2020-05-12T00:00:00",
          "2020-05-13T00:00:00",
          "2020-05-14T00:00:00",
          "2020-05-15T00:00:00",
          "2020-05-16T00:00:00",
          "2020-05-17T00:00:00",
          "2020-05-18T00:00:00",
          "2020-05-19T00:00:00",
          "2020-05-20T00:00:00",
          "2020-05-21T00:00:00",
          "2020-05-22T00:00:00",
          "2020-05-23T00:00:00",
          "2020-05-24T00:00:00",
          "2020-05-25T00:00:00",
          "2020-05-26T00:00:00",
          "2020-05-27T00:00:00",
          "2020-05-28T00:00:00",
          "2020-05-29T00:00:00",
          "2020-05-30T00:00:00",
          "2020-05-31T00:00:00",
          "2020-06-01T00:00:00",
          "2020-06-02T00:00:00",
          "2020-06-03T00:00:00",
          "2020-06-04T00:00:00",
          "2020-06-05T00:00:00",
          "2020-06-06T00:00:00",
          "2020-06-07T00:00:00",
          "2020-06-08T00:00:00",
          "2020-06-09T00:00:00",
          "2020-06-10T00:00:00",
          "2020-06-11T00:00:00",
          "2020-06-12T00:00:00",
          "2020-06-13T00:00:00",
          "2020-06-14T00:00:00",
          "2020-06-15T00:00:00",
          "2020-06-16T00:00:00",
          "2020-06-17T00:00:00",
          "2020-06-18T00:00:00",
          "2020-06-19T00:00:00",
          "2020-06-20T00:00:00",
          "2020-06-21T00:00:00",
          "2020-06-22T00:00:00",
          "2020-06-23T00:00:00",
          "2020-06-24T00:00:00",
          "2020-06-25T00:00:00",
          "2020-06-26T00:00:00",
          "2020-06-27T00:00:00",
          "2020-06-28T00:00:00",
          "2020-06-29T00:00:00",
          "2020-06-30T00:00:00",
          "2020-07-01T00:00:00",
          "2020-07-02T00:00:00",
          "2020-07-03T00:00:00",
          "2020-07-04T00:00:00",
          "2020-07-05T00:00:00",
          "2020-07-06T00:00:00",
          "2020-07-07T00:00:00",
          "2020-07-08T00:00:00",
          "2020-07-09T00:00:00",
          "2020-07-10T00:00:00",
          "2020-07-11T00:00:00",
          "2020-07-12T00:00:00",
          "2020-07-13T00:00:00",
          "2020-07-14T00:00:00",
          "2020-07-15T00:00:00",
          "2020-07-16T00:00:00",
          "2020-07-17T00:00:00",
          "2020-07-18T00:00:00",
          "2020-07-19T00:00:00"
         ],
         "xaxis": "x",
         "y": [
          13,
          14,
          21,
          17,
          38,
          40,
          0,
          0,
          0,
          0,
          0,
          0,
          0,
          0,
          0,
          0,
          0,
          0,
          1,
          0,
          3,
          0,
          0,
          0,
          0,
          0,
          0,
          0,
          0,
          4,
          0,
          17,
          2,
          23,
          2,
          14,
          36,
          20,
          4,
          12,
          5,
          0,
          11,
          8,
          0,
          0,
          9,
          9,
          13,
          19,
          5,
          0,
          19,
          5,
          14,
          0,
          1,
          11,
          0,
          17,
          27,
          10,
          58,
          9,
          0,
          4,
          0,
          4,
          25,
          0,
          15,
          11,
          0,
          17,
          17,
          0,
          0,
          3,
          50,
          16,
          0,
          0,
          0,
          1,
          0,
          5,
          18,
          0,
          0,
          0,
          0,
          4,
          3,
          3,
          4,
          38,
          21,
          0,
          5,
          0,
          3,
          4,
          17,
          5,
          16,
          9,
          13,
          13,
          15,
          0,
          43,
          7,
          3,
          6,
          44,
          14,
          5,
          10,
          21,
          6,
          2,
          4,
          7,
          7,
          3,
          10,
          14,
          4,
          43,
          12,
          1,
          5,
          0,
          11,
          7,
          3,
          0,
          0,
          17,
          12,
          16,
          0,
          0,
          0,
          0,
          0,
          0,
          5,
          0,
          0,
          0,
          9,
          18,
          0,
          20,
          28,
          5,
          0,
          0,
          13,
          5,
          5,
          15,
          5,
          0,
          0,
          6,
          6,
          0,
          5,
          8,
          0,
          21,
          0,
          0,
          10,
          10,
          6,
          3,
          13,
          7,
          0,
          5,
          8,
          60,
          0,
          20,
          0,
          0,
          7,
          6,
          34,
          0,
          0,
          25,
          16,
          0,
          0,
          11,
          0,
          13,
          2,
          8,
          8,
          15,
          11,
          0,
          8,
          4,
          3,
          10,
          9,
          17,
          14,
          17,
          73,
          7,
          33,
          50,
          0,
          37,
          21,
          29,
          11,
          1,
          12,
          33,
          0,
          0,
          41,
          40,
          12,
          33,
          24,
          35,
          30,
          69,
          17,
          19,
          7,
          35,
          0,
          0,
          53,
          18,
          16,
          26,
          10,
          0,
          19,
          20,
          34,
          29,
          13,
          6,
          5,
          32,
          17,
          7,
          0,
          2,
          4,
          8,
          0,
          30,
          0,
          0,
          0,
          0,
          0,
          35,
          18,
          33,
          0,
          0,
          0,
          0,
          0,
          0,
          0,
          0,
          56,
          0,
          13,
          22,
          13,
          18,
          0,
          0,
          0,
          0,
          0,
          5,
          0,
          0,
          0,
          38,
          31,
          0,
          83,
          5,
          19,
          0,
          0,
          7,
          13,
          7,
          14,
          12,
          0,
          0,
          5,
          26,
          0,
          4,
          0,
          0,
          0,
          14,
          8,
          25,
          14,
          0,
          16,
          0,
          0,
          0,
          9,
          0,
          0,
          17,
          0,
          0,
          33,
          3,
          17,
          32,
          6,
          0,
          13,
          8,
          2,
          25,
          0,
          2,
          12,
          0,
          37,
          16,
          38
         ],
         "yaxis": "y"
        }
       ],
       "layout": {
        "autosize": true,
        "legend": {
         "title": {
          "text": "variable"
         },
         "tracegroupgap": 0
        },
        "showlegend": false,
        "template": {
         "data": {
          "bar": [
           {
            "error_x": {
             "color": "#2a3f5f"
            },
            "error_y": {
             "color": "#2a3f5f"
            },
            "marker": {
             "line": {
              "color": "#E5ECF6",
              "width": 0.5
             }
            },
            "type": "bar"
           }
          ],
          "barpolar": [
           {
            "marker": {
             "line": {
              "color": "#E5ECF6",
              "width": 0.5
             }
            },
            "type": "barpolar"
           }
          ],
          "carpet": [
           {
            "aaxis": {
             "endlinecolor": "#2a3f5f",
             "gridcolor": "white",
             "linecolor": "white",
             "minorgridcolor": "white",
             "startlinecolor": "#2a3f5f"
            },
            "baxis": {
             "endlinecolor": "#2a3f5f",
             "gridcolor": "white",
             "linecolor": "white",
             "minorgridcolor": "white",
             "startlinecolor": "#2a3f5f"
            },
            "type": "carpet"
           }
          ],
          "choropleth": [
           {
            "colorbar": {
             "outlinewidth": 0,
             "ticks": ""
            },
            "type": "choropleth"
           }
          ],
          "contour": [
           {
            "colorbar": {
             "outlinewidth": 0,
             "ticks": ""
            },
            "colorscale": [
             [
              0,
              "#0d0887"
             ],
             [
              0.1111111111111111,
              "#46039f"
             ],
             [
              0.2222222222222222,
              "#7201a8"
             ],
             [
              0.3333333333333333,
              "#9c179e"
             ],
             [
              0.4444444444444444,
              "#bd3786"
             ],
             [
              0.5555555555555556,
              "#d8576b"
             ],
             [
              0.6666666666666666,
              "#ed7953"
             ],
             [
              0.7777777777777778,
              "#fb9f3a"
             ],
             [
              0.8888888888888888,
              "#fdca26"
             ],
             [
              1,
              "#f0f921"
             ]
            ],
            "type": "contour"
           }
          ],
          "contourcarpet": [
           {
            "colorbar": {
             "outlinewidth": 0,
             "ticks": ""
            },
            "type": "contourcarpet"
           }
          ],
          "heatmap": [
           {
            "colorbar": {
             "outlinewidth": 0,
             "ticks": ""
            },
            "colorscale": [
             [
              0,
              "#0d0887"
             ],
             [
              0.1111111111111111,
              "#46039f"
             ],
             [
              0.2222222222222222,
              "#7201a8"
             ],
             [
              0.3333333333333333,
              "#9c179e"
             ],
             [
              0.4444444444444444,
              "#bd3786"
             ],
             [
              0.5555555555555556,
              "#d8576b"
             ],
             [
              0.6666666666666666,
              "#ed7953"
             ],
             [
              0.7777777777777778,
              "#fb9f3a"
             ],
             [
              0.8888888888888888,
              "#fdca26"
             ],
             [
              1,
              "#f0f921"
             ]
            ],
            "type": "heatmap"
           }
          ],
          "heatmapgl": [
           {
            "colorbar": {
             "outlinewidth": 0,
             "ticks": ""
            },
            "colorscale": [
             [
              0,
              "#0d0887"
             ],
             [
              0.1111111111111111,
              "#46039f"
             ],
             [
              0.2222222222222222,
              "#7201a8"
             ],
             [
              0.3333333333333333,
              "#9c179e"
             ],
             [
              0.4444444444444444,
              "#bd3786"
             ],
             [
              0.5555555555555556,
              "#d8576b"
             ],
             [
              0.6666666666666666,
              "#ed7953"
             ],
             [
              0.7777777777777778,
              "#fb9f3a"
             ],
             [
              0.8888888888888888,
              "#fdca26"
             ],
             [
              1,
              "#f0f921"
             ]
            ],
            "type": "heatmapgl"
           }
          ],
          "histogram": [
           {
            "marker": {
             "colorbar": {
              "outlinewidth": 0,
              "ticks": ""
             }
            },
            "type": "histogram"
           }
          ],
          "histogram2d": [
           {
            "colorbar": {
             "outlinewidth": 0,
             "ticks": ""
            },
            "colorscale": [
             [
              0,
              "#0d0887"
             ],
             [
              0.1111111111111111,
              "#46039f"
             ],
             [
              0.2222222222222222,
              "#7201a8"
             ],
             [
              0.3333333333333333,
              "#9c179e"
             ],
             [
              0.4444444444444444,
              "#bd3786"
             ],
             [
              0.5555555555555556,
              "#d8576b"
             ],
             [
              0.6666666666666666,
              "#ed7953"
             ],
             [
              0.7777777777777778,
              "#fb9f3a"
             ],
             [
              0.8888888888888888,
              "#fdca26"
             ],
             [
              1,
              "#f0f921"
             ]
            ],
            "type": "histogram2d"
           }
          ],
          "histogram2dcontour": [
           {
            "colorbar": {
             "outlinewidth": 0,
             "ticks": ""
            },
            "colorscale": [
             [
              0,
              "#0d0887"
             ],
             [
              0.1111111111111111,
              "#46039f"
             ],
             [
              0.2222222222222222,
              "#7201a8"
             ],
             [
              0.3333333333333333,
              "#9c179e"
             ],
             [
              0.4444444444444444,
              "#bd3786"
             ],
             [
              0.5555555555555556,
              "#d8576b"
             ],
             [
              0.6666666666666666,
              "#ed7953"
             ],
             [
              0.7777777777777778,
              "#fb9f3a"
             ],
             [
              0.8888888888888888,
              "#fdca26"
             ],
             [
              1,
              "#f0f921"
             ]
            ],
            "type": "histogram2dcontour"
           }
          ],
          "mesh3d": [
           {
            "colorbar": {
             "outlinewidth": 0,
             "ticks": ""
            },
            "type": "mesh3d"
           }
          ],
          "parcoords": [
           {
            "line": {
             "colorbar": {
              "outlinewidth": 0,
              "ticks": ""
             }
            },
            "type": "parcoords"
           }
          ],
          "pie": [
           {
            "automargin": true,
            "type": "pie"
           }
          ],
          "scatter": [
           {
            "marker": {
             "colorbar": {
              "outlinewidth": 0,
              "ticks": ""
             }
            },
            "type": "scatter"
           }
          ],
          "scatter3d": [
           {
            "line": {
             "colorbar": {
              "outlinewidth": 0,
              "ticks": ""
             }
            },
            "marker": {
             "colorbar": {
              "outlinewidth": 0,
              "ticks": ""
             }
            },
            "type": "scatter3d"
           }
          ],
          "scattercarpet": [
           {
            "marker": {
             "colorbar": {
              "outlinewidth": 0,
              "ticks": ""
             }
            },
            "type": "scattercarpet"
           }
          ],
          "scattergeo": [
           {
            "marker": {
             "colorbar": {
              "outlinewidth": 0,
              "ticks": ""
             }
            },
            "type": "scattergeo"
           }
          ],
          "scattergl": [
           {
            "marker": {
             "colorbar": {
              "outlinewidth": 0,
              "ticks": ""
             }
            },
            "type": "scattergl"
           }
          ],
          "scattermapbox": [
           {
            "marker": {
             "colorbar": {
              "outlinewidth": 0,
              "ticks": ""
             }
            },
            "type": "scattermapbox"
           }
          ],
          "scatterpolar": [
           {
            "marker": {
             "colorbar": {
              "outlinewidth": 0,
              "ticks": ""
             }
            },
            "type": "scatterpolar"
           }
          ],
          "scatterpolargl": [
           {
            "marker": {
             "colorbar": {
              "outlinewidth": 0,
              "ticks": ""
             }
            },
            "type": "scatterpolargl"
           }
          ],
          "scatterternary": [
           {
            "marker": {
             "colorbar": {
              "outlinewidth": 0,
              "ticks": ""
             }
            },
            "type": "scatterternary"
           }
          ],
          "surface": [
           {
            "colorbar": {
             "outlinewidth": 0,
             "ticks": ""
            },
            "colorscale": [
             [
              0,
              "#0d0887"
             ],
             [
              0.1111111111111111,
              "#46039f"
             ],
             [
              0.2222222222222222,
              "#7201a8"
             ],
             [
              0.3333333333333333,
              "#9c179e"
             ],
             [
              0.4444444444444444,
              "#bd3786"
             ],
             [
              0.5555555555555556,
              "#d8576b"
             ],
             [
              0.6666666666666666,
              "#ed7953"
             ],
             [
              0.7777777777777778,
              "#fb9f3a"
             ],
             [
              0.8888888888888888,
              "#fdca26"
             ],
             [
              1,
              "#f0f921"
             ]
            ],
            "type": "surface"
           }
          ],
          "table": [
           {
            "cells": {
             "fill": {
              "color": "#EBF0F8"
             },
             "line": {
              "color": "white"
             }
            },
            "header": {
             "fill": {
              "color": "#C8D4E3"
             },
             "line": {
              "color": "white"
             }
            },
            "type": "table"
           }
          ]
         },
         "layout": {
          "annotationdefaults": {
           "arrowcolor": "#2a3f5f",
           "arrowhead": 0,
           "arrowwidth": 1
          },
          "autotypenumbers": "strict",
          "coloraxis": {
           "colorbar": {
            "outlinewidth": 0,
            "ticks": ""
           }
          },
          "colorscale": {
           "diverging": [
            [
             0,
             "#8e0152"
            ],
            [
             0.1,
             "#c51b7d"
            ],
            [
             0.2,
             "#de77ae"
            ],
            [
             0.3,
             "#f1b6da"
            ],
            [
             0.4,
             "#fde0ef"
            ],
            [
             0.5,
             "#f7f7f7"
            ],
            [
             0.6,
             "#e6f5d0"
            ],
            [
             0.7,
             "#b8e186"
            ],
            [
             0.8,
             "#7fbc41"
            ],
            [
             0.9,
             "#4d9221"
            ],
            [
             1,
             "#276419"
            ]
           ],
           "sequential": [
            [
             0,
             "#0d0887"
            ],
            [
             0.1111111111111111,
             "#46039f"
            ],
            [
             0.2222222222222222,
             "#7201a8"
            ],
            [
             0.3333333333333333,
             "#9c179e"
            ],
            [
             0.4444444444444444,
             "#bd3786"
            ],
            [
             0.5555555555555556,
             "#d8576b"
            ],
            [
             0.6666666666666666,
             "#ed7953"
            ],
            [
             0.7777777777777778,
             "#fb9f3a"
            ],
            [
             0.8888888888888888,
             "#fdca26"
            ],
            [
             1,
             "#f0f921"
            ]
           ],
           "sequentialminus": [
            [
             0,
             "#0d0887"
            ],
            [
             0.1111111111111111,
             "#46039f"
            ],
            [
             0.2222222222222222,
             "#7201a8"
            ],
            [
             0.3333333333333333,
             "#9c179e"
            ],
            [
             0.4444444444444444,
             "#bd3786"
            ],
            [
             0.5555555555555556,
             "#d8576b"
            ],
            [
             0.6666666666666666,
             "#ed7953"
            ],
            [
             0.7777777777777778,
             "#fb9f3a"
            ],
            [
             0.8888888888888888,
             "#fdca26"
            ],
            [
             1,
             "#f0f921"
            ]
           ]
          },
          "colorway": [
           "#636efa",
           "#EF553B",
           "#00cc96",
           "#ab63fa",
           "#FFA15A",
           "#19d3f3",
           "#FF6692",
           "#B6E880",
           "#FF97FF",
           "#FECB52"
          ],
          "font": {
           "color": "#2a3f5f"
          },
          "geo": {
           "bgcolor": "white",
           "lakecolor": "white",
           "landcolor": "#E5ECF6",
           "showlakes": true,
           "showland": true,
           "subunitcolor": "white"
          },
          "hoverlabel": {
           "align": "left"
          },
          "hovermode": "closest",
          "mapbox": {
           "style": "light"
          },
          "paper_bgcolor": "white",
          "plot_bgcolor": "#E5ECF6",
          "polar": {
           "angularaxis": {
            "gridcolor": "white",
            "linecolor": "white",
            "ticks": ""
           },
           "bgcolor": "#E5ECF6",
           "radialaxis": {
            "gridcolor": "white",
            "linecolor": "white",
            "ticks": ""
           }
          },
          "scene": {
           "xaxis": {
            "backgroundcolor": "#E5ECF6",
            "gridcolor": "white",
            "gridwidth": 2,
            "linecolor": "white",
            "showbackground": true,
            "ticks": "",
            "zerolinecolor": "white"
           },
           "yaxis": {
            "backgroundcolor": "#E5ECF6",
            "gridcolor": "white",
            "gridwidth": 2,
            "linecolor": "white",
            "showbackground": true,
            "ticks": "",
            "zerolinecolor": "white"
           },
           "zaxis": {
            "backgroundcolor": "#E5ECF6",
            "gridcolor": "white",
            "gridwidth": 2,
            "linecolor": "white",
            "showbackground": true,
            "ticks": "",
            "zerolinecolor": "white"
           }
          },
          "shapedefaults": {
           "line": {
            "color": "#2a3f5f"
           }
          },
          "ternary": {
           "aaxis": {
            "gridcolor": "white",
            "linecolor": "white",
            "ticks": ""
           },
           "baxis": {
            "gridcolor": "white",
            "linecolor": "white",
            "ticks": ""
           },
           "bgcolor": "#E5ECF6",
           "caxis": {
            "gridcolor": "white",
            "linecolor": "white",
            "ticks": ""
           }
          },
          "title": {
           "x": 0.05
          },
          "xaxis": {
           "automargin": true,
           "gridcolor": "white",
           "linecolor": "white",
           "ticks": "",
           "title": {
            "standoff": 15
           },
           "zerolinecolor": "white",
           "zerolinewidth": 2
          },
          "yaxis": {
           "automargin": true,
           "gridcolor": "white",
           "linecolor": "white",
           "ticks": "",
           "title": {
            "standoff": 15
           },
           "zerolinecolor": "white",
           "zerolinewidth": 2
          }
         }
        },
        "title": {
         "text": "Number of tracks played by day"
        },
        "xaxis": {
         "anchor": "y",
         "autorange": true,
         "domain": [
          0,
          1
         ],
         "range": [
          "2019-08-05",
          "2020-07-19"
         ],
         "title": {
          "text": "index"
         },
         "type": "date"
        },
        "yaxis": {
         "anchor": "x",
         "autorange": true,
         "domain": [
          0,
          1
         ],
         "range": [
          -4.611111111111111,
          87.61111111111111
         ],
         "title": {
          "text": "count"
         },
         "type": "linear"
        }
       }
      },
      "image/png": "[encoded data removed]",
      "text/html": [
       "<div>                            <div id=\"5a1df707-1ab0-46c2-951c-6a5b4cb5cec5\" class=\"plotly-graph-div\" style=\"height:525px; width:100%;\"></div>            <script type=\"text/javascript\">                require([\"plotly\"], function(Plotly) {                    window.PLOTLYENV=window.PLOTLYENV || {};                                    if (document.getElementById(\"5a1df707-1ab0-46c2-951c-6a5b4cb5cec5\")) {                    Plotly.newPlot(                        \"5a1df707-1ab0-46c2-951c-6a5b4cb5cec5\",                        [{\"customdata\": [[\"daily count\"], [\"daily count\"], [\"daily count\"], [\"daily count\"], [\"daily count\"], [\"daily count\"], [\"daily count\"], [\"daily count\"], [\"daily count\"], [\"daily count\"], [\"daily count\"], [\"daily count\"], [\"daily count\"], [\"daily count\"], [\"daily count\"], [\"daily count\"], [\"daily count\"], [\"daily count\"], [\"daily count\"], [\"daily count\"], [\"daily count\"], [\"daily count\"], [\"daily count\"], [\"daily count\"], [\"daily count\"], [\"daily count\"], [\"daily count\"], [\"daily count\"], [\"daily count\"], [\"daily count\"], [\"daily count\"], [\"daily count\"], [\"daily count\"], [\"daily count\"], [\"daily count\"], [\"daily count\"], [\"daily count\"], [\"daily count\"], [\"daily count\"], [\"daily count\"], [\"daily count\"], [\"daily count\"], [\"daily count\"], [\"daily count\"], [\"daily count\"], [\"daily count\"], [\"daily count\"], [\"daily count\"], [\"daily count\"], [\"daily count\"], [\"daily count\"], [\"daily count\"], [\"daily count\"], [\"daily count\"], [\"daily count\"], [\"daily count\"], [\"daily count\"], [\"daily count\"], [\"daily count\"], [\"daily count\"], [\"daily count\"], [\"daily count\"], [\"daily count\"], [\"daily count\"], [\"daily count\"], [\"daily count\"], [\"daily count\"], [\"daily count\"], [\"daily count\"], [\"daily count\"], [\"daily count\"], [\"daily count\"], [\"daily count\"], [\"daily count\"], [\"daily count\"], [\"daily count\"], [\"daily count\"], [\"daily count\"], [\"daily count\"], [\"daily count\"], [\"daily count\"], [\"daily count\"], [\"daily count\"], [\"daily count\"], [\"daily count\"], [\"daily count\"], [\"daily count\"], [\"daily count\"], [\"daily count\"], [\"daily count\"], [\"daily count\"], [\"daily count\"], [\"daily count\"], [\"daily count\"], [\"daily count\"], [\"daily count\"], [\"daily count\"], [\"daily count\"], [\"daily count\"], [\"daily count\"], [\"daily count\"], [\"daily count\"], [\"daily count\"], [\"daily count\"], [\"daily count\"], [\"daily count\"], [\"daily count\"], [\"daily count\"], [\"daily count\"], [\"daily count\"], [\"daily count\"], [\"daily count\"], [\"daily count\"], [\"daily count\"], [\"daily count\"], [\"daily count\"], [\"daily count\"], [\"daily count\"], [\"daily count\"], [\"daily count\"], [\"daily count\"], [\"daily count\"], [\"daily count\"], [\"daily count\"], [\"daily count\"], [\"daily count\"], [\"daily count\"], [\"daily count\"], [\"daily count\"], [\"daily count\"], [\"daily count\"], [\"daily count\"], [\"daily count\"], [\"daily count\"], [\"daily count\"], [\"daily count\"], [\"daily count\"], [\"daily count\"], [\"daily count\"], [\"daily count\"], [\"daily count\"], [\"daily count\"], [\"daily count\"], [\"daily count\"], [\"daily count\"], [\"daily count\"], [\"daily count\"], [\"daily count\"], [\"daily count\"], [\"daily count\"], [\"daily count\"], [\"daily count\"], [\"daily count\"], [\"daily count\"], [\"daily count\"], [\"daily count\"], [\"daily count\"], [\"daily count\"], [\"daily count\"], [\"daily count\"], [\"daily count\"], [\"daily count\"], [\"daily count\"], [\"daily count\"], [\"daily count\"], [\"daily count\"], [\"daily count\"], [\"daily count\"], [\"daily count\"], [\"daily count\"], [\"daily count\"], [\"daily count\"], [\"daily count\"], [\"daily count\"], [\"daily count\"], [\"daily count\"], [\"daily count\"], [\"daily count\"], [\"daily count\"], [\"daily count\"], [\"daily count\"], [\"daily count\"], [\"daily count\"], [\"daily count\"], [\"daily count\"], [\"daily count\"], [\"daily count\"], [\"daily count\"], [\"daily count\"], [\"daily count\"], [\"daily count\"], [\"daily count\"], [\"daily count\"], [\"daily count\"], [\"daily count\"], [\"daily count\"], [\"daily count\"], [\"daily count\"], [\"daily count\"], [\"daily count\"], [\"daily count\"], [\"daily count\"], [\"daily count\"], [\"daily count\"], [\"daily count\"], [\"daily count\"], [\"daily count\"], [\"daily count\"], [\"daily count\"], [\"daily count\"], [\"daily count\"], [\"daily count\"], [\"daily count\"], [\"daily count\"], [\"daily count\"], [\"daily count\"], [\"daily count\"], [\"daily count\"], [\"daily count\"], [\"daily count\"], [\"daily count\"], [\"daily count\"], [\"daily count\"], [\"daily count\"], [\"daily count\"], [\"daily count\"], [\"daily count\"], [\"daily count\"], [\"daily count\"], [\"daily count\"], [\"daily count\"], [\"daily count\"], [\"daily count\"], [\"daily count\"], [\"daily count\"], [\"daily count\"], [\"daily count\"], [\"daily count\"], [\"daily count\"], [\"daily count\"], [\"daily count\"], [\"daily count\"], [\"daily count\"], [\"daily count\"], [\"daily count\"], [\"daily count\"], [\"daily count\"], [\"daily count\"], [\"daily count\"], [\"daily count\"], [\"daily count\"], [\"daily count\"], [\"daily count\"], [\"daily count\"], [\"daily count\"], [\"daily count\"], [\"daily count\"], [\"daily count\"], [\"daily count\"], [\"daily count\"], [\"daily count\"], [\"daily count\"], [\"daily count\"], [\"daily count\"], [\"daily count\"], [\"daily count\"], [\"daily count\"], [\"daily count\"], [\"daily count\"], [\"daily count\"], [\"daily count\"], [\"daily count\"], [\"daily count\"], [\"daily count\"], [\"daily count\"], [\"daily count\"], [\"daily count\"], [\"daily count\"], [\"daily count\"], [\"daily count\"], [\"daily count\"], [\"daily count\"], [\"daily count\"], [\"daily count\"], [\"daily count\"], [\"daily count\"], [\"daily count\"], [\"daily count\"], [\"daily count\"], [\"daily count\"], [\"daily count\"], [\"daily count\"], [\"daily count\"], [\"daily count\"], [\"daily count\"], [\"daily count\"], [\"daily count\"], [\"daily count\"], [\"daily count\"], [\"daily count\"], [\"daily count\"], [\"daily count\"], [\"daily count\"], [\"daily count\"], [\"daily count\"], [\"daily count\"], [\"daily count\"], [\"daily count\"], [\"daily count\"], [\"daily count\"], [\"daily count\"], [\"daily count\"], [\"daily count\"], [\"daily count\"], [\"daily count\"], [\"daily count\"], [\"daily count\"], [\"daily count\"], [\"daily count\"], [\"daily count\"], [\"daily count\"], [\"daily count\"], [\"daily count\"], [\"daily count\"], [\"daily count\"], [\"daily count\"], [\"daily count\"], [\"daily count\"], [\"daily count\"], [\"daily count\"], [\"daily count\"], [\"daily count\"], [\"daily count\"], [\"daily count\"], [\"daily count\"], [\"daily count\"], [\"daily count\"], [\"daily count\"], [\"daily count\"], [\"daily count\"], [\"daily count\"], [\"daily count\"], [\"daily count\"], [\"daily count\"], [\"daily count\"], [\"daily count\"], [\"daily count\"], [\"daily count\"], [\"daily count\"], [\"daily count\"]], \"hovertemplate\": \"<b>%{hovertext}</b><br><br>index=%{x}<br>count=%{y}<extra></extra>\", \"hovertext\": [\"daily count\", \"daily count\", \"daily count\", \"daily count\", \"daily count\", \"daily count\", \"daily count\", \"daily count\", \"daily count\", \"daily count\", \"daily count\", \"daily count\", \"daily count\", \"daily count\", \"daily count\", \"daily count\", \"daily count\", \"daily count\", \"daily count\", \"daily count\", \"daily count\", \"daily count\", \"daily count\", \"daily count\", \"daily count\", \"daily count\", \"daily count\", \"daily count\", \"daily count\", \"daily count\", \"daily count\", \"daily count\", \"daily count\", \"daily count\", \"daily count\", \"daily count\", \"daily count\", \"daily count\", \"daily count\", \"daily count\", \"daily count\", \"daily count\", \"daily count\", \"daily count\", \"daily count\", \"daily count\", \"daily count\", \"daily count\", \"daily count\", \"daily count\", \"daily count\", \"daily count\", \"daily count\", \"daily count\", \"daily count\", \"daily count\", \"daily count\", \"daily count\", \"daily count\", \"daily count\", \"daily count\", \"daily count\", \"daily count\", \"daily count\", \"daily count\", \"daily count\", \"daily count\", \"daily count\", \"daily count\", \"daily count\", \"daily count\", \"daily count\", \"daily count\", \"daily count\", \"daily count\", \"daily count\", \"daily count\", \"daily count\", \"daily count\", \"daily count\", \"daily count\", \"daily count\", \"daily count\", \"daily count\", \"daily count\", \"daily count\", \"daily count\", \"daily count\", \"daily count\", \"daily count\", \"daily count\", \"daily count\", \"daily count\", \"daily count\", \"daily count\", \"daily count\", \"daily count\", \"daily count\", \"daily count\", \"daily count\", \"daily count\", \"daily count\", \"daily count\", \"daily count\", \"daily count\", \"daily count\", \"daily count\", \"daily count\", \"daily count\", \"daily count\", \"daily count\", \"daily count\", \"daily count\", \"daily count\", \"daily count\", \"daily count\", \"daily count\", \"daily count\", \"daily count\", \"daily count\", \"daily count\", \"daily count\", \"daily count\", \"daily count\", \"daily count\", \"daily count\", \"daily count\", \"daily count\", \"daily count\", \"daily count\", \"daily count\", \"daily count\", \"daily count\", \"daily count\", \"daily count\", \"daily count\", \"daily count\", \"daily count\", \"daily count\", \"daily count\", \"daily count\", \"daily count\", \"daily count\", \"daily count\", \"daily count\", \"daily count\", \"daily count\", \"daily count\", \"daily count\", \"daily count\", \"daily count\", \"daily count\", \"daily count\", \"daily count\", \"daily count\", \"daily count\", \"daily count\", \"daily count\", \"daily count\", \"daily count\", \"daily count\", \"daily count\", \"daily count\", \"daily count\", \"daily count\", \"daily count\", \"daily count\", \"daily count\", \"daily count\", \"daily count\", \"daily count\", \"daily count\", \"daily count\", \"daily count\", \"daily count\", \"daily count\", \"daily count\", \"daily count\", \"daily count\", \"daily count\", \"daily count\", \"daily count\", \"daily count\", \"daily count\", \"daily count\", \"daily count\", \"daily count\", \"daily count\", \"daily count\", \"daily count\", \"daily count\", \"daily count\", \"daily count\", \"daily count\", \"daily count\", \"daily count\", \"daily count\", \"daily count\", \"daily count\", \"daily count\", \"daily count\", \"daily count\", \"daily count\", \"daily count\", \"daily count\", \"daily count\", \"daily count\", \"daily count\", \"daily count\", \"daily count\", \"daily count\", \"daily count\", \"daily count\", \"daily count\", \"daily count\", \"daily count\", \"daily count\", \"daily count\", \"daily count\", \"daily count\", \"daily count\", \"daily count\", \"daily count\", \"daily count\", \"daily count\", \"daily count\", \"daily count\", \"daily count\", \"daily count\", \"daily count\", \"daily count\", \"daily count\", \"daily count\", \"daily count\", \"daily count\", \"daily count\", \"daily count\", \"daily count\", \"daily count\", \"daily count\", \"daily count\", \"daily count\", \"daily count\", \"daily count\", \"daily count\", \"daily count\", \"daily count\", \"daily count\", \"daily count\", \"daily count\", \"daily count\", \"daily count\", \"daily count\", \"daily count\", \"daily count\", \"daily count\", \"daily count\", \"daily count\", \"daily count\", \"daily count\", \"daily count\", \"daily count\", \"daily count\", \"daily count\", \"daily count\", \"daily count\", \"daily count\", \"daily count\", \"daily count\", \"daily count\", \"daily count\", \"daily count\", \"daily count\", \"daily count\", \"daily count\", \"daily count\", \"daily count\", \"daily count\", \"daily count\", \"daily count\", \"daily count\", \"daily count\", \"daily count\", \"daily count\", \"daily count\", \"daily count\", \"daily count\", \"daily count\", \"daily count\", \"daily count\", \"daily count\", \"daily count\", \"daily count\", \"daily count\", \"daily count\", \"daily count\", \"daily count\", \"daily count\", \"daily count\", \"daily count\", \"daily count\", \"daily count\", \"daily count\", \"daily count\", \"daily count\", \"daily count\", \"daily count\", \"daily count\", \"daily count\", \"daily count\", \"daily count\", \"daily count\", \"daily count\", \"daily count\", \"daily count\", \"daily count\", \"daily count\", \"daily count\", \"daily count\", \"daily count\", \"daily count\", \"daily count\", \"daily count\", \"daily count\", \"daily count\", \"daily count\", \"daily count\", \"daily count\", \"daily count\", \"daily count\", \"daily count\", \"daily count\", \"daily count\", \"daily count\", \"daily count\", \"daily count\", \"daily count\", \"daily count\", \"daily count\", \"daily count\", \"daily count\", \"daily count\", \"daily count\", \"daily count\", \"daily count\", \"daily count\", \"daily count\", \"daily count\", \"daily count\", \"daily count\"], \"legendgroup\": \"daily count\", \"line\": {\"color\": \"#636efa\", \"dash\": \"solid\"}, \"mode\": \"lines\", \"name\": \"daily count\", \"orientation\": \"v\", \"showlegend\": true, \"type\": \"scatter\", \"x\": [\"2019-08-05T00:00:00\", \"2019-08-06T00:00:00\", \"2019-08-07T00:00:00\", \"2019-08-08T00:00:00\", \"2019-08-09T00:00:00\", \"2019-08-10T00:00:00\", \"2019-08-11T00:00:00\", \"2019-08-12T00:00:00\", \"2019-08-13T00:00:00\", \"2019-08-14T00:00:00\", \"2019-08-15T00:00:00\", \"2019-08-16T00:00:00\", \"2019-08-17T00:00:00\", \"2019-08-18T00:00:00\", \"2019-08-19T00:00:00\", \"2019-08-20T00:00:00\", \"2019-08-21T00:00:00\", \"2019-08-22T00:00:00\", \"2019-08-23T00:00:00\", \"2019-08-24T00:00:00\", \"2019-08-25T00:00:00\", \"2019-08-26T00:00:00\", \"2019-08-27T00:00:00\", \"2019-08-28T00:00:00\", \"2019-08-29T00:00:00\", \"2019-08-30T00:00:00\", \"2019-08-31T00:00:00\", \"2019-09-01T00:00:00\", \"2019-09-02T00:00:00\", \"2019-09-03T00:00:00\", \"2019-09-04T00:00:00\", \"2019-09-05T00:00:00\", \"2019-09-06T00:00:00\", \"2019-09-07T00:00:00\", \"2019-09-08T00:00:00\", \"2019-09-09T00:00:00\", \"2019-09-10T00:00:00\", \"2019-09-11T00:00:00\", \"2019-09-12T00:00:00\", \"2019-09-13T00:00:00\", \"2019-09-14T00:00:00\", \"2019-09-15T00:00:00\", \"2019-09-16T00:00:00\", \"2019-09-17T00:00:00\", \"2019-09-18T00:00:00\", \"2019-09-19T00:00:00\", \"2019-09-20T00:00:00\", \"2019-09-21T00:00:00\", \"2019-09-22T00:00:00\", \"2019-09-23T00:00:00\", \"2019-09-24T00:00:00\", \"2019-09-25T00:00:00\", \"2019-09-26T00:00:00\", \"2019-09-27T00:00:00\", \"2019-09-28T00:00:00\", \"2019-09-29T00:00:00\", \"2019-09-30T00:00:00\", \"2019-10-01T00:00:00\", \"2019-10-02T00:00:00\", \"2019-10-03T00:00:00\", \"2019-10-04T00:00:00\", \"2019-10-05T00:00:00\", \"2019-10-06T00:00:00\", \"2019-10-07T00:00:00\", \"2019-10-08T00:00:00\", \"2019-10-09T00:00:00\", \"2019-10-10T00:00:00\", \"2019-10-11T00:00:00\", \"2019-10-12T00:00:00\", \"2019-10-13T00:00:00\", \"2019-10-14T00:00:00\", \"2019-10-15T00:00:00\", \"2019-10-16T00:00:00\", \"2019-10-17T00:00:00\", \"2019-10-18T00:00:00\", \"2019-10-19T00:00:00\", \"2019-10-20T00:00:00\", \"2019-10-21T00:00:00\", \"2019-10-22T00:00:00\", \"2019-10-23T00:00:00\", \"2019-10-24T00:00:00\", \"2019-10-25T00:00:00\", \"2019-10-26T00:00:00\", \"2019-10-27T00:00:00\", \"2019-10-28T00:00:00\", \"2019-10-29T00:00:00\", \"2019-10-30T00:00:00\", \"2019-10-31T00:00:00\", \"2019-11-01T00:00:00\", \"2019-11-02T00:00:00\", \"2019-11-03T00:00:00\", \"2019-11-04T00:00:00\", \"2019-11-05T00:00:00\", \"2019-11-06T00:00:00\", \"2019-11-07T00:00:00\", \"2019-11-08T00:00:00\", \"2019-11-09T00:00:00\", \"2019-11-10T00:00:00\", \"2019-11-11T00:00:00\", \"2019-11-12T00:00:00\", \"2019-11-13T00:00:00\", \"2019-11-14T00:00:00\", \"2019-11-15T00:00:00\", \"2019-11-16T00:00:00\", \"2019-11-17T00:00:00\", \"2019-11-18T00:00:00\", \"2019-11-19T00:00:00\", \"2019-11-20T00:00:00\", \"2019-11-21T00:00:00\", \"2019-11-22T00:00:00\", \"2019-11-23T00:00:00\", \"2019-11-24T00:00:00\", \"2019-11-25T00:00:00\", \"2019-11-26T00:00:00\", \"2019-11-27T00:00:00\", \"2019-11-28T00:00:00\", \"2019-11-29T00:00:00\", \"2019-11-30T00:00:00\", \"2019-12-01T00:00:00\", \"2019-12-02T00:00:00\", \"2019-12-03T00:00:00\", \"2019-12-04T00:00:00\", \"2019-12-05T00:00:00\", \"2019-12-06T00:00:00\", \"2019-12-07T00:00:00\", \"2019-12-08T00:00:00\", \"2019-12-09T00:00:00\", \"2019-12-10T00:00:00\", \"2019-12-11T00:00:00\", \"2019-12-12T00:00:00\", \"2019-12-13T00:00:00\", \"2019-12-14T00:00:00\", \"2019-12-15T00:00:00\", \"2019-12-16T00:00:00\", \"2019-12-17T00:00:00\", \"2019-12-18T00:00:00\", \"2019-12-19T00:00:00\", \"2019-12-20T00:00:00\", \"2019-12-21T00:00:00\", \"2019-12-22T00:00:00\", \"2019-12-23T00:00:00\", \"2019-12-24T00:00:00\", \"2019-12-25T00:00:00\", \"2019-12-26T00:00:00\", \"2019-12-27T00:00:00\", \"2019-12-28T00:00:00\", \"2019-12-29T00:00:00\", \"2019-12-30T00:00:00\", \"2019-12-31T00:00:00\", \"2020-01-01T00:00:00\", \"2020-01-02T00:00:00\", \"2020-01-03T00:00:00\", \"2020-01-04T00:00:00\", \"2020-01-05T00:00:00\", \"2020-01-06T00:00:00\", \"2020-01-07T00:00:00\", \"2020-01-08T00:00:00\", \"2020-01-09T00:00:00\", \"2020-01-10T00:00:00\", \"2020-01-11T00:00:00\", \"2020-01-12T00:00:00\", \"2020-01-13T00:00:00\", \"2020-01-14T00:00:00\", \"2020-01-15T00:00:00\", \"2020-01-16T00:00:00\", \"2020-01-17T00:00:00\", \"2020-01-18T00:00:00\", \"2020-01-19T00:00:00\", \"2020-01-20T00:00:00\", \"2020-01-21T00:00:00\", \"2020-01-22T00:00:00\", \"2020-01-23T00:00:00\", \"2020-01-24T00:00:00\", \"2020-01-25T00:00:00\", \"2020-01-26T00:00:00\", \"2020-01-27T00:00:00\", \"2020-01-28T00:00:00\", \"2020-01-29T00:00:00\", \"2020-01-30T00:00:00\", \"2020-01-31T00:00:00\", \"2020-02-01T00:00:00\", \"2020-02-02T00:00:00\", \"2020-02-03T00:00:00\", \"2020-02-04T00:00:00\", \"2020-02-05T00:00:00\", \"2020-02-06T00:00:00\", \"2020-02-07T00:00:00\", \"2020-02-08T00:00:00\", \"2020-02-09T00:00:00\", \"2020-02-10T00:00:00\", \"2020-02-11T00:00:00\", \"2020-02-12T00:00:00\", \"2020-02-13T00:00:00\", \"2020-02-14T00:00:00\", \"2020-02-15T00:00:00\", \"2020-02-16T00:00:00\", \"2020-02-17T00:00:00\", \"2020-02-18T00:00:00\", \"2020-02-19T00:00:00\", \"2020-02-20T00:00:00\", \"2020-02-21T00:00:00\", \"2020-02-22T00:00:00\", \"2020-02-23T00:00:00\", \"2020-02-24T00:00:00\", \"2020-02-25T00:00:00\", \"2020-02-26T00:00:00\", \"2020-02-27T00:00:00\", \"2020-02-28T00:00:00\", \"2020-02-29T00:00:00\", \"2020-03-01T00:00:00\", \"2020-03-02T00:00:00\", \"2020-03-03T00:00:00\", \"2020-03-04T00:00:00\", \"2020-03-05T00:00:00\", \"2020-03-06T00:00:00\", \"2020-03-07T00:00:00\", \"2020-03-08T00:00:00\", \"2020-03-09T00:00:00\", \"2020-03-10T00:00:00\", \"2020-03-11T00:00:00\", \"2020-03-12T00:00:00\", \"2020-03-13T00:00:00\", \"2020-03-14T00:00:00\", \"2020-03-15T00:00:00\", \"2020-03-16T00:00:00\", \"2020-03-17T00:00:00\", \"2020-03-18T00:00:00\", \"2020-03-19T00:00:00\", \"2020-03-20T00:00:00\", \"2020-03-21T00:00:00\", \"2020-03-22T00:00:00\", \"2020-03-23T00:00:00\", \"2020-03-24T00:00:00\", \"2020-03-25T00:00:00\", \"2020-03-26T00:00:00\", \"2020-03-27T00:00:00\", \"2020-03-28T00:00:00\", \"2020-03-29T00:00:00\", \"2020-03-30T00:00:00\", \"2020-03-31T00:00:00\", \"2020-04-01T00:00:00\", \"2020-04-02T00:00:00\", \"2020-04-03T00:00:00\", \"2020-04-04T00:00:00\", \"2020-04-05T00:00:00\", \"2020-04-06T00:00:00\", \"2020-04-07T00:00:00\", \"2020-04-08T00:00:00\", \"2020-04-09T00:00:00\", \"2020-04-10T00:00:00\", \"2020-04-11T00:00:00\", \"2020-04-12T00:00:00\", \"2020-04-13T00:00:00\", \"2020-04-14T00:00:00\", \"2020-04-15T00:00:00\", \"2020-04-16T00:00:00\", \"2020-04-17T00:00:00\", \"2020-04-18T00:00:00\", \"2020-04-19T00:00:00\", \"2020-04-20T00:00:00\", \"2020-04-21T00:00:00\", \"2020-04-22T00:00:00\", \"2020-04-23T00:00:00\", \"2020-04-24T00:00:00\", \"2020-04-25T00:00:00\", \"2020-04-26T00:00:00\", \"2020-04-27T00:00:00\", \"2020-04-28T00:00:00\", \"2020-04-29T00:00:00\", \"2020-04-30T00:00:00\", \"2020-05-01T00:00:00\", \"2020-05-02T00:00:00\", \"2020-05-03T00:00:00\", \"2020-05-04T00:00:00\", \"2020-05-05T00:00:00\", \"2020-05-06T00:00:00\", \"2020-05-07T00:00:00\", \"2020-05-08T00:00:00\", \"2020-05-09T00:00:00\", \"2020-05-10T00:00:00\", \"2020-05-11T00:00:00\", \"2020-05-12T00:00:00\", \"2020-05-13T00:00:00\", \"2020-05-14T00:00:00\", \"2020-05-15T00:00:00\", \"2020-05-16T00:00:00\", \"2020-05-17T00:00:00\", \"2020-05-18T00:00:00\", \"2020-05-19T00:00:00\", \"2020-05-20T00:00:00\", \"2020-05-21T00:00:00\", \"2020-05-22T00:00:00\", \"2020-05-23T00:00:00\", \"2020-05-24T00:00:00\", \"2020-05-25T00:00:00\", \"2020-05-26T00:00:00\", \"2020-05-27T00:00:00\", \"2020-05-28T00:00:00\", \"2020-05-29T00:00:00\", \"2020-05-30T00:00:00\", \"2020-05-31T00:00:00\", \"2020-06-01T00:00:00\", \"2020-06-02T00:00:00\", \"2020-06-03T00:00:00\", \"2020-06-04T00:00:00\", \"2020-06-05T00:00:00\", \"2020-06-06T00:00:00\", \"2020-06-07T00:00:00\", \"2020-06-08T00:00:00\", \"2020-06-09T00:00:00\", \"2020-06-10T00:00:00\", \"2020-06-11T00:00:00\", \"2020-06-12T00:00:00\", \"2020-06-13T00:00:00\", \"2020-06-14T00:00:00\", \"2020-06-15T00:00:00\", \"2020-06-16T00:00:00\", \"2020-06-17T00:00:00\", \"2020-06-18T00:00:00\", \"2020-06-19T00:00:00\", \"2020-06-20T00:00:00\", \"2020-06-21T00:00:00\", \"2020-06-22T00:00:00\", \"2020-06-23T00:00:00\", \"2020-06-24T00:00:00\", \"2020-06-25T00:00:00\", \"2020-06-26T00:00:00\", \"2020-06-27T00:00:00\", \"2020-06-28T00:00:00\", \"2020-06-29T00:00:00\", \"2020-06-30T00:00:00\", \"2020-07-01T00:00:00\", \"2020-07-02T00:00:00\", \"2020-07-03T00:00:00\", \"2020-07-04T00:00:00\", \"2020-07-05T00:00:00\", \"2020-07-06T00:00:00\", \"2020-07-07T00:00:00\", \"2020-07-08T00:00:00\", \"2020-07-09T00:00:00\", \"2020-07-10T00:00:00\", \"2020-07-11T00:00:00\", \"2020-07-12T00:00:00\", \"2020-07-13T00:00:00\", \"2020-07-14T00:00:00\", \"2020-07-15T00:00:00\", \"2020-07-16T00:00:00\", \"2020-07-17T00:00:00\", \"2020-07-18T00:00:00\", \"2020-07-19T00:00:00\"], \"xaxis\": \"x\", \"y\": [13.0, 14.0, 21.0, 17.0, 38.0, 40.0, 0.0, 0.0, 0.0, 0.0, 0.0, 0.0, 0.0, 0.0, 0.0, 0.0, 0.0, 0.0, 1.0, 0.0, 3.0, 0.0, 0.0, 0.0, 0.0, 0.0, 0.0, 0.0, 0.0, 4.0, 0.0, 17.0, 2.0, 23.0, 2.0, 14.0, 36.0, 20.0, 4.0, 12.0, 5.0, 0.0, 11.0, 8.0, 0.0, 0.0, 9.0, 9.0, 13.0, 19.0, 5.0, 0.0, 19.0, 5.0, 14.0, 0.0, 1.0, 11.0, 0.0, 17.0, 27.0, 10.0, 58.0, 9.0, 0.0, 4.0, 0.0, 4.0, 25.0, 0.0, 15.0, 11.0, 0.0, 17.0, 17.0, 0.0, 0.0, 3.0, 50.0, 16.0, 0.0, 0.0, 0.0, 1.0, 0.0, 5.0, 18.0, 0.0, 0.0, 0.0, 0.0, 4.0, 3.0, 3.0, 4.0, 38.0, 21.0, 0.0, 5.0, 0.0, 3.0, 4.0, 17.0, 5.0, 16.0, 9.0, 13.0, 13.0, 15.0, 0.0, 43.0, 7.0, 3.0, 6.0, 44.0, 14.0, 5.0, 10.0, 21.0, 6.0, 2.0, 4.0, 7.0, 7.0, 3.0, 10.0, 14.0, 4.0, 43.0, 12.0, 1.0, 5.0, 0.0, 11.0, 7.0, 3.0, 0.0, 0.0, 17.0, 12.0, 16.0, 0.0, 0.0, 0.0, 0.0, 0.0, 0.0, 5.0, 0.0, 0.0, 0.0, 9.0, 18.0, 0.0, 20.0, 28.0, 5.0, 0.0, 0.0, 13.0, 5.0, 5.0, 15.0, 5.0, 0.0, 0.0, 6.0, 6.0, 0.0, 5.0, 8.0, 0.0, 21.0, 0.0, 0.0, 10.0, 10.0, 6.0, 3.0, 13.0, 7.0, 0.0, 5.0, 8.0, 60.0, 0.0, 20.0, 0.0, 0.0, 7.0, 6.0, 34.0, 0.0, 0.0, 25.0, 16.0, 0.0, 0.0, 11.0, 0.0, 13.0, 2.0, 8.0, 8.0, 15.0, 11.0, 0.0, 8.0, 4.0, 3.0, 10.0, 9.0, 17.0, 14.0, 17.0, 73.0, 7.0, 33.0, 50.0, 0.0, 37.0, 21.0, 29.0, 11.0, 1.0, 12.0, 33.0, 0.0, 0.0, 41.0, 40.0, 12.0, 33.0, 24.0, 35.0, 30.0, 69.0, 17.0, 19.0, 7.0, 35.0, 0.0, 0.0, 53.0, 18.0, 16.0, 26.0, 10.0, 0.0, 19.0, 20.0, 34.0, 29.0, 13.0, 6.0, 5.0, 32.0, 17.0, 7.0, 0.0, 2.0, 4.0, 8.0, 0.0, 30.0, 0.0, 0.0, 0.0, 0.0, 0.0, 35.0, 18.0, 33.0, 0.0, 0.0, 0.0, 0.0, 0.0, 0.0, 0.0, 0.0, 56.0, 0.0, 13.0, 22.0, 13.0, 18.0, 0.0, 0.0, 0.0, 0.0, 0.0, 5.0, 0.0, 0.0, 0.0, 38.0, 31.0, 0.0, 83.0, 5.0, 19.0, 0.0, 0.0, 7.0, 13.0, 7.0, 14.0, 12.0, 0.0, 0.0, 5.0, 26.0, 0.0, 4.0, 0.0, 0.0, 0.0, 14.0, 8.0, 25.0, 14.0, 0.0, 16.0, 0.0, 0.0, 0.0, 9.0, 0.0, 0.0, 17.0, 0.0, 0.0, 33.0, 3.0, 17.0, 32.0, 6.0, 0.0, 13.0, 8.0, 2.0, 25.0, 0.0, 2.0, 12.0, 0.0, 37.0, 16.0, 38.0], \"yaxis\": \"y\"}],                        {\"legend\": {\"title\": {\"text\": \"variable\"}, \"tracegroupgap\": 0}, \"showlegend\": false, \"template\": {\"data\": {\"bar\": [{\"error_x\": {\"color\": \"#2a3f5f\"}, \"error_y\": {\"color\": \"#2a3f5f\"}, \"marker\": {\"line\": {\"color\": \"#E5ECF6\", \"width\": 0.5}}, \"type\": \"bar\"}], \"barpolar\": [{\"marker\": {\"line\": {\"color\": \"#E5ECF6\", \"width\": 0.5}}, \"type\": \"barpolar\"}], \"carpet\": [{\"aaxis\": {\"endlinecolor\": \"#2a3f5f\", \"gridcolor\": \"white\", \"linecolor\": \"white\", \"minorgridcolor\": \"white\", \"startlinecolor\": \"#2a3f5f\"}, \"baxis\": {\"endlinecolor\": \"#2a3f5f\", \"gridcolor\": \"white\", \"linecolor\": \"white\", \"minorgridcolor\": \"white\", \"startlinecolor\": \"#2a3f5f\"}, \"type\": \"carpet\"}], \"choropleth\": [{\"colorbar\": {\"outlinewidth\": 0, \"ticks\": \"\"}, \"type\": \"choropleth\"}], \"contour\": [{\"colorbar\": {\"outlinewidth\": 0, \"ticks\": \"\"}, \"colorscale\": [[0.0, \"#0d0887\"], [0.1111111111111111, \"#46039f\"], [0.2222222222222222, \"#7201a8\"], [0.3333333333333333, \"#9c179e\"], [0.4444444444444444, \"#bd3786\"], [0.5555555555555556, \"#d8576b\"], [0.6666666666666666, \"#ed7953\"], [0.7777777777777778, \"#fb9f3a\"], [0.8888888888888888, \"#fdca26\"], [1.0, \"#f0f921\"]], \"type\": \"contour\"}], \"contourcarpet\": [{\"colorbar\": {\"outlinewidth\": 0, \"ticks\": \"\"}, \"type\": \"contourcarpet\"}], \"heatmap\": [{\"colorbar\": {\"outlinewidth\": 0, \"ticks\": \"\"}, \"colorscale\": [[0.0, \"#0d0887\"], [0.1111111111111111, \"#46039f\"], [0.2222222222222222, \"#7201a8\"], [0.3333333333333333, \"#9c179e\"], [0.4444444444444444, \"#bd3786\"], [0.5555555555555556, \"#d8576b\"], [0.6666666666666666, \"#ed7953\"], [0.7777777777777778, \"#fb9f3a\"], [0.8888888888888888, \"#fdca26\"], [1.0, \"#f0f921\"]], \"type\": \"heatmap\"}], \"heatmapgl\": [{\"colorbar\": {\"outlinewidth\": 0, \"ticks\": \"\"}, \"colorscale\": [[0.0, \"#0d0887\"], [0.1111111111111111, \"#46039f\"], [0.2222222222222222, \"#7201a8\"], [0.3333333333333333, \"#9c179e\"], [0.4444444444444444, \"#bd3786\"], [0.5555555555555556, \"#d8576b\"], [0.6666666666666666, \"#ed7953\"], [0.7777777777777778, \"#fb9f3a\"], [0.8888888888888888, \"#fdca26\"], [1.0, \"#f0f921\"]], \"type\": \"heatmapgl\"}], \"histogram\": [{\"marker\": {\"colorbar\": {\"outlinewidth\": 0, \"ticks\": \"\"}}, \"type\": \"histogram\"}], \"histogram2d\": [{\"colorbar\": {\"outlinewidth\": 0, \"ticks\": \"\"}, \"colorscale\": [[0.0, \"#0d0887\"], [0.1111111111111111, \"#46039f\"], [0.2222222222222222, \"#7201a8\"], [0.3333333333333333, \"#9c179e\"], [0.4444444444444444, \"#bd3786\"], [0.5555555555555556, \"#d8576b\"], [0.6666666666666666, \"#ed7953\"], [0.7777777777777778, \"#fb9f3a\"], [0.8888888888888888, \"#fdca26\"], [1.0, \"#f0f921\"]], \"type\": \"histogram2d\"}], \"histogram2dcontour\": [{\"colorbar\": {\"outlinewidth\": 0, \"ticks\": \"\"}, \"colorscale\": [[0.0, \"#0d0887\"], [0.1111111111111111, \"#46039f\"], [0.2222222222222222, \"#7201a8\"], [0.3333333333333333, \"#9c179e\"], [0.4444444444444444, \"#bd3786\"], [0.5555555555555556, \"#d8576b\"], [0.6666666666666666, \"#ed7953\"], [0.7777777777777778, \"#fb9f3a\"], [0.8888888888888888, \"#fdca26\"], [1.0, \"#f0f921\"]], \"type\": \"histogram2dcontour\"}], \"mesh3d\": [{\"colorbar\": {\"outlinewidth\": 0, \"ticks\": \"\"}, \"type\": \"mesh3d\"}], \"parcoords\": [{\"line\": {\"colorbar\": {\"outlinewidth\": 0, \"ticks\": \"\"}}, \"type\": \"parcoords\"}], \"pie\": [{\"automargin\": true, \"type\": \"pie\"}], \"scatter\": [{\"marker\": {\"colorbar\": {\"outlinewidth\": 0, \"ticks\": \"\"}}, \"type\": \"scatter\"}], \"scatter3d\": [{\"line\": {\"colorbar\": {\"outlinewidth\": 0, \"ticks\": \"\"}}, \"marker\": {\"colorbar\": {\"outlinewidth\": 0, \"ticks\": \"\"}}, \"type\": \"scatter3d\"}], \"scattercarpet\": [{\"marker\": {\"colorbar\": {\"outlinewidth\": 0, \"ticks\": \"\"}}, \"type\": \"scattercarpet\"}], \"scattergeo\": [{\"marker\": {\"colorbar\": {\"outlinewidth\": 0, \"ticks\": \"\"}}, \"type\": \"scattergeo\"}], \"scattergl\": [{\"marker\": {\"colorbar\": {\"outlinewidth\": 0, \"ticks\": \"\"}}, \"type\": \"scattergl\"}], \"scattermapbox\": [{\"marker\": {\"colorbar\": {\"outlinewidth\": 0, \"ticks\": \"\"}}, \"type\": \"scattermapbox\"}], \"scatterpolar\": [{\"marker\": {\"colorbar\": {\"outlinewidth\": 0, \"ticks\": \"\"}}, \"type\": \"scatterpolar\"}], \"scatterpolargl\": [{\"marker\": {\"colorbar\": {\"outlinewidth\": 0, \"ticks\": \"\"}}, \"type\": \"scatterpolargl\"}], \"scatterternary\": [{\"marker\": {\"colorbar\": {\"outlinewidth\": 0, \"ticks\": \"\"}}, \"type\": \"scatterternary\"}], \"surface\": [{\"colorbar\": {\"outlinewidth\": 0, \"ticks\": \"\"}, \"colorscale\": [[0.0, \"#0d0887\"], [0.1111111111111111, \"#46039f\"], [0.2222222222222222, \"#7201a8\"], [0.3333333333333333, \"#9c179e\"], [0.4444444444444444, \"#bd3786\"], [0.5555555555555556, \"#d8576b\"], [0.6666666666666666, \"#ed7953\"], [0.7777777777777778, \"#fb9f3a\"], [0.8888888888888888, \"#fdca26\"], [1.0, \"#f0f921\"]], \"type\": \"surface\"}], \"table\": [{\"cells\": {\"fill\": {\"color\": \"#EBF0F8\"}, \"line\": {\"color\": \"white\"}}, \"header\": {\"fill\": {\"color\": \"#C8D4E3\"}, \"line\": {\"color\": \"white\"}}, \"type\": \"table\"}]}, \"layout\": {\"annotationdefaults\": {\"arrowcolor\": \"#2a3f5f\", \"arrowhead\": 0, \"arrowwidth\": 1}, \"autotypenumbers\": \"strict\", \"coloraxis\": {\"colorbar\": {\"outlinewidth\": 0, \"ticks\": \"\"}}, \"colorscale\": {\"diverging\": [[0, \"#8e0152\"], [0.1, \"#c51b7d\"], [0.2, \"#de77ae\"], [0.3, \"#f1b6da\"], [0.4, \"#fde0ef\"], [0.5, \"#f7f7f7\"], [0.6, \"#e6f5d0\"], [0.7, \"#b8e186\"], [0.8, \"#7fbc41\"], [0.9, \"#4d9221\"], [1, \"#276419\"]], \"sequential\": [[0.0, \"#0d0887\"], [0.1111111111111111, \"#46039f\"], [0.2222222222222222, \"#7201a8\"], [0.3333333333333333, \"#9c179e\"], [0.4444444444444444, \"#bd3786\"], [0.5555555555555556, \"#d8576b\"], [0.6666666666666666, \"#ed7953\"], [0.7777777777777778, \"#fb9f3a\"], [0.8888888888888888, \"#fdca26\"], [1.0, \"#f0f921\"]], \"sequentialminus\": [[0.0, \"#0d0887\"], [0.1111111111111111, \"#46039f\"], [0.2222222222222222, \"#7201a8\"], [0.3333333333333333, \"#9c179e\"], [0.4444444444444444, \"#bd3786\"], [0.5555555555555556, \"#d8576b\"], [0.6666666666666666, \"#ed7953\"], [0.7777777777777778, \"#fb9f3a\"], [0.8888888888888888, \"#fdca26\"], [1.0, \"#f0f921\"]]}, \"colorway\": [\"#636efa\", \"#EF553B\", \"#00cc96\", \"#ab63fa\", \"#FFA15A\", \"#19d3f3\", \"#FF6692\", \"#B6E880\", \"#FF97FF\", \"#FECB52\"], \"font\": {\"color\": \"#2a3f5f\"}, \"geo\": {\"bgcolor\": \"white\", \"lakecolor\": \"white\", \"landcolor\": \"#E5ECF6\", \"showlakes\": true, \"showland\": true, \"subunitcolor\": \"white\"}, \"hoverlabel\": {\"align\": \"left\"}, \"hovermode\": \"closest\", \"mapbox\": {\"style\": \"light\"}, \"paper_bgcolor\": \"white\", \"plot_bgcolor\": \"#E5ECF6\", \"polar\": {\"angularaxis\": {\"gridcolor\": \"white\", \"linecolor\": \"white\", \"ticks\": \"\"}, \"bgcolor\": \"#E5ECF6\", \"radialaxis\": {\"gridcolor\": \"white\", \"linecolor\": \"white\", \"ticks\": \"\"}}, \"scene\": {\"xaxis\": {\"backgroundcolor\": \"#E5ECF6\", \"gridcolor\": \"white\", \"gridwidth\": 2, \"linecolor\": \"white\", \"showbackground\": true, \"ticks\": \"\", \"zerolinecolor\": \"white\"}, \"yaxis\": {\"backgroundcolor\": \"#E5ECF6\", \"gridcolor\": \"white\", \"gridwidth\": 2, \"linecolor\": \"white\", \"showbackground\": true, \"ticks\": \"\", \"zerolinecolor\": \"white\"}, \"zaxis\": {\"backgroundcolor\": \"#E5ECF6\", \"gridcolor\": \"white\", \"gridwidth\": 2, \"linecolor\": \"white\", \"showbackground\": true, \"ticks\": \"\", \"zerolinecolor\": \"white\"}}, \"shapedefaults\": {\"line\": {\"color\": \"#2a3f5f\"}}, \"ternary\": {\"aaxis\": {\"gridcolor\": \"white\", \"linecolor\": \"white\", \"ticks\": \"\"}, \"baxis\": {\"gridcolor\": \"white\", \"linecolor\": \"white\", \"ticks\": \"\"}, \"bgcolor\": \"#E5ECF6\", \"caxis\": {\"gridcolor\": \"white\", \"linecolor\": \"white\", \"ticks\": \"\"}}, \"title\": {\"x\": 0.05}, \"xaxis\": {\"automargin\": true, \"gridcolor\": \"white\", \"linecolor\": \"white\", \"ticks\": \"\", \"title\": {\"standoff\": 15}, \"zerolinecolor\": \"white\", \"zerolinewidth\": 2}, \"yaxis\": {\"automargin\": true, \"gridcolor\": \"white\", \"linecolor\": \"white\", \"ticks\": \"\", \"title\": {\"standoff\": 15}, \"zerolinecolor\": \"white\", \"zerolinewidth\": 2}}}, \"title\": {\"text\": \"Number of tracks played by day\"}, \"xaxis\": {\"anchor\": \"y\", \"domain\": [0.0, 1.0], \"title\": {\"text\": \"index\"}}, \"yaxis\": {\"anchor\": \"x\", \"domain\": [0.0, 1.0], \"title\": {\"text\": \"count\"}}},                        {\"responsive\": true}                    ).then(function(){\n",
       "                            \n",
       "var gd = document.getElementById('5a1df707-1ab0-46c2-951c-6a5b4cb5cec5');\n",
       "var x = new MutationObserver(function (mutations, observer) {{\n",
       "        var display = window.getComputedStyle(gd).display;\n",
       "        if (!display || display === 'none') {{\n",
       "            console.log([gd, 'removed!']);\n",
       "            Plotly.purge(gd);\n",
       "            observer.disconnect();\n",
       "        }}\n",
       "}});\n",
       "\n",
       "// Listen for the removal of the full notebook cells\n",
       "var notebookContainer = gd.closest('#notebook-container');\n",
       "if (notebookContainer) {{\n",
       "    x.observe(notebookContainer, {childList: true});\n",
       "}}\n",
       "\n",
       "// Listen for the clearing of the current output cell\n",
       "var outputEl = gd.closest('.output');\n",
       "if (outputEl) {{\n",
       "    x.observe(outputEl, {childList: true});\n",
       "}}\n",
       "\n",
       "                        })                };                });            </script>        </div>"
      ]
     },
     "metadata": {},
     "output_type": "display_data"
    }
   ],
   "source": [
    "fig = px.line(\n",
    "    daily_count, \n",
    "    labels={'played_at':'date', 'value':'count'}, \n",
    "    hover_data={'variable': False}, \n",
    "    hover_name='variable', \n",
    "    title='Number of tracks played by day'\n",
    ")\n",
    "fig.update_layout(showlegend=False)"
   ]
  },
  {
   "cell_type": "markdown",
   "metadata": {},
   "source": [
    "It can be seen also looking at the previous plot, but with a cumulative visualization it is much clearer that exactly during the first lockdown in Italy (March-May) the slope of the curve increases, meaning that I was listening much more music during that period (even if it looks like it was reaching a plateau, perhaps I was saturated), and roughly going back to the \"usual\" slope after the lockdown ended."
   ]
  },
  {
   "cell_type": "code",
   "execution_count": 74,
   "metadata": {},
   "outputs": [
    {
     "data": {
      "application/vnd.plotly.v1+json": {
       "config": {
        "plotlyServerURL": "https://plot.ly"
       },
       "data": [
        {
         "customdata": [
          [
           "daily count",
           13
          ],
          [
           "daily count",
           27
          ],
          [
           "daily count",
           48
          ],
          [
           "daily count",
           65
          ],
          [
           "daily count",
           103
          ],
          [
           "daily count",
           143
          ],
          [
           "daily count",
           143
          ],
          [
           "daily count",
           143
          ],
          [
           "daily count",
           143
          ],
          [
           "daily count",
           143
          ],
          [
           "daily count",
           143
          ],
          [
           "daily count",
           143
          ],
          [
           "daily count",
           143
          ],
          [
           "daily count",
           143
          ],
          [
           "daily count",
           143
          ],
          [
           "daily count",
           143
          ],
          [
           "daily count",
           143
          ],
          [
           "daily count",
           143
          ],
          [
           "daily count",
           144
          ],
          [
           "daily count",
           144
          ],
          [
           "daily count",
           147
          ],
          [
           "daily count",
           147
          ],
          [
           "daily count",
           147
          ],
          [
           "daily count",
           147
          ],
          [
           "daily count",
           147
          ],
          [
           "daily count",
           147
          ],
          [
           "daily count",
           147
          ],
          [
           "daily count",
           147
          ],
          [
           "daily count",
           147
          ],
          [
           "daily count",
           151
          ],
          [
           "daily count",
           151
          ],
          [
           "daily count",
           168
          ],
          [
           "daily count",
           170
          ],
          [
           "daily count",
           193
          ],
          [
           "daily count",
           195
          ],
          [
           "daily count",
           209
          ],
          [
           "daily count",
           245
          ],
          [
           "daily count",
           265
          ],
          [
           "daily count",
           269
          ],
          [
           "daily count",
           281
          ],
          [
           "daily count",
           286
          ],
          [
           "daily count",
           286
          ],
          [
           "daily count",
           297
          ],
          [
           "daily count",
           305
          ],
          [
           "daily count",
           305
          ],
          [
           "daily count",
           305
          ],
          [
           "daily count",
           314
          ],
          [
           "daily count",
           323
          ],
          [
           "daily count",
           336
          ],
          [
           "daily count",
           355
          ],
          [
           "daily count",
           360
          ],
          [
           "daily count",
           360
          ],
          [
           "daily count",
           379
          ],
          [
           "daily count",
           384
          ],
          [
           "daily count",
           398
          ],
          [
           "daily count",
           398
          ],
          [
           "daily count",
           399
          ],
          [
           "daily count",
           410
          ],
          [
           "daily count",
           410
          ],
          [
           "daily count",
           427
          ],
          [
           "daily count",
           454
          ],
          [
           "daily count",
           464
          ],
          [
           "daily count",
           522
          ],
          [
           "daily count",
           531
          ],
          [
           "daily count",
           531
          ],
          [
           "daily count",
           535
          ],
          [
           "daily count",
           535
          ],
          [
           "daily count",
           539
          ],
          [
           "daily count",
           564
          ],
          [
           "daily count",
           564
          ],
          [
           "daily count",
           579
          ],
          [
           "daily count",
           590
          ],
          [
           "daily count",
           590
          ],
          [
           "daily count",
           607
          ],
          [
           "daily count",
           624
          ],
          [
           "daily count",
           624
          ],
          [
           "daily count",
           624
          ],
          [
           "daily count",
           627
          ],
          [
           "daily count",
           677
          ],
          [
           "daily count",
           693
          ],
          [
           "daily count",
           693
          ],
          [
           "daily count",
           693
          ],
          [
           "daily count",
           693
          ],
          [
           "daily count",
           694
          ],
          [
           "daily count",
           694
          ],
          [
           "daily count",
           699
          ],
          [
           "daily count",
           717
          ],
          [
           "daily count",
           717
          ],
          [
           "daily count",
           717
          ],
          [
           "daily count",
           717
          ],
          [
           "daily count",
           717
          ],
          [
           "daily count",
           721
          ],
          [
           "daily count",
           724
          ],
          [
           "daily count",
           727
          ],
          [
           "daily count",
           731
          ],
          [
           "daily count",
           769
          ],
          [
           "daily count",
           790
          ],
          [
           "daily count",
           790
          ],
          [
           "daily count",
           795
          ],
          [
           "daily count",
           795
          ],
          [
           "daily count",
           798
          ],
          [
           "daily count",
           802
          ],
          [
           "daily count",
           819
          ],
          [
           "daily count",
           824
          ],
          [
           "daily count",
           840
          ],
          [
           "daily count",
           849
          ],
          [
           "daily count",
           862
          ],
          [
           "daily count",
           875
          ],
          [
           "daily count",
           890
          ],
          [
           "daily count",
           890
          ],
          [
           "daily count",
           933
          ],
          [
           "daily count",
           940
          ],
          [
           "daily count",
           943
          ],
          [
           "daily count",
           949
          ],
          [
           "daily count",
           993
          ],
          [
           "daily count",
           1007
          ],
          [
           "daily count",
           1012
          ],
          [
           "daily count",
           1022
          ],
          [
           "daily count",
           1043
          ],
          [
           "daily count",
           1049
          ],
          [
           "daily count",
           1051
          ],
          [
           "daily count",
           1055
          ],
          [
           "daily count",
           1062
          ],
          [
           "daily count",
           1069
          ],
          [
           "daily count",
           1072
          ],
          [
           "daily count",
           1082
          ],
          [
           "daily count",
           1096
          ],
          [
           "daily count",
           1100
          ],
          [
           "daily count",
           1143
          ],
          [
           "daily count",
           1155
          ],
          [
           "daily count",
           1156
          ],
          [
           "daily count",
           1161
          ],
          [
           "daily count",
           1161
          ],
          [
           "daily count",
           1172
          ],
          [
           "daily count",
           1179
          ],
          [
           "daily count",
           1182
          ],
          [
           "daily count",
           1182
          ],
          [
           "daily count",
           1182
          ],
          [
           "daily count",
           1199
          ],
          [
           "daily count",
           1211
          ],
          [
           "daily count",
           1227
          ],
          [
           "daily count",
           1227
          ],
          [
           "daily count",
           1227
          ],
          [
           "daily count",
           1227
          ],
          [
           "daily count",
           1227
          ],
          [
           "daily count",
           1227
          ],
          [
           "daily count",
           1227
          ],
          [
           "daily count",
           1232
          ],
          [
           "daily count",
           1232
          ],
          [
           "daily count",
           1232
          ],
          [
           "daily count",
           1232
          ],
          [
           "daily count",
           1241
          ],
          [
           "daily count",
           1259
          ],
          [
           "daily count",
           1259
          ],
          [
           "daily count",
           1279
          ],
          [
           "daily count",
           1307
          ],
          [
           "daily count",
           1312
          ],
          [
           "daily count",
           1312
          ],
          [
           "daily count",
           1312
          ],
          [
           "daily count",
           1325
          ],
          [
           "daily count",
           1330
          ],
          [
           "daily count",
           1335
          ],
          [
           "daily count",
           1350
          ],
          [
           "daily count",
           1355
          ],
          [
           "daily count",
           1355
          ],
          [
           "daily count",
           1355
          ],
          [
           "daily count",
           1361
          ],
          [
           "daily count",
           1367
          ],
          [
           "daily count",
           1367
          ],
          [
           "daily count",
           1372
          ],
          [
           "daily count",
           1380
          ],
          [
           "daily count",
           1380
          ],
          [
           "daily count",
           1401
          ],
          [
           "daily count",
           1401
          ],
          [
           "daily count",
           1401
          ],
          [
           "daily count",
           1411
          ],
          [
           "daily count",
           1421
          ],
          [
           "daily count",
           1427
          ],
          [
           "daily count",
           1430
          ],
          [
           "daily count",
           1443
          ],
          [
           "daily count",
           1450
          ],
          [
           "daily count",
           1450
          ],
          [
           "daily count",
           1455
          ],
          [
           "daily count",
           1463
          ],
          [
           "daily count",
           1523
          ],
          [
           "daily count",
           1523
          ],
          [
           "daily count",
           1543
          ],
          [
           "daily count",
           1543
          ],
          [
           "daily count",
           1543
          ],
          [
           "daily count",
           1550
          ],
          [
           "daily count",
           1556
          ],
          [
           "daily count",
           1590
          ],
          [
           "daily count",
           1590
          ],
          [
           "daily count",
           1590
          ],
          [
           "daily count",
           1615
          ],
          [
           "daily count",
           1631
          ],
          [
           "daily count",
           1631
          ],
          [
           "daily count",
           1631
          ],
          [
           "daily count",
           1642
          ],
          [
           "daily count",
           1642
          ],
          [
           "daily count",
           1655
          ],
          [
           "daily count",
           1657
          ],
          [
           "daily count",
           1665
          ],
          [
           "daily count",
           1673
          ],
          [
           "daily count",
           1688
          ],
          [
           "daily count",
           1699
          ],
          [
           "daily count",
           1699
          ],
          [
           "daily count",
           1707
          ],
          [
           "daily count",
           1711
          ],
          [
           "daily count",
           1714
          ],
          [
           "daily count",
           1724
          ],
          [
           "daily count",
           1733
          ],
          [
           "daily count",
           1750
          ],
          [
           "daily count",
           1764
          ],
          [
           "daily count",
           1781
          ],
          [
           "daily count",
           1854
          ],
          [
           "daily count",
           1861
          ],
          [
           "daily count",
           1894
          ],
          [
           "daily count",
           1944
          ],
          [
           "daily count",
           1944
          ],
          [
           "daily count",
           1981
          ],
          [
           "daily count",
           2002
          ],
          [
           "daily count",
           2031
          ],
          [
           "daily count",
           2042
          ],
          [
           "daily count",
           2043
          ],
          [
           "daily count",
           2055
          ],
          [
           "daily count",
           2088
          ],
          [
           "daily count",
           2088
          ],
          [
           "daily count",
           2088
          ],
          [
           "daily count",
           2129
          ],
          [
           "daily count",
           2169
          ],
          [
           "daily count",
           2181
          ],
          [
           "daily count",
           2214
          ],
          [
           "daily count",
           2238
          ],
          [
           "daily count",
           2273
          ],
          [
           "daily count",
           2303
          ],
          [
           "daily count",
           2372
          ],
          [
           "daily count",
           2389
          ],
          [
           "daily count",
           2408
          ],
          [
           "daily count",
           2415
          ],
          [
           "daily count",
           2450
          ],
          [
           "daily count",
           2450
          ],
          [
           "daily count",
           2450
          ],
          [
           "daily count",
           2503
          ],
          [
           "daily count",
           2521
          ],
          [
           "daily count",
           2537
          ],
          [
           "daily count",
           2563
          ],
          [
           "daily count",
           2573
          ],
          [
           "daily count",
           2573
          ],
          [
           "daily count",
           2592
          ],
          [
           "daily count",
           2612
          ],
          [
           "daily count",
           2646
          ],
          [
           "daily count",
           2675
          ],
          [
           "daily count",
           2688
          ],
          [
           "daily count",
           2694
          ],
          [
           "daily count",
           2699
          ],
          [
           "daily count",
           2731
          ],
          [
           "daily count",
           2748
          ],
          [
           "daily count",
           2755
          ],
          [
           "daily count",
           2755
          ],
          [
           "daily count",
           2757
          ],
          [
           "daily count",
           2761
          ],
          [
           "daily count",
           2769
          ],
          [
           "daily count",
           2769
          ],
          [
           "daily count",
           2799
          ],
          [
           "daily count",
           2799
          ],
          [
           "daily count",
           2799
          ],
          [
           "daily count",
           2799
          ],
          [
           "daily count",
           2799
          ],
          [
           "daily count",
           2799
          ],
          [
           "daily count",
           2834
          ],
          [
           "daily count",
           2852
          ],
          [
           "daily count",
           2885
          ],
          [
           "daily count",
           2885
          ],
          [
           "daily count",
           2885
          ],
          [
           "daily count",
           2885
          ],
          [
           "daily count",
           2885
          ],
          [
           "daily count",
           2885
          ],
          [
           "daily count",
           2885
          ],
          [
           "daily count",
           2885
          ],
          [
           "daily count",
           2885
          ],
          [
           "daily count",
           2941
          ],
          [
           "daily count",
           2941
          ],
          [
           "daily count",
           2954
          ],
          [
           "daily count",
           2976
          ],
          [
           "daily count",
           2989
          ],
          [
           "daily count",
           3007
          ],
          [
           "daily count",
           3007
          ],
          [
           "daily count",
           3007
          ],
          [
           "daily count",
           3007
          ],
          [
           "daily count",
           3007
          ],
          [
           "daily count",
           3007
          ],
          [
           "daily count",
           3012
          ],
          [
           "daily count",
           3012
          ],
          [
           "daily count",
           3012
          ],
          [
           "daily count",
           3012
          ],
          [
           "daily count",
           3050
          ],
          [
           "daily count",
           3081
          ],
          [
           "daily count",
           3081
          ],
          [
           "daily count",
           3164
          ],
          [
           "daily count",
           3169
          ],
          [
           "daily count",
           3188
          ],
          [
           "daily count",
           3188
          ],
          [
           "daily count",
           3188
          ],
          [
           "daily count",
           3195
          ],
          [
           "daily count",
           3208
          ],
          [
           "daily count",
           3215
          ],
          [
           "daily count",
           3229
          ],
          [
           "daily count",
           3241
          ],
          [
           "daily count",
           3241
          ],
          [
           "daily count",
           3241
          ],
          [
           "daily count",
           3246
          ],
          [
           "daily count",
           3272
          ],
          [
           "daily count",
           3272
          ],
          [
           "daily count",
           3276
          ],
          [
           "daily count",
           3276
          ],
          [
           "daily count",
           3276
          ],
          [
           "daily count",
           3276
          ],
          [
           "daily count",
           3290
          ],
          [
           "daily count",
           3298
          ],
          [
           "daily count",
           3323
          ],
          [
           "daily count",
           3337
          ],
          [
           "daily count",
           3337
          ],
          [
           "daily count",
           3353
          ],
          [
           "daily count",
           3353
          ],
          [
           "daily count",
           3353
          ],
          [
           "daily count",
           3353
          ],
          [
           "daily count",
           3362
          ],
          [
           "daily count",
           3362
          ],
          [
           "daily count",
           3362
          ],
          [
           "daily count",
           3379
          ],
          [
           "daily count",
           3379
          ],
          [
           "daily count",
           3379
          ],
          [
           "daily count",
           3412
          ],
          [
           "daily count",
           3415
          ],
          [
           "daily count",
           3432
          ],
          [
           "daily count",
           3464
          ],
          [
           "daily count",
           3470
          ],
          [
           "daily count",
           3470
          ],
          [
           "daily count",
           3483
          ],
          [
           "daily count",
           3491
          ],
          [
           "daily count",
           3493
          ],
          [
           "daily count",
           3518
          ],
          [
           "daily count",
           3518
          ],
          [
           "daily count",
           3520
          ],
          [
           "daily count",
           3532
          ],
          [
           "daily count",
           3532
          ],
          [
           "daily count",
           3569
          ],
          [
           "daily count",
           3585
          ],
          [
           "daily count",
           3623
          ]
         ],
         "hovertemplate": "<b>%{hovertext}</b><br><br>index=%{x}<extra></extra>",
         "hovertext": [
          13,
          27,
          48,
          65,
          103,
          143,
          143,
          143,
          143,
          143,
          143,
          143,
          143,
          143,
          143,
          143,
          143,
          143,
          144,
          144,
          147,
          147,
          147,
          147,
          147,
          147,
          147,
          147,
          147,
          151,
          151,
          168,
          170,
          193,
          195,
          209,
          245,
          265,
          269,
          281,
          286,
          286,
          297,
          305,
          305,
          305,
          314,
          323,
          336,
          355,
          360,
          360,
          379,
          384,
          398,
          398,
          399,
          410,
          410,
          427,
          454,
          464,
          522,
          531,
          531,
          535,
          535,
          539,
          564,
          564,
          579,
          590,
          590,
          607,
          624,
          624,
          624,
          627,
          677,
          693,
          693,
          693,
          693,
          694,
          694,
          699,
          717,
          717,
          717,
          717,
          717,
          721,
          724,
          727,
          731,
          769,
          790,
          790,
          795,
          795,
          798,
          802,
          819,
          824,
          840,
          849,
          862,
          875,
          890,
          890,
          933,
          940,
          943,
          949,
          993,
          1007,
          1012,
          1022,
          1043,
          1049,
          1051,
          1055,
          1062,
          1069,
          1072,
          1082,
          1096,
          1100,
          1143,
          1155,
          1156,
          1161,
          1161,
          1172,
          1179,
          1182,
          1182,
          1182,
          1199,
          1211,
          1227,
          1227,
          1227,
          1227,
          1227,
          1227,
          1227,
          1232,
          1232,
          1232,
          1232,
          1241,
          1259,
          1259,
          1279,
          1307,
          1312,
          1312,
          1312,
          1325,
          1330,
          1335,
          1350,
          1355,
          1355,
          1355,
          1361,
          1367,
          1367,
          1372,
          1380,
          1380,
          1401,
          1401,
          1401,
          1411,
          1421,
          1427,
          1430,
          1443,
          1450,
          1450,
          1455,
          1463,
          1523,
          1523,
          1543,
          1543,
          1543,
          1550,
          1556,
          1590,
          1590,
          1590,
          1615,
          1631,
          1631,
          1631,
          1642,
          1642,
          1655,
          1657,
          1665,
          1673,
          1688,
          1699,
          1699,
          1707,
          1711,
          1714,
          1724,
          1733,
          1750,
          1764,
          1781,
          1854,
          1861,
          1894,
          1944,
          1944,
          1981,
          2002,
          2031,
          2042,
          2043,
          2055,
          2088,
          2088,
          2088,
          2129,
          2169,
          2181,
          2214,
          2238,
          2273,
          2303,
          2372,
          2389,
          2408,
          2415,
          2450,
          2450,
          2450,
          2503,
          2521,
          2537,
          2563,
          2573,
          2573,
          2592,
          2612,
          2646,
          2675,
          2688,
          2694,
          2699,
          2731,
          2748,
          2755,
          2755,
          2757,
          2761,
          2769,
          2769,
          2799,
          2799,
          2799,
          2799,
          2799,
          2799,
          2834,
          2852,
          2885,
          2885,
          2885,
          2885,
          2885,
          2885,
          2885,
          2885,
          2885,
          2941,
          2941,
          2954,
          2976,
          2989,
          3007,
          3007,
          3007,
          3007,
          3007,
          3007,
          3012,
          3012,
          3012,
          3012,
          3050,
          3081,
          3081,
          3164,
          3169,
          3188,
          3188,
          3188,
          3195,
          3208,
          3215,
          3229,
          3241,
          3241,
          3241,
          3246,
          3272,
          3272,
          3276,
          3276,
          3276,
          3276,
          3290,
          3298,
          3323,
          3337,
          3337,
          3353,
          3353,
          3353,
          3353,
          3362,
          3362,
          3362,
          3379,
          3379,
          3379,
          3412,
          3415,
          3432,
          3464,
          3470,
          3470,
          3483,
          3491,
          3493,
          3518,
          3518,
          3520,
          3532,
          3532,
          3569,
          3585,
          3623
         ],
         "legendgroup": "daily count",
         "line": {
          "color": "#636efa",
          "dash": "solid",
          "width": 3
         },
         "mode": "lines",
         "name": "daily count",
         "orientation": "v",
         "showlegend": true,
         "type": "scatter",
         "x": [
          "2019-08-05T00:00:00",
          "2019-08-06T00:00:00",
          "2019-08-07T00:00:00",
          "2019-08-08T00:00:00",
          "2019-08-09T00:00:00",
          "2019-08-10T00:00:00",
          "2019-08-11T00:00:00",
          "2019-08-12T00:00:00",
          "2019-08-13T00:00:00",
          "2019-08-14T00:00:00",
          "2019-08-15T00:00:00",
          "2019-08-16T00:00:00",
          "2019-08-17T00:00:00",
          "2019-08-18T00:00:00",
          "2019-08-19T00:00:00",
          "2019-08-20T00:00:00",
          "2019-08-21T00:00:00",
          "2019-08-22T00:00:00",
          "2019-08-23T00:00:00",
          "2019-08-24T00:00:00",
          "2019-08-25T00:00:00",
          "2019-08-26T00:00:00",
          "2019-08-27T00:00:00",
          "2019-08-28T00:00:00",
          "2019-08-29T00:00:00",
          "2019-08-30T00:00:00",
          "2019-08-31T00:00:00",
          "2019-09-01T00:00:00",
          "2019-09-02T00:00:00",
          "2019-09-03T00:00:00",
          "2019-09-04T00:00:00",
          "2019-09-05T00:00:00",
          "2019-09-06T00:00:00",
          "2019-09-07T00:00:00",
          "2019-09-08T00:00:00",
          "2019-09-09T00:00:00",
          "2019-09-10T00:00:00",
          "2019-09-11T00:00:00",
          "2019-09-12T00:00:00",
          "2019-09-13T00:00:00",
          "2019-09-14T00:00:00",
          "2019-09-15T00:00:00",
          "2019-09-16T00:00:00",
          "2019-09-17T00:00:00",
          "2019-09-18T00:00:00",
          "2019-09-19T00:00:00",
          "2019-09-20T00:00:00",
          "2019-09-21T00:00:00",
          "2019-09-22T00:00:00",
          "2019-09-23T00:00:00",
          "2019-09-24T00:00:00",
          "2019-09-25T00:00:00",
          "2019-09-26T00:00:00",
          "2019-09-27T00:00:00",
          "2019-09-28T00:00:00",
          "2019-09-29T00:00:00",
          "2019-09-30T00:00:00",
          "2019-10-01T00:00:00",
          "2019-10-02T00:00:00",
          "2019-10-03T00:00:00",
          "2019-10-04T00:00:00",
          "2019-10-05T00:00:00",
          "2019-10-06T00:00:00",
          "2019-10-07T00:00:00",
          "2019-10-08T00:00:00",
          "2019-10-09T00:00:00",
          "2019-10-10T00:00:00",
          "2019-10-11T00:00:00",
          "2019-10-12T00:00:00",
          "2019-10-13T00:00:00",
          "2019-10-14T00:00:00",
          "2019-10-15T00:00:00",
          "2019-10-16T00:00:00",
          "2019-10-17T00:00:00",
          "2019-10-18T00:00:00",
          "2019-10-19T00:00:00",
          "2019-10-20T00:00:00",
          "2019-10-21T00:00:00",
          "2019-10-22T00:00:00",
          "2019-10-23T00:00:00",
          "2019-10-24T00:00:00",
          "2019-10-25T00:00:00",
          "2019-10-26T00:00:00",
          "2019-10-27T00:00:00",
          "2019-10-28T00:00:00",
          "2019-10-29T00:00:00",
          "2019-10-30T00:00:00",
          "2019-10-31T00:00:00",
          "2019-11-01T00:00:00",
          "2019-11-02T00:00:00",
          "2019-11-03T00:00:00",
          "2019-11-04T00:00:00",
          "2019-11-05T00:00:00",
          "2019-11-06T00:00:00",
          "2019-11-07T00:00:00",
          "2019-11-08T00:00:00",
          "2019-11-09T00:00:00",
          "2019-11-10T00:00:00",
          "2019-11-11T00:00:00",
          "2019-11-12T00:00:00",
          "2019-11-13T00:00:00",
          "2019-11-14T00:00:00",
          "2019-11-15T00:00:00",
          "2019-11-16T00:00:00",
          "2019-11-17T00:00:00",
          "2019-11-18T00:00:00",
          "2019-11-19T00:00:00",
          "2019-11-20T00:00:00",
          "2019-11-21T00:00:00",
          "2019-11-22T00:00:00",
          "2019-11-23T00:00:00",
          "2019-11-24T00:00:00",
          "2019-11-25T00:00:00",
          "2019-11-26T00:00:00",
          "2019-11-27T00:00:00",
          "2019-11-28T00:00:00",
          "2019-11-29T00:00:00",
          "2019-11-30T00:00:00",
          "2019-12-01T00:00:00",
          "2019-12-02T00:00:00",
          "2019-12-03T00:00:00",
          "2019-12-04T00:00:00",
          "2019-12-05T00:00:00",
          "2019-12-06T00:00:00",
          "2019-12-07T00:00:00",
          "2019-12-08T00:00:00",
          "2019-12-09T00:00:00",
          "2019-12-10T00:00:00",
          "2019-12-11T00:00:00",
          "2019-12-12T00:00:00",
          "2019-12-13T00:00:00",
          "2019-12-14T00:00:00",
          "2019-12-15T00:00:00",
          "2019-12-16T00:00:00",
          "2019-12-17T00:00:00",
          "2019-12-18T00:00:00",
          "2019-12-19T00:00:00",
          "2019-12-20T00:00:00",
          "2019-12-21T00:00:00",
          "2019-12-22T00:00:00",
          "2019-12-23T00:00:00",
          "2019-12-24T00:00:00",
          "2019-12-25T00:00:00",
          "2019-12-26T00:00:00",
          "2019-12-27T00:00:00",
          "2019-12-28T00:00:00",
          "2019-12-29T00:00:00",
          "2019-12-30T00:00:00",
          "2019-12-31T00:00:00",
          "2020-01-01T00:00:00",
          "2020-01-02T00:00:00",
          "2020-01-03T00:00:00",
          "2020-01-04T00:00:00",
          "2020-01-05T00:00:00",
          "2020-01-06T00:00:00",
          "2020-01-07T00:00:00",
          "2020-01-08T00:00:00",
          "2020-01-09T00:00:00",
          "2020-01-10T00:00:00",
          "2020-01-11T00:00:00",
          "2020-01-12T00:00:00",
          "2020-01-13T00:00:00",
          "2020-01-14T00:00:00",
          "2020-01-15T00:00:00",
          "2020-01-16T00:00:00",
          "2020-01-17T00:00:00",
          "2020-01-18T00:00:00",
          "2020-01-19T00:00:00",
          "2020-01-20T00:00:00",
          "2020-01-21T00:00:00",
          "2020-01-22T00:00:00",
          "2020-01-23T00:00:00",
          "2020-01-24T00:00:00",
          "2020-01-25T00:00:00",
          "2020-01-26T00:00:00",
          "2020-01-27T00:00:00",
          "2020-01-28T00:00:00",
          "2020-01-29T00:00:00",
          "2020-01-30T00:00:00",
          "2020-01-31T00:00:00",
          "2020-02-01T00:00:00",
          "2020-02-02T00:00:00",
          "2020-02-03T00:00:00",
          "2020-02-04T00:00:00",
          "2020-02-05T00:00:00",
          "2020-02-06T00:00:00",
          "2020-02-07T00:00:00",
          "2020-02-08T00:00:00",
          "2020-02-09T00:00:00",
          "2020-02-10T00:00:00",
          "2020-02-11T00:00:00",
          "2020-02-12T00:00:00",
          "2020-02-13T00:00:00",
          "2020-02-14T00:00:00",
          "2020-02-15T00:00:00",
          "2020-02-16T00:00:00",
          "2020-02-17T00:00:00",
          "2020-02-18T00:00:00",
          "2020-02-19T00:00:00",
          "2020-02-20T00:00:00",
          "2020-02-21T00:00:00",
          "2020-02-22T00:00:00",
          "2020-02-23T00:00:00",
          "2020-02-24T00:00:00",
          "2020-02-25T00:00:00",
          "2020-02-26T00:00:00",
          "2020-02-27T00:00:00",
          "2020-02-28T00:00:00",
          "2020-02-29T00:00:00",
          "2020-03-01T00:00:00",
          "2020-03-02T00:00:00",
          "2020-03-03T00:00:00",
          "2020-03-04T00:00:00",
          "2020-03-05T00:00:00",
          "2020-03-06T00:00:00",
          "2020-03-07T00:00:00",
          "2020-03-08T00:00:00",
          "2020-03-09T00:00:00",
          "2020-03-10T00:00:00",
          "2020-03-11T00:00:00",
          "2020-03-12T00:00:00",
          "2020-03-13T00:00:00",
          "2020-03-14T00:00:00",
          "2020-03-15T00:00:00",
          "2020-03-16T00:00:00",
          "2020-03-17T00:00:00",
          "2020-03-18T00:00:00",
          "2020-03-19T00:00:00",
          "2020-03-20T00:00:00",
          "2020-03-21T00:00:00",
          "2020-03-22T00:00:00",
          "2020-03-23T00:00:00",
          "2020-03-24T00:00:00",
          "2020-03-25T00:00:00",
          "2020-03-26T00:00:00",
          "2020-03-27T00:00:00",
          "2020-03-28T00:00:00",
          "2020-03-29T00:00:00",
          "2020-03-30T00:00:00",
          "2020-03-31T00:00:00",
          "2020-04-01T00:00:00",
          "2020-04-02T00:00:00",
          "2020-04-03T00:00:00",
          "2020-04-04T00:00:00",
          "2020-04-05T00:00:00",
          "2020-04-06T00:00:00",
          "2020-04-07T00:00:00",
          "2020-04-08T00:00:00",
          "2020-04-09T00:00:00",
          "2020-04-10T00:00:00",
          "2020-04-11T00:00:00",
          "2020-04-12T00:00:00",
          "2020-04-13T00:00:00",
          "2020-04-14T00:00:00",
          "2020-04-15T00:00:00",
          "2020-04-16T00:00:00",
          "2020-04-17T00:00:00",
          "2020-04-18T00:00:00",
          "2020-04-19T00:00:00",
          "2020-04-20T00:00:00",
          "2020-04-21T00:00:00",
          "2020-04-22T00:00:00",
          "2020-04-23T00:00:00",
          "2020-04-24T00:00:00",
          "2020-04-25T00:00:00",
          "2020-04-26T00:00:00",
          "2020-04-27T00:00:00",
          "2020-04-28T00:00:00",
          "2020-04-29T00:00:00",
          "2020-04-30T00:00:00",
          "2020-05-01T00:00:00",
          "2020-05-02T00:00:00",
          "2020-05-03T00:00:00",
          "2020-05-04T00:00:00",
          "2020-05-05T00:00:00",
          "2020-05-06T00:00:00",
          "2020-05-07T00:00:00",
          "2020-05-08T00:00:00",
          "2020-05-09T00:00:00",
          "2020-05-10T00:00:00",
          "2020-05-11T00:00:00",
          "2020-05-12T00:00:00",
          "2020-05-13T00:00:00",
          "2020-05-14T00:00:00",
          "2020-05-15T00:00:00",
          "2020-05-16T00:00:00",
          "2020-05-17T00:00:00",
          "2020-05-18T00:00:00",
          "2020-05-19T00:00:00",
          "2020-05-20T00:00:00",
          "2020-05-21T00:00:00",
          "2020-05-22T00:00:00",
          "2020-05-23T00:00:00",
          "2020-05-24T00:00:00",
          "2020-05-25T00:00:00",
          "2020-05-26T00:00:00",
          "2020-05-27T00:00:00",
          "2020-05-28T00:00:00",
          "2020-05-29T00:00:00",
          "2020-05-30T00:00:00",
          "2020-05-31T00:00:00",
          "2020-06-01T00:00:00",
          "2020-06-02T00:00:00",
          "2020-06-03T00:00:00",
          "2020-06-04T00:00:00",
          "2020-06-05T00:00:00",
          "2020-06-06T00:00:00",
          "2020-06-07T00:00:00",
          "2020-06-08T00:00:00",
          "2020-06-09T00:00:00",
          "2020-06-10T00:00:00",
          "2020-06-11T00:00:00",
          "2020-06-12T00:00:00",
          "2020-06-13T00:00:00",
          "2020-06-14T00:00:00",
          "2020-06-15T00:00:00",
          "2020-06-16T00:00:00",
          "2020-06-17T00:00:00",
          "2020-06-18T00:00:00",
          "2020-06-19T00:00:00",
          "2020-06-20T00:00:00",
          "2020-06-21T00:00:00",
          "2020-06-22T00:00:00",
          "2020-06-23T00:00:00",
          "2020-06-24T00:00:00",
          "2020-06-25T00:00:00",
          "2020-06-26T00:00:00",
          "2020-06-27T00:00:00",
          "2020-06-28T00:00:00",
          "2020-06-29T00:00:00",
          "2020-06-30T00:00:00",
          "2020-07-01T00:00:00",
          "2020-07-02T00:00:00",
          "2020-07-03T00:00:00",
          "2020-07-04T00:00:00",
          "2020-07-05T00:00:00",
          "2020-07-06T00:00:00",
          "2020-07-07T00:00:00",
          "2020-07-08T00:00:00",
          "2020-07-09T00:00:00",
          "2020-07-10T00:00:00",
          "2020-07-11T00:00:00",
          "2020-07-12T00:00:00",
          "2020-07-13T00:00:00",
          "2020-07-14T00:00:00",
          "2020-07-15T00:00:00",
          "2020-07-16T00:00:00",
          "2020-07-17T00:00:00",
          "2020-07-18T00:00:00",
          "2020-07-19T00:00:00"
         ],
         "xaxis": "x",
         "y": [
          13,
          27,
          48,
          65,
          103,
          143,
          143,
          143,
          143,
          143,
          143,
          143,
          143,
          143,
          143,
          143,
          143,
          143,
          144,
          144,
          147,
          147,
          147,
          147,
          147,
          147,
          147,
          147,
          147,
          151,
          151,
          168,
          170,
          193,
          195,
          209,
          245,
          265,
          269,
          281,
          286,
          286,
          297,
          305,
          305,
          305,
          314,
          323,
          336,
          355,
          360,
          360,
          379,
          384,
          398,
          398,
          399,
          410,
          410,
          427,
          454,
          464,
          522,
          531,
          531,
          535,
          535,
          539,
          564,
          564,
          579,
          590,
          590,
          607,
          624,
          624,
          624,
          627,
          677,
          693,
          693,
          693,
          693,
          694,
          694,
          699,
          717,
          717,
          717,
          717,
          717,
          721,
          724,
          727,
          731,
          769,
          790,
          790,
          795,
          795,
          798,
          802,
          819,
          824,
          840,
          849,
          862,
          875,
          890,
          890,
          933,
          940,
          943,
          949,
          993,
          1007,
          1012,
          1022,
          1043,
          1049,
          1051,
          1055,
          1062,
          1069,
          1072,
          1082,
          1096,
          1100,
          1143,
          1155,
          1156,
          1161,
          1161,
          1172,
          1179,
          1182,
          1182,
          1182,
          1199,
          1211,
          1227,
          1227,
          1227,
          1227,
          1227,
          1227,
          1227,
          1232,
          1232,
          1232,
          1232,
          1241,
          1259,
          1259,
          1279,
          1307,
          1312,
          1312,
          1312,
          1325,
          1330,
          1335,
          1350,
          1355,
          1355,
          1355,
          1361,
          1367,
          1367,
          1372,
          1380,
          1380,
          1401,
          1401,
          1401,
          1411,
          1421,
          1427,
          1430,
          1443,
          1450,
          1450,
          1455,
          1463,
          1523,
          1523,
          1543,
          1543,
          1543,
          1550,
          1556,
          1590,
          1590,
          1590,
          1615,
          1631,
          1631,
          1631,
          1642,
          1642,
          1655,
          1657,
          1665,
          1673,
          1688,
          1699,
          1699,
          1707,
          1711,
          1714,
          1724,
          1733,
          1750,
          1764,
          1781,
          1854,
          1861,
          1894,
          1944,
          1944,
          1981,
          2002,
          2031,
          2042,
          2043,
          2055,
          2088,
          2088,
          2088,
          2129,
          2169,
          2181,
          2214,
          2238,
          2273,
          2303,
          2372,
          2389,
          2408,
          2415,
          2450,
          2450,
          2450,
          2503,
          2521,
          2537,
          2563,
          2573,
          2573,
          2592,
          2612,
          2646,
          2675,
          2688,
          2694,
          2699,
          2731,
          2748,
          2755,
          2755,
          2757,
          2761,
          2769,
          2769,
          2799,
          2799,
          2799,
          2799,
          2799,
          2799,
          2834,
          2852,
          2885,
          2885,
          2885,
          2885,
          2885,
          2885,
          2885,
          2885,
          2885,
          2941,
          2941,
          2954,
          2976,
          2989,
          3007,
          3007,
          3007,
          3007,
          3007,
          3007,
          3012,
          3012,
          3012,
          3012,
          3050,
          3081,
          3081,
          3164,
          3169,
          3188,
          3188,
          3188,
          3195,
          3208,
          3215,
          3229,
          3241,
          3241,
          3241,
          3246,
          3272,
          3272,
          3276,
          3276,
          3276,
          3276,
          3290,
          3298,
          3323,
          3337,
          3337,
          3353,
          3353,
          3353,
          3353,
          3362,
          3362,
          3362,
          3379,
          3379,
          3379,
          3412,
          3415,
          3432,
          3464,
          3470,
          3470,
          3483,
          3491,
          3493,
          3518,
          3518,
          3520,
          3532,
          3532,
          3569,
          3585,
          3623
         ],
         "yaxis": "y"
        }
       ],
       "layout": {
        "autosize": true,
        "legend": {
         "title": {
          "text": "variable"
         },
         "tracegroupgap": 0
        },
        "showlegend": false,
        "template": {
         "data": {
          "bar": [
           {
            "error_x": {
             "color": "#2a3f5f"
            },
            "error_y": {
             "color": "#2a3f5f"
            },
            "marker": {
             "line": {
              "color": "#E5ECF6",
              "width": 0.5
             }
            },
            "type": "bar"
           }
          ],
          "barpolar": [
           {
            "marker": {
             "line": {
              "color": "#E5ECF6",
              "width": 0.5
             }
            },
            "type": "barpolar"
           }
          ],
          "carpet": [
           {
            "aaxis": {
             "endlinecolor": "#2a3f5f",
             "gridcolor": "white",
             "linecolor": "white",
             "minorgridcolor": "white",
             "startlinecolor": "#2a3f5f"
            },
            "baxis": {
             "endlinecolor": "#2a3f5f",
             "gridcolor": "white",
             "linecolor": "white",
             "minorgridcolor": "white",
             "startlinecolor": "#2a3f5f"
            },
            "type": "carpet"
           }
          ],
          "choropleth": [
           {
            "colorbar": {
             "outlinewidth": 0,
             "ticks": ""
            },
            "type": "choropleth"
           }
          ],
          "contour": [
           {
            "colorbar": {
             "outlinewidth": 0,
             "ticks": ""
            },
            "colorscale": [
             [
              0,
              "#0d0887"
             ],
             [
              0.1111111111111111,
              "#46039f"
             ],
             [
              0.2222222222222222,
              "#7201a8"
             ],
             [
              0.3333333333333333,
              "#9c179e"
             ],
             [
              0.4444444444444444,
              "#bd3786"
             ],
             [
              0.5555555555555556,
              "#d8576b"
             ],
             [
              0.6666666666666666,
              "#ed7953"
             ],
             [
              0.7777777777777778,
              "#fb9f3a"
             ],
             [
              0.8888888888888888,
              "#fdca26"
             ],
             [
              1,
              "#f0f921"
             ]
            ],
            "type": "contour"
           }
          ],
          "contourcarpet": [
           {
            "colorbar": {
             "outlinewidth": 0,
             "ticks": ""
            },
            "type": "contourcarpet"
           }
          ],
          "heatmap": [
           {
            "colorbar": {
             "outlinewidth": 0,
             "ticks": ""
            },
            "colorscale": [
             [
              0,
              "#0d0887"
             ],
             [
              0.1111111111111111,
              "#46039f"
             ],
             [
              0.2222222222222222,
              "#7201a8"
             ],
             [
              0.3333333333333333,
              "#9c179e"
             ],
             [
              0.4444444444444444,
              "#bd3786"
             ],
             [
              0.5555555555555556,
              "#d8576b"
             ],
             [
              0.6666666666666666,
              "#ed7953"
             ],
             [
              0.7777777777777778,
              "#fb9f3a"
             ],
             [
              0.8888888888888888,
              "#fdca26"
             ],
             [
              1,
              "#f0f921"
             ]
            ],
            "type": "heatmap"
           }
          ],
          "heatmapgl": [
           {
            "colorbar": {
             "outlinewidth": 0,
             "ticks": ""
            },
            "colorscale": [
             [
              0,
              "#0d0887"
             ],
             [
              0.1111111111111111,
              "#46039f"
             ],
             [
              0.2222222222222222,
              "#7201a8"
             ],
             [
              0.3333333333333333,
              "#9c179e"
             ],
             [
              0.4444444444444444,
              "#bd3786"
             ],
             [
              0.5555555555555556,
              "#d8576b"
             ],
             [
              0.6666666666666666,
              "#ed7953"
             ],
             [
              0.7777777777777778,
              "#fb9f3a"
             ],
             [
              0.8888888888888888,
              "#fdca26"
             ],
             [
              1,
              "#f0f921"
             ]
            ],
            "type": "heatmapgl"
           }
          ],
          "histogram": [
           {
            "marker": {
             "colorbar": {
              "outlinewidth": 0,
              "ticks": ""
             }
            },
            "type": "histogram"
           }
          ],
          "histogram2d": [
           {
            "colorbar": {
             "outlinewidth": 0,
             "ticks": ""
            },
            "colorscale": [
             [
              0,
              "#0d0887"
             ],
             [
              0.1111111111111111,
              "#46039f"
             ],
             [
              0.2222222222222222,
              "#7201a8"
             ],
             [
              0.3333333333333333,
              "#9c179e"
             ],
             [
              0.4444444444444444,
              "#bd3786"
             ],
             [
              0.5555555555555556,
              "#d8576b"
             ],
             [
              0.6666666666666666,
              "#ed7953"
             ],
             [
              0.7777777777777778,
              "#fb9f3a"
             ],
             [
              0.8888888888888888,
              "#fdca26"
             ],
             [
              1,
              "#f0f921"
             ]
            ],
            "type": "histogram2d"
           }
          ],
          "histogram2dcontour": [
           {
            "colorbar": {
             "outlinewidth": 0,
             "ticks": ""
            },
            "colorscale": [
             [
              0,
              "#0d0887"
             ],
             [
              0.1111111111111111,
              "#46039f"
             ],
             [
              0.2222222222222222,
              "#7201a8"
             ],
             [
              0.3333333333333333,
              "#9c179e"
             ],
             [
              0.4444444444444444,
              "#bd3786"
             ],
             [
              0.5555555555555556,
              "#d8576b"
             ],
             [
              0.6666666666666666,
              "#ed7953"
             ],
             [
              0.7777777777777778,
              "#fb9f3a"
             ],
             [
              0.8888888888888888,
              "#fdca26"
             ],
             [
              1,
              "#f0f921"
             ]
            ],
            "type": "histogram2dcontour"
           }
          ],
          "mesh3d": [
           {
            "colorbar": {
             "outlinewidth": 0,
             "ticks": ""
            },
            "type": "mesh3d"
           }
          ],
          "parcoords": [
           {
            "line": {
             "colorbar": {
              "outlinewidth": 0,
              "ticks": ""
             }
            },
            "type": "parcoords"
           }
          ],
          "pie": [
           {
            "automargin": true,
            "type": "pie"
           }
          ],
          "scatter": [
           {
            "marker": {
             "colorbar": {
              "outlinewidth": 0,
              "ticks": ""
             }
            },
            "type": "scatter"
           }
          ],
          "scatter3d": [
           {
            "line": {
             "colorbar": {
              "outlinewidth": 0,
              "ticks": ""
             }
            },
            "marker": {
             "colorbar": {
              "outlinewidth": 0,
              "ticks": ""
             }
            },
            "type": "scatter3d"
           }
          ],
          "scattercarpet": [
           {
            "marker": {
             "colorbar": {
              "outlinewidth": 0,
              "ticks": ""
             }
            },
            "type": "scattercarpet"
           }
          ],
          "scattergeo": [
           {
            "marker": {
             "colorbar": {
              "outlinewidth": 0,
              "ticks": ""
             }
            },
            "type": "scattergeo"
           }
          ],
          "scattergl": [
           {
            "marker": {
             "colorbar": {
              "outlinewidth": 0,
              "ticks": ""
             }
            },
            "type": "scattergl"
           }
          ],
          "scattermapbox": [
           {
            "marker": {
             "colorbar": {
              "outlinewidth": 0,
              "ticks": ""
             }
            },
            "type": "scattermapbox"
           }
          ],
          "scatterpolar": [
           {
            "marker": {
             "colorbar": {
              "outlinewidth": 0,
              "ticks": ""
             }
            },
            "type": "scatterpolar"
           }
          ],
          "scatterpolargl": [
           {
            "marker": {
             "colorbar": {
              "outlinewidth": 0,
              "ticks": ""
             }
            },
            "type": "scatterpolargl"
           }
          ],
          "scatterternary": [
           {
            "marker": {
             "colorbar": {
              "outlinewidth": 0,
              "ticks": ""
             }
            },
            "type": "scatterternary"
           }
          ],
          "surface": [
           {
            "colorbar": {
             "outlinewidth": 0,
             "ticks": ""
            },
            "colorscale": [
             [
              0,
              "#0d0887"
             ],
             [
              0.1111111111111111,
              "#46039f"
             ],
             [
              0.2222222222222222,
              "#7201a8"
             ],
             [
              0.3333333333333333,
              "#9c179e"
             ],
             [
              0.4444444444444444,
              "#bd3786"
             ],
             [
              0.5555555555555556,
              "#d8576b"
             ],
             [
              0.6666666666666666,
              "#ed7953"
             ],
             [
              0.7777777777777778,
              "#fb9f3a"
             ],
             [
              0.8888888888888888,
              "#fdca26"
             ],
             [
              1,
              "#f0f921"
             ]
            ],
            "type": "surface"
           }
          ],
          "table": [
           {
            "cells": {
             "fill": {
              "color": "#EBF0F8"
             },
             "line": {
              "color": "white"
             }
            },
            "header": {
             "fill": {
              "color": "#C8D4E3"
             },
             "line": {
              "color": "white"
             }
            },
            "type": "table"
           }
          ]
         },
         "layout": {
          "annotationdefaults": {
           "arrowcolor": "#2a3f5f",
           "arrowhead": 0,
           "arrowwidth": 1
          },
          "autotypenumbers": "strict",
          "coloraxis": {
           "colorbar": {
            "outlinewidth": 0,
            "ticks": ""
           }
          },
          "colorscale": {
           "diverging": [
            [
             0,
             "#8e0152"
            ],
            [
             0.1,
             "#c51b7d"
            ],
            [
             0.2,
             "#de77ae"
            ],
            [
             0.3,
             "#f1b6da"
            ],
            [
             0.4,
             "#fde0ef"
            ],
            [
             0.5,
             "#f7f7f7"
            ],
            [
             0.6,
             "#e6f5d0"
            ],
            [
             0.7,
             "#b8e186"
            ],
            [
             0.8,
             "#7fbc41"
            ],
            [
             0.9,
             "#4d9221"
            ],
            [
             1,
             "#276419"
            ]
           ],
           "sequential": [
            [
             0,
             "#0d0887"
            ],
            [
             0.1111111111111111,
             "#46039f"
            ],
            [
             0.2222222222222222,
             "#7201a8"
            ],
            [
             0.3333333333333333,
             "#9c179e"
            ],
            [
             0.4444444444444444,
             "#bd3786"
            ],
            [
             0.5555555555555556,
             "#d8576b"
            ],
            [
             0.6666666666666666,
             "#ed7953"
            ],
            [
             0.7777777777777778,
             "#fb9f3a"
            ],
            [
             0.8888888888888888,
             "#fdca26"
            ],
            [
             1,
             "#f0f921"
            ]
           ],
           "sequentialminus": [
            [
             0,
             "#0d0887"
            ],
            [
             0.1111111111111111,
             "#46039f"
            ],
            [
             0.2222222222222222,
             "#7201a8"
            ],
            [
             0.3333333333333333,
             "#9c179e"
            ],
            [
             0.4444444444444444,
             "#bd3786"
            ],
            [
             0.5555555555555556,
             "#d8576b"
            ],
            [
             0.6666666666666666,
             "#ed7953"
            ],
            [
             0.7777777777777778,
             "#fb9f3a"
            ],
            [
             0.8888888888888888,
             "#fdca26"
            ],
            [
             1,
             "#f0f921"
            ]
           ]
          },
          "colorway": [
           "#636efa",
           "#EF553B",
           "#00cc96",
           "#ab63fa",
           "#FFA15A",
           "#19d3f3",
           "#FF6692",
           "#B6E880",
           "#FF97FF",
           "#FECB52"
          ],
          "font": {
           "color": "#2a3f5f"
          },
          "geo": {
           "bgcolor": "white",
           "lakecolor": "white",
           "landcolor": "#E5ECF6",
           "showlakes": true,
           "showland": true,
           "subunitcolor": "white"
          },
          "hoverlabel": {
           "align": "left"
          },
          "hovermode": "closest",
          "mapbox": {
           "style": "light"
          },
          "paper_bgcolor": "white",
          "plot_bgcolor": "#E5ECF6",
          "polar": {
           "angularaxis": {
            "gridcolor": "white",
            "linecolor": "white",
            "ticks": ""
           },
           "bgcolor": "#E5ECF6",
           "radialaxis": {
            "gridcolor": "white",
            "linecolor": "white",
            "ticks": ""
           }
          },
          "scene": {
           "xaxis": {
            "backgroundcolor": "#E5ECF6",
            "gridcolor": "white",
            "gridwidth": 2,
            "linecolor": "white",
            "showbackground": true,
            "ticks": "",
            "zerolinecolor": "white"
           },
           "yaxis": {
            "backgroundcolor": "#E5ECF6",
            "gridcolor": "white",
            "gridwidth": 2,
            "linecolor": "white",
            "showbackground": true,
            "ticks": "",
            "zerolinecolor": "white"
           },
           "zaxis": {
            "backgroundcolor": "#E5ECF6",
            "gridcolor": "white",
            "gridwidth": 2,
            "linecolor": "white",
            "showbackground": true,
            "ticks": "",
            "zerolinecolor": "white"
           }
          },
          "shapedefaults": {
           "line": {
            "color": "#2a3f5f"
           }
          },
          "ternary": {
           "aaxis": {
            "gridcolor": "white",
            "linecolor": "white",
            "ticks": ""
           },
           "baxis": {
            "gridcolor": "white",
            "linecolor": "white",
            "ticks": ""
           },
           "bgcolor": "#E5ECF6",
           "caxis": {
            "gridcolor": "white",
            "linecolor": "white",
            "ticks": ""
           }
          },
          "title": {
           "x": 0.05
          },
          "xaxis": {
           "automargin": true,
           "gridcolor": "white",
           "linecolor": "white",
           "ticks": "",
           "title": {
            "standoff": 15
           },
           "zerolinecolor": "white",
           "zerolinewidth": 2
          },
          "yaxis": {
           "automargin": true,
           "gridcolor": "white",
           "linecolor": "white",
           "ticks": "",
           "title": {
            "standoff": 15
           },
           "zerolinecolor": "white",
           "zerolinewidth": 2
          }
         }
        },
        "title": {
         "text": "Cumulative number of tracks played by day"
        },
        "xaxis": {
         "anchor": "y",
         "autorange": true,
         "domain": [
          0,
          1
         ],
         "range": [
          "2019-08-05",
          "2020-07-19"
         ],
         "title": {
          "text": "index"
         },
         "type": "date"
        },
        "yaxis": {
         "anchor": "x",
         "autorange": true,
         "domain": [
          0,
          1
         ],
         "range": [
          -187.55555555555554,
          3823.5555555555557
         ],
         "title": {
          "text": "cumulative count"
         },
         "type": "linear"
        }
       }
      },
      "image/png": "[encoded data removed]",
      "text/html": [
       "<div>                            <div id=\"bbbc1f04-93b6-4b7e-9ef6-2a24949e7233\" class=\"plotly-graph-div\" style=\"height:525px; width:100%;\"></div>            <script type=\"text/javascript\">                require([\"plotly\"], function(Plotly) {                    window.PLOTLYENV=window.PLOTLYENV || {};                                    if (document.getElementById(\"bbbc1f04-93b6-4b7e-9ef6-2a24949e7233\")) {                    Plotly.newPlot(                        \"bbbc1f04-93b6-4b7e-9ef6-2a24949e7233\",                        [{\"customdata\": [[\"daily count\", 13.0], [\"daily count\", 27.0], [\"daily count\", 48.0], [\"daily count\", 65.0], [\"daily count\", 103.0], [\"daily count\", 143.0], [\"daily count\", 143.0], [\"daily count\", 143.0], [\"daily count\", 143.0], [\"daily count\", 143.0], [\"daily count\", 143.0], [\"daily count\", 143.0], [\"daily count\", 143.0], [\"daily count\", 143.0], [\"daily count\", 143.0], [\"daily count\", 143.0], [\"daily count\", 143.0], [\"daily count\", 143.0], [\"daily count\", 144.0], [\"daily count\", 144.0], [\"daily count\", 147.0], [\"daily count\", 147.0], [\"daily count\", 147.0], [\"daily count\", 147.0], [\"daily count\", 147.0], [\"daily count\", 147.0], [\"daily count\", 147.0], [\"daily count\", 147.0], [\"daily count\", 147.0], [\"daily count\", 151.0], [\"daily count\", 151.0], [\"daily count\", 168.0], [\"daily count\", 170.0], [\"daily count\", 193.0], [\"daily count\", 195.0], [\"daily count\", 209.0], [\"daily count\", 245.0], [\"daily count\", 265.0], [\"daily count\", 269.0], [\"daily count\", 281.0], [\"daily count\", 286.0], [\"daily count\", 286.0], [\"daily count\", 297.0], [\"daily count\", 305.0], [\"daily count\", 305.0], [\"daily count\", 305.0], [\"daily count\", 314.0], [\"daily count\", 323.0], [\"daily count\", 336.0], [\"daily count\", 355.0], [\"daily count\", 360.0], [\"daily count\", 360.0], [\"daily count\", 379.0], [\"daily count\", 384.0], [\"daily count\", 398.0], [\"daily count\", 398.0], [\"daily count\", 399.0], [\"daily count\", 410.0], [\"daily count\", 410.0], [\"daily count\", 427.0], [\"daily count\", 454.0], [\"daily count\", 464.0], [\"daily count\", 522.0], [\"daily count\", 531.0], [\"daily count\", 531.0], [\"daily count\", 535.0], [\"daily count\", 535.0], [\"daily count\", 539.0], [\"daily count\", 564.0], [\"daily count\", 564.0], [\"daily count\", 579.0], [\"daily count\", 590.0], [\"daily count\", 590.0], [\"daily count\", 607.0], [\"daily count\", 624.0], [\"daily count\", 624.0], [\"daily count\", 624.0], [\"daily count\", 627.0], [\"daily count\", 677.0], [\"daily count\", 693.0], [\"daily count\", 693.0], [\"daily count\", 693.0], [\"daily count\", 693.0], [\"daily count\", 694.0], [\"daily count\", 694.0], [\"daily count\", 699.0], [\"daily count\", 717.0], [\"daily count\", 717.0], [\"daily count\", 717.0], [\"daily count\", 717.0], [\"daily count\", 717.0], [\"daily count\", 721.0], [\"daily count\", 724.0], [\"daily count\", 727.0], [\"daily count\", 731.0], [\"daily count\", 769.0], [\"daily count\", 790.0], [\"daily count\", 790.0], [\"daily count\", 795.0], [\"daily count\", 795.0], [\"daily count\", 798.0], [\"daily count\", 802.0], [\"daily count\", 819.0], [\"daily count\", 824.0], [\"daily count\", 840.0], [\"daily count\", 849.0], [\"daily count\", 862.0], [\"daily count\", 875.0], [\"daily count\", 890.0], [\"daily count\", 890.0], [\"daily count\", 933.0], [\"daily count\", 940.0], [\"daily count\", 943.0], [\"daily count\", 949.0], [\"daily count\", 993.0], [\"daily count\", 1007.0], [\"daily count\", 1012.0], [\"daily count\", 1022.0], [\"daily count\", 1043.0], [\"daily count\", 1049.0], [\"daily count\", 1051.0], [\"daily count\", 1055.0], [\"daily count\", 1062.0], [\"daily count\", 1069.0], [\"daily count\", 1072.0], [\"daily count\", 1082.0], [\"daily count\", 1096.0], [\"daily count\", 1100.0], [\"daily count\", 1143.0], [\"daily count\", 1155.0], [\"daily count\", 1156.0], [\"daily count\", 1161.0], [\"daily count\", 1161.0], [\"daily count\", 1172.0], [\"daily count\", 1179.0], [\"daily count\", 1182.0], [\"daily count\", 1182.0], [\"daily count\", 1182.0], [\"daily count\", 1199.0], [\"daily count\", 1211.0], [\"daily count\", 1227.0], [\"daily count\", 1227.0], [\"daily count\", 1227.0], [\"daily count\", 1227.0], [\"daily count\", 1227.0], [\"daily count\", 1227.0], [\"daily count\", 1227.0], [\"daily count\", 1232.0], [\"daily count\", 1232.0], [\"daily count\", 1232.0], [\"daily count\", 1232.0], [\"daily count\", 1241.0], [\"daily count\", 1259.0], [\"daily count\", 1259.0], [\"daily count\", 1279.0], [\"daily count\", 1307.0], [\"daily count\", 1312.0], [\"daily count\", 1312.0], [\"daily count\", 1312.0], [\"daily count\", 1325.0], [\"daily count\", 1330.0], [\"daily count\", 1335.0], [\"daily count\", 1350.0], [\"daily count\", 1355.0], [\"daily count\", 1355.0], [\"daily count\", 1355.0], [\"daily count\", 1361.0], [\"daily count\", 1367.0], [\"daily count\", 1367.0], [\"daily count\", 1372.0], [\"daily count\", 1380.0], [\"daily count\", 1380.0], [\"daily count\", 1401.0], [\"daily count\", 1401.0], [\"daily count\", 1401.0], [\"daily count\", 1411.0], [\"daily count\", 1421.0], [\"daily count\", 1427.0], [\"daily count\", 1430.0], [\"daily count\", 1443.0], [\"daily count\", 1450.0], [\"daily count\", 1450.0], [\"daily count\", 1455.0], [\"daily count\", 1463.0], [\"daily count\", 1523.0], [\"daily count\", 1523.0], [\"daily count\", 1543.0], [\"daily count\", 1543.0], [\"daily count\", 1543.0], [\"daily count\", 1550.0], [\"daily count\", 1556.0], [\"daily count\", 1590.0], [\"daily count\", 1590.0], [\"daily count\", 1590.0], [\"daily count\", 1615.0], [\"daily count\", 1631.0], [\"daily count\", 1631.0], [\"daily count\", 1631.0], [\"daily count\", 1642.0], [\"daily count\", 1642.0], [\"daily count\", 1655.0], [\"daily count\", 1657.0], [\"daily count\", 1665.0], [\"daily count\", 1673.0], [\"daily count\", 1688.0], [\"daily count\", 1699.0], [\"daily count\", 1699.0], [\"daily count\", 1707.0], [\"daily count\", 1711.0], [\"daily count\", 1714.0], [\"daily count\", 1724.0], [\"daily count\", 1733.0], [\"daily count\", 1750.0], [\"daily count\", 1764.0], [\"daily count\", 1781.0], [\"daily count\", 1854.0], [\"daily count\", 1861.0], [\"daily count\", 1894.0], [\"daily count\", 1944.0], [\"daily count\", 1944.0], [\"daily count\", 1981.0], [\"daily count\", 2002.0], [\"daily count\", 2031.0], [\"daily count\", 2042.0], [\"daily count\", 2043.0], [\"daily count\", 2055.0], [\"daily count\", 2088.0], [\"daily count\", 2088.0], [\"daily count\", 2088.0], [\"daily count\", 2129.0], [\"daily count\", 2169.0], [\"daily count\", 2181.0], [\"daily count\", 2214.0], [\"daily count\", 2238.0], [\"daily count\", 2273.0], [\"daily count\", 2303.0], [\"daily count\", 2372.0], [\"daily count\", 2389.0], [\"daily count\", 2408.0], [\"daily count\", 2415.0], [\"daily count\", 2450.0], [\"daily count\", 2450.0], [\"daily count\", 2450.0], [\"daily count\", 2503.0], [\"daily count\", 2521.0], [\"daily count\", 2537.0], [\"daily count\", 2563.0], [\"daily count\", 2573.0], [\"daily count\", 2573.0], [\"daily count\", 2592.0], [\"daily count\", 2612.0], [\"daily count\", 2646.0], [\"daily count\", 2675.0], [\"daily count\", 2688.0], [\"daily count\", 2694.0], [\"daily count\", 2699.0], [\"daily count\", 2731.0], [\"daily count\", 2748.0], [\"daily count\", 2755.0], [\"daily count\", 2755.0], [\"daily count\", 2757.0], [\"daily count\", 2761.0], [\"daily count\", 2769.0], [\"daily count\", 2769.0], [\"daily count\", 2799.0], [\"daily count\", 2799.0], [\"daily count\", 2799.0], [\"daily count\", 2799.0], [\"daily count\", 2799.0], [\"daily count\", 2799.0], [\"daily count\", 2834.0], [\"daily count\", 2852.0], [\"daily count\", 2885.0], [\"daily count\", 2885.0], [\"daily count\", 2885.0], [\"daily count\", 2885.0], [\"daily count\", 2885.0], [\"daily count\", 2885.0], [\"daily count\", 2885.0], [\"daily count\", 2885.0], [\"daily count\", 2885.0], [\"daily count\", 2941.0], [\"daily count\", 2941.0], [\"daily count\", 2954.0], [\"daily count\", 2976.0], [\"daily count\", 2989.0], [\"daily count\", 3007.0], [\"daily count\", 3007.0], [\"daily count\", 3007.0], [\"daily count\", 3007.0], [\"daily count\", 3007.0], [\"daily count\", 3007.0], [\"daily count\", 3012.0], [\"daily count\", 3012.0], [\"daily count\", 3012.0], [\"daily count\", 3012.0], [\"daily count\", 3050.0], [\"daily count\", 3081.0], [\"daily count\", 3081.0], [\"daily count\", 3164.0], [\"daily count\", 3169.0], [\"daily count\", 3188.0], [\"daily count\", 3188.0], [\"daily count\", 3188.0], [\"daily count\", 3195.0], [\"daily count\", 3208.0], [\"daily count\", 3215.0], [\"daily count\", 3229.0], [\"daily count\", 3241.0], [\"daily count\", 3241.0], [\"daily count\", 3241.0], [\"daily count\", 3246.0], [\"daily count\", 3272.0], [\"daily count\", 3272.0], [\"daily count\", 3276.0], [\"daily count\", 3276.0], [\"daily count\", 3276.0], [\"daily count\", 3276.0], [\"daily count\", 3290.0], [\"daily count\", 3298.0], [\"daily count\", 3323.0], [\"daily count\", 3337.0], [\"daily count\", 3337.0], [\"daily count\", 3353.0], [\"daily count\", 3353.0], [\"daily count\", 3353.0], [\"daily count\", 3353.0], [\"daily count\", 3362.0], [\"daily count\", 3362.0], [\"daily count\", 3362.0], [\"daily count\", 3379.0], [\"daily count\", 3379.0], [\"daily count\", 3379.0], [\"daily count\", 3412.0], [\"daily count\", 3415.0], [\"daily count\", 3432.0], [\"daily count\", 3464.0], [\"daily count\", 3470.0], [\"daily count\", 3470.0], [\"daily count\", 3483.0], [\"daily count\", 3491.0], [\"daily count\", 3493.0], [\"daily count\", 3518.0], [\"daily count\", 3518.0], [\"daily count\", 3520.0], [\"daily count\", 3532.0], [\"daily count\", 3532.0], [\"daily count\", 3569.0], [\"daily count\", 3585.0], [\"daily count\", 3623.0]], \"hovertemplate\": \"<b>%{hovertext}</b><br><br>index=%{x}<extra></extra>\", \"hovertext\": [13.0, 27.0, 48.0, 65.0, 103.0, 143.0, 143.0, 143.0, 143.0, 143.0, 143.0, 143.0, 143.0, 143.0, 143.0, 143.0, 143.0, 143.0, 144.0, 144.0, 147.0, 147.0, 147.0, 147.0, 147.0, 147.0, 147.0, 147.0, 147.0, 151.0, 151.0, 168.0, 170.0, 193.0, 195.0, 209.0, 245.0, 265.0, 269.0, 281.0, 286.0, 286.0, 297.0, 305.0, 305.0, 305.0, 314.0, 323.0, 336.0, 355.0, 360.0, 360.0, 379.0, 384.0, 398.0, 398.0, 399.0, 410.0, 410.0, 427.0, 454.0, 464.0, 522.0, 531.0, 531.0, 535.0, 535.0, 539.0, 564.0, 564.0, 579.0, 590.0, 590.0, 607.0, 624.0, 624.0, 624.0, 627.0, 677.0, 693.0, 693.0, 693.0, 693.0, 694.0, 694.0, 699.0, 717.0, 717.0, 717.0, 717.0, 717.0, 721.0, 724.0, 727.0, 731.0, 769.0, 790.0, 790.0, 795.0, 795.0, 798.0, 802.0, 819.0, 824.0, 840.0, 849.0, 862.0, 875.0, 890.0, 890.0, 933.0, 940.0, 943.0, 949.0, 993.0, 1007.0, 1012.0, 1022.0, 1043.0, 1049.0, 1051.0, 1055.0, 1062.0, 1069.0, 1072.0, 1082.0, 1096.0, 1100.0, 1143.0, 1155.0, 1156.0, 1161.0, 1161.0, 1172.0, 1179.0, 1182.0, 1182.0, 1182.0, 1199.0, 1211.0, 1227.0, 1227.0, 1227.0, 1227.0, 1227.0, 1227.0, 1227.0, 1232.0, 1232.0, 1232.0, 1232.0, 1241.0, 1259.0, 1259.0, 1279.0, 1307.0, 1312.0, 1312.0, 1312.0, 1325.0, 1330.0, 1335.0, 1350.0, 1355.0, 1355.0, 1355.0, 1361.0, 1367.0, 1367.0, 1372.0, 1380.0, 1380.0, 1401.0, 1401.0, 1401.0, 1411.0, 1421.0, 1427.0, 1430.0, 1443.0, 1450.0, 1450.0, 1455.0, 1463.0, 1523.0, 1523.0, 1543.0, 1543.0, 1543.0, 1550.0, 1556.0, 1590.0, 1590.0, 1590.0, 1615.0, 1631.0, 1631.0, 1631.0, 1642.0, 1642.0, 1655.0, 1657.0, 1665.0, 1673.0, 1688.0, 1699.0, 1699.0, 1707.0, 1711.0, 1714.0, 1724.0, 1733.0, 1750.0, 1764.0, 1781.0, 1854.0, 1861.0, 1894.0, 1944.0, 1944.0, 1981.0, 2002.0, 2031.0, 2042.0, 2043.0, 2055.0, 2088.0, 2088.0, 2088.0, 2129.0, 2169.0, 2181.0, 2214.0, 2238.0, 2273.0, 2303.0, 2372.0, 2389.0, 2408.0, 2415.0, 2450.0, 2450.0, 2450.0, 2503.0, 2521.0, 2537.0, 2563.0, 2573.0, 2573.0, 2592.0, 2612.0, 2646.0, 2675.0, 2688.0, 2694.0, 2699.0, 2731.0, 2748.0, 2755.0, 2755.0, 2757.0, 2761.0, 2769.0, 2769.0, 2799.0, 2799.0, 2799.0, 2799.0, 2799.0, 2799.0, 2834.0, 2852.0, 2885.0, 2885.0, 2885.0, 2885.0, 2885.0, 2885.0, 2885.0, 2885.0, 2885.0, 2941.0, 2941.0, 2954.0, 2976.0, 2989.0, 3007.0, 3007.0, 3007.0, 3007.0, 3007.0, 3007.0, 3012.0, 3012.0, 3012.0, 3012.0, 3050.0, 3081.0, 3081.0, 3164.0, 3169.0, 3188.0, 3188.0, 3188.0, 3195.0, 3208.0, 3215.0, 3229.0, 3241.0, 3241.0, 3241.0, 3246.0, 3272.0, 3272.0, 3276.0, 3276.0, 3276.0, 3276.0, 3290.0, 3298.0, 3323.0, 3337.0, 3337.0, 3353.0, 3353.0, 3353.0, 3353.0, 3362.0, 3362.0, 3362.0, 3379.0, 3379.0, 3379.0, 3412.0, 3415.0, 3432.0, 3464.0, 3470.0, 3470.0, 3483.0, 3491.0, 3493.0, 3518.0, 3518.0, 3520.0, 3532.0, 3532.0, 3569.0, 3585.0, 3623.0], \"legendgroup\": \"daily count\", \"line\": {\"color\": \"#636efa\", \"dash\": \"solid\", \"width\": 3}, \"mode\": \"lines\", \"name\": \"daily count\", \"orientation\": \"v\", \"showlegend\": true, \"type\": \"scatter\", \"x\": [\"2019-08-05T00:00:00\", \"2019-08-06T00:00:00\", \"2019-08-07T00:00:00\", \"2019-08-08T00:00:00\", \"2019-08-09T00:00:00\", \"2019-08-10T00:00:00\", \"2019-08-11T00:00:00\", \"2019-08-12T00:00:00\", \"2019-08-13T00:00:00\", \"2019-08-14T00:00:00\", \"2019-08-15T00:00:00\", \"2019-08-16T00:00:00\", \"2019-08-17T00:00:00\", \"2019-08-18T00:00:00\", \"2019-08-19T00:00:00\", \"2019-08-20T00:00:00\", \"2019-08-21T00:00:00\", \"2019-08-22T00:00:00\", \"2019-08-23T00:00:00\", \"2019-08-24T00:00:00\", \"2019-08-25T00:00:00\", \"2019-08-26T00:00:00\", \"2019-08-27T00:00:00\", \"2019-08-28T00:00:00\", \"2019-08-29T00:00:00\", \"2019-08-30T00:00:00\", \"2019-08-31T00:00:00\", \"2019-09-01T00:00:00\", \"2019-09-02T00:00:00\", \"2019-09-03T00:00:00\", \"2019-09-04T00:00:00\", \"2019-09-05T00:00:00\", \"2019-09-06T00:00:00\", \"2019-09-07T00:00:00\", \"2019-09-08T00:00:00\", \"2019-09-09T00:00:00\", \"2019-09-10T00:00:00\", \"2019-09-11T00:00:00\", \"2019-09-12T00:00:00\", \"2019-09-13T00:00:00\", \"2019-09-14T00:00:00\", \"2019-09-15T00:00:00\", \"2019-09-16T00:00:00\", \"2019-09-17T00:00:00\", \"2019-09-18T00:00:00\", \"2019-09-19T00:00:00\", \"2019-09-20T00:00:00\", \"2019-09-21T00:00:00\", \"2019-09-22T00:00:00\", \"2019-09-23T00:00:00\", \"2019-09-24T00:00:00\", \"2019-09-25T00:00:00\", \"2019-09-26T00:00:00\", \"2019-09-27T00:00:00\", \"2019-09-28T00:00:00\", \"2019-09-29T00:00:00\", \"2019-09-30T00:00:00\", \"2019-10-01T00:00:00\", \"2019-10-02T00:00:00\", \"2019-10-03T00:00:00\", \"2019-10-04T00:00:00\", \"2019-10-05T00:00:00\", \"2019-10-06T00:00:00\", \"2019-10-07T00:00:00\", \"2019-10-08T00:00:00\", \"2019-10-09T00:00:00\", \"2019-10-10T00:00:00\", \"2019-10-11T00:00:00\", \"2019-10-12T00:00:00\", \"2019-10-13T00:00:00\", \"2019-10-14T00:00:00\", \"2019-10-15T00:00:00\", \"2019-10-16T00:00:00\", \"2019-10-17T00:00:00\", \"2019-10-18T00:00:00\", \"2019-10-19T00:00:00\", \"2019-10-20T00:00:00\", \"2019-10-21T00:00:00\", \"2019-10-22T00:00:00\", \"2019-10-23T00:00:00\", \"2019-10-24T00:00:00\", \"2019-10-25T00:00:00\", \"2019-10-26T00:00:00\", \"2019-10-27T00:00:00\", \"2019-10-28T00:00:00\", \"2019-10-29T00:00:00\", \"2019-10-30T00:00:00\", \"2019-10-31T00:00:00\", \"2019-11-01T00:00:00\", \"2019-11-02T00:00:00\", \"2019-11-03T00:00:00\", \"2019-11-04T00:00:00\", \"2019-11-05T00:00:00\", \"2019-11-06T00:00:00\", \"2019-11-07T00:00:00\", \"2019-11-08T00:00:00\", \"2019-11-09T00:00:00\", \"2019-11-10T00:00:00\", \"2019-11-11T00:00:00\", \"2019-11-12T00:00:00\", \"2019-11-13T00:00:00\", \"2019-11-14T00:00:00\", \"2019-11-15T00:00:00\", \"2019-11-16T00:00:00\", \"2019-11-17T00:00:00\", \"2019-11-18T00:00:00\", \"2019-11-19T00:00:00\", \"2019-11-20T00:00:00\", \"2019-11-21T00:00:00\", \"2019-11-22T00:00:00\", \"2019-11-23T00:00:00\", \"2019-11-24T00:00:00\", \"2019-11-25T00:00:00\", \"2019-11-26T00:00:00\", \"2019-11-27T00:00:00\", \"2019-11-28T00:00:00\", \"2019-11-29T00:00:00\", \"2019-11-30T00:00:00\", \"2019-12-01T00:00:00\", \"2019-12-02T00:00:00\", \"2019-12-03T00:00:00\", \"2019-12-04T00:00:00\", \"2019-12-05T00:00:00\", \"2019-12-06T00:00:00\", \"2019-12-07T00:00:00\", \"2019-12-08T00:00:00\", \"2019-12-09T00:00:00\", \"2019-12-10T00:00:00\", \"2019-12-11T00:00:00\", \"2019-12-12T00:00:00\", \"2019-12-13T00:00:00\", \"2019-12-14T00:00:00\", \"2019-12-15T00:00:00\", \"2019-12-16T00:00:00\", \"2019-12-17T00:00:00\", \"2019-12-18T00:00:00\", \"2019-12-19T00:00:00\", \"2019-12-20T00:00:00\", \"2019-12-21T00:00:00\", \"2019-12-22T00:00:00\", \"2019-12-23T00:00:00\", \"2019-12-24T00:00:00\", \"2019-12-25T00:00:00\", \"2019-12-26T00:00:00\", \"2019-12-27T00:00:00\", \"2019-12-28T00:00:00\", \"2019-12-29T00:00:00\", \"2019-12-30T00:00:00\", \"2019-12-31T00:00:00\", \"2020-01-01T00:00:00\", \"2020-01-02T00:00:00\", \"2020-01-03T00:00:00\", \"2020-01-04T00:00:00\", \"2020-01-05T00:00:00\", \"2020-01-06T00:00:00\", \"2020-01-07T00:00:00\", \"2020-01-08T00:00:00\", \"2020-01-09T00:00:00\", \"2020-01-10T00:00:00\", \"2020-01-11T00:00:00\", \"2020-01-12T00:00:00\", \"2020-01-13T00:00:00\", \"2020-01-14T00:00:00\", \"2020-01-15T00:00:00\", \"2020-01-16T00:00:00\", \"2020-01-17T00:00:00\", \"2020-01-18T00:00:00\", \"2020-01-19T00:00:00\", \"2020-01-20T00:00:00\", \"2020-01-21T00:00:00\", \"2020-01-22T00:00:00\", \"2020-01-23T00:00:00\", \"2020-01-24T00:00:00\", \"2020-01-25T00:00:00\", \"2020-01-26T00:00:00\", \"2020-01-27T00:00:00\", \"2020-01-28T00:00:00\", \"2020-01-29T00:00:00\", \"2020-01-30T00:00:00\", \"2020-01-31T00:00:00\", \"2020-02-01T00:00:00\", \"2020-02-02T00:00:00\", \"2020-02-03T00:00:00\", \"2020-02-04T00:00:00\", \"2020-02-05T00:00:00\", \"2020-02-06T00:00:00\", \"2020-02-07T00:00:00\", \"2020-02-08T00:00:00\", \"2020-02-09T00:00:00\", \"2020-02-10T00:00:00\", \"2020-02-11T00:00:00\", \"2020-02-12T00:00:00\", \"2020-02-13T00:00:00\", \"2020-02-14T00:00:00\", \"2020-02-15T00:00:00\", \"2020-02-16T00:00:00\", \"2020-02-17T00:00:00\", \"2020-02-18T00:00:00\", \"2020-02-19T00:00:00\", \"2020-02-20T00:00:00\", \"2020-02-21T00:00:00\", \"2020-02-22T00:00:00\", \"2020-02-23T00:00:00\", \"2020-02-24T00:00:00\", \"2020-02-25T00:00:00\", \"2020-02-26T00:00:00\", \"2020-02-27T00:00:00\", \"2020-02-28T00:00:00\", \"2020-02-29T00:00:00\", \"2020-03-01T00:00:00\", \"2020-03-02T00:00:00\", \"2020-03-03T00:00:00\", \"2020-03-04T00:00:00\", \"2020-03-05T00:00:00\", \"2020-03-06T00:00:00\", \"2020-03-07T00:00:00\", \"2020-03-08T00:00:00\", \"2020-03-09T00:00:00\", \"2020-03-10T00:00:00\", \"2020-03-11T00:00:00\", \"2020-03-12T00:00:00\", \"2020-03-13T00:00:00\", \"2020-03-14T00:00:00\", \"2020-03-15T00:00:00\", \"2020-03-16T00:00:00\", \"2020-03-17T00:00:00\", \"2020-03-18T00:00:00\", \"2020-03-19T00:00:00\", \"2020-03-20T00:00:00\", \"2020-03-21T00:00:00\", \"2020-03-22T00:00:00\", \"2020-03-23T00:00:00\", \"2020-03-24T00:00:00\", \"2020-03-25T00:00:00\", \"2020-03-26T00:00:00\", \"2020-03-27T00:00:00\", \"2020-03-28T00:00:00\", \"2020-03-29T00:00:00\", \"2020-03-30T00:00:00\", \"2020-03-31T00:00:00\", \"2020-04-01T00:00:00\", \"2020-04-02T00:00:00\", \"2020-04-03T00:00:00\", \"2020-04-04T00:00:00\", \"2020-04-05T00:00:00\", \"2020-04-06T00:00:00\", \"2020-04-07T00:00:00\", \"2020-04-08T00:00:00\", \"2020-04-09T00:00:00\", \"2020-04-10T00:00:00\", \"2020-04-11T00:00:00\", \"2020-04-12T00:00:00\", \"2020-04-13T00:00:00\", \"2020-04-14T00:00:00\", \"2020-04-15T00:00:00\", \"2020-04-16T00:00:00\", \"2020-04-17T00:00:00\", \"2020-04-18T00:00:00\", \"2020-04-19T00:00:00\", \"2020-04-20T00:00:00\", \"2020-04-21T00:00:00\", \"2020-04-22T00:00:00\", \"2020-04-23T00:00:00\", \"2020-04-24T00:00:00\", \"2020-04-25T00:00:00\", \"2020-04-26T00:00:00\", \"2020-04-27T00:00:00\", \"2020-04-28T00:00:00\", \"2020-04-29T00:00:00\", \"2020-04-30T00:00:00\", \"2020-05-01T00:00:00\", \"2020-05-02T00:00:00\", \"2020-05-03T00:00:00\", \"2020-05-04T00:00:00\", \"2020-05-05T00:00:00\", \"2020-05-06T00:00:00\", \"2020-05-07T00:00:00\", \"2020-05-08T00:00:00\", \"2020-05-09T00:00:00\", \"2020-05-10T00:00:00\", \"2020-05-11T00:00:00\", \"2020-05-12T00:00:00\", \"2020-05-13T00:00:00\", \"2020-05-14T00:00:00\", \"2020-05-15T00:00:00\", \"2020-05-16T00:00:00\", \"2020-05-17T00:00:00\", \"2020-05-18T00:00:00\", \"2020-05-19T00:00:00\", \"2020-05-20T00:00:00\", \"2020-05-21T00:00:00\", \"2020-05-22T00:00:00\", \"2020-05-23T00:00:00\", \"2020-05-24T00:00:00\", \"2020-05-25T00:00:00\", \"2020-05-26T00:00:00\", \"2020-05-27T00:00:00\", \"2020-05-28T00:00:00\", \"2020-05-29T00:00:00\", \"2020-05-30T00:00:00\", \"2020-05-31T00:00:00\", \"2020-06-01T00:00:00\", \"2020-06-02T00:00:00\", \"2020-06-03T00:00:00\", \"2020-06-04T00:00:00\", \"2020-06-05T00:00:00\", \"2020-06-06T00:00:00\", \"2020-06-07T00:00:00\", \"2020-06-08T00:00:00\", \"2020-06-09T00:00:00\", \"2020-06-10T00:00:00\", \"2020-06-11T00:00:00\", \"2020-06-12T00:00:00\", \"2020-06-13T00:00:00\", \"2020-06-14T00:00:00\", \"2020-06-15T00:00:00\", \"2020-06-16T00:00:00\", \"2020-06-17T00:00:00\", \"2020-06-18T00:00:00\", \"2020-06-19T00:00:00\", \"2020-06-20T00:00:00\", \"2020-06-21T00:00:00\", \"2020-06-22T00:00:00\", \"2020-06-23T00:00:00\", \"2020-06-24T00:00:00\", \"2020-06-25T00:00:00\", \"2020-06-26T00:00:00\", \"2020-06-27T00:00:00\", \"2020-06-28T00:00:00\", \"2020-06-29T00:00:00\", \"2020-06-30T00:00:00\", \"2020-07-01T00:00:00\", \"2020-07-02T00:00:00\", \"2020-07-03T00:00:00\", \"2020-07-04T00:00:00\", \"2020-07-05T00:00:00\", \"2020-07-06T00:00:00\", \"2020-07-07T00:00:00\", \"2020-07-08T00:00:00\", \"2020-07-09T00:00:00\", \"2020-07-10T00:00:00\", \"2020-07-11T00:00:00\", \"2020-07-12T00:00:00\", \"2020-07-13T00:00:00\", \"2020-07-14T00:00:00\", \"2020-07-15T00:00:00\", \"2020-07-16T00:00:00\", \"2020-07-17T00:00:00\", \"2020-07-18T00:00:00\", \"2020-07-19T00:00:00\"], \"xaxis\": \"x\", \"y\": [13.0, 27.0, 48.0, 65.0, 103.0, 143.0, 143.0, 143.0, 143.0, 143.0, 143.0, 143.0, 143.0, 143.0, 143.0, 143.0, 143.0, 143.0, 144.0, 144.0, 147.0, 147.0, 147.0, 147.0, 147.0, 147.0, 147.0, 147.0, 147.0, 151.0, 151.0, 168.0, 170.0, 193.0, 195.0, 209.0, 245.0, 265.0, 269.0, 281.0, 286.0, 286.0, 297.0, 305.0, 305.0, 305.0, 314.0, 323.0, 336.0, 355.0, 360.0, 360.0, 379.0, 384.0, 398.0, 398.0, 399.0, 410.0, 410.0, 427.0, 454.0, 464.0, 522.0, 531.0, 531.0, 535.0, 535.0, 539.0, 564.0, 564.0, 579.0, 590.0, 590.0, 607.0, 624.0, 624.0, 624.0, 627.0, 677.0, 693.0, 693.0, 693.0, 693.0, 694.0, 694.0, 699.0, 717.0, 717.0, 717.0, 717.0, 717.0, 721.0, 724.0, 727.0, 731.0, 769.0, 790.0, 790.0, 795.0, 795.0, 798.0, 802.0, 819.0, 824.0, 840.0, 849.0, 862.0, 875.0, 890.0, 890.0, 933.0, 940.0, 943.0, 949.0, 993.0, 1007.0, 1012.0, 1022.0, 1043.0, 1049.0, 1051.0, 1055.0, 1062.0, 1069.0, 1072.0, 1082.0, 1096.0, 1100.0, 1143.0, 1155.0, 1156.0, 1161.0, 1161.0, 1172.0, 1179.0, 1182.0, 1182.0, 1182.0, 1199.0, 1211.0, 1227.0, 1227.0, 1227.0, 1227.0, 1227.0, 1227.0, 1227.0, 1232.0, 1232.0, 1232.0, 1232.0, 1241.0, 1259.0, 1259.0, 1279.0, 1307.0, 1312.0, 1312.0, 1312.0, 1325.0, 1330.0, 1335.0, 1350.0, 1355.0, 1355.0, 1355.0, 1361.0, 1367.0, 1367.0, 1372.0, 1380.0, 1380.0, 1401.0, 1401.0, 1401.0, 1411.0, 1421.0, 1427.0, 1430.0, 1443.0, 1450.0, 1450.0, 1455.0, 1463.0, 1523.0, 1523.0, 1543.0, 1543.0, 1543.0, 1550.0, 1556.0, 1590.0, 1590.0, 1590.0, 1615.0, 1631.0, 1631.0, 1631.0, 1642.0, 1642.0, 1655.0, 1657.0, 1665.0, 1673.0, 1688.0, 1699.0, 1699.0, 1707.0, 1711.0, 1714.0, 1724.0, 1733.0, 1750.0, 1764.0, 1781.0, 1854.0, 1861.0, 1894.0, 1944.0, 1944.0, 1981.0, 2002.0, 2031.0, 2042.0, 2043.0, 2055.0, 2088.0, 2088.0, 2088.0, 2129.0, 2169.0, 2181.0, 2214.0, 2238.0, 2273.0, 2303.0, 2372.0, 2389.0, 2408.0, 2415.0, 2450.0, 2450.0, 2450.0, 2503.0, 2521.0, 2537.0, 2563.0, 2573.0, 2573.0, 2592.0, 2612.0, 2646.0, 2675.0, 2688.0, 2694.0, 2699.0, 2731.0, 2748.0, 2755.0, 2755.0, 2757.0, 2761.0, 2769.0, 2769.0, 2799.0, 2799.0, 2799.0, 2799.0, 2799.0, 2799.0, 2834.0, 2852.0, 2885.0, 2885.0, 2885.0, 2885.0, 2885.0, 2885.0, 2885.0, 2885.0, 2885.0, 2941.0, 2941.0, 2954.0, 2976.0, 2989.0, 3007.0, 3007.0, 3007.0, 3007.0, 3007.0, 3007.0, 3012.0, 3012.0, 3012.0, 3012.0, 3050.0, 3081.0, 3081.0, 3164.0, 3169.0, 3188.0, 3188.0, 3188.0, 3195.0, 3208.0, 3215.0, 3229.0, 3241.0, 3241.0, 3241.0, 3246.0, 3272.0, 3272.0, 3276.0, 3276.0, 3276.0, 3276.0, 3290.0, 3298.0, 3323.0, 3337.0, 3337.0, 3353.0, 3353.0, 3353.0, 3353.0, 3362.0, 3362.0, 3362.0, 3379.0, 3379.0, 3379.0, 3412.0, 3415.0, 3432.0, 3464.0, 3470.0, 3470.0, 3483.0, 3491.0, 3493.0, 3518.0, 3518.0, 3520.0, 3532.0, 3532.0, 3569.0, 3585.0, 3623.0], \"yaxis\": \"y\"}],                        {\"legend\": {\"title\": {\"text\": \"variable\"}, \"tracegroupgap\": 0}, \"showlegend\": false, \"template\": {\"data\": {\"bar\": [{\"error_x\": {\"color\": \"#2a3f5f\"}, \"error_y\": {\"color\": \"#2a3f5f\"}, \"marker\": {\"line\": {\"color\": \"#E5ECF6\", \"width\": 0.5}}, \"type\": \"bar\"}], \"barpolar\": [{\"marker\": {\"line\": {\"color\": \"#E5ECF6\", \"width\": 0.5}}, \"type\": \"barpolar\"}], \"carpet\": [{\"aaxis\": {\"endlinecolor\": \"#2a3f5f\", \"gridcolor\": \"white\", \"linecolor\": \"white\", \"minorgridcolor\": \"white\", \"startlinecolor\": \"#2a3f5f\"}, \"baxis\": {\"endlinecolor\": \"#2a3f5f\", \"gridcolor\": \"white\", \"linecolor\": \"white\", \"minorgridcolor\": \"white\", \"startlinecolor\": \"#2a3f5f\"}, \"type\": \"carpet\"}], \"choropleth\": [{\"colorbar\": {\"outlinewidth\": 0, \"ticks\": \"\"}, \"type\": \"choropleth\"}], \"contour\": [{\"colorbar\": {\"outlinewidth\": 0, \"ticks\": \"\"}, \"colorscale\": [[0.0, \"#0d0887\"], [0.1111111111111111, \"#46039f\"], [0.2222222222222222, \"#7201a8\"], [0.3333333333333333, \"#9c179e\"], [0.4444444444444444, \"#bd3786\"], [0.5555555555555556, \"#d8576b\"], [0.6666666666666666, \"#ed7953\"], [0.7777777777777778, \"#fb9f3a\"], [0.8888888888888888, \"#fdca26\"], [1.0, \"#f0f921\"]], \"type\": \"contour\"}], \"contourcarpet\": [{\"colorbar\": {\"outlinewidth\": 0, \"ticks\": \"\"}, \"type\": \"contourcarpet\"}], \"heatmap\": [{\"colorbar\": {\"outlinewidth\": 0, \"ticks\": \"\"}, \"colorscale\": [[0.0, \"#0d0887\"], [0.1111111111111111, \"#46039f\"], [0.2222222222222222, \"#7201a8\"], [0.3333333333333333, \"#9c179e\"], [0.4444444444444444, \"#bd3786\"], [0.5555555555555556, \"#d8576b\"], [0.6666666666666666, \"#ed7953\"], [0.7777777777777778, \"#fb9f3a\"], [0.8888888888888888, \"#fdca26\"], [1.0, \"#f0f921\"]], \"type\": \"heatmap\"}], \"heatmapgl\": [{\"colorbar\": {\"outlinewidth\": 0, \"ticks\": \"\"}, \"colorscale\": [[0.0, \"#0d0887\"], [0.1111111111111111, \"#46039f\"], [0.2222222222222222, \"#7201a8\"], [0.3333333333333333, \"#9c179e\"], [0.4444444444444444, \"#bd3786\"], [0.5555555555555556, \"#d8576b\"], [0.6666666666666666, \"#ed7953\"], [0.7777777777777778, \"#fb9f3a\"], [0.8888888888888888, \"#fdca26\"], [1.0, \"#f0f921\"]], \"type\": \"heatmapgl\"}], \"histogram\": [{\"marker\": {\"colorbar\": {\"outlinewidth\": 0, \"ticks\": \"\"}}, \"type\": \"histogram\"}], \"histogram2d\": [{\"colorbar\": {\"outlinewidth\": 0, \"ticks\": \"\"}, \"colorscale\": [[0.0, \"#0d0887\"], [0.1111111111111111, \"#46039f\"], [0.2222222222222222, \"#7201a8\"], [0.3333333333333333, \"#9c179e\"], [0.4444444444444444, \"#bd3786\"], [0.5555555555555556, \"#d8576b\"], [0.6666666666666666, \"#ed7953\"], [0.7777777777777778, \"#fb9f3a\"], [0.8888888888888888, \"#fdca26\"], [1.0, \"#f0f921\"]], \"type\": \"histogram2d\"}], \"histogram2dcontour\": [{\"colorbar\": {\"outlinewidth\": 0, \"ticks\": \"\"}, \"colorscale\": [[0.0, \"#0d0887\"], [0.1111111111111111, \"#46039f\"], [0.2222222222222222, \"#7201a8\"], [0.3333333333333333, \"#9c179e\"], [0.4444444444444444, \"#bd3786\"], [0.5555555555555556, \"#d8576b\"], [0.6666666666666666, \"#ed7953\"], [0.7777777777777778, \"#fb9f3a\"], [0.8888888888888888, \"#fdca26\"], [1.0, \"#f0f921\"]], \"type\": \"histogram2dcontour\"}], \"mesh3d\": [{\"colorbar\": {\"outlinewidth\": 0, \"ticks\": \"\"}, \"type\": \"mesh3d\"}], \"parcoords\": [{\"line\": {\"colorbar\": {\"outlinewidth\": 0, \"ticks\": \"\"}}, \"type\": \"parcoords\"}], \"pie\": [{\"automargin\": true, \"type\": \"pie\"}], \"scatter\": [{\"marker\": {\"colorbar\": {\"outlinewidth\": 0, \"ticks\": \"\"}}, \"type\": \"scatter\"}], \"scatter3d\": [{\"line\": {\"colorbar\": {\"outlinewidth\": 0, \"ticks\": \"\"}}, \"marker\": {\"colorbar\": {\"outlinewidth\": 0, \"ticks\": \"\"}}, \"type\": \"scatter3d\"}], \"scattercarpet\": [{\"marker\": {\"colorbar\": {\"outlinewidth\": 0, \"ticks\": \"\"}}, \"type\": \"scattercarpet\"}], \"scattergeo\": [{\"marker\": {\"colorbar\": {\"outlinewidth\": 0, \"ticks\": \"\"}}, \"type\": \"scattergeo\"}], \"scattergl\": [{\"marker\": {\"colorbar\": {\"outlinewidth\": 0, \"ticks\": \"\"}}, \"type\": \"scattergl\"}], \"scattermapbox\": [{\"marker\": {\"colorbar\": {\"outlinewidth\": 0, \"ticks\": \"\"}}, \"type\": \"scattermapbox\"}], \"scatterpolar\": [{\"marker\": {\"colorbar\": {\"outlinewidth\": 0, \"ticks\": \"\"}}, \"type\": \"scatterpolar\"}], \"scatterpolargl\": [{\"marker\": {\"colorbar\": {\"outlinewidth\": 0, \"ticks\": \"\"}}, \"type\": \"scatterpolargl\"}], \"scatterternary\": [{\"marker\": {\"colorbar\": {\"outlinewidth\": 0, \"ticks\": \"\"}}, \"type\": \"scatterternary\"}], \"surface\": [{\"colorbar\": {\"outlinewidth\": 0, \"ticks\": \"\"}, \"colorscale\": [[0.0, \"#0d0887\"], [0.1111111111111111, \"#46039f\"], [0.2222222222222222, \"#7201a8\"], [0.3333333333333333, \"#9c179e\"], [0.4444444444444444, \"#bd3786\"], [0.5555555555555556, \"#d8576b\"], [0.6666666666666666, \"#ed7953\"], [0.7777777777777778, \"#fb9f3a\"], [0.8888888888888888, \"#fdca26\"], [1.0, \"#f0f921\"]], \"type\": \"surface\"}], \"table\": [{\"cells\": {\"fill\": {\"color\": \"#EBF0F8\"}, \"line\": {\"color\": \"white\"}}, \"header\": {\"fill\": {\"color\": \"#C8D4E3\"}, \"line\": {\"color\": \"white\"}}, \"type\": \"table\"}]}, \"layout\": {\"annotationdefaults\": {\"arrowcolor\": \"#2a3f5f\", \"arrowhead\": 0, \"arrowwidth\": 1}, \"autotypenumbers\": \"strict\", \"coloraxis\": {\"colorbar\": {\"outlinewidth\": 0, \"ticks\": \"\"}}, \"colorscale\": {\"diverging\": [[0, \"#8e0152\"], [0.1, \"#c51b7d\"], [0.2, \"#de77ae\"], [0.3, \"#f1b6da\"], [0.4, \"#fde0ef\"], [0.5, \"#f7f7f7\"], [0.6, \"#e6f5d0\"], [0.7, \"#b8e186\"], [0.8, \"#7fbc41\"], [0.9, \"#4d9221\"], [1, \"#276419\"]], \"sequential\": [[0.0, \"#0d0887\"], [0.1111111111111111, \"#46039f\"], [0.2222222222222222, \"#7201a8\"], [0.3333333333333333, \"#9c179e\"], [0.4444444444444444, \"#bd3786\"], [0.5555555555555556, \"#d8576b\"], [0.6666666666666666, \"#ed7953\"], [0.7777777777777778, \"#fb9f3a\"], [0.8888888888888888, \"#fdca26\"], [1.0, \"#f0f921\"]], \"sequentialminus\": [[0.0, \"#0d0887\"], [0.1111111111111111, \"#46039f\"], [0.2222222222222222, \"#7201a8\"], [0.3333333333333333, \"#9c179e\"], [0.4444444444444444, \"#bd3786\"], [0.5555555555555556, \"#d8576b\"], [0.6666666666666666, \"#ed7953\"], [0.7777777777777778, \"#fb9f3a\"], [0.8888888888888888, \"#fdca26\"], [1.0, \"#f0f921\"]]}, \"colorway\": [\"#636efa\", \"#EF553B\", \"#00cc96\", \"#ab63fa\", \"#FFA15A\", \"#19d3f3\", \"#FF6692\", \"#B6E880\", \"#FF97FF\", \"#FECB52\"], \"font\": {\"color\": \"#2a3f5f\"}, \"geo\": {\"bgcolor\": \"white\", \"lakecolor\": \"white\", \"landcolor\": \"#E5ECF6\", \"showlakes\": true, \"showland\": true, \"subunitcolor\": \"white\"}, \"hoverlabel\": {\"align\": \"left\"}, \"hovermode\": \"closest\", \"mapbox\": {\"style\": \"light\"}, \"paper_bgcolor\": \"white\", \"plot_bgcolor\": \"#E5ECF6\", \"polar\": {\"angularaxis\": {\"gridcolor\": \"white\", \"linecolor\": \"white\", \"ticks\": \"\"}, \"bgcolor\": \"#E5ECF6\", \"radialaxis\": {\"gridcolor\": \"white\", \"linecolor\": \"white\", \"ticks\": \"\"}}, \"scene\": {\"xaxis\": {\"backgroundcolor\": \"#E5ECF6\", \"gridcolor\": \"white\", \"gridwidth\": 2, \"linecolor\": \"white\", \"showbackground\": true, \"ticks\": \"\", \"zerolinecolor\": \"white\"}, \"yaxis\": {\"backgroundcolor\": \"#E5ECF6\", \"gridcolor\": \"white\", \"gridwidth\": 2, \"linecolor\": \"white\", \"showbackground\": true, \"ticks\": \"\", \"zerolinecolor\": \"white\"}, \"zaxis\": {\"backgroundcolor\": \"#E5ECF6\", \"gridcolor\": \"white\", \"gridwidth\": 2, \"linecolor\": \"white\", \"showbackground\": true, \"ticks\": \"\", \"zerolinecolor\": \"white\"}}, \"shapedefaults\": {\"line\": {\"color\": \"#2a3f5f\"}}, \"ternary\": {\"aaxis\": {\"gridcolor\": \"white\", \"linecolor\": \"white\", \"ticks\": \"\"}, \"baxis\": {\"gridcolor\": \"white\", \"linecolor\": \"white\", \"ticks\": \"\"}, \"bgcolor\": \"#E5ECF6\", \"caxis\": {\"gridcolor\": \"white\", \"linecolor\": \"white\", \"ticks\": \"\"}}, \"title\": {\"x\": 0.05}, \"xaxis\": {\"automargin\": true, \"gridcolor\": \"white\", \"linecolor\": \"white\", \"ticks\": \"\", \"title\": {\"standoff\": 15}, \"zerolinecolor\": \"white\", \"zerolinewidth\": 2}, \"yaxis\": {\"automargin\": true, \"gridcolor\": \"white\", \"linecolor\": \"white\", \"ticks\": \"\", \"title\": {\"standoff\": 15}, \"zerolinecolor\": \"white\", \"zerolinewidth\": 2}}}, \"title\": {\"text\": \"Cumulative number of tracks played by day\"}, \"xaxis\": {\"anchor\": \"y\", \"domain\": [0.0, 1.0], \"title\": {\"text\": \"index\"}}, \"yaxis\": {\"anchor\": \"x\", \"domain\": [0.0, 1.0], \"title\": {\"text\": \"cumulative count\"}}},                        {\"responsive\": true}                    ).then(function(){\n",
       "                            \n",
       "var gd = document.getElementById('bbbc1f04-93b6-4b7e-9ef6-2a24949e7233');\n",
       "var x = new MutationObserver(function (mutations, observer) {{\n",
       "        var display = window.getComputedStyle(gd).display;\n",
       "        if (!display || display === 'none') {{\n",
       "            console.log([gd, 'removed!']);\n",
       "            Plotly.purge(gd);\n",
       "            observer.disconnect();\n",
       "        }}\n",
       "}});\n",
       "\n",
       "// Listen for the removal of the full notebook cells\n",
       "var notebookContainer = gd.closest('#notebook-container');\n",
       "if (notebookContainer) {{\n",
       "    x.observe(notebookContainer, {childList: true});\n",
       "}}\n",
       "\n",
       "// Listen for the clearing of the current output cell\n",
       "var outputEl = gd.closest('.output');\n",
       "if (outputEl) {{\n",
       "    x.observe(outputEl, {childList: true});\n",
       "}}\n",
       "\n",
       "                        })                };                });            </script>        </div>"
      ]
     },
     "metadata": {},
     "output_type": "display_data"
    }
   ],
   "source": [
    "fig = px.line(\n",
    "    daily_count.cumsum(), \n",
    "    labels={'played_at':'date', 'value':'cumulative count'}, \n",
    "    hover_data={'variable': False, 'value': False}, \n",
    "    hover_name='value', \n",
    "    title='Cumulative number of tracks played by day'\n",
    ")\n",
    "fig.update_traces(line=dict(width=3))\n",
    "fig.update_layout(showlegend=False)"
   ]
  },
  {
   "cell_type": "markdown",
   "metadata": {},
   "source": [
    "and now the main result of this short notebook, a scatter plot that shows the preference of the artists.\n",
    "\n",
    "It can be read in this way: a high number of plays for a single artist is clearly a proxy of how much I like that artist, while the days since the last play tells if it's something that I'm listening right now of if it was more in the past. The size (the entropy) shows instead how \"stable\" an artist is in my playlist. High entropy roughly mean high recurrency in the playlist, low entropy means that it was played only few days (recent or past)."
   ]
  },
  {
   "cell_type": "code",
   "execution_count": 75,
   "metadata": {},
   "outputs": [
    {
     "data": {
      "application/vnd.plotly.v1+json": {
       "config": {
        "plotlyServerURL": "https://plot.ly"
       },
       "data": [
        {
         "customdata": [
          [
           1
          ],
          [
           4.170106206192003
          ],
          [
           4.170106206192003
          ],
          [
           1
          ],
          [
           1
          ],
          [
           1
          ],
          [
           1
          ],
          [
           3.0001143274680686
          ],
          [
           1
          ],
          [
           4.170106206192003
          ],
          [
           1
          ],
          [
           1
          ],
          [
           3.0001143274680686
          ],
          [
           1
          ],
          [
           1
          ],
          [
           1
          ],
          [
           2.836696654546624
          ],
          [
           4.170106206192003
          ],
          [
           1
          ],
          [
           2.1834132016153553
          ],
          [
           1
          ],
          [
           3.0001143274680686
          ],
          [
           1
          ],
          [
           1
          ],
          [
           1
          ],
          [
           1
          ],
          [
           3.0001143274680686
          ],
          [
           1
          ],
          [
           1
          ],
          [
           2.836696654546624
          ],
          [
           1
          ],
          [
           1
          ],
          [
           3.0001143274680686
          ],
          [
           1
          ],
          [
           1
          ],
          [
           1
          ],
          [
           1
          ],
          [
           1
          ],
          [
           4.044030187960396
          ],
          [
           1
          ],
          [
           1
          ],
          [
           1
          ],
          [
           4.170106206192003
          ],
          [
           1
          ],
          [
           1
          ],
          [
           1
          ],
          [
           1
          ],
          [
           5.950232562878295
          ],
          [
           1
          ],
          [
           1
          ],
          [
           1
          ],
          [
           3.0001143274680686
          ],
          [
           1
          ],
          [
           1
          ],
          [
           1
          ],
          [
           1
          ],
          [
           3.8114388276141358
          ],
          [
           3.0001143274680686
          ],
          [
           2.9420121952324214
          ],
          [
           2.836696654546624
          ],
          [
           3.0001143274680686
          ],
          [
           2.836696654546624
          ],
          [
           1
          ],
          [
           1
          ],
          [
           1
          ],
          [
           1
          ],
          [
           1
          ],
          [
           1
          ],
          [
           5.000228654936137
          ],
          [
           1
          ],
          [
           1
          ],
          [
           1
          ],
          [
           1
          ],
          [
           1
          ],
          [
           1
          ],
          [
           1
          ],
          [
           1
          ],
          [
           1
          ],
          [
           1
          ],
          [
           1
          ],
          [
           1
          ],
          [
           4.713341780610468
          ],
          [
           1
          ],
          [
           1
          ],
          [
           1
          ],
          [
           2.836696654546624
          ],
          [
           1
          ],
          [
           1
          ],
          [
           6.1836597030364695
          ],
          [
           1
          ],
          [
           3.0001143274680686
          ],
          [
           3.0001143274680686
          ],
          [
           1
          ],
          [
           1
          ],
          [
           4.000171491202103
          ],
          [
           1
          ],
          [
           1
          ],
          [
           1
          ],
          [
           1
          ],
          [
           1
          ],
          [
           1
          ],
          [
           1
          ],
          [
           3.918462654741381
          ],
          [
           4.142080791713262
          ],
          [
           1
          ],
          [
           1
          ],
          [
           1
          ],
          [
           1
          ],
          [
           1
          ],
          [
           1
          ],
          [
           1
          ],
          [
           1
          ],
          [
           1
          ],
          [
           1
          ],
          [
           1
          ],
          [
           4.000171491202103
          ],
          [
           1
          ],
          [
           1
          ],
          [
           1
          ],
          [
           4.170106206192003
          ],
          [
           4.170106206192003
          ],
          [
           1
          ],
          [
           1
          ],
          [
           1
          ],
          [
           1
          ],
          [
           1
          ],
          [
           6.595137562161212
          ],
          [
           1
          ],
          [
           1
          ],
          [
           1
          ],
          [
           2.836696654546624
          ],
          [
           1
          ],
          [
           3.92113633614199
          ],
          [
           1
          ],
          [
           3.0001143274680686
          ],
          [
           1
          ],
          [
           1
          ],
          [
           1
          ],
          [
           6.670799636177027
          ],
          [
           1
          ],
          [
           3.0001143274680686
          ],
          [
           1
          ],
          [
           1
          ],
          [
           1
          ],
          [
           2.908977123872923
          ],
          [
           1
          ],
          [
           1
          ],
          [
           1
          ],
          [
           1
          ],
          [
           1
          ],
          [
           1
          ],
          [
           3.0001143274680686
          ],
          [
           3.0001143274680686
          ],
          [
           1
          ],
          [
           3.0001143274680686
          ],
          [
           7.101476283502767
          ],
          [
           1
          ],
          [
           1
          ],
          [
           1
          ],
          [
           1
          ],
          [
           1
          ],
          [
           1
          ],
          [
           1
          ],
          [
           1
          ],
          [
           1
          ],
          [
           1
          ],
          [
           1
          ],
          [
           1
          ],
          [
           1
          ],
          [
           1
          ],
          [
           1
          ],
          [
           1
          ],
          [
           1
          ],
          [
           1
          ],
          [
           1
          ],
          [
           1
          ],
          [
           1
          ],
          [
           1
          ],
          [
           3.0001143274680686
          ],
          [
           1
          ],
          [
           1
          ],
          [
           1
          ],
          [
           1
          ],
          [
           1
          ],
          [
           1
          ],
          [
           1
          ],
          [
           3.0001143274680686
          ],
          [
           1
          ],
          [
           1
          ],
          [
           1
          ],
          [
           1
          ],
          [
           1
          ],
          [
           6.368102923134356
          ],
          [
           1
          ],
          [
           3.0001143274680686
          ],
          [
           3.985398782821451
          ],
          [
           1
          ],
          [
           1
          ],
          [
           1
          ],
          [
           5.217719248607682
          ],
          [
           3.0001143274680686
          ],
          [
           1
          ],
          [
           1
          ],
          [
           1
          ],
          [
           1
          ],
          [
           2.836696654546624
          ],
          [
           3.297801051941952
          ],
          [
           1
          ],
          [
           3.0001143274680686
          ],
          [
           1
          ],
          [
           1
          ],
          [
           1
          ],
          [
           1
          ],
          [
           1
          ],
          [
           5.000228654936137
          ],
          [
           1
          ],
          [
           3.9184626547413806
          ],
          [
           1
          ],
          [
           1
          ],
          [
           1
          ],
          [
           6.786658023483827
          ],
          [
           3.0001143274680686
          ],
          [
           1
          ],
          [
           1
          ],
          [
           1
          ],
          [
           1
          ],
          [
           6.500314400537188
          ],
          [
           1
          ],
          [
           3.0001143274680686
          ],
          [
           1
          ],
          [
           3.0001143274680686
          ],
          [
           1
          ],
          [
           1
          ],
          [
           1
          ],
          [
           1
          ],
          [
           1
          ],
          [
           1
          ],
          [
           2.836696654546624
          ],
          [
           1
          ],
          [
           5.000228654936137
          ],
          [
           1
          ],
          [
           1
          ],
          [
           4.170106206192003
          ],
          [
           1
          ],
          [
           2.836696654546624
          ],
          [
           2.6226490002921343
          ],
          [
           4.170106206192003
          ],
          [
           1
          ],
          [
           1
          ],
          [
           3.0001143274680686
          ],
          [
           1
          ],
          [
           1
          ],
          [
           1
          ],
          [
           1
          ],
          [
           1
          ],
          [
           2.9729662331320164
          ],
          [
           4.170106206192003
          ],
          [
           1
          ],
          [
           1
          ],
          [
           1
          ],
          [
           1
          ],
          [
           1
          ],
          [
           1
          ],
          [
           1
          ],
          [
           1
          ],
          [
           1
          ],
          [
           1
          ],
          [
           1
          ],
          [
           1
          ],
          [
           1
          ],
          [
           1
          ],
          [
           2.836696654546624
          ],
          [
           1
          ],
          [
           1
          ],
          [
           1
          ],
          [
           1
          ],
          [
           1
          ],
          [
           1
          ],
          [
           5.503515757837382
          ],
          [
           1
          ],
          [
           1
          ],
          [
           1
          ],
          [
           8.451291217989512
          ],
          [
           1
          ],
          [
           1
          ],
          [
           3.0001143274680686
          ],
          [
           1
          ],
          [
           5.311524573215187
          ],
          [
           1
          ],
          [
           1
          ],
          [
           1
          ],
          [
           1
          ],
          [
           1
          ],
          [
           1
          ],
          [
           3.0001143274680686
          ],
          [
           1
          ],
          [
           1
          ],
          [
           1
          ],
          [
           1
          ],
          [
           1
          ],
          [
           1
          ],
          [
           3.0001143274680686
          ],
          [
           1
          ],
          [
           1
          ],
          [
           6.8331578620026825
          ],
          [
           1
          ],
          [
           1
          ],
          [
           4.3964289837260475
          ],
          [
           1
          ],
          [
           4.000171491202103
          ],
          [
           1
          ],
          [
           1
          ],
          [
           5.493135519064476
          ],
          [
           1
          ],
          [
           1
          ],
          [
           1
          ],
          [
           1
          ],
          [
           3.0001143274680686
          ],
          [
           3.0001143274680686
          ],
          [
           1
          ],
          [
           2.087191030745716
          ],
          [
           1
          ],
          [
           6.682277518981445
          ],
          [
           3.0001143274680686
          ],
          [
           1
          ],
          [
           3.918462654741381
          ],
          [
           1
          ],
          [
           1
          ],
          [
           1
          ],
          [
           1
          ],
          [
           1
          ],
          [
           1
          ],
          [
           1
          ],
          [
           1
          ],
          [
           5.918576982209449
          ],
          [
           1
          ],
          [
           1
          ],
          [
           1
          ],
          [
           1
          ],
          [
           1
          ],
          [
           4.170106206192003
          ],
          [
           1
          ],
          [
           4.170106206192003
          ],
          [
           2.836696654546624
          ],
          [
           4.94212652270049
          ],
          [
           1
          ],
          [
           3.0001143274680686
          ],
          [
           1
          ],
          [
           1
          ],
          [
           1
          ],
          [
           1
          ],
          [
           1
          ],
          [
           1
          ],
          [
           4.170106206192003
          ],
          [
           1
          ],
          [
           7.466938233225422
          ],
          [
           3.0001143274680686
          ],
          [
           3.0001143274680686
          ],
          [
           1
          ],
          [
           1
          ],
          [
           1
          ],
          [
           3.0001143274680686
          ],
          [
           2.836696654546624
          ],
          [
           3.0001143274680686
          ],
          [
           1
          ],
          [
           1
          ],
          [
           5.0474725147407495
          ],
          [
           3.977220769123619
          ],
          [
           1
          ],
          [
           1
          ],
          [
           1
          ],
          [
           1
          ],
          [
           1
          ],
          [
           1
          ],
          [
           1
          ],
          [
           3.918462654741381
          ],
          [
           1
          ],
          [
           1
          ],
          [
           2.9420121952324214
          ],
          [
           2.6964927309699807
          ],
          [
           2.368155075660492
          ],
          [
           1
          ],
          [
           8.19943511391303
          ],
          [
           6.615030801895417
          ],
          [
           5.141937054193548
          ],
          [
           1
          ],
          [
           1.5160668359507339
          ],
          [
           1
          ],
          [
           3.0001143274680686
          ],
          [
           3.0001143274680686
          ],
          [
           1
          ],
          [
           1
          ],
          [
           6.122207184325852
          ],
          [
           3.0001143274680686
          ],
          [
           1
          ],
          [
           6.844190246415692
          ],
          [
           1
          ],
          [
           1
          ],
          [
           1
          ],
          [
           3.0001143274680686
          ],
          [
           1
          ],
          [
           3.0001143274680686
          ],
          [
           1
          ],
          [
           4.170106206192003
          ],
          [
           1
          ],
          [
           1
          ],
          [
           1
          ],
          [
           1
          ],
          [
           5.000228654936137
          ],
          [
           1
          ],
          [
           2.5283154683332274
          ],
          [
           1
          ],
          [
           1
          ],
          [
           1
          ],
          [
           1
          ],
          [
           1
          ],
          [
           1
          ],
          [
           1
          ],
          [
           1
          ],
          [
           1
          ],
          [
           1
          ],
          [
           1
          ],
          [
           1
          ],
          [
           1
          ],
          [
           1
          ],
          [
           1
          ],
          [
           1
          ],
          [
           1
          ],
          [
           1
          ],
          [
           1
          ],
          [
           1
          ],
          [
           1
          ],
          [
           3.0001143274680686
          ],
          [
           6.510745794877145
          ],
          [
           1
          ],
          [
           1
          ],
          [
           1
          ],
          [
           1
          ],
          [
           2.6226490002921343
          ],
          [
           1
          ],
          [
           1
          ],
          [
           1
          ],
          [
           1
          ],
          [
           2.7318122261092315
          ],
          [
           1
          ],
          [
           4.122734745893185
          ],
          [
           1
          ],
          [
           2.9881740679111752
          ],
          [
           1
          ],
          [
           1
          ],
          [
           1
          ],
          [
           1
          ],
          [
           4.150409261684468
          ],
          [
           1
          ],
          [
           4.848473285695917
          ],
          [
           4.840890490397356
          ],
          [
           1
          ],
          [
           4.142080791713262
          ],
          [
           4.942244096918321
          ],
          [
           1
          ],
          [
           4.972898773417979
          ],
          [
           1
          ],
          [
           3.8114388276141358
          ],
          [
           1
          ],
          [
           8.540167492294163
          ],
          [
           1
          ],
          [
           1
          ],
          [
           1
          ],
          [
           2.443938725985941
          ],
          [
           1
          ],
          [
           5.000228654936137
          ],
          [
           1
          ],
          [
           1
          ],
          [
           1
          ],
          [
           1
          ],
          [
           1
          ],
          [
           1
          ],
          [
           1
          ],
          [
           1
          ],
          [
           6.425117569723936
          ],
          [
           3.0001143274680686
          ],
          [
           3.7420579262196485
          ],
          [
           1
          ],
          [
           1
          ],
          [
           1
          ],
          [
           1
          ],
          [
           1
          ],
          [
           2.836696654546624
          ],
          [
           1
          ],
          [
           1
          ],
          [
           1
          ],
          [
           1
          ],
          [
           3.0001143274680686
          ],
          [
           1
          ],
          [
           1
          ],
          [
           1
          ],
          [
           1
          ],
          [
           1
          ],
          [
           1
          ],
          [
           1
          ],
          [
           1
          ],
          [
           1
          ],
          [
           1
          ],
          [
           1
          ],
          [
           1
          ],
          [
           1
          ],
          [
           1
          ],
          [
           1
          ],
          [
           1
          ],
          [
           1
          ],
          [
           1
          ],
          [
           2.836696654546624
          ],
          [
           1
          ],
          [
           1
          ],
          [
           1
          ],
          [
           5.762763577432011
          ],
          [
           1
          ],
          [
           1
          ],
          [
           4.525605925969472
          ],
          [
           3.0001143274680686
          ],
          [
           2.836696654546624
          ],
          [
           1
          ],
          [
           1
          ],
          [
           1
          ],
          [
           3.7426214228017898
          ],
          [
           1
          ],
          [
           4.170106206192003
          ],
          [
           1
          ],
          [
           1
          ],
          [
           3.0001143274680686
          ],
          [
           1
          ],
          [
           1
          ],
          [
           1
          ],
          [
           1
          ],
          [
           1
          ],
          [
           3.0001143274680686
          ],
          [
           3.0001143274680686
          ],
          [
           1
          ],
          [
           1
          ],
          [
           1
          ],
          [
           3.0001143274680686
          ],
          [
           1
          ],
          [
           1
          ],
          [
           3.0001143274680686
          ],
          [
           1
          ],
          [
           1
          ],
          [
           1
          ],
          [
           3.0001143274680686
          ],
          [
           1
          ],
          [
           3.8934613106189477
          ],
          [
           1
          ],
          [
           1
          ],
          [
           1
          ],
          [
           4.170106206192003
          ],
          [
           1
          ],
          [
           1
          ],
          [
           1
          ],
          [
           5.8758924031569695
          ],
          [
           1
          ],
          [
           8.43797787812781
          ],
          [
           1
          ],
          [
           1
          ],
          [
           4.242487208407246
          ],
          [
           1
          ],
          [
           1
          ],
          [
           1
          ],
          [
           1
          ],
          [
           3.0001143274680686
          ],
          [
           2.836696654546624
          ],
          [
           1
          ],
          [
           3.0001143274680686
          ],
          [
           3.0001143274680686
          ],
          [
           1
          ],
          [
           2.836696654546624
          ],
          [
           5.812848544244586
          ],
          [
           10
          ],
          [
           1
          ],
          [
           1
          ],
          [
           1
          ],
          [
           2.6226490002921343
          ],
          [
           3.0001143274680686
          ],
          [
           1
          ],
          [
           3.0001143274680686
          ],
          [
           9.587544706816708
          ],
          [
           3.0001143274680686
          ],
          [
           1
          ],
          [
           1
          ],
          [
           1
          ],
          [
           1
          ],
          [
           1
          ],
          [
           1
          ],
          [
           1
          ],
          [
           1
          ],
          [
           1
          ],
          [
           1
          ],
          [
           2.1834132016153553
          ],
          [
           1
          ],
          [
           3.0001143274680686
          ],
          [
           2.6226490002921343
          ],
          [
           1
          ],
          [
           8.467396946164634
          ],
          [
           1
          ],
          [
           1
          ],
          [
           1
          ],
          [
           6.980992149355304
          ],
          [
           1
          ],
          [
           3.0001143274680686
          ],
          [
           3.0001143274680686
          ],
          [
           3.0001143274680686
          ],
          [
           1
          ],
          [
           1
          ],
          [
           1
          ],
          [
           4.170106206192003
          ],
          [
           1
          ],
          [
           1
          ],
          [
           5.737315842640072
          ],
          [
           1
          ],
          [
           1
          ],
          [
           3.0001143274680686
          ],
          [
           4.5685222340985625
          ],
          [
           3.0001143274680686
          ],
          [
           4.000171491202103
          ],
          [
           1
          ],
          [
           2.836696654546624
          ],
          [
           1
          ],
          [
           1
          ],
          [
           3.0001143274680686
          ],
          [
           3.0001143274680686
          ],
          [
           4.170106206192003
          ],
          [
           1
          ],
          [
           3.0001143274680686
          ],
          [
           1
          ],
          [
           1
          ],
          [
           1
          ],
          [
           5.000228654936137
          ],
          [
           3.0001143274680686
          ],
          [
           3.0001143274680686
          ],
          [
           3.0001143274680686
          ],
          [
           1
          ],
          [
           1
          ],
          [
           1
          ],
          [
           1
          ],
          [
           1
          ],
          [
           1
          ],
          [
           1
          ],
          [
           1
          ],
          [
           3.0001143274680686
          ],
          [
           4.000171491202103
          ],
          [
           1
          ],
          [
           7.093915681021691
          ],
          [
           1
          ],
          [
           1
          ],
          [
           1
          ],
          [
           1
          ]
         ],
         "hovertemplate": "<b>%{hovertext}</b><br><br>time_from_last_play=%{x}<br>total_plays=%{y}<br>entropy=%{marker.color}<extra></extra>",
         "hovertext": [
          "...And You Will Know Us by the Trail of Dead",
          "369",
          "AC/DC",
          "ASMR Binaural Beats Library",
          "Abadá-Capoeira",
          "Academy of St. Martin in the Fields Alexander Briger George Frideric Handel",
          "Academy of St. Martin in the Fields Christine Pendrill Joaquín Rodrigo Pepe Romero Sir Neville Marriner",
          "Ace Ventura Bliss Juno Reactor",
          "Adoniran Barbosa",
          "Aerosmith",
          "Agni Bjark",
          "Airstream",
          "Airwaves",
          "Alan Silvestri",
          "Alaskan Tapes",
          "Alceu Valença",
          "Alena Cherny Erik Satie",
          "Alexander Borodin Mariinsky Orchestra Valery Gergiev",
          "Alexander Melnikov Dmitri Shostakovich Mahler Chamber Orchestra Teodor Currentzis",
          "Alexander Toradze Mariinsky Orchestra Sergei Prokofiev Valery Gergiev",
          "Alexandre Tharaud Frédéric Chopin",
          "Alfachronic",
          "Alice Sara Ott Claude Debussy",
          "All Saints",
          "Allah-Las",
          "Allan Holdsworth",
          "Alm Bark",
          "Almaz Seu Jorge",
          "Alpha Brain Waves Binaural Beats Library",
          "Am Steg",
          "Amaranth Cove",
          "Ambient Chronicity",
          "America",
          "Amigo Mestre Casquinha",
          "Andre Anichanov Aram Khachaturian St. Petersburg State Symphony Orchestra",
          "Andreas Staier Daniel Sepec Franz Schubert Roel Dieltiens",
          "Andrew Armstrong Béla Bartók James Ehnes",
          "Andrew Davis BBC Philharmonic Ralph Vaughan Williams Tasmin Little",
          "Andrew Mogrelia Sergei Prokofiev Ukraine National Symphony Orchestra",
          "Andrew Wan Camille Saint-Saëns Kent Nagano Orchestre Symphonique de Montréal",
          "Andrew York",
          "András Schiff Johann Sebastian Bach",
          "André Previn Itzhak Perlman John Williams Pittsburgh Symphony Orchestra",
          "André Previn London Symphony Orchestra Sergei Rachmaninoff Vladimir Ashkenazy",
          "Andy Kohl",
          "Angela Chun Béla Bartók Jennifer Chun",
          "Angela Ro Ro",
          "Angra",
          "Animato",
          "Anjei Dave Pad",
          "Anne-Sophie Mutter John Williams The Recording Arts Orchestra of Los Angeles",
          "Antoni Wit Polish National Radio Symphony Orchestra Sergei Prokofiev Tedi Papavrami",
          "Antony & Gabriel",
          "Antony & Gabriel Bruno & Barretto",
          "Antonín Dvořák Czech Philharmonic Orchestra Jiří Bělohlávek",
          "Antonín Dvořák Mariss Jansons Oslo Philharmonic Orchestra",
          "Antonín Dvořák Saint Petersburg Philharmonic Yuri Temirkanov",
          "Antuigo",
          "Antônio Carlos Jobim",
          "Antônio Carlos Jobim Astrud Gilberto",
          "Antônio Carlos Jobim Elis Regina",
          "Antônio Carlos Jobim Miúcha",
          "Antônio Carlos Jobim Vinícius",
          "Aphrodite's Child",
          "Aretha Franklin The Blues Brothers",
          "Arlindo Cruz",
          "Arzachel",
          "As Orquídeas do Brasil Itamar Assumpção",
          "Astrix Juno Reactor",
          "Astrud Gilberto João Gilberto Stan Getz",
          "August Wilhelmsson",
          "Auguste Henrique",
          "Avantasia",
          "Avantasia Bob Catley Eric Martin Geoff Tate Jorn Lande Ronnie Atkins",
          "Avantasia Candice Night",
          "Avantasia Geoff Tate",
          "Avantasia Hansi Kursch Jorn Lande",
          "Avantasia Hansi Kursch Jorn Lande Mille Petrozza Ronnie Atkins",
          "Avantasia Ronnie Atkins",
          "Avishai Cohen Yonathan Avishai",
          "Ayo Salawu Cassie Kinoshi KOKOROKO Mutale Chashi Onome Edgeworth Oscar Laurence Richie Seivwright Sheila Maurice-Grey",
          "Ayreon",
          "Azymuth",
          "BBC Symphony Orchestra Edvard Grieg Javier Perianes Sakari Oramo",
          "Babe Ruth",
          "Bacao Rhythm & Steel Band",
          "Baden Powell Vinícius de Moraes",
          "Balazs Szokolay Béla Bartók",
          "Balkan Beat Box",
          "Barcelona",
          "Barclay James Harvest",
          "Bavarian Radio Symphony Orchestra Gustav Mahler Mariss Jansons",
          "Beardfish",
          "Beatallica",
          "Beau Projet",
          "Bedřich Smetana Berliner Philharmoniker Herbert von Karajan",
          "Bedřich Smetana Gewandhausorchester Leipzig Václav Neumann",
          "Belchior",
          "Belchior Gilvan de Oliveira",
          "Benjamin Grosvenor George Gershwin James Judd Royal Liverpool Philharmonic Orchestra",
          "Benjamin Martins",
          "Berliner Philharmoniker Claudio Abbado Gustav Mahler",
          "Berliner Philharmoniker Claudio Abbado Martha Argerich Maurice Ravel",
          "Berliner Philharmoniker Claudio Abbado Martha Argerich Sergei Prokofiev",
          "Bernard Haitink Dmitri Shostakovich London Philharmonic Orchestra",
          "Bernie Worrell",
          "Beth Carvalho",
          "Beth Rowley",
          "Betty Davis",
          "Bezerra Da Silva",
          "Bill Frisell John Scofield Marc Johnson Peter Erskine",
          "Billy Idol",
          "Billy Joel",
          "Billy Marchiafava Lentra TrippyThaKid",
          "Binaural Beats Binaural Beats Study Music Study Alpha Waves",
          "Binaural Beats Sleep",
          "Binaural Systems",
          "Björn Skifs Blue Swede",
          "Black Merda!",
          "Black Sabbath",
          "Blockhead",
          "Blondie",
          "Blue Shoes Duo",
          "Blue System",
          "Blue Öyster Cult",
          "Bob Brookmeyer Stan Getz",
          "Bob Marley & The Wailers",
          "Bobby Womack",
          "Bon Jovi",
          "Boston Pops Orchestra John Williams",
          "Brad Mehldau",
          "Brainstate",
          "Brand X",
          "Branislav Kostka Budapest Festival Orchestra Béla Bartók Iván Fischer SLUK Slovakian Folkensemble Choir",
          "Bread",
          "Bruce Brus",
          "Bruninho & Davi Renato Albani",
          "Bruno & Barretto Dj Kevin",
          "Bruxas",
          "Buffy Sainte-Marie",
          "Burgundy Skies",
          "Burt Mitchell",
          "Béla Bartók Edgar Guggeis Martha Argerich Nelson Freire Peter Sadlo",
          "Béla Bartók Frankfurt Radio Symphony Orchestra Patricia Kopatchinskaja Peter Eötvös",
          "Béla Bartók Hungarian National Philharmonic Zoltán Kocsis",
          "Béla Bartók István Kertész Julius Katchen London Symphony Orchestra",
          "Béla Bartók Jerusalem Quartet",
          "Béla Bartók London Symphony Orchestra Valery Gergiev Yefim Bronfman",
          "Béla Bartók Martin Fröst Royal Stockholm Philharmonic Orchestra",
          "Béla Bartók Zoltán Kocsis",
          "Caetano Veloso",
          "Caetano Veloso Gilberto Gil",
          "Camel",
          "Camille Saint-Saëns Frank Braley Gautier Capuçon Renaud Capuçon",
          "Carlos Gardel Itzhak Perlman John Williams Pittsburgh Symphony Orchestra",
          "Carlos Quilombola Danilo Andrade Felix Quilombola",
          "Carmen Gonzales Gianandrea Gavazzeni Ida Bormida Julia Varady Luciano Pavarotti National Philharmonic Orchestra Piero Cappuccilli Pietro Mascagni The London Opera Chorus",
          "Carmen Gonzales Gianandrea Gavazzeni Luciano Pavarotti National Philharmonic Orchestra Piero Cappuccilli Pietro Mascagni The London Opera Chorus",
          "Carmen Gonzales Gianandrea Gavazzeni Luciano Pavarotti National Philharmonic Orchestra Pietro Mascagni The London Opera Chorus",
          "Carreiro & Capataz",
          "Cartola",
          "Centro Ypiranga de Pastinha",
          "Charl du Plessis Trio Christoph Willibald Gluck",
          "Charles Bolt",
          "Charles Bolt Claes Nilsson",
          "Charles Mingus",
          "Charlie Byrd Stan Getz",
          "Chicago Symphony Orchestra Daniel Barenboim Gustav Mahler",
          "Chick Corea",
          "Chico Buarque",
          "Chico Science",
          "Chico Science Nação Zumbi",
          "China Forbes Patrick Abbey Pink Martini Thomas M. Lauderdale",
          "Chingon",
          "Chris Malinchak",
          "Chris Stills",
          "Christian Löffler",
          "Christopher Hogwood Igor Stravinsky Saint Paul Chamber Orchestra",
          "Chuck Berry",
          "City of the Sun",
          "Claire Gibault Leonard Bernstein Natalie Dessay The Paris Mozart Orchestra",
          "Clara Nunes",
          "Claude Debussy James Rhodes",
          "Claude Debussy Krystian Zimerman",
          "Cleveland Orchestra Lorin Maazel Sergei Prokofiev",
          "Coldplay",
          "Concertgebouworkest Dmitri Shostakovich Riccardo Chailly",
          "Conrado & Aleksandro",
          "Cooper Sams",
          "Cora Zea",
          "Cristobal de Morales Jan Garbarek The Hilliard Ensemble",
          "Cristopher Varela",
          "Crosby, Stills, Nash & Young",
          "Curved Air",
          "Cymande",
          "Cícero",
          "DJ Shadow Nils Frahm",
          "DJ Shah",
          "Dada Life",
          "Dan Ar Braz",
          "Daniel Barenboim",
          "Daniel Harding Jules Massenet London Symphony Orchestra Nicola Benedetti",
          "Daniel Kaede",
          "Daniel Luan Santana",
          "Daniil Trifonov Gidon Kremer Sergei Rachmaninoff",
          "Daniil Trifonov Philadelphia Orchestra Sergei Rachmaninoff Yannick Nézet-Séguin",
          "Danny Elfman",
          "Daryl Hall & John Oates",
          "Dave Brubeck",
          "David Arnold John Williams Royal Philharmonic Orchestra",
          "David Bowie",
          "David Crosby",
          "David Gilmour",
          "David Hess",
          "Deep Purple",
          "Def Leppard",
          "Denis Matsuev Mariinsky Orchestra Sergei Rachmaninoff Valery Gergiev",
          "Denis Turbide Tommy Berre",
          "Dennis DJ MC G15",
          "Desmond Cheese",
          "Diablo Swing Orchestra",
          "Dick Dale",
          "Diego & Arnaldo",
          "Djabe Steve Hackett",
          "Dmitri Shostakovich Evgeny Svetlanov USSR State Symphony Orchestra",
          "Dmitri Shostakovich Saint Petersburg Philharmonic Yuri Temirkanov",
          "Don Davis Juno Reactor",
          "Donna Summer",
          "Dreyma",
          "Duke Ellington",
          "Dusty Springfield",
          "Eagle Lake",
          "Earth, Wind & Fire",
          "Easy Star All-Stars Toots & The Maytals",
          "Eat Static Shpongle",
          "Eduardo Costa",
          "Edward Elgar Jacqueline du Pré London Symphony Orchestra Sir John Barbirolli",
          "El Michels Affair",
          "Elba",
          "Electric Light Orchestra",
          "Eline Moss",
          "Elmer Bernstein Itzhak Perlman John Williams Pittsburgh Symphony Orchestra",
          "Eloy",
          "Elton John",
          "Elvis Presley",
          "Emerson, Lake & Palmer",
          "Ennio Morricone Itzhak Perlman John Williams Pittsburgh Symphony Orchestra",
          "Enrico Carmona",
          "Enya",
          "Enzo Jannacci",
          "Enzo Rabelo",
          "Erasmo Carlos",
          "Eric Rowland",
          "Erik Reno",
          "Eroded Sky",
          "Etta James",
          "Eucalyptic",
          "Europe",
          "Eva Cassidy",
          "Evgeny Kissin Philharmonia Orchestra Sergei Prokofiev Vladimir Ashkenazy",
          "Evin Iris",
          "FX Sleep Creator",
          "Faces",
          "Fiduma & Jeca Pedro Paulo & Alex",
          "Figaro Castello",
          "Fionn Flowers Quartet",
          "Fljúga",
          "Florian Noack Sergei Prokofiev",
          "Focus",
          "Focus & Work Study Music For Concentration Work Music",
          "Francesco Giordano Pink Martini",
          "Franco Battiato",
          "Francoise Sanders",
          "Frank Gambale Steve Smith Stuart Hamm",
          "Frank Zappa",
          "Frank Zappa The Mothers Of Invention",
          "Franz Liszt Jenő Jandó",
          "Freddie Hultana",
          "Frost",
          "Frédéric Chopin Mikhail Pletnev",
          "Funkadelic",
          "Gabriel Parker",
          "Gamma Ray",
          "Gare Du Nord",
          "Gary Peacock Jack DeJohnette Keith Jarrett",
          "General Crook",
          "Genesis",
          "Gentle Giant",
          "Geoffrey Christensen",
          "George Harrison",
          "George Henrique & Rodrigo",
          "George Henrique & Rodrigo Joel Carlo Sanmya",
          "Gi Gi",
          "Gian & Giovani",
          "Gianandrea Gavazzeni Giuseppe Patanè National Philharmonic Orchestra Pietro Mascagni",
          "Gianandrea Gavazzeni Luciano Pavarotti National Philharmonic Orchestra Pietro Mascagni",
          "Gianandrea Gavazzeni National Philharmonic Orchestra Pietro Mascagni",
          "Gidon Kremer",
          "Gil Scott-Heron",
          "Gioachino Rossini Leonard Bernstein New York Philharmonic",
          "Glenn Gould Johann Sebastian Bach",
          "Gong",
          "Gonzaguinha",
          "Graham Central Station",
          "Grateful Dead",
          "Grove Street Quartet",
          "Grupo Tradição",
          "Grupo de Capoeira Angola Pelourinho",
          "Guilherme & Santiago",
          "Guns N' Roses",
          "Gustav Scheringer Duo",
          "Guts",
          "Haken",
          "Hans Wolfgang Ziegler",
          "Hara Noda",
          "Harold Melvin & The Blue Notes",
          "Harvest Silence",
          "Hatfield & The North",
          "Hawkwind",
          "Headache Relief Unit",
          "Heilung",
          "Heinz Goldblatt",
          "Helloween",
          "Herbie Hancock",
          "Herbie Mann",
          "Higher Highs",
          "Hiromi Lenny White Stanley Clarke",
          "Howard Shore",
          "Howlin' Wolf",
          "IQ",
          "Iggy Pop White Zombie",
          "Igor Stravinsky London Symphony Orchestra Valery Gergiev",
          "Igor Stravinsky Mariinsky Orchestra Valery Gergiev",
          "Igor Stravinsky St Petersburg Philharmonic Orchestra Yuri Temirkanov",
          "Infected Mushroom",
          "Infinity Ripple",
          "Isato Nakagawa",
          "Isotopic Dreams",
          "Itamar Assumpção Luiz Mari Paulo Barnabé Rondó",
          "Itzhak Perlman Jeremy Lubbock John Williams Pittsburgh Symphony Orchestra Quincy Jones Rod Temperton",
          "Itzhak Perlman John Barry John Williams Pittsburgh Symphony Orchestra",
          "Itzhak Perlman John Williams Luis Bacalov Pittsburgh Symphony Orchestra",
          "Itzhak Perlman John Williams Luiz Bonfá Pittsburgh Symphony Orchestra",
          "Itzhak Perlman John Williams Michel Legrand Pittsburgh Symphony Orchestra",
          "Itzhak Perlman John Williams Pittsburgh Symphony Orchestra",
          "Itzhak Perlman John Williams Yo-Yo Ma",
          "Itzhak Perlman Samuel Sanders",
          "Jabu Morales",
          "Jack DeJohnette Jan Hammer John Abercrombie",
          "Jackson Do Pandeiro",
          "Jads & Jadson",
          "Jads & Jadson Loubet",
          "Jair Rodrigues",
          "Jakob Ahlbom",
          "Jeremy Olander",
          "Jethro Tull",
          "Jim Croce",
          "Jimi Hendrix",
          "Joan Jett & The Blackhearts",
          "Johann Sebastian Bach Lang Lang",
          "Johann Sebastian Bach Yo-Yo Ma",
          "John A. Nilson",
          "John Hanks",
          "John Kay Steppenwolf",
          "John McLaughlin Mahavishnu Orchestra",
          "John Philip Sousa Valery Kuleshov Vladimir Horowitz",
          "John Williams",
          "John Williams London Symphony Orchestra",
          "John Williams Unknown Artist",
          "John Williams Yo-Yo Ma",
          "Johnny Cash",
          "Jonathan Edwards",
          "Jorge Ben Jor",
          "Jorge Ben Jor Trio Mocoto",
          "Jorge Mautner",
          "Jorge Migoya",
          "Joseph Lawrence",
          "Journey",
          "João Donato",
          "João Gilberto",
          "Judas Priest",
          "Junerule Weisser Quiff",
          "Juno Reactor",
          "Juno Reactor UnderCover",
          "Kansas",
          "Karen Souza",
          "Karl Hector & The Malcouns",
          "Karl Zéro",
          "Kaya Project",
          "Kensa Mitchell",
          "Kevin Ayers",
          "Khatia Buniatishvili Paavo Järvi Sergei Rachmaninoff",
          "Kiko Loureiro",
          "King Crimson",
          "Kool & The Gang",
          "Kutle Khan Midival Punditz",
          "L'Orchestre de la Suisse Romande",
          "La Acacia",
          "Lacrimosa",
          "Landlord & Tenants",
          "Lang Lang Ludwig van Beethoven",
          "Led Zeppelin",
          "Lee \"Scratch\" Perry",
          "Light of Sun",
          "Lightnin' Hopkins",
          "Linton Kwesi Johnson",
          "Lolo Zouaï",
          "London Symphony Orchestra",
          "London Symphony Orchestra Maurice Ravel Valery Gergiev",
          "London Symphony Orchestra Royal Choral Society",
          "London Symphony Orchestra Sergei Prokofiev Valery Gergiev",
          "Lost Horse Mine",
          "Loyce Cotton",
          "Lucca e Mateus",
          "Luciana Gama Mestre Obashanan",
          "Lucio Yanel Yamandú Costa",
          "Luis Bonfa Toots Thielemans",
          "Luiz Melodia",
          "Lô Borges",
          "MEDIKAL",
          "Machine Gun Kelly Travis Barker iann dior",
          "Madeleine Peyroux",
          "Magnus Ringblom Quartet",
          "Mandy Jones",
          "Maneli Jamal",
          "Mano Walter",
          "Marcelo D2",
          "Marco Sfogli",
          "Marconi Union",
          "Maria Cecília & Rodolfo",
          "Mariana & Mateus",
          "Mariinsky Orchestra",
          "Mariinsky Orchestra Mily Balakirev Valery Gergiev",
          "Mariinsky Orchestra Nikolai Rimsky-Korsakov Sergei Levitin Valery Gergiev",
          "Mariinsky Orchestra Sergei Prokofiev Valery Gergiev",
          "Mariinsky Orchestra Sergei Rachmaninoff Valery Gergiev",
          "Marillion",
          "Martha Argerich Maurice Ravel",
          "Martinho Da Vila",
          "Masters of Binaurality",
          "Mayssa Karaa",
          "Maíra Freitas",
          "Mel Brown",
          "Melody Gardot",
          "Mestre Acordeon",
          "Mestre Bigo Mestre Plinio",
          "Mestre Camaleão Mestre Casquinha",
          "Mestre Casquinha",
          "Mestre Casquinha Mestre Jogo de Dentro",
          "Mestre Casquinha Mestre Papa-Leguas",
          "Mestre Casquinha Mestre Pernalonga",
          "Mestre Casquinha Mestre Primo",
          "Mestre Gaguinho Mestre Plinio",
          "Mestre Gato Preto",
          "Mestre Jogo de Dentro Mestre Plinio",
          "Mestre Moa do Katende Mestre Plinio",
          "Mestre Obashanan",
          "Mestre Plinio",
          "Mestre Poncianinho",
          "Mestre Roberval",
          "Mestre Suassuna e Dirceu",
          "Mestre Toni Vargas",
          "Michael Jackson",
          "Michelle Simonal",
          "Midival Punditz",
          "Miles Davis",
          "Milton Nascimento",
          "Minos Gold",
          "Miranda Boumedin",
          "Mitchell Jackson Quartet",
          "Mo' Horizons",
          "Monica Zetterlund",
          "Monocle Twins",
          "Mop Mop",
          "Moraes Moreira",
          "Motor'Rolla",
          "Mountain",
          "Mulatu Astatke",
          "Munich Philharmonic Orchestra Nikolai Rimsky-Korsakov Valery Gergiev",
          "Mötley Crüe",
          "Nara Leão",
          "Naturalis",
          "Neil Young",
          "Nelly Furtado",
          "Nelson Cavaquinho",
          "Ney Matogrosso",
          "Nickodemus",
          "Nina Simone",
          "Niyaz",
          "Noise Shapers",
          "Nouvelle Vague",
          "Oceansize",
          "Ophélie Gaillard Romain Lécuyer Toquinho Vinícius de Moraes",
          "Orbital",
          "Os Mutantes",
          "Os Originais Do Samba",
          "Ott",
          "Ozzy Osbourne",
          "Pallas",
          "Pantera",
          "Parliament",
          "Patricia Barber",
          "Patrick Stewart",
          "Paul Moretti Trio",
          "Paula Fernandes",
          "Paulinho Da Viola",
          "Paulo Cesar Pinheiro",
          "Pavlov's Dog",
          "Pedro Paulo & Alex",
          "Pekka Pohjola",
          "Pensées Nocturnes",
          "Peter Sandberg",
          "Planxty",
          "Porcupine Tree",
          "Premiata Forneria Marconi",
          "Proto-Kaw",
          "Punkreas",
          "Pure Reason Revolution",
          "Pyotr Ilyich Tchaikovsky Yuri Temirkanov",
          "Quarteto Em Cy Toquinho Vinícius de Moraes",
          "Quarteto Jobim-Morelenbaum",
          "Quarteto do Rio Roberto Menescal",
          "Quiet Riot",
          "Rainbow",
          "Rare Bird",
          "Ratt",
          "Reina del Mar",
          "Renaissance",
          "Renata Rosa",
          "Richard Mollenbeck",
          "Richard Wagner Sir Georg Solti Wiener Philharmoniker",
          "Richie Havens",
          "Rionegro & Solimões",
          "Robert Delofeu",
          "Robert Elovsson",
          "Robert Elovsson Quartet",
          "Robert Moore",
          "Rodney Carrington",
          "Ronan Keating",
          "Rouge Haven",
          "Roxy Music",
          "Royal Philharmonic Orchestra",
          "Ruben Haag",
          "Rush",
          "STARSET",
          "Saint Asonia",
          "Samuel Lindon",
          "Sarah Simpson",
          "Sassy Players",
          "Savatage",
          "Scorpions",
          "Secos & Molhados",
          "Sergei Baronin",
          "Sergei Prokofiev Theodore Kuchar Ukraine National Symphony Orchestra",
          "Sergei Prokofiev Yuri Temirkanov",
          "Sergio Miguel",
          "Seu Jorge",
          "Shaman",
          "Sharon Jones & The Dap-Kings",
          "Shpongle",
          "Sigimund",
          "Silo Silo",
          "Simon & Garfunkel",
          "Sir Guy the Rocking Cavaliers",
          "Skinshape",
          "So Vea",
          "Som Imaginario",
          "Sonic Brainwaves",
          "Sonic Lab",
          "Soul Machine",
          "Soul Patrol",
          "Spanky Wilson",
          "Stacey Kent",
          "Steely Dan",
          "Steppenwolf",
          "Steve Hackett",
          "Steve Miller Band",
          "Sting",
          "Stratovarius",
          "Subtracters",
          "Sulfur Springs",
          "Supertramp",
          "Sweet Billy Pilgrim",
          "Symphony X",
          "Synchrophonic",
          "Sérgio Sampaio",
          "Tabla Beat Science",
          "Tangerine Dream",
          "Ted Lightfoot",
          "Ted Nugent",
          "Tesla",
          "Thaeme & Thiago",
          "The Academy Is...",
          "The Alan Parsons Project",
          "The Aristocrats",
          "The Blues Brothers",
          "The Citizens of Halloween",
          "The Clash",
          "The Entrainment",
          "The First Edition",
          "The Flower Kings",
          "The Guess Who",
          "The Late Nighters",
          "The Lively Ones",
          "The Mauskovic Dance Band",
          "The Meters",
          "The Monotone Droner",
          "The Moody Blues",
          "The Nice",
          "The Phillips Bros",
          "The Relaxing Sounds of Swedish Nature",
          "The Score",
          "The Six Parts Seven",
          "The Souljazz Orchestra",
          "The Stranglers",
          "The Tangent",
          "The Tides",
          "The Who",
          "Therapeutic Reality",
          "Therion",
          "Thomas Jackson",
          "Threading Hair",
          "Tim Maia",
          "Tom Kalani",
          "Tommy Berre",
          "Tommy Guerrero",
          "Toquinho Vinícius",
          "Toquinho Vinícius de Moraes",
          "Tosca",
          "Tower Of Power",
          "Tranquility Spree",
          "Tre Burt",
          "UFO",
          "Urge Overkill",
          "Van Der Graaf Generator",
          "Van Halen",
          "Vinícius de Moraes",
          "Vorssenn",
          "Watson and the Sherlocks",
          "Whitesnake",
          "Wiener Philharmoniker",
          "William Duhamel",
          "William Galison & Madeleine Peyroux",
          "Winger",
          "Wings",
          "Wishbone Ash",
          "XLD Library",
          "Yes",
          "Younger Brother",
          "Yussef Kamaal",
          "Zeca Pagodinho",
          "Zé Henrique & Gabriel",
          "cloudcrush",
          "eli."
         ],
         "legendgroup": "",
         "marker": {
          "color": [
           0,
           1.0986122886681096,
           1.0986122886681096,
           0,
           0,
           0,
           0,
           0.6931471805599453,
           0,
           1.0986122886681096,
           0,
           0,
           0.6931471805599453,
           0,
           0,
           0,
           0.6365141682948128,
           1.0986122886681096,
           0,
           0.410116318288409,
           0,
           0.6931471805599453,
           0,
           0,
           0,
           0,
           0.6931471805599453,
           0,
           0,
           0.6365141682948128,
           0,
           0,
           0.6931471805599453,
           0,
           0,
           0,
           0,
           0,
           1.0549201679861442,
           0,
           0,
           0,
           1.0986122886681096,
           0,
           0,
           0,
           0,
           1.7155218064052897,
           0,
           0,
           0,
           0.6931471805599453,
           0,
           0,
           0,
           0,
           0.9743147528693494,
           0.6931471805599453,
           0.6730116670092565,
           0.6365141682948128,
           0.6931471805599453,
           0.6365141682948128,
           0,
           0,
           0,
           0,
           0,
           0,
           1.3862943611198906,
           0,
           0,
           0,
           0,
           0,
           0,
           0,
           0,
           0,
           0,
           0,
           0,
           1.2868726303980162,
           0,
           0,
           0,
           0.6365141682948128,
           0,
           0,
           1.7964168641751277,
           0,
           0.6931471805599453,
           0.6931471805599453,
           0,
           0,
           1.0397207708399179,
           0,
           0,
           0,
           0,
           0,
           0,
           0,
           1.0114042647073518,
           1.0888999753452238,
           0,
           0,
           0,
           0,
           0,
           0,
           0,
           0,
           0,
           0,
           0,
           1.0397207708399179,
           0,
           0,
           0,
           1.0986122886681096,
           1.0986122886681096,
           0,
           0,
           0,
           0,
           0,
           1.9390160716295382,
           0,
           0,
           0,
           0.6365141682948128,
           0,
           1.0123308391031733,
           0,
           0.6931471805599453,
           0,
           0,
           0,
           1.9652370493802302,
           0,
           0.6931471805599453,
           0,
           0,
           0,
           0.6615632381579821,
           0,
           0,
           0,
           0,
           0,
           0,
           0.6931471805599453,
           0.6931471805599453,
           0,
           0.6931471805599453,
           2.1144896694565753,
           0,
           0,
           0,
           0,
           0,
           0,
           0,
           0,
           0,
           0,
           0,
           0,
           0,
           0,
           0,
           0,
           0,
           0,
           0,
           0,
           0,
           0,
           0.6931471805599453,
           0,
           0,
           0,
           0,
           0,
           0,
           0,
           0.6931471805599453,
           0,
           0,
           0,
           0,
           0,
           1.8603363592902333,
           0,
           0.6931471805599453,
           1.034601232910181,
           0,
           0,
           0,
           1.4616665484650895,
           0.6931471805599453,
           0,
           0,
           0,
           0,
           0.6365141682948128,
           0.796311640173813,
           0,
           0.6931471805599453,
           0,
           0,
           0,
           0,
           0,
           1.3862943611198906,
           0,
           1.0114042647073516,
           0,
           0,
           0,
           2.005388211442846,
           0.6931471805599453,
           0,
           0,
           0,
           0,
           1.9061547465398494,
           0,
           0.6931471805599453,
           0,
           0.6931471805599453,
           0,
           0,
           0,
           0,
           0,
           0,
           0.6365141682948128,
           0,
           1.3862943611198906,
           0,
           0,
           1.0986122886681096,
           0,
           0.6365141682948128,
           0.5623351446188083,
           1.0986122886681096,
           0,
           0,
           0.6931471805599453,
           0,
           0,
           0,
           0,
           0,
           0.6837389058487535,
           1.0986122886681096,
           0,
           0,
           0,
           0,
           0,
           0,
           0,
           0,
           0,
           0,
           0,
           0,
           0,
           0,
           0.6365141682948128,
           0,
           0,
           0,
           0,
           0,
           0,
           1.5607104090414063,
           0,
           0,
           0,
           2.582273137265433,
           0,
           0,
           0.6931471805599453,
           0,
           1.4941751382893083,
           0,
           0,
           0,
           0,
           0,
           0,
           0.6931471805599453,
           0,
           0,
           0,
           0,
           0,
           0,
           0.6931471805599453,
           0,
           0,
           2.0215029062496366,
           0,
           0,
           1.1770453027162644,
           0,
           1.0397207708399179,
           0,
           0,
           1.5571130980576455,
           0,
           0,
           0,
           0,
           0.6931471805599453,
           0.6931471805599453,
           0,
           0.37677016125643675,
           0,
           1.9692147530521749,
           0.6931471805599453,
           0,
           1.0114042647073518,
           0,
           0,
           0,
           0,
           0,
           0,
           0,
           0,
           1.704551445267297,
           0,
           0,
           0,
           0,
           0,
           1.0986122886681096,
           0,
           1.0986122886681096,
           0.6365141682948128,
           1.366158847569202,
           0,
           0.6931471805599453,
           0,
           0,
           0,
           0,
           0,
           0,
           1.0986122886681096,
           0,
           2.241141889568849,
           0.6931471805599453,
           0.6931471805599453,
           0,
           0,
           0,
           0.6931471805599453,
           0.6365141682948128,
           0.6931471805599453,
           0,
           0,
           1.40266689931564,
           1.0317671113505356,
           0,
           0,
           0,
           0,
           0,
           0,
           0,
           1.0114042647073518,
           0,
           0,
           0.6730116670092565,
           0.5879259686124404,
           0.47413931305783735,
           0,
           2.494991452388741,
           1.9459101490553132,
           1.4354039425363088,
           0,
           0.17884491271684755,
           0,
           0.6931471805599453,
           0.6931471805599453,
           0,
           0,
           1.7751202615271713,
           0.6931471805599453,
           0,
           2.0253262207700677,
           0,
           0,
           0,
           0.6931471805599453,
           0,
           0.6931471805599453,
           0,
           1.0986122886681096,
           0,
           0,
           0,
           0,
           1.3862943611198906,
           0,
           0.5296435025403523,
           0,
           0,
           0,
           0,
           0,
           0,
           0,
           0,
           0,
           0,
           0,
           0,
           0,
           0,
           0,
           0,
           0,
           0,
           0,
           0,
           0,
           0.6931471805599453,
           1.9097697856787386,
           0,
           0,
           0,
           0,
           0.5623351446188083,
           0,
           0,
           0,
           0,
           0.6001660731596457,
           0,
           1.0821955300387671,
           0,
           0.6890092384766586,
           0,
           0,
           0,
           0,
           1.091786238095127,
           0,
           1.333702964278666,
           1.3310751179051972,
           0,
           1.0888999753452238,
           1.3661995933588185,
           0,
           1.3768230873735896,
           0,
           0.9743147528693494,
           0,
           2.613073546075526,
           0,
           0,
           0,
           0.5004024235381879,
           0,
           1.3862943611198906,
           0,
           0,
           0,
           0,
           0,
           0,
           0,
           0,
           1.8800950005796122,
           0.6931471805599453,
           0.9502705392332347,
           0,
           0,
           0,
           0,
           0,
           0.6365141682948128,
           0,
           0,
           0,
           0,
           0.6931471805599453,
           0,
           0,
           0,
           0,
           0,
           0,
           0,
           0,
           0,
           0,
           0,
           0,
           0,
           0,
           0,
           0,
           0,
           0,
           0.6365141682948128,
           0,
           0,
           0,
           1.6505537208713896,
           0,
           0,
           1.2218120603359306,
           0.6931471805599453,
           0.6365141682948128,
           0,
           0,
           0,
           0.9504658211037769,
           0,
           1.0986122886681096,
           0,
           0,
           0.6931471805599453,
           0,
           0,
           0,
           0,
           0,
           0.6931471805599453,
           0.6931471805599453,
           0,
           0,
           0,
           0.6931471805599453,
           0,
           0,
           0.6931471805599453,
           0,
           0,
           0,
           0.6931471805599453,
           0,
           1.0027399543973452,
           0,
           0,
           0,
           1.0986122886681096,
           0,
           0,
           0,
           1.6897589430501525,
           0,
           2.57765934901231,
           0,
           0,
           1.123696198583954,
           0,
           0,
           0,
           0,
           0.6931471805599453,
           0.6365141682948128,
           0,
           0.6931471805599453,
           0.6931471805599453,
           0,
           0.6365141682948128,
           1.6679108554400528,
           3.118984019746792,
           0,
           0,
           0,
           0.5623351446188083,
           0.6931471805599453,
           0,
           0.6931471805599453,
           2.9760460788247176,
           0.6931471805599453,
           0,
           0,
           0,
           0,
           0,
           0,
           0,
           0,
           0,
           0,
           0.410116318288409,
           0,
           0.6931471805599453,
           0.5623351446188083,
           0,
           2.587854638243721,
           0,
           0,
           0,
           2.0727354373411346,
           0,
           0.6931471805599453,
           0.6931471805599453,
           0.6931471805599453,
           0,
           0,
           0,
           1.0986122886681096,
           0,
           0,
           1.6417347121875212,
           0,
           0,
           0.6931471805599453,
           1.236684869140504,
           0.6931471805599453,
           1.0397207708399179,
           0,
           0.6365141682948128,
           0,
           0,
           0.6931471805599453,
           0.6931471805599453,
           1.0986122886681096,
           0,
           0.6931471805599453,
           0,
           0,
           0,
           1.3862943611198906,
           0.6931471805599453,
           0.6931471805599453,
           0.6931471805599453,
           0,
           0,
           0,
           0,
           0,
           0,
           0,
           0,
           0.6931471805599453,
           1.0397207708399179,
           0,
           2.1118695140878936,
           0,
           0,
           0,
           0
          ],
          "coloraxis": "coloraxis",
          "size": [
           1,
           4.170106206192003,
           4.170106206192003,
           1,
           1,
           1,
           1,
           3.0001143274680686,
           1,
           4.170106206192003,
           1,
           1,
           3.0001143274680686,
           1,
           1,
           1,
           2.836696654546624,
           4.170106206192003,
           1,
           2.1834132016153553,
           1,
           3.0001143274680686,
           1,
           1,
           1,
           1,
           3.0001143274680686,
           1,
           1,
           2.836696654546624,
           1,
           1,
           3.0001143274680686,
           1,
           1,
           1,
           1,
           1,
           4.044030187960396,
           1,
           1,
           1,
           4.170106206192003,
           1,
           1,
           1,
           1,
           5.950232562878295,
           1,
           1,
           1,
           3.0001143274680686,
           1,
           1,
           1,
           1,
           3.8114388276141358,
           3.0001143274680686,
           2.9420121952324214,
           2.836696654546624,
           3.0001143274680686,
           2.836696654546624,
           1,
           1,
           1,
           1,
           1,
           1,
           5.000228654936137,
           1,
           1,
           1,
           1,
           1,
           1,
           1,
           1,
           1,
           1,
           1,
           1,
           4.713341780610468,
           1,
           1,
           1,
           2.836696654546624,
           1,
           1,
           6.1836597030364695,
           1,
           3.0001143274680686,
           3.0001143274680686,
           1,
           1,
           4.000171491202103,
           1,
           1,
           1,
           1,
           1,
           1,
           1,
           3.918462654741381,
           4.142080791713262,
           1,
           1,
           1,
           1,
           1,
           1,
           1,
           1,
           1,
           1,
           1,
           4.000171491202103,
           1,
           1,
           1,
           4.170106206192003,
           4.170106206192003,
           1,
           1,
           1,
           1,
           1,
           6.595137562161212,
           1,
           1,
           1,
           2.836696654546624,
           1,
           3.92113633614199,
           1,
           3.0001143274680686,
           1,
           1,
           1,
           6.670799636177027,
           1,
           3.0001143274680686,
           1,
           1,
           1,
           2.908977123872923,
           1,
           1,
           1,
           1,
           1,
           1,
           3.0001143274680686,
           3.0001143274680686,
           1,
           3.0001143274680686,
           7.101476283502767,
           1,
           1,
           1,
           1,
           1,
           1,
           1,
           1,
           1,
           1,
           1,
           1,
           1,
           1,
           1,
           1,
           1,
           1,
           1,
           1,
           1,
           1,
           3.0001143274680686,
           1,
           1,
           1,
           1,
           1,
           1,
           1,
           3.0001143274680686,
           1,
           1,
           1,
           1,
           1,
           6.368102923134356,
           1,
           3.0001143274680686,
           3.985398782821451,
           1,
           1,
           1,
           5.217719248607682,
           3.0001143274680686,
           1,
           1,
           1,
           1,
           2.836696654546624,
           3.297801051941952,
           1,
           3.0001143274680686,
           1,
           1,
           1,
           1,
           1,
           5.000228654936137,
           1,
           3.9184626547413806,
           1,
           1,
           1,
           6.786658023483827,
           3.0001143274680686,
           1,
           1,
           1,
           1,
           6.500314400537188,
           1,
           3.0001143274680686,
           1,
           3.0001143274680686,
           1,
           1,
           1,
           1,
           1,
           1,
           2.836696654546624,
           1,
           5.000228654936137,
           1,
           1,
           4.170106206192003,
           1,
           2.836696654546624,
           2.6226490002921343,
           4.170106206192003,
           1,
           1,
           3.0001143274680686,
           1,
           1,
           1,
           1,
           1,
           2.9729662331320164,
           4.170106206192003,
           1,
           1,
           1,
           1,
           1,
           1,
           1,
           1,
           1,
           1,
           1,
           1,
           1,
           1,
           2.836696654546624,
           1,
           1,
           1,
           1,
           1,
           1,
           5.503515757837382,
           1,
           1,
           1,
           8.451291217989512,
           1,
           1,
           3.0001143274680686,
           1,
           5.311524573215187,
           1,
           1,
           1,
           1,
           1,
           1,
           3.0001143274680686,
           1,
           1,
           1,
           1,
           1,
           1,
           3.0001143274680686,
           1,
           1,
           6.8331578620026825,
           1,
           1,
           4.3964289837260475,
           1,
           4.000171491202103,
           1,
           1,
           5.493135519064476,
           1,
           1,
           1,
           1,
           3.0001143274680686,
           3.0001143274680686,
           1,
           2.087191030745716,
           1,
           6.682277518981445,
           3.0001143274680686,
           1,
           3.918462654741381,
           1,
           1,
           1,
           1,
           1,
           1,
           1,
           1,
           5.918576982209449,
           1,
           1,
           1,
           1,
           1,
           4.170106206192003,
           1,
           4.170106206192003,
           2.836696654546624,
           4.94212652270049,
           1,
           3.0001143274680686,
           1,
           1,
           1,
           1,
           1,
           1,
           4.170106206192003,
           1,
           7.466938233225422,
           3.0001143274680686,
           3.0001143274680686,
           1,
           1,
           1,
           3.0001143274680686,
           2.836696654546624,
           3.0001143274680686,
           1,
           1,
           5.0474725147407495,
           3.977220769123619,
           1,
           1,
           1,
           1,
           1,
           1,
           1,
           3.918462654741381,
           1,
           1,
           2.9420121952324214,
           2.6964927309699807,
           2.368155075660492,
           1,
           8.19943511391303,
           6.615030801895417,
           5.141937054193548,
           1,
           1.5160668359507339,
           1,
           3.0001143274680686,
           3.0001143274680686,
           1,
           1,
           6.122207184325852,
           3.0001143274680686,
           1,
           6.844190246415692,
           1,
           1,
           1,
           3.0001143274680686,
           1,
           3.0001143274680686,
           1,
           4.170106206192003,
           1,
           1,
           1,
           1,
           5.000228654936137,
           1,
           2.5283154683332274,
           1,
           1,
           1,
           1,
           1,
           1,
           1,
           1,
           1,
           1,
           1,
           1,
           1,
           1,
           1,
           1,
           1,
           1,
           1,
           1,
           1,
           3.0001143274680686,
           6.510745794877145,
           1,
           1,
           1,
           1,
           2.6226490002921343,
           1,
           1,
           1,
           1,
           2.7318122261092315,
           1,
           4.122734745893185,
           1,
           2.9881740679111752,
           1,
           1,
           1,
           1,
           4.150409261684468,
           1,
           4.848473285695917,
           4.840890490397356,
           1,
           4.142080791713262,
           4.942244096918321,
           1,
           4.972898773417979,
           1,
           3.8114388276141358,
           1,
           8.540167492294163,
           1,
           1,
           1,
           2.443938725985941,
           1,
           5.000228654936137,
           1,
           1,
           1,
           1,
           1,
           1,
           1,
           1,
           6.425117569723936,
           3.0001143274680686,
           3.7420579262196485,
           1,
           1,
           1,
           1,
           1,
           2.836696654546624,
           1,
           1,
           1,
           1,
           3.0001143274680686,
           1,
           1,
           1,
           1,
           1,
           1,
           1,
           1,
           1,
           1,
           1,
           1,
           1,
           1,
           1,
           1,
           1,
           1,
           2.836696654546624,
           1,
           1,
           1,
           5.762763577432011,
           1,
           1,
           4.525605925969472,
           3.0001143274680686,
           2.836696654546624,
           1,
           1,
           1,
           3.7426214228017898,
           1,
           4.170106206192003,
           1,
           1,
           3.0001143274680686,
           1,
           1,
           1,
           1,
           1,
           3.0001143274680686,
           3.0001143274680686,
           1,
           1,
           1,
           3.0001143274680686,
           1,
           1,
           3.0001143274680686,
           1,
           1,
           1,
           3.0001143274680686,
           1,
           3.8934613106189477,
           1,
           1,
           1,
           4.170106206192003,
           1,
           1,
           1,
           5.8758924031569695,
           1,
           8.43797787812781,
           1,
           1,
           4.242487208407246,
           1,
           1,
           1,
           1,
           3.0001143274680686,
           2.836696654546624,
           1,
           3.0001143274680686,
           3.0001143274680686,
           1,
           2.836696654546624,
           5.812848544244586,
           10,
           1,
           1,
           1,
           2.6226490002921343,
           3.0001143274680686,
           1,
           3.0001143274680686,
           9.587544706816708,
           3.0001143274680686,
           1,
           1,
           1,
           1,
           1,
           1,
           1,
           1,
           1,
           1,
           2.1834132016153553,
           1,
           3.0001143274680686,
           2.6226490002921343,
           1,
           8.467396946164634,
           1,
           1,
           1,
           6.980992149355304,
           1,
           3.0001143274680686,
           3.0001143274680686,
           3.0001143274680686,
           1,
           1,
           1,
           4.170106206192003,
           1,
           1,
           5.737315842640072,
           1,
           1,
           3.0001143274680686,
           4.5685222340985625,
           3.0001143274680686,
           4.000171491202103,
           1,
           2.836696654546624,
           1,
           1,
           3.0001143274680686,
           3.0001143274680686,
           4.170106206192003,
           1,
           3.0001143274680686,
           1,
           1,
           1,
           5.000228654936137,
           3.0001143274680686,
           3.0001143274680686,
           3.0001143274680686,
           1,
           1,
           1,
           1,
           1,
           1,
           1,
           1,
           3.0001143274680686,
           4.000171491202103,
           1,
           7.093915681021691,
           1,
           1,
           1,
           1
          ],
          "sizemode": "area",
          "sizeref": 0.025,
          "symbol": "circle"
         },
         "mode": "markers",
         "name": "",
         "orientation": "v",
         "showlegend": false,
         "type": "scatter",
         "x": [
          431,
          187,
          197,
          213,
          292,
          312,
          280,
          228,
          211,
          197,
          474,
          165,
          177,
          203,
          177,
          160,
          310,
          286,
          369,
          402,
          325,
          213,
          310,
          164,
          471,
          442,
          191,
          211,
          213,
          187,
          187,
          214,
          404,
          277,
          280,
          280,
          348,
          312,
          289,
          310,
          173,
          324,
          392,
          171,
          474,
          347,
          160,
          198,
          509,
          309,
          450,
          343,
          273,
          273,
          324,
          325,
          325,
          177,
          239,
          239,
          239,
          239,
          381,
          288,
          290,
          211,
          226,
          160,
          229,
          331,
          474,
          163,
          358,
          358,
          358,
          358,
          358,
          358,
          358,
          476,
          356,
          260,
          356,
          310,
          400,
          471,
          160,
          348,
          180,
          165,
          276,
          457,
          431,
          306,
          177,
          281,
          254,
          211,
          211,
          312,
          187,
          449,
          319,
          319,
          171,
          400,
          211,
          224,
          400,
          211,
          476,
          203,
          259,
          294,
          174,
          187,
          214,
          239,
          400,
          204,
          471,
          203,
          325,
          294,
          267,
          292,
          160,
          239,
          237,
          273,
          435,
          213,
          323,
          347,
          259,
          213,
          273,
          273,
          180,
          239,
          192,
          325,
          347,
          347,
          369,
          347,
          347,
          283,
          369,
          347,
          381,
          239,
          267,
          280,
          392,
          176,
          281,
          281,
          281,
          273,
          211,
          414,
          280,
          474,
          177,
          435,
          331,
          310,
          476,
          381,
          211,
          211,
          294,
          239,
          309,
          404,
          474,
          171,
          224,
          209,
          400,
          211,
          277,
          279,
          325,
          165,
          165,
          273,
          176,
          177,
          309,
          163,
          259,
          226,
          356,
          292,
          508,
          165,
          309,
          180,
          283,
          312,
          163,
          273,
          171,
          171,
          331,
          203,
          435,
          273,
          239,
          259,
          288,
          239,
          218,
          237,
          171,
          163,
          273,
          508,
          162,
          224,
          273,
          308,
          458,
          411,
          229,
          400,
          177,
          400,
          224,
          474,
          400,
          508,
          302,
          273,
          312,
          471,
          474,
          276,
          177,
          392,
          276,
          400,
          290,
          240,
          392,
          163,
          165,
          218,
          273,
          160,
          325,
          177,
          177,
          290,
          187,
          237,
          294,
          319,
          177,
          214,
          265,
          273,
          474,
          325,
          294,
          271,
          266,
          174,
          294,
          162,
          294,
          414,
          288,
          285,
          324,
          163,
          253,
          310,
          399,
          474,
          168,
          224,
          400,
          211,
          431,
          176,
          325,
          265,
          273,
          273,
          252,
          273,
          277,
          281,
          281,
          400,
          400,
          254,
          277,
          276,
          211,
          400,
          161,
          325,
          273,
          239,
          273,
          197,
          325,
          471,
          168,
          163,
          325,
          400,
          177,
          276,
          276,
          214,
          382,
          474,
          180,
          289,
          292,
          187,
          224,
          450,
          294,
          431,
          266,
          283,
          369,
          458,
          359,
          325,
          163,
          213,
          160,
          392,
          392,
          392,
          392,
          392,
          273,
          276,
          400,
          438,
          476,
          260,
          273,
          273,
          211,
          177,
          309,
          211,
          224,
          259,
          331,
          312,
          312,
          163,
          163,
          174,
          476,
          402,
          273,
          273,
          273,
          276,
          239,
          259,
          211,
          292,
          160,
          279,
          325,
          331,
          239,
          239,
          180,
          294,
          229,
          229,
          259,
          294,
          355,
          351,
          472,
          191,
          431,
          324,
          259,
          267,
          400,
          448,
          280,
          177,
          358,
          211,
          312,
          204,
          508,
          187,
          294,
          508,
          294,
          283,
          280,
          283,
          281,
          177,
          252,
          273,
          269,
          452,
          381,
          211,
          160,
          294,
          164,
          294,
          325,
          294,
          163,
          273,
          211,
          280,
          165,
          273,
          273,
          439,
          286,
          209,
          319,
          171,
          431,
          319,
          211,
          214,
          400,
          396,
          400,
          224,
          275,
          253,
          277,
          225,
          277,
          277,
          277,
          225,
          253,
          274,
          237,
          237,
          269,
          253,
          189,
          262,
          189,
          269,
          246,
          294,
          301,
          331,
          292,
          163,
          163,
          325,
          471,
          224,
          177,
          508,
          160,
          402,
          204,
          508,
          461,
          190,
          239,
          187,
          265,
          294,
          211,
          396,
          471,
          290,
          479,
          214,
          294,
          431,
          239,
          508,
          160,
          211,
          381,
          237,
          431,
          237,
          400,
          224,
          445,
          325,
          273,
          211,
          260,
          392,
          273,
          476,
          358,
          325,
          506,
          279,
          376,
          226,
          320,
          253,
          280,
          239,
          239,
          381,
          237,
          266,
          226,
          237,
          187,
          259,
          260,
          163,
          277,
          450,
          273,
          163,
          325,
          323,
          211,
          453,
          294,
          177,
          276,
          283,
          325,
          266,
          164,
          164,
          474,
          211,
          325,
          180,
          237,
          160,
          163,
          289,
          280,
          163,
          211,
          187,
          289,
          161,
          474,
          177,
          259,
          252,
          508,
          177,
          160,
          191,
          187,
          252,
          211,
          211,
          294,
          259,
          161,
          182,
          259,
          294,
          318,
          187,
          177,
          267,
          431,
          161,
          187,
          160,
          478,
          431,
          325,
          204,
          259,
          273,
          333,
          267,
          279,
          259,
          445,
          331,
          187,
          400,
          210,
          266,
          325,
          239,
          180,
          400,
          187,
          267,
          276,
          252,
          205,
          164,
          177,
          356,
          508,
          240,
          192,
          266,
          191,
          297,
          177,
          177,
          211,
          177,
          163,
          508,
          239,
          239,
          298,
          400,
          213,
          164,
          266,
          239,
          276,
          203,
          239,
          191,
          252,
          237,
          283,
          177,
          294,
          237,
          400,
          293,
          213,
          266,
          381,
          297,
          211,
          273,
          177,
          294
         ],
         "xaxis": "x",
         "y": [
          1,
          3,
          3,
          1,
          1,
          1,
          1,
          2,
          1,
          3,
          2,
          1,
          2,
          1,
          1,
          1,
          3,
          6,
          1,
          7,
          1,
          2,
          2,
          1,
          1,
          1,
          2,
          1,
          22,
          3,
          1,
          1,
          2,
          1,
          1,
          1,
          1,
          1,
          10,
          2,
          1,
          1,
          3,
          1,
          2,
          1,
          1,
          69,
          1,
          1,
          13,
          2,
          1,
          1,
          1,
          1,
          8,
          2,
          5,
          3,
          4,
          3,
          1,
          1,
          1,
          2,
          1,
          1,
          8,
          1,
          2,
          1,
          1,
          1,
          1,
          2,
          1,
          1,
          1,
          2,
          1,
          15,
          1,
          1,
          1,
          3,
          1,
          1,
          46,
          1,
          2,
          2,
          1,
          1,
          4,
          1,
          1,
          4,
          1,
          1,
          1,
          1,
          6,
          10,
          1,
          1,
          3,
          1,
          1,
          12,
          1,
          1,
          1,
          1,
          8,
          4,
          1,
          1,
          1,
          3,
          3,
          1,
          1,
          1,
          1,
          1,
          97,
          1,
          2,
          4,
          3,
          2,
          13,
          1,
          2,
          1,
          2,
          1,
          14,
          1,
          2,
          1,
          1,
          1,
          8,
          1,
          1,
          3,
          1,
          2,
          2,
          2,
          2,
          1,
          2,
          66,
          1,
          1,
          2,
          1,
          2,
          5,
          4,
          2,
          1,
          1,
          1,
          1,
          1,
          1,
          2,
          1,
          1,
          1,
          1,
          1,
          2,
          1,
          2,
          1,
          1,
          1,
          1,
          8,
          1,
          1,
          4,
          2,
          1,
          1,
          1,
          1,
          61,
          1,
          2,
          14,
          1,
          1,
          1,
          33,
          2,
          1,
          1,
          2,
          1,
          3,
          7,
          1,
          2,
          1,
          1,
          1,
          1,
          1,
          8,
          1,
          12,
          1,
          1,
          1,
          55,
          2,
          3,
          8,
          1,
          1,
          8,
          1,
          2,
          1,
          2,
          2,
          1,
          1,
          2,
          2,
          1,
          3,
          2,
          4,
          1,
          1,
          3,
          1,
          3,
          4,
          3,
          2,
          1,
          2,
          2,
          1,
          1,
          1,
          1,
          9,
          3,
          1,
          1,
          6,
          1,
          1,
          1,
          1,
          1,
          2,
          1,
          19,
          1,
          20,
          1,
          15,
          1,
          5,
          1,
          3,
          1,
          1,
          6,
          1,
          1,
          2,
          72,
          1,
          1,
          2,
          1,
          8,
          2,
          1,
          1,
          1,
          2,
          2,
          2,
          1,
          1,
          1,
          2,
          4,
          1,
          2,
          1,
          1,
          58,
          2,
          1,
          28,
          1,
          4,
          1,
          1,
          10,
          1,
          1,
          1,
          1,
          2,
          2,
          2,
          8,
          2,
          34,
          2,
          1,
          6,
          1,
          13,
          1,
          1,
          1,
          9,
          11,
          13,
          12,
          1,
          1,
          1,
          1,
          1,
          3,
          1,
          3,
          3,
          10,
          6,
          2,
          2,
          2,
          1,
          1,
          1,
          2,
          3,
          1,
          72,
          2,
          2,
          1,
          1,
          1,
          2,
          6,
          2,
          1,
          1,
          53,
          13,
          4,
          1,
          2,
          2,
          6,
          1,
          1,
          18,
          1,
          1,
          5,
          38,
          11,
          1,
          60,
          7,
          24,
          1,
          23,
          4,
          2,
          2,
          2,
          1,
          45,
          2,
          1,
          10,
          1,
          1,
          1,
          2,
          1,
          2,
          1,
          3,
          1,
          1,
          1,
          1,
          4,
          1,
          25,
          1,
          1,
          2,
          1,
          11,
          1,
          1,
          1,
          2,
          1,
          1,
          1,
          1,
          1,
          1,
          1,
          1,
          1,
          1,
          2,
          2,
          4,
          45,
          1,
          1,
          1,
          1,
          4,
          2,
          1,
          1,
          1,
          11,
          8,
          8,
          1,
          11,
          2,
          1,
          1,
          1,
          21,
          5,
          31,
          41,
          1,
          10,
          47,
          6,
          36,
          33,
          8,
          1,
          87,
          1,
          1,
          1,
          5,
          1,
          4,
          2,
          2,
          1,
          1,
          1,
          1,
          1,
          1,
          49,
          2,
          5,
          1,
          2,
          2,
          1,
          1,
          3,
          1,
          2,
          1,
          2,
          2,
          1,
          1,
          1,
          1,
          1,
          1,
          1,
          1,
          1,
          1,
          1,
          2,
          1,
          1,
          6,
          2,
          1,
          2,
          3,
          1,
          1,
          2,
          47,
          1,
          1,
          19,
          2,
          3,
          1,
          1,
          1,
          28,
          1,
          3,
          1,
          1,
          2,
          1,
          1,
          1,
          1,
          3,
          2,
          2,
          1,
          1,
          1,
          2,
          1,
          1,
          2,
          1,
          1,
          2,
          2,
          1,
          17,
          1,
          1,
          3,
          3,
          17,
          1,
          3,
          32,
          1,
          58,
          2,
          1,
          25,
          1,
          1,
          1,
          1,
          2,
          3,
          1,
          2,
          2,
          2,
          3,
          47,
          193,
          2,
          1,
          13,
          4,
          2,
          2,
          2,
          114,
          2,
          1,
          1,
          1,
          1,
          1,
          1,
          1,
          1,
          1,
          1,
          7,
          1,
          2,
          4,
          1,
          88,
          1,
          1,
          1,
          48,
          3,
          2,
          2,
          2,
          1,
          13,
          1,
          3,
          1,
          1,
          11,
          1,
          1,
          2,
          24,
          2,
          4,
          6,
          3,
          1,
          1,
          2,
          2,
          3,
          1,
          2,
          1,
          1,
          1,
          4,
          2,
          2,
          2,
          1,
          1,
          1,
          1,
          1,
          1,
          1,
          1,
          2,
          4,
          1,
          54,
          2,
          2,
          1,
          1
         ],
         "yaxis": "y"
        }
       ],
       "layout": {
        "autosize": true,
        "coloraxis": {
         "colorbar": {
          "title": {
           "text": "entropy"
          }
         },
         "colorscale": [
          [
           0,
           "#440154"
          ],
          [
           0.1111111111111111,
           "#482878"
          ],
          [
           0.2222222222222222,
           "#3e4989"
          ],
          [
           0.3333333333333333,
           "#31688e"
          ],
          [
           0.4444444444444444,
           "#26828e"
          ],
          [
           0.5555555555555556,
           "#1f9e89"
          ],
          [
           0.6666666666666666,
           "#35b779"
          ],
          [
           0.7777777777777778,
           "#6ece58"
          ],
          [
           0.8888888888888888,
           "#b5de2b"
          ],
          [
           1,
           "#fde725"
          ]
         ]
        },
        "legend": {
         "itemsizing": "constant",
         "tracegroupgap": 0
        },
        "template": {
         "data": {
          "bar": [
           {
            "error_x": {
             "color": "#2a3f5f"
            },
            "error_y": {
             "color": "#2a3f5f"
            },
            "marker": {
             "line": {
              "color": "#E5ECF6",
              "width": 0.5
             }
            },
            "type": "bar"
           }
          ],
          "barpolar": [
           {
            "marker": {
             "line": {
              "color": "#E5ECF6",
              "width": 0.5
             }
            },
            "type": "barpolar"
           }
          ],
          "carpet": [
           {
            "aaxis": {
             "endlinecolor": "#2a3f5f",
             "gridcolor": "white",
             "linecolor": "white",
             "minorgridcolor": "white",
             "startlinecolor": "#2a3f5f"
            },
            "baxis": {
             "endlinecolor": "#2a3f5f",
             "gridcolor": "white",
             "linecolor": "white",
             "minorgridcolor": "white",
             "startlinecolor": "#2a3f5f"
            },
            "type": "carpet"
           }
          ],
          "choropleth": [
           {
            "colorbar": {
             "outlinewidth": 0,
             "ticks": ""
            },
            "type": "choropleth"
           }
          ],
          "contour": [
           {
            "colorbar": {
             "outlinewidth": 0,
             "ticks": ""
            },
            "colorscale": [
             [
              0,
              "#0d0887"
             ],
             [
              0.1111111111111111,
              "#46039f"
             ],
             [
              0.2222222222222222,
              "#7201a8"
             ],
             [
              0.3333333333333333,
              "#9c179e"
             ],
             [
              0.4444444444444444,
              "#bd3786"
             ],
             [
              0.5555555555555556,
              "#d8576b"
             ],
             [
              0.6666666666666666,
              "#ed7953"
             ],
             [
              0.7777777777777778,
              "#fb9f3a"
             ],
             [
              0.8888888888888888,
              "#fdca26"
             ],
             [
              1,
              "#f0f921"
             ]
            ],
            "type": "contour"
           }
          ],
          "contourcarpet": [
           {
            "colorbar": {
             "outlinewidth": 0,
             "ticks": ""
            },
            "type": "contourcarpet"
           }
          ],
          "heatmap": [
           {
            "colorbar": {
             "outlinewidth": 0,
             "ticks": ""
            },
            "colorscale": [
             [
              0,
              "#0d0887"
             ],
             [
              0.1111111111111111,
              "#46039f"
             ],
             [
              0.2222222222222222,
              "#7201a8"
             ],
             [
              0.3333333333333333,
              "#9c179e"
             ],
             [
              0.4444444444444444,
              "#bd3786"
             ],
             [
              0.5555555555555556,
              "#d8576b"
             ],
             [
              0.6666666666666666,
              "#ed7953"
             ],
             [
              0.7777777777777778,
              "#fb9f3a"
             ],
             [
              0.8888888888888888,
              "#fdca26"
             ],
             [
              1,
              "#f0f921"
             ]
            ],
            "type": "heatmap"
           }
          ],
          "heatmapgl": [
           {
            "colorbar": {
             "outlinewidth": 0,
             "ticks": ""
            },
            "colorscale": [
             [
              0,
              "#0d0887"
             ],
             [
              0.1111111111111111,
              "#46039f"
             ],
             [
              0.2222222222222222,
              "#7201a8"
             ],
             [
              0.3333333333333333,
              "#9c179e"
             ],
             [
              0.4444444444444444,
              "#bd3786"
             ],
             [
              0.5555555555555556,
              "#d8576b"
             ],
             [
              0.6666666666666666,
              "#ed7953"
             ],
             [
              0.7777777777777778,
              "#fb9f3a"
             ],
             [
              0.8888888888888888,
              "#fdca26"
             ],
             [
              1,
              "#f0f921"
             ]
            ],
            "type": "heatmapgl"
           }
          ],
          "histogram": [
           {
            "marker": {
             "colorbar": {
              "outlinewidth": 0,
              "ticks": ""
             }
            },
            "type": "histogram"
           }
          ],
          "histogram2d": [
           {
            "colorbar": {
             "outlinewidth": 0,
             "ticks": ""
            },
            "colorscale": [
             [
              0,
              "#0d0887"
             ],
             [
              0.1111111111111111,
              "#46039f"
             ],
             [
              0.2222222222222222,
              "#7201a8"
             ],
             [
              0.3333333333333333,
              "#9c179e"
             ],
             [
              0.4444444444444444,
              "#bd3786"
             ],
             [
              0.5555555555555556,
              "#d8576b"
             ],
             [
              0.6666666666666666,
              "#ed7953"
             ],
             [
              0.7777777777777778,
              "#fb9f3a"
             ],
             [
              0.8888888888888888,
              "#fdca26"
             ],
             [
              1,
              "#f0f921"
             ]
            ],
            "type": "histogram2d"
           }
          ],
          "histogram2dcontour": [
           {
            "colorbar": {
             "outlinewidth": 0,
             "ticks": ""
            },
            "colorscale": [
             [
              0,
              "#0d0887"
             ],
             [
              0.1111111111111111,
              "#46039f"
             ],
             [
              0.2222222222222222,
              "#7201a8"
             ],
             [
              0.3333333333333333,
              "#9c179e"
             ],
             [
              0.4444444444444444,
              "#bd3786"
             ],
             [
              0.5555555555555556,
              "#d8576b"
             ],
             [
              0.6666666666666666,
              "#ed7953"
             ],
             [
              0.7777777777777778,
              "#fb9f3a"
             ],
             [
              0.8888888888888888,
              "#fdca26"
             ],
             [
              1,
              "#f0f921"
             ]
            ],
            "type": "histogram2dcontour"
           }
          ],
          "mesh3d": [
           {
            "colorbar": {
             "outlinewidth": 0,
             "ticks": ""
            },
            "type": "mesh3d"
           }
          ],
          "parcoords": [
           {
            "line": {
             "colorbar": {
              "outlinewidth": 0,
              "ticks": ""
             }
            },
            "type": "parcoords"
           }
          ],
          "pie": [
           {
            "automargin": true,
            "type": "pie"
           }
          ],
          "scatter": [
           {
            "marker": {
             "colorbar": {
              "outlinewidth": 0,
              "ticks": ""
             }
            },
            "type": "scatter"
           }
          ],
          "scatter3d": [
           {
            "line": {
             "colorbar": {
              "outlinewidth": 0,
              "ticks": ""
             }
            },
            "marker": {
             "colorbar": {
              "outlinewidth": 0,
              "ticks": ""
             }
            },
            "type": "scatter3d"
           }
          ],
          "scattercarpet": [
           {
            "marker": {
             "colorbar": {
              "outlinewidth": 0,
              "ticks": ""
             }
            },
            "type": "scattercarpet"
           }
          ],
          "scattergeo": [
           {
            "marker": {
             "colorbar": {
              "outlinewidth": 0,
              "ticks": ""
             }
            },
            "type": "scattergeo"
           }
          ],
          "scattergl": [
           {
            "marker": {
             "colorbar": {
              "outlinewidth": 0,
              "ticks": ""
             }
            },
            "type": "scattergl"
           }
          ],
          "scattermapbox": [
           {
            "marker": {
             "colorbar": {
              "outlinewidth": 0,
              "ticks": ""
             }
            },
            "type": "scattermapbox"
           }
          ],
          "scatterpolar": [
           {
            "marker": {
             "colorbar": {
              "outlinewidth": 0,
              "ticks": ""
             }
            },
            "type": "scatterpolar"
           }
          ],
          "scatterpolargl": [
           {
            "marker": {
             "colorbar": {
              "outlinewidth": 0,
              "ticks": ""
             }
            },
            "type": "scatterpolargl"
           }
          ],
          "scatterternary": [
           {
            "marker": {
             "colorbar": {
              "outlinewidth": 0,
              "ticks": ""
             }
            },
            "type": "scatterternary"
           }
          ],
          "surface": [
           {
            "colorbar": {
             "outlinewidth": 0,
             "ticks": ""
            },
            "colorscale": [
             [
              0,
              "#0d0887"
             ],
             [
              0.1111111111111111,
              "#46039f"
             ],
             [
              0.2222222222222222,
              "#7201a8"
             ],
             [
              0.3333333333333333,
              "#9c179e"
             ],
             [
              0.4444444444444444,
              "#bd3786"
             ],
             [
              0.5555555555555556,
              "#d8576b"
             ],
             [
              0.6666666666666666,
              "#ed7953"
             ],
             [
              0.7777777777777778,
              "#fb9f3a"
             ],
             [
              0.8888888888888888,
              "#fdca26"
             ],
             [
              1,
              "#f0f921"
             ]
            ],
            "type": "surface"
           }
          ],
          "table": [
           {
            "cells": {
             "fill": {
              "color": "#EBF0F8"
             },
             "line": {
              "color": "white"
             }
            },
            "header": {
             "fill": {
              "color": "#C8D4E3"
             },
             "line": {
              "color": "white"
             }
            },
            "type": "table"
           }
          ]
         },
         "layout": {
          "annotationdefaults": {
           "arrowcolor": "#2a3f5f",
           "arrowhead": 0,
           "arrowwidth": 1
          },
          "autotypenumbers": "strict",
          "coloraxis": {
           "colorbar": {
            "outlinewidth": 0,
            "ticks": ""
           }
          },
          "colorscale": {
           "diverging": [
            [
             0,
             "#8e0152"
            ],
            [
             0.1,
             "#c51b7d"
            ],
            [
             0.2,
             "#de77ae"
            ],
            [
             0.3,
             "#f1b6da"
            ],
            [
             0.4,
             "#fde0ef"
            ],
            [
             0.5,
             "#f7f7f7"
            ],
            [
             0.6,
             "#e6f5d0"
            ],
            [
             0.7,
             "#b8e186"
            ],
            [
             0.8,
             "#7fbc41"
            ],
            [
             0.9,
             "#4d9221"
            ],
            [
             1,
             "#276419"
            ]
           ],
           "sequential": [
            [
             0,
             "#0d0887"
            ],
            [
             0.1111111111111111,
             "#46039f"
            ],
            [
             0.2222222222222222,
             "#7201a8"
            ],
            [
             0.3333333333333333,
             "#9c179e"
            ],
            [
             0.4444444444444444,
             "#bd3786"
            ],
            [
             0.5555555555555556,
             "#d8576b"
            ],
            [
             0.6666666666666666,
             "#ed7953"
            ],
            [
             0.7777777777777778,
             "#fb9f3a"
            ],
            [
             0.8888888888888888,
             "#fdca26"
            ],
            [
             1,
             "#f0f921"
            ]
           ],
           "sequentialminus": [
            [
             0,
             "#0d0887"
            ],
            [
             0.1111111111111111,
             "#46039f"
            ],
            [
             0.2222222222222222,
             "#7201a8"
            ],
            [
             0.3333333333333333,
             "#9c179e"
            ],
            [
             0.4444444444444444,
             "#bd3786"
            ],
            [
             0.5555555555555556,
             "#d8576b"
            ],
            [
             0.6666666666666666,
             "#ed7953"
            ],
            [
             0.7777777777777778,
             "#fb9f3a"
            ],
            [
             0.8888888888888888,
             "#fdca26"
            ],
            [
             1,
             "#f0f921"
            ]
           ]
          },
          "colorway": [
           "#636efa",
           "#EF553B",
           "#00cc96",
           "#ab63fa",
           "#FFA15A",
           "#19d3f3",
           "#FF6692",
           "#B6E880",
           "#FF97FF",
           "#FECB52"
          ],
          "font": {
           "color": "#2a3f5f"
          },
          "geo": {
           "bgcolor": "white",
           "lakecolor": "white",
           "landcolor": "#E5ECF6",
           "showlakes": true,
           "showland": true,
           "subunitcolor": "white"
          },
          "hoverlabel": {
           "align": "left"
          },
          "hovermode": "closest",
          "mapbox": {
           "style": "light"
          },
          "paper_bgcolor": "white",
          "plot_bgcolor": "#E5ECF6",
          "polar": {
           "angularaxis": {
            "gridcolor": "white",
            "linecolor": "white",
            "ticks": ""
           },
           "bgcolor": "#E5ECF6",
           "radialaxis": {
            "gridcolor": "white",
            "linecolor": "white",
            "ticks": ""
           }
          },
          "scene": {
           "xaxis": {
            "backgroundcolor": "#E5ECF6",
            "gridcolor": "white",
            "gridwidth": 2,
            "linecolor": "white",
            "showbackground": true,
            "ticks": "",
            "zerolinecolor": "white"
           },
           "yaxis": {
            "backgroundcolor": "#E5ECF6",
            "gridcolor": "white",
            "gridwidth": 2,
            "linecolor": "white",
            "showbackground": true,
            "ticks": "",
            "zerolinecolor": "white"
           },
           "zaxis": {
            "backgroundcolor": "#E5ECF6",
            "gridcolor": "white",
            "gridwidth": 2,
            "linecolor": "white",
            "showbackground": true,
            "ticks": "",
            "zerolinecolor": "white"
           }
          },
          "shapedefaults": {
           "line": {
            "color": "#2a3f5f"
           }
          },
          "ternary": {
           "aaxis": {
            "gridcolor": "white",
            "linecolor": "white",
            "ticks": ""
           },
           "baxis": {
            "gridcolor": "white",
            "linecolor": "white",
            "ticks": ""
           },
           "bgcolor": "#E5ECF6",
           "caxis": {
            "gridcolor": "white",
            "linecolor": "white",
            "ticks": ""
           }
          },
          "title": {
           "x": 0.05
          },
          "xaxis": {
           "automargin": true,
           "gridcolor": "white",
           "linecolor": "white",
           "ticks": "",
           "title": {
            "standoff": 15
           },
           "zerolinecolor": "white",
           "zerolinewidth": 2
          },
          "yaxis": {
           "automargin": true,
           "gridcolor": "white",
           "linecolor": "white",
           "ticks": "",
           "title": {
            "standoff": 15
           },
           "zerolinecolor": "white",
           "zerolinewidth": 2
          }
         }
        },
        "title": {
         "text": "Engagement"
        },
        "xaxis": {
         "anchor": "y",
         "autorange": true,
         "domain": [
          0,
          1
         ],
         "range": [
          2.168025692453658,
          2.738179645551757
         ],
         "title": {
          "text": "time_from_last_play"
         },
         "type": "log"
        },
        "yaxis": {
         "anchor": "x",
         "autorange": true,
         "domain": [
          0,
          1
         ],
         "range": [
          -17.76236115542445,
          218.6669285821907
         ],
         "title": {
          "text": "total_plays"
         },
         "type": "linear"
        }
       }
      },
      "image/png": "[encoded data removed]",
      "text/html": [
       "<div>                            <div id=\"b36d1420-3303-466d-a230-cff529dee8d8\" class=\"plotly-graph-div\" style=\"height:525px; width:100%;\"></div>            <script type=\"text/javascript\">                require([\"plotly\"], function(Plotly) {                    window.PLOTLYENV=window.PLOTLYENV || {};                                    if (document.getElementById(\"b36d1420-3303-466d-a230-cff529dee8d8\")) {                    Plotly.newPlot(                        \"b36d1420-3303-466d-a230-cff529dee8d8\",                        [{\"customdata\": [[1.0], [4.170106206192003], [4.170106206192003], [1.0], [1.0], [1.0], [1.0], [3.0001143274680686], [1.0], [4.170106206192003], [1.0], [1.0], [3.0001143274680686], [1.0], [1.0], [1.0], [2.836696654546624], [4.170106206192003], [1.0], [2.1834132016153553], [1.0], [3.0001143274680686], [1.0], [1.0], [1.0], [1.0], [3.0001143274680686], [1.0], [1.0], [2.836696654546624], [1.0], [1.0], [3.0001143274680686], [1.0], [1.0], [1.0], [1.0], [1.0], [4.044030187960396], [1.0], [1.0], [1.0], [4.170106206192003], [1.0], [1.0], [1.0], [1.0], [5.950232562878295], [1.0], [1.0], [1.0], [3.0001143274680686], [1.0], [1.0], [1.0], [1.0], [3.8114388276141358], [3.0001143274680686], [2.9420121952324214], [2.836696654546624], [3.0001143274680686], [2.836696654546624], [1.0], [1.0], [1.0], [1.0], [1.0], [1.0], [5.000228654936137], [1.0], [1.0], [1.0], [1.0], [1.0], [1.0], [1.0], [1.0], [1.0], [1.0], [1.0], [1.0], [4.713341780610468], [1.0], [1.0], [1.0], [2.836696654546624], [1.0], [1.0], [6.1836597030364695], [1.0], [3.0001143274680686], [3.0001143274680686], [1.0], [1.0], [4.000171491202103], [1.0], [1.0], [1.0], [1.0], [1.0], [1.0], [1.0], [3.918462654741381], [4.142080791713262], [1.0], [1.0], [1.0], [1.0], [1.0], [1.0], [1.0], [1.0], [1.0], [1.0], [1.0], [4.000171491202103], [1.0], [1.0], [1.0], [4.170106206192003], [4.170106206192003], [1.0], [1.0], [1.0], [1.0], [1.0], [6.595137562161212], [1.0], [1.0], [1.0], [2.836696654546624], [1.0], [3.92113633614199], [1.0], [3.0001143274680686], [1.0], [1.0], [1.0], [6.670799636177027], [1.0], [3.0001143274680686], [1.0], [1.0], [1.0], [2.908977123872923], [1.0], [1.0], [1.0], [1.0], [1.0], [1.0], [3.0001143274680686], [3.0001143274680686], [1.0], [3.0001143274680686], [7.101476283502767], [1.0], [1.0], [1.0], [1.0], [1.0], [1.0], [1.0], [1.0], [1.0], [1.0], [1.0], [1.0], [1.0], [1.0], [1.0], [1.0], [1.0], [1.0], [1.0], [1.0], [1.0], [1.0], [3.0001143274680686], [1.0], [1.0], [1.0], [1.0], [1.0], [1.0], [1.0], [3.0001143274680686], [1.0], [1.0], [1.0], [1.0], [1.0], [6.368102923134356], [1.0], [3.0001143274680686], [3.985398782821451], [1.0], [1.0], [1.0], [5.217719248607682], [3.0001143274680686], [1.0], [1.0], [1.0], [1.0], [2.836696654546624], [3.297801051941952], [1.0], [3.0001143274680686], [1.0], [1.0], [1.0], [1.0], [1.0], [5.000228654936137], [1.0], [3.9184626547413806], [1.0], [1.0], [1.0], [6.786658023483827], [3.0001143274680686], [1.0], [1.0], [1.0], [1.0], [6.500314400537188], [1.0], [3.0001143274680686], [1.0], [3.0001143274680686], [1.0], [1.0], [1.0], [1.0], [1.0], [1.0], [2.836696654546624], [1.0], [5.000228654936137], [1.0], [1.0], [4.170106206192003], [1.0], [2.836696654546624], [2.6226490002921343], [4.170106206192003], [1.0], [1.0], [3.0001143274680686], [1.0], [1.0], [1.0], [1.0], [1.0], [2.9729662331320164], [4.170106206192003], [1.0], [1.0], [1.0], [1.0], [1.0], [1.0], [1.0], [1.0], [1.0], [1.0], [1.0], [1.0], [1.0], [1.0], [2.836696654546624], [1.0], [1.0], [1.0], [1.0], [1.0], [1.0], [5.503515757837382], [1.0], [1.0], [1.0], [8.451291217989512], [1.0], [1.0], [3.0001143274680686], [1.0], [5.311524573215187], [1.0], [1.0], [1.0], [1.0], [1.0], [1.0], [3.0001143274680686], [1.0], [1.0], [1.0], [1.0], [1.0], [1.0], [3.0001143274680686], [1.0], [1.0], [6.8331578620026825], [1.0], [1.0], [4.3964289837260475], [1.0], [4.000171491202103], [1.0], [1.0], [5.493135519064476], [1.0], [1.0], [1.0], [1.0], [3.0001143274680686], [3.0001143274680686], [1.0], [2.087191030745716], [1.0], [6.682277518981445], [3.0001143274680686], [1.0], [3.918462654741381], [1.0], [1.0], [1.0], [1.0], [1.0], [1.0], [1.0], [1.0], [5.918576982209449], [1.0], [1.0], [1.0], [1.0], [1.0], [4.170106206192003], [1.0], [4.170106206192003], [2.836696654546624], [4.94212652270049], [1.0], [3.0001143274680686], [1.0], [1.0], [1.0], [1.0], [1.0], [1.0], [4.170106206192003], [1.0], [7.466938233225422], [3.0001143274680686], [3.0001143274680686], [1.0], [1.0], [1.0], [3.0001143274680686], [2.836696654546624], [3.0001143274680686], [1.0], [1.0], [5.0474725147407495], [3.977220769123619], [1.0], [1.0], [1.0], [1.0], [1.0], [1.0], [1.0], [3.918462654741381], [1.0], [1.0], [2.9420121952324214], [2.6964927309699807], [2.368155075660492], [1.0], [8.19943511391303], [6.615030801895417], [5.141937054193548], [1.0], [1.5160668359507339], [1.0], [3.0001143274680686], [3.0001143274680686], [1.0], [1.0], [6.122207184325852], [3.0001143274680686], [1.0], [6.844190246415692], [1.0], [1.0], [1.0], [3.0001143274680686], [1.0], [3.0001143274680686], [1.0], [4.170106206192003], [1.0], [1.0], [1.0], [1.0], [5.000228654936137], [1.0], [2.5283154683332274], [1.0], [1.0], [1.0], [1.0], [1.0], [1.0], [1.0], [1.0], [1.0], [1.0], [1.0], [1.0], [1.0], [1.0], [1.0], [1.0], [1.0], [1.0], [1.0], [1.0], [1.0], [3.0001143274680686], [6.510745794877145], [1.0], [1.0], [1.0], [1.0], [2.6226490002921343], [1.0], [1.0], [1.0], [1.0], [2.7318122261092315], [1.0], [4.122734745893185], [1.0], [2.9881740679111752], [1.0], [1.0], [1.0], [1.0], [4.150409261684468], [1.0], [4.848473285695917], [4.840890490397356], [1.0], [4.142080791713262], [4.942244096918321], [1.0], [4.972898773417979], [1.0], [3.8114388276141358], [1.0], [8.540167492294163], [1.0], [1.0], [1.0], [2.443938725985941], [1.0], [5.000228654936137], [1.0], [1.0], [1.0], [1.0], [1.0], [1.0], [1.0], [1.0], [6.425117569723936], [3.0001143274680686], [3.7420579262196485], [1.0], [1.0], [1.0], [1.0], [1.0], [2.836696654546624], [1.0], [1.0], [1.0], [1.0], [3.0001143274680686], [1.0], [1.0], [1.0], [1.0], [1.0], [1.0], [1.0], [1.0], [1.0], [1.0], [1.0], [1.0], [1.0], [1.0], [1.0], [1.0], [1.0], [1.0], [2.836696654546624], [1.0], [1.0], [1.0], [5.762763577432011], [1.0], [1.0], [4.525605925969472], [3.0001143274680686], [2.836696654546624], [1.0], [1.0], [1.0], [3.7426214228017898], [1.0], [4.170106206192003], [1.0], [1.0], [3.0001143274680686], [1.0], [1.0], [1.0], [1.0], [1.0], [3.0001143274680686], [3.0001143274680686], [1.0], [1.0], [1.0], [3.0001143274680686], [1.0], [1.0], [3.0001143274680686], [1.0], [1.0], [1.0], [3.0001143274680686], [1.0], [3.8934613106189477], [1.0], [1.0], [1.0], [4.170106206192003], [1.0], [1.0], [1.0], [5.8758924031569695], [1.0], [8.43797787812781], [1.0], [1.0], [4.242487208407246], [1.0], [1.0], [1.0], [1.0], [3.0001143274680686], [2.836696654546624], [1.0], [3.0001143274680686], [3.0001143274680686], [1.0], [2.836696654546624], [5.812848544244586], [10.0], [1.0], [1.0], [1.0], [2.6226490002921343], [3.0001143274680686], [1.0], [3.0001143274680686], [9.587544706816708], [3.0001143274680686], [1.0], [1.0], [1.0], [1.0], [1.0], [1.0], [1.0], [1.0], [1.0], [1.0], [2.1834132016153553], [1.0], [3.0001143274680686], [2.6226490002921343], [1.0], [8.467396946164634], [1.0], [1.0], [1.0], [6.980992149355304], [1.0], [3.0001143274680686], [3.0001143274680686], [3.0001143274680686], [1.0], [1.0], [1.0], [4.170106206192003], [1.0], [1.0], [5.737315842640072], [1.0], [1.0], [3.0001143274680686], [4.5685222340985625], [3.0001143274680686], [4.000171491202103], [1.0], [2.836696654546624], [1.0], [1.0], [3.0001143274680686], [3.0001143274680686], [4.170106206192003], [1.0], [3.0001143274680686], [1.0], [1.0], [1.0], [5.000228654936137], [3.0001143274680686], [3.0001143274680686], [3.0001143274680686], [1.0], [1.0], [1.0], [1.0], [1.0], [1.0], [1.0], [1.0], [3.0001143274680686], [4.000171491202103], [1.0], [7.093915681021691], [1.0], [1.0], [1.0], [1.0]], \"hovertemplate\": \"<b>%{hovertext}</b><br><br>time_from_last_play=%{x}<br>total_plays=%{y}<br>entropy=%{marker.color}<extra></extra>\", \"hovertext\": [\"...And You Will Know Us by the Trail of Dead\", \"369\", \"AC/DC\", \"ASMR Binaural Beats Library\", \"Abad\\u00e1-Capoeira\", \"Academy of St. Martin in the Fields Alexander Briger George Frideric Handel\", \"Academy of St. Martin in the Fields Christine Pendrill Joaqu\\u00edn Rodrigo Pepe Romero Sir Neville Marriner\", \"Ace Ventura Bliss Juno Reactor\", \"Adoniran Barbosa\", \"Aerosmith\", \"Agni Bjark\", \"Airstream\", \"Airwaves\", \"Alan Silvestri\", \"Alaskan Tapes\", \"Alceu Valen\\u00e7a\", \"Alena Cherny Erik Satie\", \"Alexander Borodin Mariinsky Orchestra Valery Gergiev\", \"Alexander Melnikov Dmitri Shostakovich Mahler Chamber Orchestra Teodor Currentzis\", \"Alexander Toradze Mariinsky Orchestra Sergei Prokofiev Valery Gergiev\", \"Alexandre Tharaud Fr\\u00e9d\\u00e9ric Chopin\", \"Alfachronic\", \"Alice Sara Ott Claude Debussy\", \"All Saints\", \"Allah-Las\", \"Allan Holdsworth\", \"Alm Bark\", \"Almaz Seu Jorge\", \"Alpha Brain Waves Binaural Beats Library\", \"Am Steg\", \"Amaranth Cove\", \"Ambient Chronicity\", \"America\", \"Amigo Mestre Casquinha\", \"Andre Anichanov Aram Khachaturian St. Petersburg State Symphony Orchestra\", \"Andreas Staier Daniel Sepec Franz Schubert Roel Dieltiens\", \"Andrew Armstrong B\\u00e9la Bart\\u00f3k James Ehnes\", \"Andrew Davis BBC Philharmonic Ralph Vaughan Williams Tasmin Little\", \"Andrew Mogrelia Sergei Prokofiev Ukraine National Symphony Orchestra\", \"Andrew Wan Camille Saint-Sa\\u00ebns Kent Nagano Orchestre Symphonique de Montr\\u00e9al\", \"Andrew York\", \"Andr\\u00e1s Schiff Johann Sebastian Bach\", \"Andr\\u00e9 Previn Itzhak Perlman John Williams Pittsburgh Symphony Orchestra\", \"Andr\\u00e9 Previn London Symphony Orchestra Sergei Rachmaninoff Vladimir Ashkenazy\", \"Andy Kohl\", \"Angela Chun B\\u00e9la Bart\\u00f3k Jennifer Chun\", \"Angela Ro Ro\", \"Angra\", \"Animato\", \"Anjei Dave Pad\", \"Anne-Sophie Mutter John Williams The Recording Arts Orchestra of Los Angeles\", \"Antoni Wit Polish National Radio Symphony Orchestra Sergei Prokofiev Tedi Papavrami\", \"Antony & Gabriel\", \"Antony & Gabriel Bruno & Barretto\", \"Anton\\u00edn Dvo\\u0159\\u00e1k Czech Philharmonic Orchestra Ji\\u0159\\u00ed B\\u011blohl\\u00e1vek\", \"Anton\\u00edn Dvo\\u0159\\u00e1k Mariss Jansons Oslo Philharmonic Orchestra\", \"Anton\\u00edn Dvo\\u0159\\u00e1k Saint Petersburg Philharmonic Yuri Temirkanov\", \"Antuigo\", \"Ant\\u00f4nio Carlos Jobim\", \"Ant\\u00f4nio Carlos Jobim Astrud Gilberto\", \"Ant\\u00f4nio Carlos Jobim Elis Regina\", \"Ant\\u00f4nio Carlos Jobim Mi\\u00facha\", \"Ant\\u00f4nio Carlos Jobim Vin\\u00edcius\", \"Aphrodite's Child\", \"Aretha Franklin The Blues Brothers\", \"Arlindo Cruz\", \"Arzachel\", \"As Orqu\\u00eddeas do Brasil Itamar Assump\\u00e7\\u00e3o\", \"Astrix Juno Reactor\", \"Astrud Gilberto Jo\\u00e3o Gilberto Stan Getz\", \"August Wilhelmsson\", \"Auguste Henrique\", \"Avantasia\", \"Avantasia Bob Catley Eric Martin Geoff Tate Jorn Lande Ronnie Atkins\", \"Avantasia Candice Night\", \"Avantasia Geoff Tate\", \"Avantasia Hansi Kursch Jorn Lande\", \"Avantasia Hansi Kursch Jorn Lande Mille Petrozza Ronnie Atkins\", \"Avantasia Ronnie Atkins\", \"Avishai Cohen Yonathan Avishai\", \"Ayo Salawu Cassie Kinoshi KOKOROKO Mutale Chashi Onome Edgeworth Oscar Laurence Richie Seivwright Sheila Maurice-Grey\", \"Ayreon\", \"Azymuth\", \"BBC Symphony Orchestra Edvard Grieg Javier Perianes Sakari Oramo\", \"Babe Ruth\", \"Bacao Rhythm & Steel Band\", \"Baden Powell Vin\\u00edcius de Moraes\", \"Balazs Szokolay B\\u00e9la Bart\\u00f3k\", \"Balkan Beat Box\", \"Barcelona\", \"Barclay James Harvest\", \"Bavarian Radio Symphony Orchestra Gustav Mahler Mariss Jansons\", \"Beardfish\", \"Beatallica\", \"Beau Projet\", \"Bed\\u0159ich Smetana Berliner Philharmoniker Herbert von Karajan\", \"Bed\\u0159ich Smetana Gewandhausorchester Leipzig V\\u00e1clav Neumann\", \"Belchior\", \"Belchior Gilvan de Oliveira\", \"Benjamin Grosvenor George Gershwin James Judd Royal Liverpool Philharmonic Orchestra\", \"Benjamin Martins\", \"Berliner Philharmoniker Claudio Abbado Gustav Mahler\", \"Berliner Philharmoniker Claudio Abbado Martha Argerich Maurice Ravel\", \"Berliner Philharmoniker Claudio Abbado Martha Argerich Sergei Prokofiev\", \"Bernard Haitink Dmitri Shostakovich London Philharmonic Orchestra\", \"Bernie Worrell\", \"Beth Carvalho\", \"Beth Rowley\", \"Betty Davis\", \"Bezerra Da Silva\", \"Bill Frisell John Scofield Marc Johnson Peter Erskine\", \"Billy Idol\", \"Billy Joel\", \"Billy Marchiafava Lentra TrippyThaKid\", \"Binaural Beats Binaural Beats Study Music Study Alpha Waves\", \"Binaural Beats Sleep\", \"Binaural Systems\", \"Bj\\u00f6rn Skifs Blue Swede\", \"Black Merda!\", \"Black Sabbath\", \"Blockhead\", \"Blondie\", \"Blue Shoes Duo\", \"Blue System\", \"Blue \\u00d6yster Cult\", \"Bob Brookmeyer Stan Getz\", \"Bob Marley & The Wailers\", \"Bobby Womack\", \"Bon Jovi\", \"Boston Pops Orchestra John Williams\", \"Brad Mehldau\", \"Brainstate\", \"Brand X\", \"Branislav Kostka Budapest Festival Orchestra B\\u00e9la Bart\\u00f3k Iv\\u00e1n Fischer SLUK Slovakian Folkensemble Choir\", \"Bread\", \"Bruce Brus\", \"Bruninho & Davi Renato Albani\", \"Bruno & Barretto Dj Kevin\", \"Bruxas\", \"Buffy Sainte-Marie\", \"Burgundy Skies\", \"Burt Mitchell\", \"B\\u00e9la Bart\\u00f3k Edgar Guggeis Martha Argerich Nelson Freire Peter Sadlo\", \"B\\u00e9la Bart\\u00f3k Frankfurt Radio Symphony Orchestra Patricia Kopatchinskaja Peter E\\u00f6tv\\u00f6s\", \"B\\u00e9la Bart\\u00f3k Hungarian National Philharmonic Zolt\\u00e1n Kocsis\", \"B\\u00e9la Bart\\u00f3k Istv\\u00e1n Kert\\u00e9sz Julius Katchen London Symphony Orchestra\", \"B\\u00e9la Bart\\u00f3k Jerusalem Quartet\", \"B\\u00e9la Bart\\u00f3k London Symphony Orchestra Valery Gergiev Yefim Bronfman\", \"B\\u00e9la Bart\\u00f3k Martin Fr\\u00f6st Royal Stockholm Philharmonic Orchestra\", \"B\\u00e9la Bart\\u00f3k Zolt\\u00e1n Kocsis\", \"Caetano Veloso\", \"Caetano Veloso Gilberto Gil\", \"Camel\", \"Camille Saint-Sa\\u00ebns Frank Braley Gautier Capu\\u00e7on Renaud Capu\\u00e7on\", \"Carlos Gardel Itzhak Perlman John Williams Pittsburgh Symphony Orchestra\", \"Carlos Quilombola Danilo Andrade Felix Quilombola\", \"Carmen Gonzales Gianandrea Gavazzeni Ida Bormida Julia Varady Luciano Pavarotti National Philharmonic Orchestra Piero Cappuccilli Pietro Mascagni The London Opera Chorus\", \"Carmen Gonzales Gianandrea Gavazzeni Luciano Pavarotti National Philharmonic Orchestra Piero Cappuccilli Pietro Mascagni The London Opera Chorus\", \"Carmen Gonzales Gianandrea Gavazzeni Luciano Pavarotti National Philharmonic Orchestra Pietro Mascagni The London Opera Chorus\", \"Carreiro & Capataz\", \"Cartola\", \"Centro Ypiranga de Pastinha\", \"Charl du Plessis Trio Christoph Willibald Gluck\", \"Charles Bolt\", \"Charles Bolt Claes Nilsson\", \"Charles Mingus\", \"Charlie Byrd Stan Getz\", \"Chicago Symphony Orchestra Daniel Barenboim Gustav Mahler\", \"Chick Corea\", \"Chico Buarque\", \"Chico Science\", \"Chico Science Na\\u00e7\\u00e3o Zumbi\", \"China Forbes Patrick Abbey Pink Martini Thomas M. Lauderdale\", \"Chingon\", \"Chris Malinchak\", \"Chris Stills\", \"Christian L\\u00f6ffler\", \"Christopher Hogwood Igor Stravinsky Saint Paul Chamber Orchestra\", \"Chuck Berry\", \"City of the Sun\", \"Claire Gibault Leonard Bernstein Natalie Dessay The Paris Mozart Orchestra\", \"Clara Nunes\", \"Claude Debussy James Rhodes\", \"Claude Debussy Krystian Zimerman\", \"Cleveland Orchestra Lorin Maazel Sergei Prokofiev\", \"Coldplay\", \"Concertgebouworkest Dmitri Shostakovich Riccardo Chailly\", \"Conrado & Aleksandro\", \"Cooper Sams\", \"Cora Zea\", \"Cristobal de Morales Jan Garbarek The Hilliard Ensemble\", \"Cristopher Varela\", \"Crosby, Stills, Nash & Young\", \"Curved Air\", \"Cymande\", \"C\\u00edcero\", \"DJ Shadow Nils Frahm\", \"DJ Shah\", \"Dada Life\", \"Dan Ar Braz\", \"Daniel Barenboim\", \"Daniel Harding Jules Massenet London Symphony Orchestra Nicola Benedetti\", \"Daniel Kaede\", \"Daniel Luan Santana\", \"Daniil Trifonov Gidon Kremer Sergei Rachmaninoff\", \"Daniil Trifonov Philadelphia Orchestra Sergei Rachmaninoff Yannick N\\u00e9zet-S\\u00e9guin\", \"Danny Elfman\", \"Daryl Hall & John Oates\", \"Dave Brubeck\", \"David Arnold John Williams Royal Philharmonic Orchestra\", \"David Bowie\", \"David Crosby\", \"David Gilmour\", \"David Hess\", \"Deep Purple\", \"Def Leppard\", \"Denis Matsuev Mariinsky Orchestra Sergei Rachmaninoff Valery Gergiev\", \"Denis Turbide Tommy Berre\", \"Dennis DJ MC G15\", \"Desmond Cheese\", \"Diablo Swing Orchestra\", \"Dick Dale\", \"Diego & Arnaldo\", \"Djabe Steve Hackett\", \"Dmitri Shostakovich Evgeny Svetlanov USSR State Symphony Orchestra\", \"Dmitri Shostakovich Saint Petersburg Philharmonic Yuri Temirkanov\", \"Don Davis Juno Reactor\", \"Donna Summer\", \"Dreyma\", \"Duke Ellington\", \"Dusty Springfield\", \"Eagle Lake\", \"Earth, Wind & Fire\", \"Easy Star All-Stars Toots & The Maytals\", \"Eat Static Shpongle\", \"Eduardo Costa\", \"Edward Elgar Jacqueline du Pr\\u00e9 London Symphony Orchestra Sir John Barbirolli\", \"El Michels Affair\", \"Elba\", \"Electric Light Orchestra\", \"Eline Moss\", \"Elmer Bernstein Itzhak Perlman John Williams Pittsburgh Symphony Orchestra\", \"Eloy\", \"Elton John\", \"Elvis Presley\", \"Emerson, Lake & Palmer\", \"Ennio Morricone Itzhak Perlman John Williams Pittsburgh Symphony Orchestra\", \"Enrico Carmona\", \"Enya\", \"Enzo Jannacci\", \"Enzo Rabelo\", \"Erasmo Carlos\", \"Eric Rowland\", \"Erik Reno\", \"Eroded Sky\", \"Etta James\", \"Eucalyptic\", \"Europe\", \"Eva Cassidy\", \"Evgeny Kissin Philharmonia Orchestra Sergei Prokofiev Vladimir Ashkenazy\", \"Evin Iris\", \"FX Sleep Creator\", \"Faces\", \"Fiduma & Jeca Pedro Paulo & Alex\", \"Figaro Castello\", \"Fionn Flowers Quartet\", \"Flj\\u00faga\", \"Florian Noack Sergei Prokofiev\", \"Focus\", \"Focus & Work Study Music For Concentration Work Music\", \"Francesco Giordano Pink Martini\", \"Franco Battiato\", \"Francoise Sanders\", \"Frank Gambale Steve Smith Stuart Hamm\", \"Frank Zappa\", \"Frank Zappa The Mothers Of Invention\", \"Franz Liszt Jen\\u0151 Jand\\u00f3\", \"Freddie Hultana\", \"Frost\", \"Fr\\u00e9d\\u00e9ric Chopin Mikhail Pletnev\", \"Funkadelic\", \"Gabriel Parker\", \"Gamma Ray\", \"Gare Du Nord\", \"Gary Peacock Jack DeJohnette Keith Jarrett\", \"General Crook\", \"Genesis\", \"Gentle Giant\", \"Geoffrey Christensen\", \"George Harrison\", \"George Henrique & Rodrigo\", \"George Henrique & Rodrigo Joel Carlo Sanmya\", \"Gi Gi\", \"Gian & Giovani\", \"Gianandrea Gavazzeni Giuseppe Patan\\u00e8 National Philharmonic Orchestra Pietro Mascagni\", \"Gianandrea Gavazzeni Luciano Pavarotti National Philharmonic Orchestra Pietro Mascagni\", \"Gianandrea Gavazzeni National Philharmonic Orchestra Pietro Mascagni\", \"Gidon Kremer\", \"Gil Scott-Heron\", \"Gioachino Rossini Leonard Bernstein New York Philharmonic\", \"Glenn Gould Johann Sebastian Bach\", \"Gong\", \"Gonzaguinha\", \"Graham Central Station\", \"Grateful Dead\", \"Grove Street Quartet\", \"Grupo Tradi\\u00e7\\u00e3o\", \"Grupo de Capoeira Angola Pelourinho\", \"Guilherme & Santiago\", \"Guns N' Roses\", \"Gustav Scheringer Duo\", \"Guts\", \"Haken\", \"Hans Wolfgang Ziegler\", \"Hara Noda\", \"Harold Melvin & The Blue Notes\", \"Harvest Silence\", \"Hatfield & The North\", \"Hawkwind\", \"Headache Relief Unit\", \"Heilung\", \"Heinz Goldblatt\", \"Helloween\", \"Herbie Hancock\", \"Herbie Mann\", \"Higher Highs\", \"Hiromi Lenny White Stanley Clarke\", \"Howard Shore\", \"Howlin' Wolf\", \"IQ\", \"Iggy Pop White Zombie\", \"Igor Stravinsky London Symphony Orchestra Valery Gergiev\", \"Igor Stravinsky Mariinsky Orchestra Valery Gergiev\", \"Igor Stravinsky St Petersburg Philharmonic Orchestra Yuri Temirkanov\", \"Infected Mushroom\", \"Infinity Ripple\", \"Isato Nakagawa\", \"Isotopic Dreams\", \"Itamar Assump\\u00e7\\u00e3o Luiz Mari Paulo Barnab\\u00e9 Rond\\u00f3\", \"Itzhak Perlman Jeremy Lubbock John Williams Pittsburgh Symphony Orchestra Quincy Jones Rod Temperton\", \"Itzhak Perlman John Barry John Williams Pittsburgh Symphony Orchestra\", \"Itzhak Perlman John Williams Luis Bacalov Pittsburgh Symphony Orchestra\", \"Itzhak Perlman John Williams Luiz Bonf\\u00e1 Pittsburgh Symphony Orchestra\", \"Itzhak Perlman John Williams Michel Legrand Pittsburgh Symphony Orchestra\", \"Itzhak Perlman John Williams Pittsburgh Symphony Orchestra\", \"Itzhak Perlman John Williams Yo-Yo Ma\", \"Itzhak Perlman Samuel Sanders\", \"Jabu Morales\", \"Jack DeJohnette Jan Hammer John Abercrombie\", \"Jackson Do Pandeiro\", \"Jads & Jadson\", \"Jads & Jadson Loubet\", \"Jair Rodrigues\", \"Jakob Ahlbom\", \"Jeremy Olander\", \"Jethro Tull\", \"Jim Croce\", \"Jimi Hendrix\", \"Joan Jett & The Blackhearts\", \"Johann Sebastian Bach Lang Lang\", \"Johann Sebastian Bach Yo-Yo Ma\", \"John A. Nilson\", \"John Hanks\", \"John Kay Steppenwolf\", \"John McLaughlin Mahavishnu Orchestra\", \"John Philip Sousa Valery Kuleshov Vladimir Horowitz\", \"John Williams\", \"John Williams London Symphony Orchestra\", \"John Williams Unknown Artist\", \"John Williams Yo-Yo Ma\", \"Johnny Cash\", \"Jonathan Edwards\", \"Jorge Ben Jor\", \"Jorge Ben Jor Trio Mocoto\", \"Jorge Mautner\", \"Jorge Migoya\", \"Joseph Lawrence\", \"Journey\", \"Jo\\u00e3o Donato\", \"Jo\\u00e3o Gilberto\", \"Judas Priest\", \"Junerule Weisser Quiff\", \"Juno Reactor\", \"Juno Reactor UnderCover\", \"Kansas\", \"Karen Souza\", \"Karl Hector & The Malcouns\", \"Karl Z\\u00e9ro\", \"Kaya Project\", \"Kensa Mitchell\", \"Kevin Ayers\", \"Khatia Buniatishvili Paavo J\\u00e4rvi Sergei Rachmaninoff\", \"Kiko Loureiro\", \"King Crimson\", \"Kool & The Gang\", \"Kutle Khan Midival Punditz\", \"L'Orchestre de la Suisse Romande\", \"La Acacia\", \"Lacrimosa\", \"Landlord & Tenants\", \"Lang Lang Ludwig van Beethoven\", \"Led Zeppelin\", \"Lee \\\"Scratch\\\" Perry\", \"Light of Sun\", \"Lightnin' Hopkins\", \"Linton Kwesi Johnson\", \"Lolo Zoua\\u00ef\", \"London Symphony Orchestra\", \"London Symphony Orchestra Maurice Ravel Valery Gergiev\", \"London Symphony Orchestra Royal Choral Society\", \"London Symphony Orchestra Sergei Prokofiev Valery Gergiev\", \"Lost Horse Mine\", \"Loyce Cotton\", \"Lucca e Mateus\", \"Luciana Gama Mestre Obashanan\", \"Lucio Yanel Yamand\\u00fa Costa\", \"Luis Bonfa Toots Thielemans\", \"Luiz Melodia\", \"L\\u00f4 Borges\", \"MEDIKAL\", \"Machine Gun Kelly Travis Barker iann dior\", \"Madeleine Peyroux\", \"Magnus Ringblom Quartet\", \"Mandy Jones\", \"Maneli Jamal\", \"Mano Walter\", \"Marcelo D2\", \"Marco Sfogli\", \"Marconi Union\", \"Maria Cec\\u00edlia & Rodolfo\", \"Mariana & Mateus\", \"Mariinsky Orchestra\", \"Mariinsky Orchestra Mily Balakirev Valery Gergiev\", \"Mariinsky Orchestra Nikolai Rimsky-Korsakov Sergei Levitin Valery Gergiev\", \"Mariinsky Orchestra Sergei Prokofiev Valery Gergiev\", \"Mariinsky Orchestra Sergei Rachmaninoff Valery Gergiev\", \"Marillion\", \"Martha Argerich Maurice Ravel\", \"Martinho Da Vila\", \"Masters of Binaurality\", \"Mayssa Karaa\", \"Ma\\u00edra Freitas\", \"Mel Brown\", \"Melody Gardot\", \"Mestre Acordeon\", \"Mestre Bigo Mestre Plinio\", \"Mestre Camale\\u00e3o Mestre Casquinha\", \"Mestre Casquinha\", \"Mestre Casquinha Mestre Jogo de Dentro\", \"Mestre Casquinha Mestre Papa-Leguas\", \"Mestre Casquinha Mestre Pernalonga\", \"Mestre Casquinha Mestre Primo\", \"Mestre Gaguinho Mestre Plinio\", \"Mestre Gato Preto\", \"Mestre Jogo de Dentro Mestre Plinio\", \"Mestre Moa do Katende Mestre Plinio\", \"Mestre Obashanan\", \"Mestre Plinio\", \"Mestre Poncianinho\", \"Mestre Roberval\", \"Mestre Suassuna e Dirceu\", \"Mestre Toni Vargas\", \"Michael Jackson\", \"Michelle Simonal\", \"Midival Punditz\", \"Miles Davis\", \"Milton Nascimento\", \"Minos Gold\", \"Miranda Boumedin\", \"Mitchell Jackson Quartet\", \"Mo' Horizons\", \"Monica Zetterlund\", \"Monocle Twins\", \"Mop Mop\", \"Moraes Moreira\", \"Motor'Rolla\", \"Mountain\", \"Mulatu Astatke\", \"Munich Philharmonic Orchestra Nikolai Rimsky-Korsakov Valery Gergiev\", \"M\\u00f6tley Cr\\u00fce\", \"Nara Le\\u00e3o\", \"Naturalis\", \"Neil Young\", \"Nelly Furtado\", \"Nelson Cavaquinho\", \"Ney Matogrosso\", \"Nickodemus\", \"Nina Simone\", \"Niyaz\", \"Noise Shapers\", \"Nouvelle Vague\", \"Oceansize\", \"Oph\\u00e9lie Gaillard Romain L\\u00e9cuyer Toquinho Vin\\u00edcius de Moraes\", \"Orbital\", \"Os Mutantes\", \"Os Originais Do Samba\", \"Ott\", \"Ozzy Osbourne\", \"Pallas\", \"Pantera\", \"Parliament\", \"Patricia Barber\", \"Patrick Stewart\", \"Paul Moretti Trio\", \"Paula Fernandes\", \"Paulinho Da Viola\", \"Paulo Cesar Pinheiro\", \"Pavlov's Dog\", \"Pedro Paulo & Alex\", \"Pekka Pohjola\", \"Pens\\u00e9es Nocturnes\", \"Peter Sandberg\", \"Planxty\", \"Porcupine Tree\", \"Premiata Forneria Marconi\", \"Proto-Kaw\", \"Punkreas\", \"Pure Reason Revolution\", \"Pyotr Ilyich Tchaikovsky Yuri Temirkanov\", \"Quarteto Em Cy Toquinho Vin\\u00edcius de Moraes\", \"Quarteto Jobim-Morelenbaum\", \"Quarteto do Rio Roberto Menescal\", \"Quiet Riot\", \"Rainbow\", \"Rare Bird\", \"Ratt\", \"Reina del Mar\", \"Renaissance\", \"Renata Rosa\", \"Richard Mollenbeck\", \"Richard Wagner Sir Georg Solti Wiener Philharmoniker\", \"Richie Havens\", \"Rionegro & Solim\\u00f5es\", \"Robert Delofeu\", \"Robert Elovsson\", \"Robert Elovsson Quartet\", \"Robert Moore\", \"Rodney Carrington\", \"Ronan Keating\", \"Rouge Haven\", \"Roxy Music\", \"Royal Philharmonic Orchestra\", \"Ruben Haag\", \"Rush\", \"STARSET\", \"Saint Asonia\", \"Samuel Lindon\", \"Sarah Simpson\", \"Sassy Players\", \"Savatage\", \"Scorpions\", \"Secos & Molhados\", \"Sergei Baronin\", \"Sergei Prokofiev Theodore Kuchar Ukraine National Symphony Orchestra\", \"Sergei Prokofiev Yuri Temirkanov\", \"Sergio Miguel\", \"Seu Jorge\", \"Shaman\", \"Sharon Jones & The Dap-Kings\", \"Shpongle\", \"Sigimund\", \"Silo Silo\", \"Simon & Garfunkel\", \"Sir Guy the Rocking Cavaliers\", \"Skinshape\", \"So Vea\", \"Som Imaginario\", \"Sonic Brainwaves\", \"Sonic Lab\", \"Soul Machine\", \"Soul Patrol\", \"Spanky Wilson\", \"Stacey Kent\", \"Steely Dan\", \"Steppenwolf\", \"Steve Hackett\", \"Steve Miller Band\", \"Sting\", \"Stratovarius\", \"Subtracters\", \"Sulfur Springs\", \"Supertramp\", \"Sweet Billy Pilgrim\", \"Symphony X\", \"Synchrophonic\", \"S\\u00e9rgio Sampaio\", \"Tabla Beat Science\", \"Tangerine Dream\", \"Ted Lightfoot\", \"Ted Nugent\", \"Tesla\", \"Thaeme & Thiago\", \"The Academy Is...\", \"The Alan Parsons Project\", \"The Aristocrats\", \"The Blues Brothers\", \"The Citizens of Halloween\", \"The Clash\", \"The Entrainment\", \"The First Edition\", \"The Flower Kings\", \"The Guess Who\", \"The Late Nighters\", \"The Lively Ones\", \"The Mauskovic Dance Band\", \"The Meters\", \"The Monotone Droner\", \"The Moody Blues\", \"The Nice\", \"The Phillips Bros\", \"The Relaxing Sounds of Swedish Nature\", \"The Score\", \"The Six Parts Seven\", \"The Souljazz Orchestra\", \"The Stranglers\", \"The Tangent\", \"The Tides\", \"The Who\", \"Therapeutic Reality\", \"Therion\", \"Thomas Jackson\", \"Threading Hair\", \"Tim Maia\", \"Tom Kalani\", \"Tommy Berre\", \"Tommy Guerrero\", \"Toquinho Vin\\u00edcius\", \"Toquinho Vin\\u00edcius de Moraes\", \"Tosca\", \"Tower Of Power\", \"Tranquility Spree\", \"Tre Burt\", \"UFO\", \"Urge Overkill\", \"Van Der Graaf Generator\", \"Van Halen\", \"Vin\\u00edcius de Moraes\", \"Vorssenn\", \"Watson and the Sherlocks\", \"Whitesnake\", \"Wiener Philharmoniker\", \"William Duhamel\", \"William Galison & Madeleine Peyroux\", \"Winger\", \"Wings\", \"Wishbone Ash\", \"XLD Library\", \"Yes\", \"Younger Brother\", \"Yussef Kamaal\", \"Zeca Pagodinho\", \"Z\\u00e9 Henrique & Gabriel\", \"cloudcrush\", \"eli.\"], \"legendgroup\": \"\", \"marker\": {\"color\": [0.0, 1.0986122886681096, 1.0986122886681096, 0.0, 0.0, 0.0, 0.0, 0.6931471805599453, 0.0, 1.0986122886681096, 0.0, 0.0, 0.6931471805599453, 0.0, 0.0, 0.0, 0.6365141682948128, 1.0986122886681096, 0.0, 0.410116318288409, 0.0, 0.6931471805599453, 0.0, 0.0, 0.0, 0.0, 0.6931471805599453, 0.0, 0.0, 0.6365141682948128, 0.0, 0.0, 0.6931471805599453, 0.0, 0.0, 0.0, 0.0, 0.0, 1.0549201679861442, 0.0, 0.0, 0.0, 1.0986122886681096, 0.0, 0.0, 0.0, 0.0, 1.7155218064052897, 0.0, 0.0, 0.0, 0.6931471805599453, 0.0, 0.0, 0.0, 0.0, 0.9743147528693494, 0.6931471805599453, 0.6730116670092565, 0.6365141682948128, 0.6931471805599453, 0.6365141682948128, 0.0, 0.0, 0.0, 0.0, 0.0, 0.0, 1.3862943611198906, 0.0, 0.0, 0.0, 0.0, 0.0, 0.0, 0.0, 0.0, 0.0, 0.0, 0.0, 0.0, 1.2868726303980162, 0.0, 0.0, 0.0, 0.6365141682948128, 0.0, 0.0, 1.7964168641751277, 0.0, 0.6931471805599453, 0.6931471805599453, 0.0, 0.0, 1.0397207708399179, 0.0, 0.0, 0.0, 0.0, 0.0, 0.0, 0.0, 1.0114042647073518, 1.0888999753452238, 0.0, 0.0, 0.0, 0.0, 0.0, 0.0, 0.0, 0.0, 0.0, 0.0, 0.0, 1.0397207708399179, 0.0, 0.0, 0.0, 1.0986122886681096, 1.0986122886681096, 0.0, 0.0, 0.0, 0.0, 0.0, 1.9390160716295382, 0.0, 0.0, 0.0, 0.6365141682948128, 0.0, 1.0123308391031733, 0.0, 0.6931471805599453, 0.0, 0.0, 0.0, 1.9652370493802302, 0.0, 0.6931471805599453, 0.0, 0.0, 0.0, 0.6615632381579821, 0.0, 0.0, 0.0, 0.0, 0.0, 0.0, 0.6931471805599453, 0.6931471805599453, 0.0, 0.6931471805599453, 2.1144896694565753, 0.0, 0.0, 0.0, 0.0, 0.0, 0.0, 0.0, 0.0, 0.0, 0.0, 0.0, 0.0, 0.0, 0.0, 0.0, 0.0, 0.0, 0.0, 0.0, 0.0, 0.0, 0.0, 0.6931471805599453, 0.0, 0.0, 0.0, 0.0, 0.0, 0.0, 0.0, 0.6931471805599453, 0.0, 0.0, 0.0, 0.0, 0.0, 1.8603363592902333, 0.0, 0.6931471805599453, 1.034601232910181, 0.0, 0.0, 0.0, 1.4616665484650895, 0.6931471805599453, 0.0, 0.0, 0.0, 0.0, 0.6365141682948128, 0.796311640173813, 0.0, 0.6931471805599453, 0.0, 0.0, 0.0, 0.0, 0.0, 1.3862943611198906, 0.0, 1.0114042647073516, 0.0, 0.0, 0.0, 2.005388211442846, 0.6931471805599453, 0.0, 0.0, 0.0, 0.0, 1.9061547465398494, 0.0, 0.6931471805599453, 0.0, 0.6931471805599453, 0.0, 0.0, 0.0, 0.0, 0.0, 0.0, 0.6365141682948128, 0.0, 1.3862943611198906, 0.0, 0.0, 1.0986122886681096, 0.0, 0.6365141682948128, 0.5623351446188083, 1.0986122886681096, 0.0, 0.0, 0.6931471805599453, 0.0, 0.0, 0.0, 0.0, 0.0, 0.6837389058487535, 1.0986122886681096, 0.0, 0.0, 0.0, 0.0, 0.0, 0.0, 0.0, 0.0, 0.0, 0.0, 0.0, 0.0, 0.0, 0.0, 0.6365141682948128, 0.0, 0.0, 0.0, 0.0, 0.0, 0.0, 1.5607104090414063, 0.0, 0.0, 0.0, 2.582273137265433, 0.0, 0.0, 0.6931471805599453, 0.0, 1.4941751382893083, 0.0, 0.0, 0.0, 0.0, 0.0, 0.0, 0.6931471805599453, 0.0, 0.0, 0.0, 0.0, 0.0, 0.0, 0.6931471805599453, 0.0, 0.0, 2.0215029062496366, 0.0, 0.0, 1.1770453027162644, 0.0, 1.0397207708399179, 0.0, 0.0, 1.5571130980576455, 0.0, 0.0, 0.0, 0.0, 0.6931471805599453, 0.6931471805599453, 0.0, 0.37677016125643675, 0.0, 1.9692147530521749, 0.6931471805599453, 0.0, 1.0114042647073518, 0.0, 0.0, 0.0, 0.0, 0.0, 0.0, 0.0, 0.0, 1.704551445267297, 0.0, 0.0, 0.0, 0.0, 0.0, 1.0986122886681096, 0.0, 1.0986122886681096, 0.6365141682948128, 1.366158847569202, 0.0, 0.6931471805599453, 0.0, 0.0, 0.0, 0.0, 0.0, 0.0, 1.0986122886681096, 0.0, 2.241141889568849, 0.6931471805599453, 0.6931471805599453, 0.0, 0.0, 0.0, 0.6931471805599453, 0.6365141682948128, 0.6931471805599453, 0.0, 0.0, 1.40266689931564, 1.0317671113505356, 0.0, 0.0, 0.0, 0.0, 0.0, 0.0, 0.0, 1.0114042647073518, 0.0, 0.0, 0.6730116670092565, 0.5879259686124404, 0.47413931305783735, 0.0, 2.494991452388741, 1.9459101490553132, 1.4354039425363088, 0.0, 0.17884491271684755, 0.0, 0.6931471805599453, 0.6931471805599453, 0.0, 0.0, 1.7751202615271713, 0.6931471805599453, 0.0, 2.0253262207700677, 0.0, 0.0, 0.0, 0.6931471805599453, 0.0, 0.6931471805599453, 0.0, 1.0986122886681096, 0.0, 0.0, 0.0, 0.0, 1.3862943611198906, 0.0, 0.5296435025403523, 0.0, 0.0, 0.0, 0.0, 0.0, 0.0, 0.0, 0.0, 0.0, 0.0, 0.0, 0.0, 0.0, 0.0, 0.0, 0.0, 0.0, 0.0, 0.0, 0.0, 0.0, 0.6931471805599453, 1.9097697856787386, 0.0, 0.0, 0.0, 0.0, 0.5623351446188083, 0.0, 0.0, 0.0, 0.0, 0.6001660731596457, 0.0, 1.0821955300387671, 0.0, 0.6890092384766586, 0.0, 0.0, 0.0, 0.0, 1.091786238095127, 0.0, 1.333702964278666, 1.3310751179051972, 0.0, 1.0888999753452238, 1.3661995933588185, 0.0, 1.3768230873735896, 0.0, 0.9743147528693494, 0.0, 2.613073546075526, 0.0, 0.0, 0.0, 0.5004024235381879, 0.0, 1.3862943611198906, 0.0, 0.0, 0.0, 0.0, 0.0, 0.0, 0.0, 0.0, 1.8800950005796122, 0.6931471805599453, 0.9502705392332347, 0.0, 0.0, 0.0, 0.0, 0.0, 0.6365141682948128, 0.0, 0.0, 0.0, 0.0, 0.6931471805599453, 0.0, 0.0, 0.0, 0.0, 0.0, 0.0, 0.0, 0.0, 0.0, 0.0, 0.0, 0.0, 0.0, 0.0, 0.0, 0.0, 0.0, 0.0, 0.6365141682948128, 0.0, 0.0, 0.0, 1.6505537208713896, 0.0, 0.0, 1.2218120603359306, 0.6931471805599453, 0.6365141682948128, 0.0, 0.0, 0.0, 0.9504658211037769, 0.0, 1.0986122886681096, 0.0, 0.0, 0.6931471805599453, 0.0, 0.0, 0.0, 0.0, 0.0, 0.6931471805599453, 0.6931471805599453, 0.0, 0.0, 0.0, 0.6931471805599453, 0.0, 0.0, 0.6931471805599453, 0.0, 0.0, 0.0, 0.6931471805599453, 0.0, 1.0027399543973452, 0.0, 0.0, 0.0, 1.0986122886681096, 0.0, 0.0, 0.0, 1.6897589430501525, 0.0, 2.57765934901231, 0.0, 0.0, 1.123696198583954, 0.0, 0.0, 0.0, 0.0, 0.6931471805599453, 0.6365141682948128, 0.0, 0.6931471805599453, 0.6931471805599453, 0.0, 0.6365141682948128, 1.6679108554400528, 3.118984019746792, 0.0, 0.0, 0.0, 0.5623351446188083, 0.6931471805599453, 0.0, 0.6931471805599453, 2.9760460788247176, 0.6931471805599453, 0.0, 0.0, 0.0, 0.0, 0.0, 0.0, 0.0, 0.0, 0.0, 0.0, 0.410116318288409, 0.0, 0.6931471805599453, 0.5623351446188083, 0.0, 2.587854638243721, 0.0, 0.0, 0.0, 2.0727354373411346, 0.0, 0.6931471805599453, 0.6931471805599453, 0.6931471805599453, 0.0, 0.0, 0.0, 1.0986122886681096, 0.0, 0.0, 1.6417347121875212, 0.0, 0.0, 0.6931471805599453, 1.236684869140504, 0.6931471805599453, 1.0397207708399179, 0.0, 0.6365141682948128, 0.0, 0.0, 0.6931471805599453, 0.6931471805599453, 1.0986122886681096, 0.0, 0.6931471805599453, 0.0, 0.0, 0.0, 1.3862943611198906, 0.6931471805599453, 0.6931471805599453, 0.6931471805599453, 0.0, 0.0, 0.0, 0.0, 0.0, 0.0, 0.0, 0.0, 0.6931471805599453, 1.0397207708399179, 0.0, 2.1118695140878936, 0.0, 0.0, 0.0, 0.0], \"coloraxis\": \"coloraxis\", \"size\": [1.0, 4.170106206192003, 4.170106206192003, 1.0, 1.0, 1.0, 1.0, 3.0001143274680686, 1.0, 4.170106206192003, 1.0, 1.0, 3.0001143274680686, 1.0, 1.0, 1.0, 2.836696654546624, 4.170106206192003, 1.0, 2.1834132016153553, 1.0, 3.0001143274680686, 1.0, 1.0, 1.0, 1.0, 3.0001143274680686, 1.0, 1.0, 2.836696654546624, 1.0, 1.0, 3.0001143274680686, 1.0, 1.0, 1.0, 1.0, 1.0, 4.044030187960396, 1.0, 1.0, 1.0, 4.170106206192003, 1.0, 1.0, 1.0, 1.0, 5.950232562878295, 1.0, 1.0, 1.0, 3.0001143274680686, 1.0, 1.0, 1.0, 1.0, 3.8114388276141358, 3.0001143274680686, 2.9420121952324214, 2.836696654546624, 3.0001143274680686, 2.836696654546624, 1.0, 1.0, 1.0, 1.0, 1.0, 1.0, 5.000228654936137, 1.0, 1.0, 1.0, 1.0, 1.0, 1.0, 1.0, 1.0, 1.0, 1.0, 1.0, 1.0, 4.713341780610468, 1.0, 1.0, 1.0, 2.836696654546624, 1.0, 1.0, 6.1836597030364695, 1.0, 3.0001143274680686, 3.0001143274680686, 1.0, 1.0, 4.000171491202103, 1.0, 1.0, 1.0, 1.0, 1.0, 1.0, 1.0, 3.918462654741381, 4.142080791713262, 1.0, 1.0, 1.0, 1.0, 1.0, 1.0, 1.0, 1.0, 1.0, 1.0, 1.0, 4.000171491202103, 1.0, 1.0, 1.0, 4.170106206192003, 4.170106206192003, 1.0, 1.0, 1.0, 1.0, 1.0, 6.595137562161212, 1.0, 1.0, 1.0, 2.836696654546624, 1.0, 3.92113633614199, 1.0, 3.0001143274680686, 1.0, 1.0, 1.0, 6.670799636177027, 1.0, 3.0001143274680686, 1.0, 1.0, 1.0, 2.908977123872923, 1.0, 1.0, 1.0, 1.0, 1.0, 1.0, 3.0001143274680686, 3.0001143274680686, 1.0, 3.0001143274680686, 7.101476283502767, 1.0, 1.0, 1.0, 1.0, 1.0, 1.0, 1.0, 1.0, 1.0, 1.0, 1.0, 1.0, 1.0, 1.0, 1.0, 1.0, 1.0, 1.0, 1.0, 1.0, 1.0, 1.0, 3.0001143274680686, 1.0, 1.0, 1.0, 1.0, 1.0, 1.0, 1.0, 3.0001143274680686, 1.0, 1.0, 1.0, 1.0, 1.0, 6.368102923134356, 1.0, 3.0001143274680686, 3.985398782821451, 1.0, 1.0, 1.0, 5.217719248607682, 3.0001143274680686, 1.0, 1.0, 1.0, 1.0, 2.836696654546624, 3.297801051941952, 1.0, 3.0001143274680686, 1.0, 1.0, 1.0, 1.0, 1.0, 5.000228654936137, 1.0, 3.9184626547413806, 1.0, 1.0, 1.0, 6.786658023483827, 3.0001143274680686, 1.0, 1.0, 1.0, 1.0, 6.500314400537188, 1.0, 3.0001143274680686, 1.0, 3.0001143274680686, 1.0, 1.0, 1.0, 1.0, 1.0, 1.0, 2.836696654546624, 1.0, 5.000228654936137, 1.0, 1.0, 4.170106206192003, 1.0, 2.836696654546624, 2.6226490002921343, 4.170106206192003, 1.0, 1.0, 3.0001143274680686, 1.0, 1.0, 1.0, 1.0, 1.0, 2.9729662331320164, 4.170106206192003, 1.0, 1.0, 1.0, 1.0, 1.0, 1.0, 1.0, 1.0, 1.0, 1.0, 1.0, 1.0, 1.0, 1.0, 2.836696654546624, 1.0, 1.0, 1.0, 1.0, 1.0, 1.0, 5.503515757837382, 1.0, 1.0, 1.0, 8.451291217989512, 1.0, 1.0, 3.0001143274680686, 1.0, 5.311524573215187, 1.0, 1.0, 1.0, 1.0, 1.0, 1.0, 3.0001143274680686, 1.0, 1.0, 1.0, 1.0, 1.0, 1.0, 3.0001143274680686, 1.0, 1.0, 6.8331578620026825, 1.0, 1.0, 4.3964289837260475, 1.0, 4.000171491202103, 1.0, 1.0, 5.493135519064476, 1.0, 1.0, 1.0, 1.0, 3.0001143274680686, 3.0001143274680686, 1.0, 2.087191030745716, 1.0, 6.682277518981445, 3.0001143274680686, 1.0, 3.918462654741381, 1.0, 1.0, 1.0, 1.0, 1.0, 1.0, 1.0, 1.0, 5.918576982209449, 1.0, 1.0, 1.0, 1.0, 1.0, 4.170106206192003, 1.0, 4.170106206192003, 2.836696654546624, 4.94212652270049, 1.0, 3.0001143274680686, 1.0, 1.0, 1.0, 1.0, 1.0, 1.0, 4.170106206192003, 1.0, 7.466938233225422, 3.0001143274680686, 3.0001143274680686, 1.0, 1.0, 1.0, 3.0001143274680686, 2.836696654546624, 3.0001143274680686, 1.0, 1.0, 5.0474725147407495, 3.977220769123619, 1.0, 1.0, 1.0, 1.0, 1.0, 1.0, 1.0, 3.918462654741381, 1.0, 1.0, 2.9420121952324214, 2.6964927309699807, 2.368155075660492, 1.0, 8.19943511391303, 6.615030801895417, 5.141937054193548, 1.0, 1.5160668359507339, 1.0, 3.0001143274680686, 3.0001143274680686, 1.0, 1.0, 6.122207184325852, 3.0001143274680686, 1.0, 6.844190246415692, 1.0, 1.0, 1.0, 3.0001143274680686, 1.0, 3.0001143274680686, 1.0, 4.170106206192003, 1.0, 1.0, 1.0, 1.0, 5.000228654936137, 1.0, 2.5283154683332274, 1.0, 1.0, 1.0, 1.0, 1.0, 1.0, 1.0, 1.0, 1.0, 1.0, 1.0, 1.0, 1.0, 1.0, 1.0, 1.0, 1.0, 1.0, 1.0, 1.0, 1.0, 3.0001143274680686, 6.510745794877145, 1.0, 1.0, 1.0, 1.0, 2.6226490002921343, 1.0, 1.0, 1.0, 1.0, 2.7318122261092315, 1.0, 4.122734745893185, 1.0, 2.9881740679111752, 1.0, 1.0, 1.0, 1.0, 4.150409261684468, 1.0, 4.848473285695917, 4.840890490397356, 1.0, 4.142080791713262, 4.942244096918321, 1.0, 4.972898773417979, 1.0, 3.8114388276141358, 1.0, 8.540167492294163, 1.0, 1.0, 1.0, 2.443938725985941, 1.0, 5.000228654936137, 1.0, 1.0, 1.0, 1.0, 1.0, 1.0, 1.0, 1.0, 6.425117569723936, 3.0001143274680686, 3.7420579262196485, 1.0, 1.0, 1.0, 1.0, 1.0, 2.836696654546624, 1.0, 1.0, 1.0, 1.0, 3.0001143274680686, 1.0, 1.0, 1.0, 1.0, 1.0, 1.0, 1.0, 1.0, 1.0, 1.0, 1.0, 1.0, 1.0, 1.0, 1.0, 1.0, 1.0, 1.0, 2.836696654546624, 1.0, 1.0, 1.0, 5.762763577432011, 1.0, 1.0, 4.525605925969472, 3.0001143274680686, 2.836696654546624, 1.0, 1.0, 1.0, 3.7426214228017898, 1.0, 4.170106206192003, 1.0, 1.0, 3.0001143274680686, 1.0, 1.0, 1.0, 1.0, 1.0, 3.0001143274680686, 3.0001143274680686, 1.0, 1.0, 1.0, 3.0001143274680686, 1.0, 1.0, 3.0001143274680686, 1.0, 1.0, 1.0, 3.0001143274680686, 1.0, 3.8934613106189477, 1.0, 1.0, 1.0, 4.170106206192003, 1.0, 1.0, 1.0, 5.8758924031569695, 1.0, 8.43797787812781, 1.0, 1.0, 4.242487208407246, 1.0, 1.0, 1.0, 1.0, 3.0001143274680686, 2.836696654546624, 1.0, 3.0001143274680686, 3.0001143274680686, 1.0, 2.836696654546624, 5.812848544244586, 10.0, 1.0, 1.0, 1.0, 2.6226490002921343, 3.0001143274680686, 1.0, 3.0001143274680686, 9.587544706816708, 3.0001143274680686, 1.0, 1.0, 1.0, 1.0, 1.0, 1.0, 1.0, 1.0, 1.0, 1.0, 2.1834132016153553, 1.0, 3.0001143274680686, 2.6226490002921343, 1.0, 8.467396946164634, 1.0, 1.0, 1.0, 6.980992149355304, 1.0, 3.0001143274680686, 3.0001143274680686, 3.0001143274680686, 1.0, 1.0, 1.0, 4.170106206192003, 1.0, 1.0, 5.737315842640072, 1.0, 1.0, 3.0001143274680686, 4.5685222340985625, 3.0001143274680686, 4.000171491202103, 1.0, 2.836696654546624, 1.0, 1.0, 3.0001143274680686, 3.0001143274680686, 4.170106206192003, 1.0, 3.0001143274680686, 1.0, 1.0, 1.0, 5.000228654936137, 3.0001143274680686, 3.0001143274680686, 3.0001143274680686, 1.0, 1.0, 1.0, 1.0, 1.0, 1.0, 1.0, 1.0, 3.0001143274680686, 4.000171491202103, 1.0, 7.093915681021691, 1.0, 1.0, 1.0, 1.0], \"sizemode\": \"area\", \"sizeref\": 0.025, \"symbol\": \"circle\"}, \"mode\": \"markers\", \"name\": \"\", \"orientation\": \"v\", \"showlegend\": false, \"type\": \"scatter\", \"x\": [431, 187, 197, 213, 292, 312, 280, 228, 211, 197, 474, 165, 177, 203, 177, 160, 310, 286, 369, 402, 325, 213, 310, 164, 471, 442, 191, 211, 213, 187, 187, 214, 404, 277, 280, 280, 348, 312, 289, 310, 173, 324, 392, 171, 474, 347, 160, 198, 509, 309, 450, 343, 273, 273, 324, 325, 325, 177, 239, 239, 239, 239, 381, 288, 290, 211, 226, 160, 229, 331, 474, 163, 358, 358, 358, 358, 358, 358, 358, 476, 356, 260, 356, 310, 400, 471, 160, 348, 180, 165, 276, 457, 431, 306, 177, 281, 254, 211, 211, 312, 187, 449, 319, 319, 171, 400, 211, 224, 400, 211, 476, 203, 259, 294, 174, 187, 214, 239, 400, 204, 471, 203, 325, 294, 267, 292, 160, 239, 237, 273, 435, 213, 323, 347, 259, 213, 273, 273, 180, 239, 192, 325, 347, 347, 369, 347, 347, 283, 369, 347, 381, 239, 267, 280, 392, 176, 281, 281, 281, 273, 211, 414, 280, 474, 177, 435, 331, 310, 476, 381, 211, 211, 294, 239, 309, 404, 474, 171, 224, 209, 400, 211, 277, 279, 325, 165, 165, 273, 176, 177, 309, 163, 259, 226, 356, 292, 508, 165, 309, 180, 283, 312, 163, 273, 171, 171, 331, 203, 435, 273, 239, 259, 288, 239, 218, 237, 171, 163, 273, 508, 162, 224, 273, 308, 458, 411, 229, 400, 177, 400, 224, 474, 400, 508, 302, 273, 312, 471, 474, 276, 177, 392, 276, 400, 290, 240, 392, 163, 165, 218, 273, 160, 325, 177, 177, 290, 187, 237, 294, 319, 177, 214, 265, 273, 474, 325, 294, 271, 266, 174, 294, 162, 294, 414, 288, 285, 324, 163, 253, 310, 399, 474, 168, 224, 400, 211, 431, 176, 325, 265, 273, 273, 252, 273, 277, 281, 281, 400, 400, 254, 277, 276, 211, 400, 161, 325, 273, 239, 273, 197, 325, 471, 168, 163, 325, 400, 177, 276, 276, 214, 382, 474, 180, 289, 292, 187, 224, 450, 294, 431, 266, 283, 369, 458, 359, 325, 163, 213, 160, 392, 392, 392, 392, 392, 273, 276, 400, 438, 476, 260, 273, 273, 211, 177, 309, 211, 224, 259, 331, 312, 312, 163, 163, 174, 476, 402, 273, 273, 273, 276, 239, 259, 211, 292, 160, 279, 325, 331, 239, 239, 180, 294, 229, 229, 259, 294, 355, 351, 472, 191, 431, 324, 259, 267, 400, 448, 280, 177, 358, 211, 312, 204, 508, 187, 294, 508, 294, 283, 280, 283, 281, 177, 252, 273, 269, 452, 381, 211, 160, 294, 164, 294, 325, 294, 163, 273, 211, 280, 165, 273, 273, 439, 286, 209, 319, 171, 431, 319, 211, 214, 400, 396, 400, 224, 275, 253, 277, 225, 277, 277, 277, 225, 253, 274, 237, 237, 269, 253, 189, 262, 189, 269, 246, 294, 301, 331, 292, 163, 163, 325, 471, 224, 177, 508, 160, 402, 204, 508, 461, 190, 239, 187, 265, 294, 211, 396, 471, 290, 479, 214, 294, 431, 239, 508, 160, 211, 381, 237, 431, 237, 400, 224, 445, 325, 273, 211, 260, 392, 273, 476, 358, 325, 506, 279, 376, 226, 320, 253, 280, 239, 239, 381, 237, 266, 226, 237, 187, 259, 260, 163, 277, 450, 273, 163, 325, 323, 211, 453, 294, 177, 276, 283, 325, 266, 164, 164, 474, 211, 325, 180, 237, 160, 163, 289, 280, 163, 211, 187, 289, 161, 474, 177, 259, 252, 508, 177, 160, 191, 187, 252, 211, 211, 294, 259, 161, 182, 259, 294, 318, 187, 177, 267, 431, 161, 187, 160, 478, 431, 325, 204, 259, 273, 333, 267, 279, 259, 445, 331, 187, 400, 210, 266, 325, 239, 180, 400, 187, 267, 276, 252, 205, 164, 177, 356, 508, 240, 192, 266, 191, 297, 177, 177, 211, 177, 163, 508, 239, 239, 298, 400, 213, 164, 266, 239, 276, 203, 239, 191, 252, 237, 283, 177, 294, 237, 400, 293, 213, 266, 381, 297, 211, 273, 177, 294], \"xaxis\": \"x\", \"y\": [1, 3, 3, 1, 1, 1, 1, 2, 1, 3, 2, 1, 2, 1, 1, 1, 3, 6, 1, 7, 1, 2, 2, 1, 1, 1, 2, 1, 22, 3, 1, 1, 2, 1, 1, 1, 1, 1, 10, 2, 1, 1, 3, 1, 2, 1, 1, 69, 1, 1, 13, 2, 1, 1, 1, 1, 8, 2, 5, 3, 4, 3, 1, 1, 1, 2, 1, 1, 8, 1, 2, 1, 1, 1, 1, 2, 1, 1, 1, 2, 1, 15, 1, 1, 1, 3, 1, 1, 46, 1, 2, 2, 1, 1, 4, 1, 1, 4, 1, 1, 1, 1, 6, 10, 1, 1, 3, 1, 1, 12, 1, 1, 1, 1, 8, 4, 1, 1, 1, 3, 3, 1, 1, 1, 1, 1, 97, 1, 2, 4, 3, 2, 13, 1, 2, 1, 2, 1, 14, 1, 2, 1, 1, 1, 8, 1, 1, 3, 1, 2, 2, 2, 2, 1, 2, 66, 1, 1, 2, 1, 2, 5, 4, 2, 1, 1, 1, 1, 1, 1, 2, 1, 1, 1, 1, 1, 2, 1, 2, 1, 1, 1, 1, 8, 1, 1, 4, 2, 1, 1, 1, 1, 61, 1, 2, 14, 1, 1, 1, 33, 2, 1, 1, 2, 1, 3, 7, 1, 2, 1, 1, 1, 1, 1, 8, 1, 12, 1, 1, 1, 55, 2, 3, 8, 1, 1, 8, 1, 2, 1, 2, 2, 1, 1, 2, 2, 1, 3, 2, 4, 1, 1, 3, 1, 3, 4, 3, 2, 1, 2, 2, 1, 1, 1, 1, 9, 3, 1, 1, 6, 1, 1, 1, 1, 1, 2, 1, 19, 1, 20, 1, 15, 1, 5, 1, 3, 1, 1, 6, 1, 1, 2, 72, 1, 1, 2, 1, 8, 2, 1, 1, 1, 2, 2, 2, 1, 1, 1, 2, 4, 1, 2, 1, 1, 58, 2, 1, 28, 1, 4, 1, 1, 10, 1, 1, 1, 1, 2, 2, 2, 8, 2, 34, 2, 1, 6, 1, 13, 1, 1, 1, 9, 11, 13, 12, 1, 1, 1, 1, 1, 3, 1, 3, 3, 10, 6, 2, 2, 2, 1, 1, 1, 2, 3, 1, 72, 2, 2, 1, 1, 1, 2, 6, 2, 1, 1, 53, 13, 4, 1, 2, 2, 6, 1, 1, 18, 1, 1, 5, 38, 11, 1, 60, 7, 24, 1, 23, 4, 2, 2, 2, 1, 45, 2, 1, 10, 1, 1, 1, 2, 1, 2, 1, 3, 1, 1, 1, 1, 4, 1, 25, 1, 1, 2, 1, 11, 1, 1, 1, 2, 1, 1, 1, 1, 1, 1, 1, 1, 1, 1, 2, 2, 4, 45, 1, 1, 1, 1, 4, 2, 1, 1, 1, 11, 8, 8, 1, 11, 2, 1, 1, 1, 21, 5, 31, 41, 1, 10, 47, 6, 36, 33, 8, 1, 87, 1, 1, 1, 5, 1, 4, 2, 2, 1, 1, 1, 1, 1, 1, 49, 2, 5, 1, 2, 2, 1, 1, 3, 1, 2, 1, 2, 2, 1, 1, 1, 1, 1, 1, 1, 1, 1, 1, 1, 2, 1, 1, 6, 2, 1, 2, 3, 1, 1, 2, 47, 1, 1, 19, 2, 3, 1, 1, 1, 28, 1, 3, 1, 1, 2, 1, 1, 1, 1, 3, 2, 2, 1, 1, 1, 2, 1, 1, 2, 1, 1, 2, 2, 1, 17, 1, 1, 3, 3, 17, 1, 3, 32, 1, 58, 2, 1, 25, 1, 1, 1, 1, 2, 3, 1, 2, 2, 2, 3, 47, 193, 2, 1, 13, 4, 2, 2, 2, 114, 2, 1, 1, 1, 1, 1, 1, 1, 1, 1, 1, 7, 1, 2, 4, 1, 88, 1, 1, 1, 48, 3, 2, 2, 2, 1, 13, 1, 3, 1, 1, 11, 1, 1, 2, 24, 2, 4, 6, 3, 1, 1, 2, 2, 3, 1, 2, 1, 1, 1, 4, 2, 2, 2, 1, 1, 1, 1, 1, 1, 1, 1, 2, 4, 1, 54, 2, 2, 1, 1], \"yaxis\": \"y\"}],                        {\"coloraxis\": {\"colorbar\": {\"title\": {\"text\": \"entropy\"}}, \"colorscale\": [[0.0, \"#440154\"], [0.1111111111111111, \"#482878\"], [0.2222222222222222, \"#3e4989\"], [0.3333333333333333, \"#31688e\"], [0.4444444444444444, \"#26828e\"], [0.5555555555555556, \"#1f9e89\"], [0.6666666666666666, \"#35b779\"], [0.7777777777777778, \"#6ece58\"], [0.8888888888888888, \"#b5de2b\"], [1.0, \"#fde725\"]]}, \"legend\": {\"itemsizing\": \"constant\", \"tracegroupgap\": 0}, \"template\": {\"data\": {\"bar\": [{\"error_x\": {\"color\": \"#2a3f5f\"}, \"error_y\": {\"color\": \"#2a3f5f\"}, \"marker\": {\"line\": {\"color\": \"#E5ECF6\", \"width\": 0.5}}, \"type\": \"bar\"}], \"barpolar\": [{\"marker\": {\"line\": {\"color\": \"#E5ECF6\", \"width\": 0.5}}, \"type\": \"barpolar\"}], \"carpet\": [{\"aaxis\": {\"endlinecolor\": \"#2a3f5f\", \"gridcolor\": \"white\", \"linecolor\": \"white\", \"minorgridcolor\": \"white\", \"startlinecolor\": \"#2a3f5f\"}, \"baxis\": {\"endlinecolor\": \"#2a3f5f\", \"gridcolor\": \"white\", \"linecolor\": \"white\", \"minorgridcolor\": \"white\", \"startlinecolor\": \"#2a3f5f\"}, \"type\": \"carpet\"}], \"choropleth\": [{\"colorbar\": {\"outlinewidth\": 0, \"ticks\": \"\"}, \"type\": \"choropleth\"}], \"contour\": [{\"colorbar\": {\"outlinewidth\": 0, \"ticks\": \"\"}, \"colorscale\": [[0.0, \"#0d0887\"], [0.1111111111111111, \"#46039f\"], [0.2222222222222222, \"#7201a8\"], [0.3333333333333333, \"#9c179e\"], [0.4444444444444444, \"#bd3786\"], [0.5555555555555556, \"#d8576b\"], [0.6666666666666666, \"#ed7953\"], [0.7777777777777778, \"#fb9f3a\"], [0.8888888888888888, \"#fdca26\"], [1.0, \"#f0f921\"]], \"type\": \"contour\"}], \"contourcarpet\": [{\"colorbar\": {\"outlinewidth\": 0, \"ticks\": \"\"}, \"type\": \"contourcarpet\"}], \"heatmap\": [{\"colorbar\": {\"outlinewidth\": 0, \"ticks\": \"\"}, \"colorscale\": [[0.0, \"#0d0887\"], [0.1111111111111111, \"#46039f\"], [0.2222222222222222, \"#7201a8\"], [0.3333333333333333, \"#9c179e\"], [0.4444444444444444, \"#bd3786\"], [0.5555555555555556, \"#d8576b\"], [0.6666666666666666, \"#ed7953\"], [0.7777777777777778, \"#fb9f3a\"], [0.8888888888888888, \"#fdca26\"], [1.0, \"#f0f921\"]], \"type\": \"heatmap\"}], \"heatmapgl\": [{\"colorbar\": {\"outlinewidth\": 0, \"ticks\": \"\"}, \"colorscale\": [[0.0, \"#0d0887\"], [0.1111111111111111, \"#46039f\"], [0.2222222222222222, \"#7201a8\"], [0.3333333333333333, \"#9c179e\"], [0.4444444444444444, \"#bd3786\"], [0.5555555555555556, \"#d8576b\"], [0.6666666666666666, \"#ed7953\"], [0.7777777777777778, \"#fb9f3a\"], [0.8888888888888888, \"#fdca26\"], [1.0, \"#f0f921\"]], \"type\": \"heatmapgl\"}], \"histogram\": [{\"marker\": {\"colorbar\": {\"outlinewidth\": 0, \"ticks\": \"\"}}, \"type\": \"histogram\"}], \"histogram2d\": [{\"colorbar\": {\"outlinewidth\": 0, \"ticks\": \"\"}, \"colorscale\": [[0.0, \"#0d0887\"], [0.1111111111111111, \"#46039f\"], [0.2222222222222222, \"#7201a8\"], [0.3333333333333333, \"#9c179e\"], [0.4444444444444444, \"#bd3786\"], [0.5555555555555556, \"#d8576b\"], [0.6666666666666666, \"#ed7953\"], [0.7777777777777778, \"#fb9f3a\"], [0.8888888888888888, \"#fdca26\"], [1.0, \"#f0f921\"]], \"type\": \"histogram2d\"}], \"histogram2dcontour\": [{\"colorbar\": {\"outlinewidth\": 0, \"ticks\": \"\"}, \"colorscale\": [[0.0, \"#0d0887\"], [0.1111111111111111, \"#46039f\"], [0.2222222222222222, \"#7201a8\"], [0.3333333333333333, \"#9c179e\"], [0.4444444444444444, \"#bd3786\"], [0.5555555555555556, \"#d8576b\"], [0.6666666666666666, \"#ed7953\"], [0.7777777777777778, \"#fb9f3a\"], [0.8888888888888888, \"#fdca26\"], [1.0, \"#f0f921\"]], \"type\": \"histogram2dcontour\"}], \"mesh3d\": [{\"colorbar\": {\"outlinewidth\": 0, \"ticks\": \"\"}, \"type\": \"mesh3d\"}], \"parcoords\": [{\"line\": {\"colorbar\": {\"outlinewidth\": 0, \"ticks\": \"\"}}, \"type\": \"parcoords\"}], \"pie\": [{\"automargin\": true, \"type\": \"pie\"}], \"scatter\": [{\"marker\": {\"colorbar\": {\"outlinewidth\": 0, \"ticks\": \"\"}}, \"type\": \"scatter\"}], \"scatter3d\": [{\"line\": {\"colorbar\": {\"outlinewidth\": 0, \"ticks\": \"\"}}, \"marker\": {\"colorbar\": {\"outlinewidth\": 0, \"ticks\": \"\"}}, \"type\": \"scatter3d\"}], \"scattercarpet\": [{\"marker\": {\"colorbar\": {\"outlinewidth\": 0, \"ticks\": \"\"}}, \"type\": \"scattercarpet\"}], \"scattergeo\": [{\"marker\": {\"colorbar\": {\"outlinewidth\": 0, \"ticks\": \"\"}}, \"type\": \"scattergeo\"}], \"scattergl\": [{\"marker\": {\"colorbar\": {\"outlinewidth\": 0, \"ticks\": \"\"}}, \"type\": \"scattergl\"}], \"scattermapbox\": [{\"marker\": {\"colorbar\": {\"outlinewidth\": 0, \"ticks\": \"\"}}, \"type\": \"scattermapbox\"}], \"scatterpolar\": [{\"marker\": {\"colorbar\": {\"outlinewidth\": 0, \"ticks\": \"\"}}, \"type\": \"scatterpolar\"}], \"scatterpolargl\": [{\"marker\": {\"colorbar\": {\"outlinewidth\": 0, \"ticks\": \"\"}}, \"type\": \"scatterpolargl\"}], \"scatterternary\": [{\"marker\": {\"colorbar\": {\"outlinewidth\": 0, \"ticks\": \"\"}}, \"type\": \"scatterternary\"}], \"surface\": [{\"colorbar\": {\"outlinewidth\": 0, \"ticks\": \"\"}, \"colorscale\": [[0.0, \"#0d0887\"], [0.1111111111111111, \"#46039f\"], [0.2222222222222222, \"#7201a8\"], [0.3333333333333333, \"#9c179e\"], [0.4444444444444444, \"#bd3786\"], [0.5555555555555556, \"#d8576b\"], [0.6666666666666666, \"#ed7953\"], [0.7777777777777778, \"#fb9f3a\"], [0.8888888888888888, \"#fdca26\"], [1.0, \"#f0f921\"]], \"type\": \"surface\"}], \"table\": [{\"cells\": {\"fill\": {\"color\": \"#EBF0F8\"}, \"line\": {\"color\": \"white\"}}, \"header\": {\"fill\": {\"color\": \"#C8D4E3\"}, \"line\": {\"color\": \"white\"}}, \"type\": \"table\"}]}, \"layout\": {\"annotationdefaults\": {\"arrowcolor\": \"#2a3f5f\", \"arrowhead\": 0, \"arrowwidth\": 1}, \"autotypenumbers\": \"strict\", \"coloraxis\": {\"colorbar\": {\"outlinewidth\": 0, \"ticks\": \"\"}}, \"colorscale\": {\"diverging\": [[0, \"#8e0152\"], [0.1, \"#c51b7d\"], [0.2, \"#de77ae\"], [0.3, \"#f1b6da\"], [0.4, \"#fde0ef\"], [0.5, \"#f7f7f7\"], [0.6, \"#e6f5d0\"], [0.7, \"#b8e186\"], [0.8, \"#7fbc41\"], [0.9, \"#4d9221\"], [1, \"#276419\"]], \"sequential\": [[0.0, \"#0d0887\"], [0.1111111111111111, \"#46039f\"], [0.2222222222222222, \"#7201a8\"], [0.3333333333333333, \"#9c179e\"], [0.4444444444444444, \"#bd3786\"], [0.5555555555555556, \"#d8576b\"], [0.6666666666666666, \"#ed7953\"], [0.7777777777777778, \"#fb9f3a\"], [0.8888888888888888, \"#fdca26\"], [1.0, \"#f0f921\"]], \"sequentialminus\": [[0.0, \"#0d0887\"], [0.1111111111111111, \"#46039f\"], [0.2222222222222222, \"#7201a8\"], [0.3333333333333333, \"#9c179e\"], [0.4444444444444444, \"#bd3786\"], [0.5555555555555556, \"#d8576b\"], [0.6666666666666666, \"#ed7953\"], [0.7777777777777778, \"#fb9f3a\"], [0.8888888888888888, \"#fdca26\"], [1.0, \"#f0f921\"]]}, \"colorway\": [\"#636efa\", \"#EF553B\", \"#00cc96\", \"#ab63fa\", \"#FFA15A\", \"#19d3f3\", \"#FF6692\", \"#B6E880\", \"#FF97FF\", \"#FECB52\"], \"font\": {\"color\": \"#2a3f5f\"}, \"geo\": {\"bgcolor\": \"white\", \"lakecolor\": \"white\", \"landcolor\": \"#E5ECF6\", \"showlakes\": true, \"showland\": true, \"subunitcolor\": \"white\"}, \"hoverlabel\": {\"align\": \"left\"}, \"hovermode\": \"closest\", \"mapbox\": {\"style\": \"light\"}, \"paper_bgcolor\": \"white\", \"plot_bgcolor\": \"#E5ECF6\", \"polar\": {\"angularaxis\": {\"gridcolor\": \"white\", \"linecolor\": \"white\", \"ticks\": \"\"}, \"bgcolor\": \"#E5ECF6\", \"radialaxis\": {\"gridcolor\": \"white\", \"linecolor\": \"white\", \"ticks\": \"\"}}, \"scene\": {\"xaxis\": {\"backgroundcolor\": \"#E5ECF6\", \"gridcolor\": \"white\", \"gridwidth\": 2, \"linecolor\": \"white\", \"showbackground\": true, \"ticks\": \"\", \"zerolinecolor\": \"white\"}, \"yaxis\": {\"backgroundcolor\": \"#E5ECF6\", \"gridcolor\": \"white\", \"gridwidth\": 2, \"linecolor\": \"white\", \"showbackground\": true, \"ticks\": \"\", \"zerolinecolor\": \"white\"}, \"zaxis\": {\"backgroundcolor\": \"#E5ECF6\", \"gridcolor\": \"white\", \"gridwidth\": 2, \"linecolor\": \"white\", \"showbackground\": true, \"ticks\": \"\", \"zerolinecolor\": \"white\"}}, \"shapedefaults\": {\"line\": {\"color\": \"#2a3f5f\"}}, \"ternary\": {\"aaxis\": {\"gridcolor\": \"white\", \"linecolor\": \"white\", \"ticks\": \"\"}, \"baxis\": {\"gridcolor\": \"white\", \"linecolor\": \"white\", \"ticks\": \"\"}, \"bgcolor\": \"#E5ECF6\", \"caxis\": {\"gridcolor\": \"white\", \"linecolor\": \"white\", \"ticks\": \"\"}}, \"title\": {\"x\": 0.05}, \"xaxis\": {\"automargin\": true, \"gridcolor\": \"white\", \"linecolor\": \"white\", \"ticks\": \"\", \"title\": {\"standoff\": 15}, \"zerolinecolor\": \"white\", \"zerolinewidth\": 2}, \"yaxis\": {\"automargin\": true, \"gridcolor\": \"white\", \"linecolor\": \"white\", \"ticks\": \"\", \"title\": {\"standoff\": 15}, \"zerolinecolor\": \"white\", \"zerolinewidth\": 2}}}, \"title\": {\"text\": \"Engagement\"}, \"xaxis\": {\"anchor\": \"y\", \"domain\": [0.0, 1.0], \"title\": {\"text\": \"time_from_last_play\"}, \"type\": \"log\"}, \"yaxis\": {\"anchor\": \"x\", \"domain\": [0.0, 1.0], \"title\": {\"text\": \"total_plays\"}}},                        {\"responsive\": true}                    ).then(function(){\n",
       "                            \n",
       "var gd = document.getElementById('b36d1420-3303-466d-a230-cff529dee8d8');\n",
       "var x = new MutationObserver(function (mutations, observer) {{\n",
       "        var display = window.getComputedStyle(gd).display;\n",
       "        if (!display || display === 'none') {{\n",
       "            console.log([gd, 'removed!']);\n",
       "            Plotly.purge(gd);\n",
       "            observer.disconnect();\n",
       "        }}\n",
       "}});\n",
       "\n",
       "// Listen for the removal of the full notebook cells\n",
       "var notebookContainer = gd.closest('#notebook-container');\n",
       "if (notebookContainer) {{\n",
       "    x.observe(notebookContainer, {childList: true});\n",
       "}}\n",
       "\n",
       "// Listen for the clearing of the current output cell\n",
       "var outputEl = gd.closest('.output');\n",
       "if (outputEl) {{\n",
       "    x.observe(outputEl, {childList: true});\n",
       "}}\n",
       "\n",
       "                        })                };                });            </script>        </div>"
      ]
     },
     "metadata": {},
     "output_type": "display_data"
    }
   ],
   "source": [
    "fig = px.scatter(\n",
    "    engagement, \n",
    "    x=\"time_from_last_play\", \n",
    "    y=\"total_plays\", \n",
    "    color='entropy',\n",
    "    size='size',\n",
    "    hover_name=\"artist\",\n",
    "    hover_data={\"size\": False},\n",
    "    color_continuous_scale='viridis',\n",
    "    title='Engagement'\n",
    ")\n",
    "\n",
    "fig.update_layout(xaxis_type=\"log\")\n",
    "fig.show()"
   ]
  }
 ],
 "metadata": {
  "kernelspec": {
   "display_name": "Python 3",
   "language": "python",
   "name": "python3"
  },
  "language_info": {
   "codemirror_mode": {
    "name": "ipython",
    "version": 3
   },
   "file_extension": ".py",
   "mimetype": "text/x-python",
   "name": "python",
   "nbconvert_exporter": "python",
   "pygments_lexer": "ipython3",
   "version": "3.7.3"
  }
 },
 "nbformat": 4,
 "nbformat_minor": 4
}
