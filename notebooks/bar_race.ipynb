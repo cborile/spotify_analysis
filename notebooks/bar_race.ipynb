{
 "cells": [
  {
   "cell_type": "code",
   "execution_count": 1,
   "metadata": {},
   "outputs": [],
   "source": [
    "import pandas as pd\n",
    "import numpy as np\n",
    "\n",
    "import datetime\n",
    "import pytz\n",
    "\n",
    "from matplotlib import pyplot as plt\n",
    "import matplotlib.ticker as ticker\n",
    "import matplotlib.animation as animation\n",
    "from IPython.display import HTML\n",
    "\n",
    "import plotly.express as px\n",
    "from plotly.offline import plot\n",
    "import plotly.graph_objects as go"
   ]
  },
  {
   "cell_type": "code",
   "execution_count": 2,
   "metadata": {},
   "outputs": [],
   "source": [
    "def draw_barchart(date):\n",
    "    year = date.date().year\n",
    "    month = date.date().month\n",
    "    day = date.date().day\n",
    "    ax.clear()\n",
    "    ax.set_xlim([0, data.groupby('artist').size().max()])\n",
    "    dff = data[data.played_at < datetime.datetime(year, month, day, tzinfo=pytz.UTC)]\n",
    "    dff = dff.groupby('artist').size().sort_values(ascending=True).tail(10)\n",
    "    dx = dff.max() / 200\n",
    "    dff.plot.barh(ax=ax)\n",
    "    #ax.set_title('songs played by artist at {}-{}'.format(year, month), fontsize=15)\n",
    "    for i, (name, value) in enumerate(dff.to_frame().reset_index().values):\n",
    "        ax.text(value, \n",
    "                i-.1, \n",
    "                name, \n",
    "                size=14, \n",
    "                weight=600, \n",
    "                ha='right', \n",
    "                va='bottom',\n",
    "                c='white')\n",
    "        ax.text(value+dx, \n",
    "                i,     \n",
    "                f'{value:,.0f}',  \n",
    "                size=14, \n",
    "                ha='left',  \n",
    "                va='center')\n",
    "        #ax.text(value, i-.25, group_lk[name],  ha='right')  # Asia: group name\n",
    "        #ax.text(value, i,     value,           ha='left')   # 38194.2: value\n",
    "    # Add year right middle portion of canvas\n",
    "    #ax.text(1, 0.4, '{}-{}'.format(month, year), transform=ax.transAxes, size=46, ha='right')\n",
    "    # ... polished styles\n",
    "    ax.text(1, 0.4, '{}-{}'.format(month, year), transform=ax.transAxes, color='#777777', size=46, ha='right', weight=800)\n",
    "    ax.text(0, 1.06, 'Songs played', transform=ax.transAxes, size=12, color='#777777')\n",
    "    ax.xaxis.set_major_formatter(ticker.StrMethodFormatter('{x:,.0f}'))\n",
    "    ax.xaxis.set_ticks_position('top')\n",
    "    ax.tick_params(axis='x', colors='#777777', labelsize=12)\n",
    "    ax.set_yticks([])\n",
    "    ax.margins(0, 0.01)\n",
    "    ax.grid(which='major', axis='x', linestyle='-')\n",
    "    ax.set_axisbelow(True)\n",
    "    #ax.text(0, 1.12, 'songs played by artist',\n",
    "    #        transform=ax.transAxes, size=24, weight=600, ha='left')\n",
    "    #ax.text(1, 0, 'by @pratapvardhan; credit @jburnmurdoch', transform=ax.transAxes, ha='right',\n",
    "    #        color='#777777', bbox=dict(facecolor='white', alpha=0.8, edgecolor='white'))\n",
    "    plt.box(False)\n",
    "    #plt.savefig('./figures/songs_played_by_artist_{}_{}.png'.format(year, month))"
   ]
  },
  {
   "cell_type": "code",
   "execution_count": 3,
   "metadata": {},
   "outputs": [],
   "source": [
    "tracks = pd.read_csv('../data/processed/tracks.csv', index_col=0)\n",
    "features = pd.read_csv('../data/processed/track_features.csv', index_col=0)\n",
    "\n",
    "data = pd.merge(tracks, features, on='id')\n",
    "data.played_at = pd.to_datetime(data.played_at)\n",
    "data.sort_values('played_at', inplace=True)\n",
    "data.reset_index(inplace=True)\n",
    "del data['index']"
   ]
  },
  {
   "cell_type": "code",
   "execution_count": 4,
   "metadata": {},
   "outputs": [],
   "source": [
    "frames = pd.date_range(data.played_at.dt.date.min(), \n",
    "                       data.played_at.dt.date.max(), \n",
    "                       freq='D')[1:]"
   ]
  },
  {
   "cell_type": "code",
   "execution_count": 5,
   "metadata": {},
   "outputs": [
    {
     "data": {
      "image/png": "[encoded data removed]",
      "text/plain": [
       "<Figure size 1080x576 with 1 Axes>"
      ]
     },
     "metadata": {
      "needs_background": "light"
     },
     "output_type": "display_data"
    }
   ],
   "source": [
    "fig, ax = plt.subplots(figsize=(15, 8))\n",
    "\n",
    "\n",
    "animator = animation.FuncAnimation(fig, \n",
    "                                   draw_barchart, \n",
    "                                   frames=frames, \n",
    "                                   interval=50)\n",
    "HTML(animator.to_html5_video()) \n",
    "animator.save('../figures/songs_played_by_artist_monthly_cumulative.mp4')"
   ]
  },
  {
   "cell_type": "code",
   "execution_count": null,
   "metadata": {},
   "outputs": [],
   "source": []
  },
  {
   "cell_type": "code",
   "execution_count": null,
   "metadata": {},
   "outputs": [],
   "source": []
  },
  {
   "cell_type": "code",
   "execution_count": null,
   "metadata": {},
   "outputs": [],
   "source": []
  }
 ],
 "metadata": {
  "kernelspec": {
   "display_name": "Python 3",
   "language": "python",
   "name": "python3"
  },
  "language_info": {
   "codemirror_mode": {
    "name": "ipython",
    "version": 3
   },
   "file_extension": ".py",
   "mimetype": "text/x-python",
   "name": "python",
   "nbconvert_exporter": "python",
   "pygments_lexer": "ipython3",
   "version": "3.7.3"
  }
 },
 "nbformat": 4,
 "nbformat_minor": 4
}
