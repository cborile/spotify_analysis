{
 "cells": [
  {
   "cell_type": "code",
   "execution_count": 1,
   "metadata": {},
   "outputs": [],
   "source": [
    "import os\n",
    "import json\n",
    "from pprint import pprint\n",
    "import datetime\n",
    "import pytz\n",
    "\n",
    "import numpy as np\n",
    "import pandas as pd\n",
    "\n",
    "from scipy.spatial.distance import cosine, euclidean\n",
    "from sklearn.preprocessing import StandardScaler\n",
    "\n",
    "from umap import UMAP\n",
    "\n",
    "import matplotlib\n",
    "from matplotlib import pyplot as plt\n",
    "import plotly.express as px\n",
    "from plotly.offline import plot\n",
    "import plotly.graph_objects as go\n",
    "\n",
    "import seaborn as sb\n",
    "\n"
   ]
  },
  {
   "cell_type": "code",
   "execution_count": 2,
   "metadata": {},
   "outputs": [],
   "source": [
    "tracks = pd.read_csv('../data/processed/tracks.csv', index_col=0)\n",
    "features = pd.read_csv('../data/processed/track_features.csv', index_col=0)\n",
    "\n",
    "data = pd.merge(tracks, features, on='id')\n",
    "data.played_at = pd.to_datetime(data.played_at)\n",
    "data.sort_values('played_at', inplace=True)\n",
    "data.reset_index(inplace=True)\n",
    "del data['index']"
   ]
  },
  {
   "cell_type": "code",
   "execution_count": 3,
   "metadata": {},
   "outputs": [],
   "source": [
    "audio_features = ['acousticness', \n",
    "                 'danceability', \n",
    "                 'energy', \n",
    "                 'instrumentalness', \n",
    "                 'liveness', \n",
    "                 'loudness', \n",
    "                 'speechiness', \n",
    "                 'tempo', \n",
    "                 'valence']"
   ]
  },
  {
   "cell_type": "code",
   "execution_count": 4,
   "metadata": {},
   "outputs": [],
   "source": [
    "artist_audio_features = data.groupby('artist')[audio_features].median()"
   ]
  },
  {
   "cell_type": "code",
   "execution_count": 5,
   "metadata": {},
   "outputs": [],
   "source": [
    "delta=10e-3\n",
    "#df.speechiness = (df.speechiness+delta).apply(np.log)\n",
    "artist_audio_features.instrumentalness = (artist_audio_features.instrumentalness+delta).apply(np.log)"
   ]
  },
  {
   "cell_type": "code",
   "execution_count": 6,
   "metadata": {},
   "outputs": [],
   "source": [
    "_idx = artist_audio_features.index\n",
    "_cols = artist_audio_features.columns"
   ]
  },
  {
   "cell_type": "code",
   "execution_count": 7,
   "metadata": {},
   "outputs": [],
   "source": [
    "scaler = StandardScaler()\n",
    "artist_audio_features = scaler.fit_transform(artist_audio_features)"
   ]
  },
  {
   "cell_type": "code",
   "execution_count": 8,
   "metadata": {},
   "outputs": [],
   "source": [
    "artist_audio_features = pd.DataFrame(artist_audio_features, index=_idx, columns=_cols)"
   ]
  },
  {
   "cell_type": "code",
   "execution_count": 9,
   "metadata": {},
   "outputs": [],
   "source": [
    "artist_play_count = data.groupby('artist').played_at.count()"
   ]
  },
  {
   "cell_type": "code",
   "execution_count": 10,
   "metadata": {},
   "outputs": [],
   "source": [
    "mapper = UMAP(n_neighbors=15)"
   ]
  },
  {
   "cell_type": "code",
   "execution_count": 11,
   "metadata": {},
   "outputs": [],
   "source": [
    "X = mapper.fit_transform(artist_audio_features)\n",
    "X = pd.DataFrame(X, columns=['x0', 'x1'])\n",
    "X['artists'] = artist_audio_features.index"
   ]
  },
  {
   "cell_type": "code",
   "execution_count": 12,
   "metadata": {},
   "outputs": [],
   "source": [
    "X = X.set_index('artists')\n",
    "X['play_count'] = artist_play_count\n",
    "X.reset_index(inplace=True)"
   ]
  },
  {
   "cell_type": "code",
   "execution_count": 13,
   "metadata": {},
   "outputs": [
    {
     "data": {
      "text/plain": [
       "'temp-plot.html'"
      ]
     },
     "execution_count": 13,
     "metadata": {},
     "output_type": "execute_result"
    }
   ],
   "source": [
    "fig = px.scatter(X[X.play_count>10], \n",
    "                 x='x0', \n",
    "                 y=\"x1\", \n",
    "                 color=\"artists\", \n",
    "                 hover_data=['artists'])\n",
    "plot(fig)\n",
    "#fig.write_html('./figures/umap_thplayed10_nn15_artists.html')"
   ]
  },
  {
   "cell_type": "code",
   "execution_count": 14,
   "metadata": {},
   "outputs": [],
   "source": [
    "neural_artists = data[data.played_at>=datetime.datetime(2020, 5, 27).astimezone(pytz.utc)].artist.unique()"
   ]
  },
  {
   "cell_type": "code",
   "execution_count": 15,
   "metadata": {},
   "outputs": [
    {
     "data": {
      "text/plain": [
       "'temp-plot.html'"
      ]
     },
     "execution_count": 15,
     "metadata": {},
     "output_type": "execute_result"
    }
   ],
   "source": [
    "fig = px.scatter(X[(X.play_count>10) | (X.artists.isin(neural_artists))], \n",
    "                 x='x0', \n",
    "                 y=\"x1\", \n",
    "                 color=\"artists\", \n",
    "                 hover_data=['artists'])\n",
    "plot(fig)\n",
    "#fig.write_html('./figures/umap_thplayed10_nn15_artists.html')"
   ]
  },
  {
   "cell_type": "code",
   "execution_count": 54,
   "metadata": {},
   "outputs": [],
   "source": [
    "import matplotlib"
   ]
  },
  {
   "cell_type": "code",
   "execution_count": 16,
   "metadata": {},
   "outputs": [],
   "source": [
    "mask1 = data.played_at>=datetime.datetime(2020, 5, 30, 13, 53, 12).astimezone(pytz.utc)\n",
    "mask2 = data.played_at<=datetime.datetime(2020, 5, 30, 16, 52, 25).astimezone(pytz.utc)"
   ]
  },
  {
   "cell_type": "code",
   "execution_count": 17,
   "metadata": {},
   "outputs": [],
   "source": [
    "bezerra_radio = data[mask1 & mask2][['played_at', 'artist']].artist.unique()"
   ]
  },
  {
   "cell_type": "code",
   "execution_count": 18,
   "metadata": {},
   "outputs": [],
   "source": [
    "Xradio = X[(X.artists.isin(bezerra_radio))]"
   ]
  },
  {
   "cell_type": "code",
   "execution_count": 31,
   "metadata": {},
   "outputs": [],
   "source": [
    "Xradio.reset_index(drop=True, inplace=True)"
   ]
  },
  {
   "cell_type": "code",
   "execution_count": 89,
   "metadata": {},
   "outputs": [
    {
     "data": {
      "text/plain": [
       "'temp-plot.html'"
      ]
     },
     "execution_count": 89,
     "metadata": {},
     "output_type": "execute_result"
    }
   ],
   "source": [
    "to_plot = X[(X.play_count>10) | (X.artists.isin(bezerra_radio))]\n",
    "fig = go.Figure(go.Scatter(\n",
    "                 x=to_plot.x0, \n",
    "                 y=to_plot.x1,\n",
    "                 mode='markers',\n",
    "                 marker_color=\"grey\",\n",
    "                 text=to_plot.artists))\n",
    "\n",
    "fig.add_trace(go.Scatter(x=Xradio.x0, \n",
    "                         y=Xradio.x1, \n",
    "                         mode=\"markers+lines\", \n",
    "                         marker=dict(\n",
    "                            color=['rgb'+str(c) for c in hot_rgb],\n",
    "                            size=Xradio.index),\n",
    "                         \n",
    "                         text=Xradio.artists))\n",
    "\n",
    "plot(fig)\n",
    "#fig.write_html('./figures/umap_thplayed10_nn15_artists.html')"
   ]
  },
  {
   "cell_type": "code",
   "execution_count": 64,
   "metadata": {},
   "outputs": [],
   "source": [
    "hot_cmap = matplotlib.cm.get_cmap('hot')\n",
    "norm = matplotlib.colors.Normalize(vmin=Xradio.index.min(), vmax=Xradio.index.max())\n",
    "hot_rgb = []\n",
    "for i in Xradio.index:\n",
    "    k = matplotlib.colors.colorConverter.to_rgb(hot_cmap(norm(i)))\n",
    "    hot_rgb.append(k)"
   ]
  },
  {
   "cell_type": "code",
   "execution_count": 88,
   "metadata": {},
   "outputs": [
    {
     "data": {
      "text/plain": [
       "'temp-plot.html'"
      ]
     },
     "execution_count": 88,
     "metadata": {},
     "output_type": "execute_result"
    }
   ],
   "source": [
    "fig = go.Figure(go.Scatter(x=Xradio.x0, \n",
    "                           y=Xradio.x1,\n",
    "                           mode='markers',\n",
    "                           text=Xradio.artists))\n",
    "\n",
    "fig.update_traces(marker=dict(\n",
    "                              color=,\n",
    "                              size=Xradio.index))\n",
    "\n",
    "plot(fig)"
   ]
  },
  {
   "cell_type": "code",
   "execution_count": 92,
   "metadata": {},
   "outputs": [],
   "source": [
    "from sklearn.cluster import AffinityPropagation, AgglomerativeClustering, KMeans, DBSCAN"
   ]
  },
  {
   "cell_type": "code",
   "execution_count": 132,
   "metadata": {},
   "outputs": [],
   "source": [
    "clust = AgglomerativeClustering(n_clusters=10)"
   ]
  },
  {
   "cell_type": "code",
   "execution_count": 133,
   "metadata": {},
   "outputs": [],
   "source": [
    "classes = clust.fit_predict(X[['x0', 'x1']])"
   ]
  },
  {
   "cell_type": "code",
   "execution_count": 134,
   "metadata": {},
   "outputs": [
    {
     "data": {
      "text/plain": [
       "9"
      ]
     },
     "execution_count": 134,
     "metadata": {},
     "output_type": "execute_result"
    }
   ],
   "source": [
    "classes.max()"
   ]
  },
  {
   "cell_type": "code",
   "execution_count": 135,
   "metadata": {},
   "outputs": [],
   "source": [
    "X['class'] = classes"
   ]
  },
  {
   "cell_type": "code",
   "execution_count": 136,
   "metadata": {},
   "outputs": [
    {
     "data": {
      "text/html": [
       "<div>\n",
       "<style scoped>\n",
       "    .dataframe tbody tr th:only-of-type {\n",
       "        vertical-align: middle;\n",
       "    }\n",
       "\n",
       "    .dataframe tbody tr th {\n",
       "        vertical-align: top;\n",
       "    }\n",
       "\n",
       "    .dataframe thead th {\n",
       "        text-align: right;\n",
       "    }\n",
       "</style>\n",
       "<table border=\"1\" class=\"dataframe\">\n",
       "  <thead>\n",
       "    <tr style=\"text-align: right;\">\n",
       "      <th></th>\n",
       "      <th>artists</th>\n",
       "      <th>x0</th>\n",
       "      <th>x1</th>\n",
       "      <th>play_count</th>\n",
       "      <th>class</th>\n",
       "    </tr>\n",
       "  </thead>\n",
       "  <tbody>\n",
       "    <tr>\n",
       "      <th>291</th>\n",
       "      <td>Igor Stravinsky St Petersburg Philharmonic Orc...</td>\n",
       "      <td>9.774935</td>\n",
       "      <td>2.108355</td>\n",
       "      <td>13</td>\n",
       "      <td>0</td>\n",
       "    </tr>\n",
       "    <tr>\n",
       "      <th>126</th>\n",
       "      <td>Béla Bartók Hungarian National Philharmonic Zo...</td>\n",
       "      <td>9.989212</td>\n",
       "      <td>1.386041</td>\n",
       "      <td>8</td>\n",
       "      <td>0</td>\n",
       "    </tr>\n",
       "    <tr>\n",
       "      <th>125</th>\n",
       "      <td>Béla Bartók Frankfurt Radio Symphony Orchestra...</td>\n",
       "      <td>10.342969</td>\n",
       "      <td>0.288844</td>\n",
       "      <td>1</td>\n",
       "      <td>0</td>\n",
       "    </tr>\n",
       "    <tr>\n",
       "      <th>295</th>\n",
       "      <td>Itzhak Perlman Jeremy Lubbock John Williams Pi...</td>\n",
       "      <td>9.932921</td>\n",
       "      <td>1.857408</td>\n",
       "      <td>1</td>\n",
       "      <td>0</td>\n",
       "    </tr>\n",
       "    <tr>\n",
       "      <th>123</th>\n",
       "      <td>Burt Mitchell</td>\n",
       "      <td>8.935189</td>\n",
       "      <td>2.346592</td>\n",
       "      <td>1</td>\n",
       "      <td>0</td>\n",
       "    </tr>\n",
       "    <tr>\n",
       "      <th>...</th>\n",
       "      <td>...</td>\n",
       "      <td>...</td>\n",
       "      <td>...</td>\n",
       "      <td>...</td>\n",
       "      <td>...</td>\n",
       "    </tr>\n",
       "    <tr>\n",
       "      <th>378</th>\n",
       "      <td>Mariinsky Orchestra</td>\n",
       "      <td>7.231702</td>\n",
       "      <td>3.129254</td>\n",
       "      <td>2</td>\n",
       "      <td>9</td>\n",
       "    </tr>\n",
       "    <tr>\n",
       "      <th>387</th>\n",
       "      <td>Maíra Freitas</td>\n",
       "      <td>7.207127</td>\n",
       "      <td>2.994826</td>\n",
       "      <td>1</td>\n",
       "      <td>9</td>\n",
       "    </tr>\n",
       "    <tr>\n",
       "      <th>145</th>\n",
       "      <td>Charles Bolt</td>\n",
       "      <td>8.464114</td>\n",
       "      <td>2.448708</td>\n",
       "      <td>2</td>\n",
       "      <td>9</td>\n",
       "    </tr>\n",
       "    <tr>\n",
       "      <th>366</th>\n",
       "      <td>Lucio Yanel Yamandú Costa</td>\n",
       "      <td>7.071073</td>\n",
       "      <td>2.837062</td>\n",
       "      <td>11</td>\n",
       "      <td>9</td>\n",
       "    </tr>\n",
       "    <tr>\n",
       "      <th>220</th>\n",
       "      <td>Eucalyptic</td>\n",
       "      <td>7.874501</td>\n",
       "      <td>2.114747</td>\n",
       "      <td>1</td>\n",
       "      <td>9</td>\n",
       "    </tr>\n",
       "  </tbody>\n",
       "</table>\n",
       "<p>573 rows × 5 columns</p>\n",
       "</div>"
      ],
      "text/plain": [
       "                                               artists         x0        x1  \\\n",
       "291  Igor Stravinsky St Petersburg Philharmonic Orc...   9.774935  2.108355   \n",
       "126  Béla Bartók Hungarian National Philharmonic Zo...   9.989212  1.386041   \n",
       "125  Béla Bartók Frankfurt Radio Symphony Orchestra...  10.342969  0.288844   \n",
       "295  Itzhak Perlman Jeremy Lubbock John Williams Pi...   9.932921  1.857408   \n",
       "123                                      Burt Mitchell   8.935189  2.346592   \n",
       "..                                                 ...        ...       ...   \n",
       "378                                Mariinsky Orchestra   7.231702  3.129254   \n",
       "387                                      Maíra Freitas   7.207127  2.994826   \n",
       "145                                       Charles Bolt   8.464114  2.448708   \n",
       "366                          Lucio Yanel Yamandú Costa   7.071073  2.837062   \n",
       "220                                         Eucalyptic   7.874501  2.114747   \n",
       "\n",
       "     play_count  class  \n",
       "291          13      0  \n",
       "126           8      0  \n",
       "125           1      0  \n",
       "295           1      0  \n",
       "123           1      0  \n",
       "..          ...    ...  \n",
       "378           2      9  \n",
       "387           1      9  \n",
       "145           2      9  \n",
       "366          11      9  \n",
       "220           1      9  \n",
       "\n",
       "[573 rows x 5 columns]"
      ]
     },
     "execution_count": 136,
     "metadata": {},
     "output_type": "execute_result"
    }
   ],
   "source": [
    "X.sort_values('class')"
   ]
  },
  {
   "cell_type": "code",
   "execution_count": 137,
   "metadata": {},
   "outputs": [
    {
     "data": {
      "text/plain": [
       "'temp-plot.html'"
      ]
     },
     "execution_count": 137,
     "metadata": {},
     "output_type": "execute_result"
    }
   ],
   "source": [
    "fig = px.scatter(X[X.play_count>10], \n",
    "                 x='x0', \n",
    "                 y=\"x1\", \n",
    "                 color=\"class\", \n",
    "                 hover_data=['artists'])\n",
    "plot(fig)\n",
    "#fig.write_html('./figures/umap_thplayed10_nn15_artists.html')"
   ]
  },
  {
   "cell_type": "code",
   "execution_count": null,
   "metadata": {},
   "outputs": [],
   "source": []
  }
 ],
 "metadata": {
  "kernelspec": {
   "display_name": "Python 3",
   "language": "python",
   "name": "python3"
  },
  "language_info": {
   "codemirror_mode": {
    "name": "ipython",
    "version": 3
   },
   "file_extension": ".py",
   "mimetype": "text/x-python",
   "name": "python",
   "nbconvert_exporter": "python",
   "pygments_lexer": "ipython3",
   "version": "3.7.3"
  }
 },
 "nbformat": 4,
 "nbformat_minor": 4
}
